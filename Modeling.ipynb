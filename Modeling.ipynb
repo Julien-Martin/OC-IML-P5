{
 "cells": [
  {
   "cell_type": "markdown",
   "metadata": {},
   "source": [
    "## 1. Import des librairies"
   ]
  },
  {
   "cell_type": "code",
   "execution_count": 1,
   "metadata": {
    "ExecuteTime": {
     "end_time": "2020-03-31T13:51:50.285496Z",
     "start_time": "2020-03-31T13:51:48.824676Z"
    }
   },
   "outputs": [],
   "source": [
    "from matplotlib import pyplot as plt\n",
    "import matplotlib.cm as cm\n",
    "import seaborn as sns\n",
    "import pandas as pd\n",
    "import numpy as np\n",
    "import nltk\n",
    "\n",
    "from sklearn.feature_extraction.text import TfidfVectorizer\n",
    "from sklearn.feature_extraction.text import CountVectorizer\n",
    "from sklearn.preprocessing import StandardScaler\n",
    "from sklearn.manifold import TSNE\n",
    "from sklearn.decomposition import PCA\n",
    "from sklearn.cluster import MiniBatchKMeans\n",
    "from sklearn.decomposition import LatentDirichletAllocation\n",
    "from sklearn.decomposition import NMF\n",
    "from sklearn.model_selection import train_test_split\n",
    "from sklearn.ensemble import RandomForestClassifier\n",
    "from sklearn.multiclass import OneVsRestClassifier\n",
    "from sklearn.linear_model import LogisticRegression\n",
    "from sklearn.preprocessing import MultiLabelBinarizer\n",
    "from sklearn.dummy import DummyClassifier\n",
    "from sklearn.linear_model import SGDClassifier\n",
    "from sklearn.naive_bayes import MultinomialNB\n",
    "from sklearn.svm import LinearSVC\n",
    "from sklearn.linear_model import Perceptron\n",
    "from sklearn.linear_model import PassiveAggressiveClassifier\n",
    "from sklearn.neural_network import MLPClassifier\n",
    "from sklearn import metrics\n",
    "\n",
    "sns.set_style(\"whitegrid\")\n",
    "%matplotlib inline\n",
    "\n",
    "import warnings\n",
    "warnings.filterwarnings(\"ignore\")"
   ]
  },
  {
   "cell_type": "markdown",
   "metadata": {},
   "source": [
    "## 2. Chargement des données"
   ]
  },
  {
   "cell_type": "code",
   "execution_count": 2,
   "metadata": {
    "ExecuteTime": {
     "end_time": "2020-03-31T13:51:50.368516Z",
     "start_time": "2020-03-31T13:51:50.293973Z"
    }
   },
   "outputs": [],
   "source": [
    "df = pd.read_csv(\"data/clean.csv\", index_col=[\"Unnamed: 0\"])"
   ]
  },
  {
   "cell_type": "code",
   "execution_count": 3,
   "metadata": {
    "ExecuteTime": {
     "end_time": "2020-03-31T13:51:50.928002Z",
     "start_time": "2020-03-31T13:51:50.918504Z"
    }
   },
   "outputs": [
    {
     "data": {
      "text/html": [
       "<div>\n",
       "<style scoped>\n",
       "    .dataframe tbody tr th:only-of-type {\n",
       "        vertical-align: middle;\n",
       "    }\n",
       "\n",
       "    .dataframe tbody tr th {\n",
       "        vertical-align: top;\n",
       "    }\n",
       "\n",
       "    .dataframe thead th {\n",
       "        text-align: right;\n",
       "    }\n",
       "</style>\n",
       "<table border=\"1\" class=\"dataframe\">\n",
       "  <thead>\n",
       "    <tr style=\"text-align: right;\">\n",
       "      <th></th>\n",
       "      <th>tags</th>\n",
       "      <th>document</th>\n",
       "    </tr>\n",
       "  </thead>\n",
       "  <tbody>\n",
       "    <tr>\n",
       "      <td>2</td>\n",
       "      <td>node.js</td>\n",
       "      <td>restart node upon change file For someone come...</td>\n",
       "    </tr>\n",
       "    <tr>\n",
       "      <td>3</td>\n",
       "      <td>html css</td>\n",
       "      <td>100 min height css layout What best way make e...</td>\n",
       "    </tr>\n",
       "    <tr>\n",
       "      <td>4</td>\n",
       "      <td>regex language-agnostic</td>\n",
       "      <td>stack overflow generate seofriendly urls What ...</td>\n",
       "    </tr>\n",
       "    <tr>\n",
       "      <td>5</td>\n",
       "      <td>java</td>\n",
       "      <td>get oslevel system information I currently bui...</td>\n",
       "    </tr>\n",
       "    <tr>\n",
       "      <td>6</td>\n",
       "      <td>security</td>\n",
       "      <td>disable browser ave password functionality One...</td>\n",
       "    </tr>\n",
       "    <tr>\n",
       "      <td>...</td>\n",
       "      <td>...</td>\n",
       "      <td>...</td>\n",
       "    </tr>\n",
       "    <tr>\n",
       "      <td>16368</td>\n",
       "      <td>oop</td>\n",
       "      <td>difference interface abstract class What exact...</td>\n",
       "    </tr>\n",
       "    <tr>\n",
       "      <td>16370</td>\n",
       "      <td>ios xcode</td>\n",
       "      <td>symbolicate crash log xcode Xcode 5 organizer ...</td>\n",
       "    </tr>\n",
       "    <tr>\n",
       "      <td>16371</td>\n",
       "      <td>java spring</td>\n",
       "      <td>spring boot multiple external configuration fi...</td>\n",
       "    </tr>\n",
       "    <tr>\n",
       "      <td>16372</td>\n",
       "      <td>java c++</td>\n",
       "      <td>java final vs c++ const The Java C programmers...</td>\n",
       "    </tr>\n",
       "    <tr>\n",
       "      <td>16373</td>\n",
       "      <td>android</td>\n",
       "      <td>contextstartforegroundservice call servicestar...</td>\n",
       "    </tr>\n",
       "  </tbody>\n",
       "</table>\n",
       "<p>14987 rows × 2 columns</p>\n",
       "</div>"
      ],
      "text/plain": [
       "                          tags  \\\n",
       "2                      node.js   \n",
       "3                     html css   \n",
       "4      regex language-agnostic   \n",
       "5                         java   \n",
       "6                     security   \n",
       "...                        ...   \n",
       "16368                      oop   \n",
       "16370                ios xcode   \n",
       "16371              java spring   \n",
       "16372                 java c++   \n",
       "16373                  android   \n",
       "\n",
       "                                                document  \n",
       "2      restart node upon change file For someone come...  \n",
       "3      100 min height css layout What best way make e...  \n",
       "4      stack overflow generate seofriendly urls What ...  \n",
       "5      get oslevel system information I currently bui...  \n",
       "6      disable browser ave password functionality One...  \n",
       "...                                                  ...  \n",
       "16368  difference interface abstract class What exact...  \n",
       "16370  symbolicate crash log xcode Xcode 5 organizer ...  \n",
       "16371  spring boot multiple external configuration fi...  \n",
       "16372  java final vs c++ const The Java C programmers...  \n",
       "16373  contextstartforegroundservice call servicestar...  \n",
       "\n",
       "[14987 rows x 2 columns]"
      ]
     },
     "execution_count": 3,
     "metadata": {},
     "output_type": "execute_result"
    }
   ],
   "source": [
    "df"
   ]
  },
  {
   "cell_type": "code",
   "execution_count": 4,
   "metadata": {
    "ExecuteTime": {
     "end_time": "2020-03-31T13:51:51.427931Z",
     "start_time": "2020-03-31T13:51:51.419902Z"
    }
   },
   "outputs": [],
   "source": [
    "df[\"tags\"] = df[\"tags\"].apply(lambda x: x.split())"
   ]
  },
  {
   "cell_type": "markdown",
   "metadata": {
    "ExecuteTime": {
     "end_time": "2020-03-26T11:07:49.156212Z",
     "start_time": "2020-03-26T11:07:49.153713Z"
    }
   },
   "source": [
    "## 3. Analyse non-supervisé"
   ]
  },
  {
   "cell_type": "markdown",
   "metadata": {},
   "source": [
    "### 3.1. Transformation texte en matrice TF-IDF"
   ]
  },
  {
   "cell_type": "code",
   "execution_count": 5,
   "metadata": {
    "ExecuteTime": {
     "end_time": "2020-03-31T13:51:53.687752Z",
     "start_time": "2020-03-31T13:51:53.677754Z"
    }
   },
   "outputs": [],
   "source": [
    "def find_optimal_cluster(data, max_k):\n",
    "    iters = range(1, max_k+1, 5)\n",
    "    sse = []\n",
    "    \n",
    "    for k in iters:\n",
    "        sse.append(MiniBatchKMeans(n_clusters=k, init_size=1024, batch_size=2048, random_state=20).fit(data).inertia_)\n",
    "        print('Fit {} clusters'.format(k))\n",
    "    fig, ax = plt.subplots(1,1, figsize=(15, 5))\n",
    "    ax.plot(iters, sse, marker='o')\n",
    "    ax.set_xlabel('Nombre de Clusters')\n",
    "    ax.set_xticks(iters)\n",
    "    ax.set_xticklabels(iters)\n",
    "    ax.set_ylabel('SSE')\n",
    "    ax.set_title(\"SSE par nombre de clusters\")\n",
    "    plt.tight_layout()\n",
    "    plt.show()\n",
    "    \n",
    "    \n",
    "def plot_tsne_pca(data, labels):\n",
    "    max_label = max(labels)\n",
    "    max_items = np.random.choice(range(data.shape[0]), size=3000, replace=False)\n",
    "    \n",
    "    pca = PCA(n_components=2).fit_transform(data[max_items,:].todense())\n",
    "    tsne = TSNE().fit_transform(PCA(n_components=50).fit_transform(data[max_items,:].todense()))\n",
    "    \n",
    "    \n",
    "    idx = np.random.choice(range(pca.shape[0]), size=300, replace=False)\n",
    "    label_subset = labels[max_items]\n",
    "    label_subset = [cm.hsv(i/max_label) for i in label_subset[idx]]\n",
    "    \n",
    "    fig, ax = plt.subplots(1, 2, figsize=(15, 5))\n",
    "    \n",
    "    ax[0].scatter(pca[idx, 0], pca[idx, 1], c=label_subset)\n",
    "    ax[0].set_title('PCA Cluster Plot')\n",
    "    \n",
    "    ax[1].scatter(tsne[idx, 0], tsne[idx, 1], c=label_subset)\n",
    "    ax[1].set_title('TSNE Cluster Plot')\n",
    "    \n",
    "def get_top_keywords(data, clusters, labels, n_terms):\n",
    "    temp_df = pd.DataFrame(data.todense()).groupby(clusters).mean()\n",
    "    \n",
    "    for i, r in temp_df.iterrows():\n",
    "        print('\\nCluster {}'.format(i))\n",
    "        print(','.join([labels[t] for t in np.argsort(r)[-n_terms:]]))"
   ]
  },
  {
   "cell_type": "markdown",
   "metadata": {},
   "source": [
    "### 3.2. Matrice monogramme"
   ]
  },
  {
   "cell_type": "code",
   "execution_count": 6,
   "metadata": {
    "ExecuteTime": {
     "end_time": "2020-03-31T13:51:54.678800Z",
     "start_time": "2020-03-31T13:51:54.676301Z"
    }
   },
   "outputs": [],
   "source": [
    "tf_idf_vectorizer_mono = TfidfVectorizer(ngram_range=(1,1))"
   ]
  },
  {
   "cell_type": "code",
   "execution_count": 7,
   "metadata": {
    "ExecuteTime": {
     "end_time": "2020-03-31T13:51:55.913035Z",
     "start_time": "2020-03-31T13:51:55.240538Z"
    }
   },
   "outputs": [],
   "source": [
    "tf_idf_matrix_mono = tf_idf_vectorizer_mono.fit_transform(df[\"document\"].values)"
   ]
  },
  {
   "cell_type": "code",
   "execution_count": 8,
   "metadata": {
    "ExecuteTime": {
     "end_time": "2020-03-31T13:51:55.945037Z",
     "start_time": "2020-03-31T13:51:55.941535Z"
    }
   },
   "outputs": [
    {
     "data": {
      "text/plain": [
       "(14987, 71421)"
      ]
     },
     "execution_count": 8,
     "metadata": {},
     "output_type": "execute_result"
    }
   ],
   "source": [
    "tf_idf_matrix_mono.shape"
   ]
  },
  {
   "cell_type": "code",
   "execution_count": 9,
   "metadata": {
    "ExecuteTime": {
     "end_time": "2020-03-31T13:54:54.079037Z",
     "start_time": "2020-03-31T13:51:56.091537Z"
    }
   },
   "outputs": [
    {
     "name": "stdout",
     "output_type": "stream",
     "text": [
      "Fit 1 clusters\n",
      "Fit 6 clusters\n",
      "Fit 11 clusters\n",
      "Fit 16 clusters\n",
      "Fit 21 clusters\n",
      "Fit 26 clusters\n",
      "Fit 31 clusters\n",
      "Fit 36 clusters\n",
      "Fit 41 clusters\n",
      "Fit 46 clusters\n",
      "Fit 51 clusters\n",
      "Fit 56 clusters\n",
      "Fit 61 clusters\n",
      "Fit 66 clusters\n",
      "Fit 71 clusters\n",
      "Fit 76 clusters\n",
      "Fit 81 clusters\n",
      "Fit 86 clusters\n",
      "Fit 91 clusters\n",
      "Fit 96 clusters\n",
      "Fit 101 clusters\n",
      "Fit 106 clusters\n",
      "Fit 111 clusters\n",
      "Fit 116 clusters\n",
      "Fit 121 clusters\n",
      "Fit 126 clusters\n",
      "Fit 131 clusters\n",
      "Fit 136 clusters\n",
      "Fit 141 clusters\n",
      "Fit 146 clusters\n",
      "Fit 151 clusters\n",
      "Fit 156 clusters\n",
      "Fit 161 clusters\n",
      "Fit 166 clusters\n",
      "Fit 171 clusters\n",
      "Fit 176 clusters\n",
      "Fit 181 clusters\n",
      "Fit 186 clusters\n",
      "Fit 191 clusters\n",
      "Fit 196 clusters\n"
     ]
    },
    {
     "data": {
      "image/png": "[encoded data removed]",
      "text/plain": [
       "<Figure size 1080x360 with 1 Axes>"
      ]
     },
     "metadata": {
      "needs_background": "light"
     },
     "output_type": "display_data"
    }
   ],
   "source": [
    "find_optimal_cluster(tf_idf_matrix_mono, 200)"
   ]
  },
  {
   "cell_type": "code",
   "execution_count": 10,
   "metadata": {
    "ExecuteTime": {
     "end_time": "2020-03-31T13:55:00.666538Z",
     "start_time": "2020-03-31T13:54:54.106039Z"
    }
   },
   "outputs": [],
   "source": [
    "clusters = MiniBatchKMeans(n_clusters=136, init_size=1024, batch_size=2048, random_state=20).fit_predict(tf_idf_matrix_mono)"
   ]
  },
  {
   "cell_type": "code",
   "execution_count": 11,
   "metadata": {
    "ExecuteTime": {
     "end_time": "2020-03-31T13:55:31.300036Z",
     "start_time": "2020-03-31T13:55:00.695534Z"
    }
   },
   "outputs": [
    {
     "data": {
      "image/png": "[encoded data removed]",
      "text/plain": [
       "<Figure size 1080x360 with 2 Axes>"
      ]
     },
     "metadata": {
      "needs_background": "light"
     },
     "output_type": "display_data"
    }
   ],
   "source": [
    "plot_tsne_pca(tf_idf_matrix_mono, clusters)"
   ]
  },
  {
   "cell_type": "code",
   "execution_count": 12,
   "metadata": {
    "ExecuteTime": {
     "end_time": "2020-03-31T13:55:36.352038Z",
     "start_time": "2020-03-31T13:55:31.344036Z"
    }
   },
   "outputs": [
    {
     "name": "stdout",
     "output_type": "stream",
     "text": [
      "\n",
      "Cluster 0\n",
      "versa,two,stage,stream,snippet,convert,output,thanks,outputstream,inputstream\n",
      "\n",
      "Cluster 1\n",
      "checkbox,string,object,get,use,value,id,class,type,name\n",
      "\n",
      "Cluster 2\n",
      "outputdirectory,move,dircreate,pathtomaindir,existence,directory,setwd,filepath,maindir,subdir\n",
      "\n",
      "Cluster 3\n",
      "necessary,string,loop,variables,dangerousincorrect,declare,outside,condition,str,calculatestr\n",
      "\n",
      "Cluster 4\n",
      "result,row,get,where,order,from,mysql,select,sql,query\n",
      "\n",
      "Cluster 5\n",
      "canvas,find,check,javascript,attribute,remove,class,dom,jquery,element\n",
      "\n",
      "Cluster 6\n",
      "executable,source,file,gcc,program,comandroidsupport,java,project,code,compile\n",
      "\n",
      "Cluster 7\n",
      "use,pull,change,clone,remote,commit,push,file,repository,git\n",
      "\n",
      "Cluster 8\n",
      "run,how,app,use,sdk,device,emulator,studio,application,android\n",
      "\n",
      "Cluster 9\n",
      "exit,python,how,process,unix,run,bash,command,script,shell\n",
      "\n",
      "Cluster 10\n",
      "require,how,express,run,file,server,use,nodejs,js,node\n",
      "\n",
      "Cluster 11\n",
      "selector,obj,potentially,typeof,check,var,oselector,jquery,dostuff,object\n",
      "\n",
      "Cluster 12\n",
      "prettyinformative,anything,object,debug,methodsfields,javascript,equivalent,printr,php,vardump\n",
      "\n",
      "Cluster 13\n",
      "how,full,encode,use,parameters,page,javascript,current,get,url\n",
      "\n",
      "Cluster 14\n",
      "alone,pain,significantly,justify,benchmark,gap,program,python,convert,cc\n",
      "\n",
      "Cluster 15\n",
      "call,data,ajax,code,chrome,file,page,browser,clear,cache\n",
      "\n",
      "Cluster 16\n",
      "computer,set,normally,easiest,32bit,run,wamp,service,windows,mongodb\n",
      "\n",
      "Cluster 17\n",
      "message,head,revert,push,repository,branch,file,change,git,commit\n",
      "\n",
      "Cluster 18\n",
      "str,use,value,split,like,how,way,java,convert,string\n",
      "\n",
      "Cluster 19\n",
      "query,2005,2008,select,use,join,table,database,server,sql\n",
      "\n",
      "Cluster 20\n",
      "is,apply,file,background,display,image,jquery,use,style,css\n",
      "\n",
      "Cluster 21\n",
      "action,android,text,press,radio,page,input,click,back,button\n",
      "\n",
      "Cluster 22\n",
      "string,render,file,parse,attribute,tag,javascript,use,page,html\n",
      "\n",
      "Cluster 23\n",
      "what,differences,junit,nunit,tool,unit,integration,regression,smoke,test\n",
      "\n",
      "Cluster 24\n",
      "php,connect,command,server,error,use,password,table,database,mysql\n",
      "\n",
      "Cluster 25\n",
      "sudo,command,dockerfile,ip,host,containers,image,run,container,docker\n",
      "\n",
      "Cluster 26\n",
      "brew,config,command,v424,terminal,v01113,npm,install,prefix,nvm\n",
      "\n",
      "Cluster 27\n",
      "use,create,set,mvc,controllers,storyboard,uiviewcontroller,ios,controller,view\n",
      "\n",
      "Cluster 28\n",
      "error,xmx1400m,allocate,megabytes,windows,1200,1400,xp,java,machine\n",
      "\n",
      "Cluster 29\n",
      "avoid,py,python,interpreter,pytopyc,pyfilepath,pycfilepath,generate,file,pyc\n",
      "\n",
      "Cluster 30\n",
      "string,undefined,varchar,table,not,return,value,check,empty,null\n",
      "\n",
      "Cluster 31\n",
      "like,would,debug,trace,line,console,message,use,file,log\n",
      "\n",
      "Cluster 32\n",
      "element,100,css,content,center,id,width,class,height,div\n",
      "\n",
      "Cluster 33\n",
      "usrbinenv,ppa,error,chrisleanodejs,ubuntu,npm,nodejs,install,aptget,sudo\n",
      "\n",
      "Cluster 34\n",
      "special,javascript,how,newline,match,nonascii,remove,replace,string,character\n",
      "\n",
      "Cluster 35\n",
      "blur,intervals,mydiv,etc,jquery,htmltext,contentchanged,detect,change,div\n",
      "\n",
      "Cluster 36\n",
      "hax,haxm,emulator,x86,intel,hardware,error,emulation,instal,acceleration\n",
      "\n",
      "Cluster 37\n",
      "method,methods,interfaces,public,factory,implement,java,class,abstract,interface\n",
      "\n",
      "Cluster 38\n",
      "primarily,manipulate,javascriptjquery,tradeoffs,abilities,momentum,vmlie,jquery,raphael,svg\n",
      "\n",
      "Cluster 39\n",
      "row,structure,dataframe,json,frame,columns,use,store,database,data\n",
      "\n",
      "Cluster 40\n",
      "whereas,value,splice,removeitem,eleven,array,item,remove,seven,ary\n",
      "\n",
      "Cluster 41\n",
      "file,program,way,what,windows,line,run,code,use,python\n",
      "\n",
      "Cluster 42\n",
      "try,virtualenv,python,version,error,instal,gem,package,pip,install\n",
      "\n",
      "Cluster 43\n",
      "how,find,python,tell,minutes,time,object,two,difference,datetime\n",
      "\n",
      "Cluster 44\n",
      "value,elements,way,tuples,use,items,sort,item,python,list\n",
      "\n",
      "Cluster 45\n",
      "unsigned,total,iphoneipad,nsfilemanager,atdict,detect,space,availablefree,freespace,disk\n",
      "\n",
      "Cluster 46\n",
      "change,repository,local,push,merge,commit,remote,master,git,branch\n",
      "\n",
      "Cluster 47\n",
      "use,set,dropdown,item,get,list,jquery,option,value,select\n",
      "\n",
      "Cluster 48\n",
      "ssh,project,clone,repo,pull,push,fork,git,repository,github\n",
      "\n",
      "Cluster 49\n",
      "get,set,new,string,int,private,void,constructor,class,public\n",
      "\n",
      "Cluster 50\n",
      "isset,function,singleton,database,host127001,dbnametoto,pdo,somefunction,self,db\n",
      "\n",
      "Cluster 51\n",
      "button,name,text,jquery,value,field,type,submit,form,input\n",
      "\n",
      "Cluster 52\n",
      "how,want,way,open,folder,command,read,use,line,file\n",
      "\n",
      "Cluster 53\n",
      "new,bundle,void,savedinstancestate,android,override,viewpager,public,activity,fragment\n",
      "\n",
      "Cluster 54\n",
      "command,use,build,code,solution,2010,file,project,studio,visual\n",
      "\n",
      "Cluster 55\n",
      "addsd,a1,d1,int,c1,b1,movsd,ptr,xmm0,mmword\n",
      "\n",
      "Cluster 56\n",
      "way,use,properties,value,property,var,class,json,javascript,object\n",
      "\n",
      "Cluster 57\n",
      "statement,way,line,console,use,page,hello,output,python,print\n",
      "\n",
      "Cluster 58\n",
      "belowunder,aboveover,ydimensions,draw,combine,define,button,image,imagebutton,text\n",
      "\n",
      "Cluster 59\n",
      "menu,gui,72,10,consolas,guifontconsolas,vimrc,set,gvim,font\n",
      "\n",
      "Cluster 60\n",
      "what,primitive,merely,interpolate,interpolation,vs,difference,put,cout,printf\n",
      "\n",
      "Cluster 61\n",
      "unsigned,argv,use,main,void,what,difference,int,char,const\n",
      "\n",
      "Cluster 62\n",
      "back,dialog,screen,application,call,activities,context,intent,android,activity\n",
      "\n",
      "Cluster 63\n",
      "href,string,display,vs,linka,unescape,unescaped,xhtmlsafe,htmlsafe,raw\n",
      "\n",
      "Cluster 64\n",
      "font,want,uitextview,way,string,use,file,uilabel,line,text\n",
      "\n",
      "Cluster 65\n",
      "define,java,global,command,use,javahome,set,variable,environment,variables\n",
      "\n",
      "Cluster 66\n",
      "use,null,id,sed,select,like,row,table,mysql,124\n",
      "\n",
      "Cluster 67\n",
      "programming,manipulate,edition,nontrivial,pmessage,amessage,differences,pointers,array,char\n",
      "\n",
      "Cluster 68\n",
      "set,databasetable,mdbinsert,insert,record,datetime,contentvalues,initialvaluesput,initialvalues,datecreated\n",
      "\n",
      "Cluster 69\n",
      "line,execute,python,file,src,php,command,run,bash,script\n",
      "\n",
      "Cluster 70\n",
      "stringparam,evaluate,nokogiri,xmllint,xml,dyn,elementattribute,filenamexml,xsl,xpath\n",
      "\n",
      "Cluster 71\n",
      "spot,finger,uiscrollview,downwards,httpwwwiphonedevsdkcomforumiphonesdkdevelopment996turnoffscrollingbouncesuiwebviewhtml,httpforumsmacrumorscomshowthreadphpt619534,vertically,uiwebview,stop,bounce\n",
      "\n",
      "Cluster 72\n",
      "use,color,change,hide,action,progress,status,navigation,foo,bar\n",
      "\n",
      "Cluster 73\n",
      "get,how,path,subdirectories,python,command,find,current,file,directory\n",
      "\n",
      "Cluster 74\n",
      "get,how,current,convert,days,datetime,time,format,javascript,date\n",
      "\n",
      "Cluster 75\n",
      "way,work,would,java,get,like,difference,code,what,use\n",
      "\n",
      "Cluster 76\n",
      "visualization,networkx,interactiveness,graphtool,python,graph,plot,interactive,2d,d3js\n",
      "\n",
      "Cluster 77\n",
      "return,execute,def,self,use,override,methods,call,class,method\n",
      "\n",
      "Cluster 78\n",
      "django,modelsmodel,31jan2011,fieldsdatefield,autonowfalse,1jan2011,object,range,filter,date\n",
      "\n",
      "Cluster 79\n",
      "screen,run,android,device,user,use,application,ios,iphone,app\n",
      "\n",
      "Cluster 80\n",
      "page,appstore,app,redirect,webpage,myapp,url,application,instal,iphone\n",
      "\n",
      "Cluster 81\n",
      "copy,mode,like,cursor,end,paste,command,file,line,vim\n",
      "\n",
      "Cluster 82\n",
      "get,available,box,plan,server,vbnet,combo,sql,list,databases\n",
      "\n",
      "Cluster 83\n",
      "ios,tvos,perform,apple,11,xcode,tv,4k,debug,wireless\n",
      "\n",
      "Cluster 84\n",
      "project,unsubmodule,update,commit,branch,path,repo,repository,git,submodule\n",
      "\n",
      "Cluster 85\n",
      "trust,bypass,invalid,40,errors,ignore,apache,ssl,httpclient,certificate\n",
      "\n",
      "Cluster 86\n",
      "team,cool,central,150,git,inadvertently,thankfully,delete,branch,prefix\n",
      "\n",
      "Cluster 87\n",
      "build,code,app,objectivec,project,ios,use,simulator,swift,xcode\n",
      "\n",
      "Cluster 88\n",
      "name,insert,query,mysql,sql,select,column,row,database,table\n",
      "\n",
      "Cluster 89\n",
      "wait,google,ready,document,image,ajax,use,page,jquery,load\n",
      "\n",
      "Cluster 90\n",
      "30,frame,corner,calayer,topright,topleft,uibezierpath,layer,cornerradius,uiview\n",
      "\n",
      "Cluster 91\n",
      "context,method,public,string,return,getclassname,myclass,static,class,name\n",
      "\n",
      "Cluster 92\n",
      "gulp,module,package,modules,instal,packagejson,node,err,install,npm\n",
      "\n",
      "Cluster 93\n",
      "specify,integer,integers,javascript,how,int,range,number,generate,random\n",
      "\n",
      "Cluster 94\n",
      "amp,control,requirements,add,button,action,uipicker,uipickerview,sheet,uitoolbar\n",
      "\n",
      "Cluster 95\n",
      "elements,like,var,way,numpy,convert,object,value,javascript,array\n",
      "\n",
      "Cluster 96\n",
      "include,much,inheritance,template,bodyhtml,htmlbody,wrapper,h1welcomeh1,basehtml,jsp\n",
      "\n",
      "Cluster 97\n",
      "application,app,require,ask,miss,javanetsocketexception,android,internet,marshmallow,permission\n",
      "\n",
      "Cluster 98\n",
      "dependency,intellij,use,file,java,jar,build,maven,project,eclipse\n",
      "\n",
      "Cluster 99\n",
      "use,project,class,run,methods,junit,code,write,unit,test\n",
      "\n",
      "Cluster 100\n",
      "viewforheaderinsection,style,unexplained,top,tableviewcontentinsetadjustmentbehavior,pad,35,uitableview,ios7,uitableviewstylegrouped\n",
      "\n",
      "Cluster 101\n",
      "how,the,string,content,variable,alert,javascript,format,object,display\n",
      "\n",
      "Cluster 102\n",
      "press,way,use,dict,foreign,table,primary,value,dictionary,key\n",
      "\n",
      "Cluster 103\n",
      "find,paths,bash,get,directory,full,absolute,relative,file,path\n",
      "\n",
      "Cluster 104\n",
      "array,continue,var,something,recursion,use,break,iteration,foreach,loop\n",
      "\n",
      "Cluster 105\n",
      "server,web,api,get,response,send,rest,post,http,request\n",
      "\n",
      "Cluster 106\n",
      "img,background,display,file,bitmap,size,save,use,resize,image\n",
      "\n",
      "Cluster 107\n",
      "lock,pool,code,main,java,use,run,task,process,thread\n",
      "\n",
      "Cluster 108\n",
      "think,pointer,nest,function,lambda,tool,closure,language,program,functional\n",
      "\n",
      "Cluster 109\n",
      "assume,vertical,curl,animation,vertically,cut,transition,uiviewanimationtransitionflipfromright,uiview,flip\n",
      "\n",
      "Cluster 110\n",
      "mypropertynamelocalized,resourcesmypropertynamelocalized,propertygrid,type,resource,namespace,localization,myproperty,strongly,displaynameattribute\n",
      "\n",
      "Cluster 111\n",
      "mergetool,open,meld,collison,merge,finally,branch,base,local,remote\n",
      "\n",
      "Cluster 112\n",
      "width,nonnative,definition,myclass,backgroundimage,foosvg,css,scale,inline,svg\n",
      "\n",
      "Cluster 113\n",
      "tablename,server,table,newname,navicat,oldname,2008,sql,column,rename\n",
      "\n",
      "Cluster 114\n",
      "customize,android,set,transparent,red,white,text,change,background,color\n",
      "\n",
      "Cluster 115\n",
      "button,textview,id,fillparent,linearlayout,matchparent,wrapcontent,layoutwidth,layoutheight,android\n",
      "\n",
      "Cluster 116\n",
      "full,maximum,reach,queue,method,saturate,block,rejectedexecutionhandler,submit,threadpoolexecutor\n",
      "\n",
      "Cluster 117\n",
      "girls,whereami,def,method,occur,due,define,foo,rails,runtime\n",
      "\n",
      "Cluster 118\n",
      "around,uiview,input,button,create,place,decimal,corner,border,round\n",
      "\n",
      "Cluster 119\n",
      "must,browsers,img,csshtml,break,errorsrc,hide,src,icon,image\n",
      "\n",
      "Cluster 120\n",
      "java,code,try,handle,error,differences,catch,exceptions,throw,exception\n",
      "\n",
      "Cluster 121\n",
      "herb,practice,class,book,struct,technique,idiom,private,pimpl,ximpl\n",
      "\n",
      "Cluster 122\n",
      "jquery,callback,code,scope,use,javascript,call,var,return,function\n",
      "\n",
      "Cluster 123\n",
      "close,page,link,function,jquery,twitter,event,bootstrap,modal,click\n",
      "\n",
      "Cluster 124\n",
      "class,java,type,use,public,string,enums,value,xml,enum\n",
      "\n",
      "Cluster 125\n",
      "is,use,js,module,node,nodejs,validate,securely,json,parse\n",
      "\n",
      "Cluster 126\n",
      "variables,what,private,method,final,public,methods,java,class,static\n",
      "\n",
      "Cluster 127\n",
      "script,anything,within,define,turn,phpini,file,errors,log,warn\n",
      "\n",
      "Cluster 128\n",
      "int,difference,constructor,typedef,heap,memory,function,class,struct,virtual\n",
      "\n",
      "Cluster 129\n",
      "docs,dev,stag,deploy2dev,fabfile,def,host,deploy,fabric,envhosts\n",
      "\n",
      "Cluster 130\n",
      "bootstrap,menu,active,lia,span,div,href,ul,li,class\n",
      "\n",
      "Cluster 131\n",
      "world,url,script,hello,tmp,bash,curl,timestamp,tmpmyscript,httpmywebsitecommyscripttxt\n",
      "\n",
      "Cluster 132\n",
      "float,value,vector,random,sort,use,integer,std,int,number\n",
      "\n",
      "Cluster 133\n",
      "div,content,user,recyclerview,uiscrollview,view,top,bottom,page,scroll\n",
      "\n",
      "Cluster 134\n",
      "way,recommend,deprecate,line,hi,universal,rn,print,regarding,unixspecific\n",
      "\n",
      "Cluster 135\n",
      "fail,webservice,error,nsurlconnection,nsurlrequest,cfnetwork,9824,sslhandshake,urlrequest,ios\n"
     ]
    }
   ],
   "source": [
    "get_top_keywords(tf_idf_matrix_mono, clusters, tf_idf_vectorizer_mono.get_feature_names(), 10)"
   ]
  },
  {
   "cell_type": "markdown",
   "metadata": {},
   "source": [
    "### 3.3. Matrice bigramme"
   ]
  },
  {
   "cell_type": "code",
   "execution_count": 13,
   "metadata": {
    "ExecuteTime": {
     "end_time": "2020-03-31T13:55:36.384536Z",
     "start_time": "2020-03-31T13:55:36.381537Z"
    }
   },
   "outputs": [],
   "source": [
    "tf_idf_vectorizer_bi = TfidfVectorizer(ngram_range=(2,2))"
   ]
  },
  {
   "cell_type": "code",
   "execution_count": 14,
   "metadata": {
    "ExecuteTime": {
     "end_time": "2020-03-31T13:55:38.762539Z",
     "start_time": "2020-03-31T13:55:36.412537Z"
    }
   },
   "outputs": [],
   "source": [
    "tf_idf_matrix_bi = tf_idf_vectorizer_bi.fit_transform(df[\"document\"].values)"
   ]
  },
  {
   "cell_type": "code",
   "execution_count": 15,
   "metadata": {
    "ExecuteTime": {
     "end_time": "2020-03-31T13:55:38.811537Z",
     "start_time": "2020-03-31T13:55:38.807538Z"
    }
   },
   "outputs": [
    {
     "data": {
      "text/plain": [
       "(14987, 536365)"
      ]
     },
     "execution_count": 15,
     "metadata": {},
     "output_type": "execute_result"
    }
   ],
   "source": [
    "tf_idf_matrix_bi.shape"
   ]
  },
  {
   "cell_type": "code",
   "execution_count": 16,
   "metadata": {
    "ExecuteTime": {
     "end_time": "2020-03-31T13:59:58.179535Z",
     "start_time": "2020-03-31T13:55:38.851537Z"
    }
   },
   "outputs": [
    {
     "name": "stdout",
     "output_type": "stream",
     "text": [
      "Fit 1 clusters\n",
      "Fit 6 clusters\n",
      "Fit 11 clusters\n",
      "Fit 16 clusters\n",
      "Fit 21 clusters\n",
      "Fit 26 clusters\n",
      "Fit 31 clusters\n",
      "Fit 36 clusters\n",
      "Fit 41 clusters\n",
      "Fit 46 clusters\n",
      "Fit 51 clusters\n",
      "Fit 56 clusters\n",
      "Fit 61 clusters\n",
      "Fit 66 clusters\n",
      "Fit 71 clusters\n",
      "Fit 76 clusters\n",
      "Fit 81 clusters\n",
      "Fit 86 clusters\n",
      "Fit 91 clusters\n",
      "Fit 96 clusters\n",
      "Fit 101 clusters\n",
      "Fit 106 clusters\n",
      "Fit 111 clusters\n",
      "Fit 116 clusters\n",
      "Fit 121 clusters\n",
      "Fit 126 clusters\n",
      "Fit 131 clusters\n",
      "Fit 136 clusters\n",
      "Fit 141 clusters\n",
      "Fit 146 clusters\n",
      "Fit 151 clusters\n",
      "Fit 156 clusters\n",
      "Fit 161 clusters\n",
      "Fit 166 clusters\n",
      "Fit 171 clusters\n",
      "Fit 176 clusters\n",
      "Fit 181 clusters\n",
      "Fit 186 clusters\n",
      "Fit 191 clusters\n",
      "Fit 196 clusters\n"
     ]
    },
    {
     "data": {
      "image/png": "[encoded data removed]",
      "text/plain": [
       "<Figure size 1080x360 with 1 Axes>"
      ]
     },
     "metadata": {
      "needs_background": "light"
     },
     "output_type": "display_data"
    }
   ],
   "source": [
    "find_optimal_cluster(tf_idf_matrix_bi, 200)"
   ]
  },
  {
   "cell_type": "code",
   "execution_count": 17,
   "metadata": {
    "ExecuteTime": {
     "end_time": "2020-03-31T14:00:11.870534Z",
     "start_time": "2020-03-31T13:59:58.228536Z"
    }
   },
   "outputs": [],
   "source": [
    "clusters = MiniBatchKMeans(n_clusters=186, init_size=1024, batch_size=2048, random_state=20).fit_predict(tf_idf_matrix_bi)"
   ]
  },
  {
   "cell_type": "code",
   "execution_count": 18,
   "metadata": {
    "ExecuteTime": {
     "end_time": "2020-03-31T14:02:06.344016Z",
     "start_time": "2020-03-31T14:00:11.924035Z"
    }
   },
   "outputs": [
    {
     "data": {
      "image/png": "[encoded data removed]",
      "text/plain": [
       "<Figure size 1080x360 with 2 Axes>"
      ]
     },
     "metadata": {
      "needs_background": "light"
     },
     "output_type": "display_data"
    }
   ],
   "source": [
    "plot_tsne_pca(tf_idf_matrix_bi, clusters)"
   ]
  },
  {
   "cell_type": "code",
   "execution_count": 19,
   "metadata": {
    "ExecuteTime": {
     "end_time": "2020-03-31T14:04:29.431551Z",
     "start_time": "2020-03-31T14:02:06.434493Z"
    }
   },
   "outputs": [
    {
     "name": "stdout",
     "output_type": "stream",
     "text": [
      "\n",
      "Cluster 0\n",
      "apple work,interact 3rd,trick longer,cookie iframe,close loophole,get 3rd,party cookies,cookies safari,use trick,3rd party\n",
      "\n",
      "Cluster 1\n",
      "casesensitive however,include child,elementgetelementbyxpath return,elementtext property,equal divouter,parent test,div class,selenium webdriver,divouter also,my button\n",
      "\n",
      "Cluster 2\n",
      "pay one,concensus however,work wont,successful even,mind always,wait fall,deeper try,collections still,later cost,kind know\n",
      "\n",
      "Cluster 3\n",
      "array var,item items,item javascript,items array,var items,5346 how,523345233431 5346,array 523345233431,get random,random item\n",
      "\n",
      "Cluster 4\n",
      "eventid 120,set eventid,copy need,copy select,field large,155 how,eventid 155,table eventid,want copy,copy row\n",
      "\n",
      "Cluster 5\n",
      "reason pseudocode,null bad,variable objectmethod,hear voice,pseudocode variable,value methods,voice say,objectmethod null,return null,bad design\n",
      "\n",
      "Cluster 6\n",
      "justin usable,purely hypothetically,graph are,answer justin,slow solution,isare fastest,maze follow,one way,the second,solve maze\n",
      "\n",
      "Cluster 7\n",
      "statements 1000,switch syntax,either statements,reason obviously,switch statement,use switch,1000 amp,amp 2000,stuff break,case 1000\n",
      "\n",
      "Cluster 8\n",
      "scroll fluid,stay always,fluid twitter,fix sidebar,always fix,navigation stay,bootstrap 20,make sidebar,navigation fluid,sidebar navigation\n",
      "\n",
      "Cluster 9\n",
      "analogy wrong,invoke postit,instead stick,tag stick,commit create,call v01,stick invoke,postit note,commit master,recent commit\n",
      "\n",
      "Cluster 10\n",
      "long virtual,can vtable,effect long,function vtable,vtable exist,vtable implement,vtable modify,overwrite effect,least one,virtual function\n",
      "\n",
      "Cluster 11\n",
      "code sublime,python ide,ide sublime,set complete,within editor,complete python,python code,run python,text want,sublime text\n",
      "\n",
      "Cluster 12\n",
      "lollipop in,bug os,fwiw manifest,manifest contain,text correctly,40 ie,compatibility use,tide now,tablet lollipop,button text\n",
      "\n",
      "Cluster 13\n",
      "different redis,api easy,mongodb development,much hard,api atomic,pick mongodb,api totally,want use,redis mongodb,when pick\n",
      "\n",
      "Cluster 14\n",
      "2mb oom,byte allocation,allocate 23970828,free bytes,androidgraphicsbitmapcreatebitmap bitmapjava,androidviewviewlayout viewjava,androidviewviewgrouplayout viewgroupjava,viewjava 15671,viewgroupjava 5038,15671 androidviewviewgrouplayout\n",
      "\n",
      "Cluster 15\n",
      "active users,9c 75,d9 46,previous version,fingerprint sha1,version upload,apk must,must sign,sign certificate,certificate previous\n",
      "\n",
      "Cluster 16\n",
      "autonowfalse now,1jan2011 31jan2011,date fieldsdatefield,modelsmodel date,date 1jan2011,fieldsdatefield autonowfalse,range django,date range,filter object,object date\n",
      "\n",
      "Cluster 17\n",
      "flaky looking,unable overcome,gwt gwtext,additional feedback,looking additional,beginningmiddle project,feedback items,style general,choose implement,use gwt\n",
      "\n",
      "Cluster 18\n",
      "use tojson,infoaddress itemphone,data sendinfo,response controller,public personmodel,personsheets sendinfo,itemname infoname,add list,public string,val var\n",
      "\n",
      "Cluster 19\n",
      "probably json,javascript doubt,file fiddle,probably via,app that,download result,attempt highlight,fiddle webgl,file memory,parse file\n",
      "\n",
      "Cluster 20\n",
      "params id,format 124,def show,respondto 124,124 formathtml,id respondto,formathtml formatjson,userfind params,user userfind,render json\n",
      "\n",
      "Cluster 21\n",
      "check box,symbols architecture,undefined symbols,i386 objcclass,skpsmtpmessage reference,objcclass skpsmtpmessage,architecture i386,reference confirmcontroller,confirmcontroller sendemail,sendemail confirmcontrollero\n",
      "\n",
      "Cluster 22\n",
      "neuter somehow,seem may,inadvertently load,1819 hy000,requirements would,change validatepasswordlength,abcd error,password for,mysql set,password validation\n",
      "\n",
      "Cluster 23\n",
      "string for,string does,does swift,let result,trim result,abc trim,method string,swift trim,result abc,trim method\n",
      "\n",
      "Cluster 24\n",
      "arrive comet,comet concept,within iis,implement gmaillike,possible iis,matter require,this scale,inside browser,concept however,implementation comet\n",
      "\n",
      "Cluster 25\n",
      "node js,use something,would one,use node,js how,one bulk,like httpsgithubcomfelixgenodemysql,mysql use,bulk insert,insert mysql\n",
      "\n",
      "Cluster 26\n",
      "anyway variations,15 2010,singleline result,insist report,0201 common,disable0321 disablec321,22 56,disablec0321 pylint,like disable0321,0211 matter\n",
      "\n",
      "Cluster 27\n",
      "gb none,ago 3251,60afe4036d97 delete,mb try,docker image,sudo docker,remove one,alexalexvps sudo,days ago,none none\n",
      "\n",
      "Cluster 28\n",
      "module serverlogin,use python,username password,send email,email gmail,support server,extension support,auth extension,smtp auth,serverlogin username\n",
      "\n",
      "Cluster 29\n",
      "case hard,experimental code,debug experimental,away git,reverse would,code stash,reverse apply,work copy,git stash,stash apply\n",
      "\n",
      "Cluster 30\n",
      "things aware,never visible,regexpsingleline check,practice eg,generating stack,material suggest,process though,bad practice,print stack,stack trace\n",
      "\n",
      "Cluster 31\n",
      "xcode 40,framework coregraphics,armappledarwin10g421 usersyveswheelerlibrarydeveloperxcodederiveddataiparcelfkeqjcjcbbhjwhdssjptkdxzzzxhbuildproductsdebugiphoneoslibthree20uia,40 longer,linker error,macho linker,apple macho,file directory,no file,directory armappledarwin10g421\n",
      "\n",
      "Cluster 32\n",
      "ng include,viewssidepanelhtml nginclude,src pathfilehtml,syntax nginclude,nginclude viewssidepanelhtml,viewssidepanelhtml div,pathfilehtml div,src viewssidepanelhtml,nginclude src,div nginclude\n",
      "\n",
      "Cluster 33\n",
      "access menu,recognize uitableview,print quick,uitableviewcell print,menu did,already particularly,gesture recognize,press uitableviewcell,particularly gesture,long press\n",
      "\n",
      "Cluster 34\n",
      "regardless axis,place visuals,gridarrange ncol1,two graph,visuals opposite,geombar coordflip,co2 aes,opposite corner,play widths,ggplot co2\n",
      "\n",
      "Cluster 35\n",
      "difference bigger,end class,target class,module methods,methods target,reusablemodule end,mix specify,specify module,method hi,module method\n",
      "\n",
      "Cluster 36\n",
      "asp repeater,runat server,certificate certificate,certificate store,td x509certificate2,x509certificate2 containerdataitem,td td,access private,key certificate,private key\n",
      "\n",
      "Cluster 37\n",
      "show variable,anything contain,vardump code,stick vardump,simply stick,frequently find,php frequently,vardump when,useful simply,python equivalent\n",
      "\n",
      "Cluster 38\n",
      "still block,input subprocesscommunicate,subprocesscommunicate appear,subprocesscommunicate read,subprocesscommunicate use,appear give,stream fashion,stream input,terminate continue,python subprocesscommunicate\n",
      "\n",
      "Cluster 39\n",
      "function timestamp,style timestamp,sinceepochdays secondsinaday,sinceepoch fiveminutesfromnow,24 fiveminutes,secondsinaday sinceepochseconds,sinceepochseconds is,value minutes,unix timestamp,minutes future\n",
      "\n",
      "Cluster 40\n",
      "injection like,user input,insert into,table column,table table,drop table,sql injection,into table,value drop,column values\n",
      "\n",
      "Cluster 41\n",
      "send email,email dogemail,dog code,increments dogbarkcount,bark send,restful way,dog bark,serverside method,make dog,dogbarkcount bark\n",
      "\n",
      "Cluster 42\n",
      "use someone,amp output,include snippet,explain inputstream,inputstream amp,case inputstream,outputstream if,outputstream confuse,along explanation,inputstream outputstream\n",
      "\n",
      "Cluster 43\n",
      "apps find,drop method,record listview,something others,tutorial it,view drag,implement apps,drop sort,able resort,drag drop\n",
      "\n",
      "Cluster 44\n",
      "module figure,instance heroku,surely need,heroku limit,anywhere lean,err client,constring processenvdatabaseurl,inside every,node js,client object\n",
      "\n",
      "Cluster 45\n",
      "pos value,unsigned getlowestbitpos,things people,people tell,xyzoptimization evil,squeeze cycle,least significant,bite set,significant bite,position least\n",
      "\n",
      "Cluster 46\n",
      "schedule cron,user crontabs,servers view,view overall,well etccrontab,include user,system schedule,runparts etccrontab,output nice,cron job\n",
      "\n",
      "Cluster 47\n",
      "hesc exprvalue,logical condition,data frame,5873096 hesc,exprvalue celltype,hesc 5873096,5929771 hesc,hesc 5665857,5665857 hesc,bj fibroblast\n",
      "\n",
      "Cluster 48\n",
      "cmd process,process generate,generate signature,signature start,base64 in,external command,internal external,recognize internal,124 openssl,openssl recognize\n",
      "\n",
      "Cluster 49\n",
      "ne end,lt comparitive,queryset filter,querysets see,gt lt,model querysets,filter in,atrue the,result modelobjectsexclude,modelobjectsexclude atrue\n",
      "\n",
      "Cluster 50\n",
      "bypass invalid,how bypass,invalid ssl,40 how,errors apache,httpclient 40,certificate errors,ignore ssl,ssl certificate,apache httpclient\n",
      "\n",
      "Cluster 51\n",
      "simple thanks,simple mysupervc,uiview even,underneath disappear,effect any,kind popup,uiviewcontroller contain,even navigation,uiviewcontroller underneath,navigation bar\n",
      "\n",
      "Cluster 52\n",
      "bar overlap,appearance no,inside uinavigationcontroller,navigationbar hide,no fix,overlap view,bar appearance,viewcontroller inside,ios status,status bar\n",
      "\n",
      "Cluster 53\n",
      "mysqldbbackupsql 124,file outgo,night linux,back mysql,cat mysqldbbackupsql,send tar,email message,file email,compress tar,tar file\n",
      "\n",
      "Cluster 54\n",
      "23 59,59 59000,month datediff,month getdate,previous month,month timestamp,dateadd month,datediff month,day previous,follow currentdate\n",
      "\n",
      "Cluster 55\n",
      "stripslashes input,write mysqlrealescapestring,input think,input htmlspecialchars,input mysqlrealescapestring,user input,return input,cleanme input,input input,get post\n",
      "\n",
      "Cluster 56\n",
      "give element,find give,test much,use clock,search take,call clock,clock for,clock how,time linear,take find\n",
      "\n",
      "Cluster 57\n"
     ]
    },
    {
     "name": "stdout",
     "output_type": "stream",
     "text": [
      "do is,key do,javascript consider,consider key,xhasownproperty key,key xhasownproperty,check object,property javascript,specific property,object specific\n",
      "\n",
      "Cluster 58\n",
      "events fire,element check,are events,transition events,wether css3,fire element,events are,transition start,check wether,css3 transition\n",
      "\n",
      "Cluster 59\n",
      "alphabets like,5x users,cyrillic alphabets,setup follow,opera 9x,users mainly,jsp framework,work java,get utf8,utf8 work\n",
      "\n",
      "Cluster 60\n",
      "price 543,pork price,fruit price,350 array,type fruit,milk price,inventory array,type pork,price 350,array type\n",
      "\n",
      "Cluster 61\n",
      "want small,database softwares,resources could,small net,know light,choice database,much resources,small light,light weight,weight database\n",
      "\n",
      "Cluster 62\n",
      "interest multiline,write computed,quote vim,select computed,ask nice,coefficients for,select bracket,bracket quote,computed solution,solution coefficients\n",
      "\n",
      "Cluster 63\n",
      "last char,stringsize return,comment include,stringsize int,flag produce,cstring stringsize,cstring printf,int stringsize,return value,nonvoid function\n",
      "\n",
      "Cluster 64\n",
      "sql server,what best,command line,what difference,is possible,best way,for example,something like,is way,would like\n",
      "\n",
      "Cluster 65\n",
      "look pandas,documentation immediately,pandas in,somevalue try,columename somevalue,column python,where columename,select row,row dataframe,dataframe base\n",
      "\n",
      "Cluster 66\n",
      "console give,thistitle name,thistitle consolelog,thisonsubmit classname,title thistitle,give undefined,ref thistitle,classname formhorizontal,classname formcontrol,undefined ideas\n",
      "\n",
      "Cluster 67\n",
      "recyclerview inside,wrapcontent android,inside nestedscrollview,android background,android id,layoutheight matchparent,layoutwidth matchparent,android layoutwidth,android layoutheight,matchparent android\n",
      "\n",
      "Cluster 68\n",
      "longlive object,use stl,disadvantage play,stl store,scope beyond,containers realize,ensure object,two obvious,stl containers,pointers object\n",
      "\n",
      "Cluster 69\n",
      "post able,foo many,sharedptrobject p2,sharedptrobject p1,p2 new,create operations,able understand,understand makeshared,makeshared efficient,std sharedptrobject\n",
      "\n",
      "Cluster 70\n",
      "messaging follow,messaging project,make googleservicesjson,different many,the googleservicesjson,different productflavors,put appgoogleservicesjson,applicationidpackagename different,cloud messaging,google cloud\n",
      "\n",
      "Cluster 71\n",
      "ways different,assume different,every say,minutes assume,set task,often how,oss use,say 30,different oss,run every\n",
      "\n",
      "Cluster 72\n",
      "text sometimes,top within,short text,uilabel space,top uilabel,sometimes text,center label,text short,vertically align,align text\n",
      "\n",
      "Cluster 73\n",
      "static const,templatetypename typename,null stream,value templatetypename,ostream amp,std ostream,tchartraits amp,basicostreamtchar tchartraits,std endl,amp stream\n",
      "\n",
      "Cluster 74\n",
      "private module,function private,is diveintopython,import print,elements private,define module,according httpwwwfaqsorgdocsdiveintopythonfileinfoprivatehtml,run bpy,num1 bpy,module function\n",
      "\n",
      "Cluster 75\n",
      "the pwd,osgetuid osgetuid,osgetusername slartibartfast,pwd module,although perhaps,osgetuid 42,way get,get current,portable way,username python\n",
      "\n",
      "Cluster 76\n",
      "server initdb,initdb usrlocalpgsqldata,would connectionstring,usrlocalpgsqldata start,usrlocalpgsqldata interact,postgres usrlocalpgsqldata,interact node,connectionstring able,connection postgres,create postgres\n",
      "\n",
      "Cluster 77\n",
      "exist nothing,value dog,ruby value,dog bird,dog array,bird how,array cat,check value,value exist,exist array\n",
      "\n",
      "Cluster 78\n",
      "fileexists subdir,outputdirectory fileexists,approach maindir,check existence,directory move,setwd filepath,existence directory,subdir setwd,filepath maindir,maindir subdir\n",
      "\n",
      "Cluster 79\n",
      "iterate dataframe,idea runtime,i9 temp,operation big,pc still,else temp,name temp,temp i9,i10 temp,temp i10\n",
      "\n",
      "Cluster 80\n",
      "examples task,bite error,stats google,prone difficult,retrieving stats,email emailqueue,adwords fill,windowsiisaspnet environment,run schedule,schedule task\n",
      "\n",
      "Cluster 81\n",
      "timeout get,console tell,debug past,rundebug android,launch cancel,step success,failed install,device timeout,install apk,apk device\n",
      "\n",
      "Cluster 82\n",
      "write neat,100 css,ev return,ev new,internal prototypecss,update sorry,function consolelog,style change,style function,bind style\n",
      "\n",
      "Cluster 83\n",
      "vim when,copy code,how autoformat,autoformat code,like fun,fun how,format mess,mess like,autoformatindent code,code vim\n",
      "\n",
      "Cluster 84\n",
      "button class,div form,show content,datadismiss modal,edit 2a,div class,datatoggle modal,modalitem datatoggle,datatarget modalitem,modal edit\n",
      "\n",
      "Cluster 85\n",
      "repeat dynamically,though good,detail particular,ahead calendar,one look,calendar application,change detail,way model,model recur,recur events\n",
      "\n",
      "Cluster 86\n",
      "thoughts sometimes,corruption weird,contentview window,disable autoresize,nswindow swap,background thread,application modify,autolayout engine,modify autolayout,engine background\n",
      "\n",
      "Cluster 87\n",
      "like items,guess tuple,end generator,items end,generator tuple,python as,immutable seem,comprehension why,comprehension like,tuple comprehension\n",
      "\n",
      "Cluster 88\n",
      "resistance level,resistance algorithm,chart try,calculate support,analysis intraday,algorithm technical,level anyone,intraday chart,technical analysis,support resistance\n",
      "\n",
      "Cluster 89\n",
      "what prefer,space string,build new,string could,could loop,loop character,character build,string better,space std,remove space\n",
      "\n",
      "Cluster 90\n",
      "either provide,affect app,export schema,directory provide,cannot export,export directory,processor cannot,provide annotation,schema export,annotation processor\n",
      "\n",
      "Cluster 91\n",
      "however 4095,rule less,link 31,2018 on,understand 31,silly css,stylesheetlimitsininternetexplorer information,internet explorer,31 import,4095 rule\n",
      "\n",
      "Cluster 92\n",
      "multiple word,produce cat,goat cat,goat str,string multiple,replace multiple,str strreplace,multiple string,cat cat,dog goat\n",
      "\n",
      "Cluster 93\n",
      "tell exactly,android read,read android,documentation still,need clarification,android pendingintent,newbie android,exactly pendingintent,clarification can,pendingintent newbie\n",
      "\n",
      "Cluster 94\n",
      "text jtextarea,insertupdate documentevent,docstr null,docstr textareadocgettext,try docstr,void insertupdate,split docstrsplit,documentevent string,getoffset catch,split docstr\n",
      "\n",
      "Cluster 95\n",
      "fileprovider new,couple change,new fileserveroptions,azure app,336 fontawesome,collect lot,use npm,static file,aspnet core,jquery bootstrap\n",
      "\n",
      "Cluster 96\n",
      "cause syntax,bar it,javascript error,console uncaught,illegal this,illegal get,uncaught syntaxerror,visible cause,unexpected token,token illegal\n",
      "\n",
      "Cluster 97\n",
      "best write,randomly total,fast how,600k row,row randomly,10 random,total 600k,row 600k,row fast,select 10\n",
      "\n",
      "Cluster 98\n",
      "uiapplication uiapplication,timeelapsed uiapplication,there somewhatrelated,explain look,screen certain,timer periodically,exceed threshold,would thanks,threshold hopefully,uiapplication sharedapplication\n",
      "\n",
      "Cluster 99\n",
      "simpleclass load,task net,save wtf,static simpleclass,question world,serialize content,probably easiest,retrieve load,object save,serialize object\n",
      "\n",
      "Cluster 100\n",
      "eclipse do,region want,code fold,region name,fold eclipse,usage region,equivalent region,code endregion,use regions,regions code\n",
      "\n",
      "Cluster 101\n",
      "element want,try seem,css the,work hr,hr tag,hr color,color 123455,hr element,change color,color hr\n",
      "\n",
      "Cluster 102\n",
      "asset pipeline,format svg,fontface fontfamily,format woff,format truetype,format embeddedopentype,icomoon src,fontfamily icomoon,font file,font format\n",
      "\n",
      "Cluster 103\n",
      "ienumerablestring cannot,create commaseparated,string cumbersome,cumbersome work,stringjoin operate,value iliststring,operate string,type iliststring,list iliststring,iliststring ienumerablestring\n",
      "\n",
      "Cluster 104\n",
      "define abstract,abstract void,java define,void bar2,abstract java,bar ok,foo abstract,ok abstract,example abstract,abstract static\n",
      "\n",
      "Cluster 105\n",
      "grant privilege,collate utf8bin,myuser grant,all on,utf8 collate,privilege database,create table,mydb to,on mydb,to myuser\n",
      "\n",
      "Cluster 106\n",
      "generate positionindependent,generation conventions,gcc options,read gcc,conventions could,understand generate,pic please,positionindependent code,fpic option,gcc fpic\n",
      "\n",
      "Cluster 107\n",
      "sql server,use name,get add,others use,prefix app,hundreds sprocs,some people,name convention,verb noun,app name\n",
      "\n",
      "Cluster 108\n",
      "another perform,cr dynamiccastc,br dynamiccastb,staticcast quite,ap std,badcast definition,dynamiccastb ap,dynamiccastc ap,dynamiccast keyword,ap ok\n",
      "\n",
      "Cluster 109\n",
      "in method,foot in,generics class,instance generics,use tclass,tclass what,type generics,call tclass,class instance,get class\n",
      "\n",
      "Cluster 110\n",
      "delete edit,echo array,php notice,way get,array array,get last,element array,array without,without delete,last element\n",
      "\n",
      "Cluster 111\n"
     ]
    },
    {
     "name": "stdout",
     "output_type": "stream",
     "text": [
      "similar success,edit prefer,silly invent,ready go,wheel someone,libraryclass code,ldap php,directory provider,success edit,active directory\n",
      "\n",
      "Cluster 112\n",
      "jce unlimited,reference policy,jce policy,install my,distribute end,end user,make app,file instal,unlimited strength,policy file\n",
      "\n",
      "Cluster 113\n",
      "mimetypes simply,wide configuration,howto serve,launch every,eg mimetypes,simply launch,configuration eg,current directory,directory command,serve current\n",
      "\n",
      "Cluster 114\n",
      "fast bonus,vs decrease,converge differently,look long,rate increase,number change,per second,frame per,calculate frame,second game\n",
      "\n",
      "Cluster 115\n",
      "get current,date time,date format,windows command,current datetime,datetime format,regional settings,mydatetime set,mydatetime mydatetime,set mydatetime\n",
      "\n",
      "Cluster 116\n",
      "generate django,solutions add,showlog orm,unexpected sql,log notice,notice several,sql print,django orm,python shell,sql call\n",
      "\n",
      "Cluster 117\n",
      "new know,question variable,hope understand,nonetype need,return nonetype,nonetype python,nonetype value,test nonetype,example new,variable nonetype\n",
      "\n",
      "Cluster 118\n",
      "aindex valueerror,but simpler,file zjmcodeapy,zjmcodeapy line,del except,value aindex,try aindex,module aindex,delete list,aindex del\n",
      "\n",
      "Cluster 119\n",
      "terminal app,neater way,bash write,instal want,use trycatch,catch command,trycatch command,unless neater,check terminal,command unless\n",
      "\n",
      "Cluster 120\n",
      "bufferedwriter write,mb 400000,secs write,around 40,data text,huge data,write huge,40 secs,174 mb,bufferedwriter new\n",
      "\n",
      "Cluster 121\n",
      "push origin,origin master,fatal githttppush,githttppush fail,clone change,error cannot,lock exist,exist inforefs,cannot lock,inforefs fatal\n",
      "\n",
      "Cluster 122\n",
      "use class,better use,use struct,class vs,vs class,struct vs,struct in,vs struct,in scenarios,scenarios better\n",
      "\n",
      "Cluster 123\n",
      "do standards,failed request,api obviously,practice exist,different much,would go,data would,applicationspecific data,payload applicationspecific,request success\n",
      "\n",
      "Cluster 124\n",
      "think yield,how can,fragment ilist,in how,can expose,only fragment,yield sense,snippet ienumerableobject,sense one,yield keyword\n",
      "\n",
      "Cluster 125\n",
      "instantiate uinavigationcontroller,also programmatically,what customize,believe do,without ib,uinavigationbar programmatically,navigation bar,custom subclass,uinavigationcontroller programmatically,subclass uinavigationbar\n",
      "\n",
      "Cluster 126\n",
      "relevant buildscript,everything red,caches restart,files closing,ones my,android studio,repositories mavencentral,remove unused,compile comandroidsupport,1900 compile\n",
      "\n",
      "Cluster 127\n",
      "time space,interviewer insist,look obvious,must scan,would solve,number 100,the interviewer,number miss,find miss,miss number\n",
      "\n",
      "Cluster 128\n",
      "objectfunctionclass declaration,layout null,yahooutildom event,yahooutilevent layout,couple parentheses,function possibly,dom yahooutildom,parentheses execute,function declaration,parentheses surround\n",
      "\n",
      "Cluster 129\n",
      "resheader accesscontrolalloworigin,delete options,accesscontrolallowcredentials true,accesscontrolalloworigin resheader,resheader accesscontrolallowmethods,resheader accesscontrolallowcredentials,options resheader,res resheader,contenttype it,crossorigin get\n",
      "\n",
      "Cluster 130\n",
      "briefly look,explanations come,explanation monad,fairly inaccessible,inaccessible lack,haskell recently,monad essentially,monad having,practical explanation,succinct practical\n",
      "\n",
      "Cluster 131\n",
      "file download,how could,back how,continue edit,temporarily exit,back continue,could exit,go back,exit vim,vim go\n",
      "\n",
      "Cluster 132\n",
      "need able,number days,able add,date use,add number,date need,10 days,add 10,today date,days today\n",
      "\n",
      "Cluster 133\n",
      "actual service,drive unc,logging service,map context,paths how,available service,session service,context actual,network drive,map network\n",
      "\n",
      "Cluster 134\n",
      "explain simple,ternary operator,operator use,javascript can,use conditional,conditional operator,operator javascript,simple word,conditional ternary,word conditional\n",
      "\n",
      "Cluster 135\n",
      "programming javascript,least couple,program javascript,least first,javascript tradeoffs,way inheritance,doc javascript,discuss objectoriented,inheritance doc,class javascript\n",
      "\n",
      "Cluster 136\n",
      "function inputsingle,logic change,single optionsingleoption,val run,execute val,val the,value mouse,id single,val use,change event\n",
      "\n",
      "Cluster 137\n",
      "column index,id 124,124 how,case fragmentname,124 id,text 124,multilevel column,drop level,src inc,124 124\n",
      "\n",
      "Cluster 138\n",
      "file domwindowsjs,file domain,file dom,file doing,file does,file downloading,file easy,operation what,what idempotent,idempotent operation\n",
      "\n",
      "Cluster 139\n",
      "linux hear,linux if,hear need,app development,download necessary,development linux,yes need,necessary tool,iphone apps,develop iphone\n",
      "\n",
      "Cluster 140\n",
      "permissions think,backup apps,numerous apps,access apk,aren backup,nonsystemapps locate,folder require,app without,without root,apk file\n",
      "\n",
      "Cluster 141\n",
      "read api,defer amp,next one,var task,defer task,function task,append task,use deferred,handle next,defer object\n",
      "\n",
      "Cluster 142\n",
      "height user,100 etc,backgroundcolor need,piece content,layout two,try height,depend height,height browser,browser window,right div\n",
      "\n",
      "Cluster 143\n",
      "request modification,object http11,post object,object use,object id,representation object,allow clients,clients create,http11 json,json representation\n",
      "\n",
      "Cluster 144\n",
      "android apk,code apk,app resources,assets source,engineer android,source code,engineer apk,resources assets,reverse engineer,apk file\n",
      "\n",
      "Cluster 145\n",
      "method iterate,count yea,property extension,methods tell,extend ienumerable,theany count,recently want,method count,count extension,extension method\n",
      "\n",
      "Cluster 146\n",
      "rhs operand,java internally,lhs operand,operator java,use verify,boolean operands,operands true,whether boolean,verify whether,amp operator\n",
      "\n",
      "Cluster 147\n",
      "and finish,place between,place where,mysql second,from place,set finish,where place,finish 10,declare variable,variable mysql\n",
      "\n",
      "Cluster 148\n",
      "int value,declare variable,length array,part standard,variable length,value declare,vectorint value,void foo,foo int,int int\n",
      "\n",
      "Cluster 149\n",
      "keyword case,develop make,uncommon for,go inherit,keyword similarly,inherit does,matter performance,improve performance,use final,final keyword\n",
      "\n",
      "Cluster 150\n",
      "libraries include,field android,good technique,already would,android orgapachecommonsvalidatorroutinesemailvalidator,address eg,orgapachecommonsvalidatorroutinesemailvalidator seem,technique validate,email address,validate email\n",
      "\n",
      "Cluster 151\n",
      "application capture,love receive,save information,relist would,receive live,file relist,capture console,console remember,output net,net application\n",
      "\n",
      "Cluster 152\n",
      "freestore vs,heap dynamic,heap newmalloc,distinction two,compilers make,difference practice,heap like,do compilers,allocations newdelete,place freestore\n",
      "\n",
      "Cluster 153\n",
      "service report,request windows,report user,credentials correctly,usedefaultcredentials true,request web,windows service,pass credentials,web application,make request\n",
      "\n",
      "Cluster 154\n",
      "folderplist privatevardbdslocalnodesdefaultuserspostgresplist,choke variant,904 different,find name,snow leopard,not directory,uninstall postgres,sudo find,postgresql 904,uninstall postgresql\n",
      "\n",
      "Cluster 155\n",
      "make symbolic,path compile,ln basebuild,homebuildsandboxgen2basebuildipdomekernelkernal is,source ln,ipdomekernelkernel homebuildsandboxgen2basebuildipdomekernelkernal,first path,link second,link linux,basebuild ipdomekernelkernel\n",
      "\n",
      "Cluster 156\n",
      "2mb im,change phpini,ubuntu virtualbox,see 2mb,postmaxsize why,phpini parameters,server ce,limit phpmyadmin,ce ubuntu,use zend\n",
      "\n",
      "Cluster 157\n",
      "vim open,prefer write,want globally,vim note,globally single,open emacs,message vim,choice commit,emacs how,editor choice\n",
      "\n",
      "Cluster 158\n",
      "c11 handy,resources cheat,able what,resource people,efficiently select,people choose,select standard,set map,flow chart,collection use\n",
      "\n",
      "Cluster 159\n",
      "one best,function in,use virtual,case recommend,virtual abstract,abstract which,virtual function,difference abstract,function virtual,abstract function\n",
      "\n",
      "Cluster 160\n",
      "column numpy,zero get,extra column,nparray how,say numpy,easily numpy,nparray and,column zero,numpy array,array nparray\n",
      "\n",
      "Cluster 162\n",
      "deferred consolelog,servicea var,var dfd,1234 ids,across whenapply,somearray little,processitemsdeferred var,datalength processitemsdeferredpush,whenapply somearray,processitem data\n",
      "\n",
      "Cluster 163\n",
      "anywhere broad,anyone push,couple tutorials,build trigger,service hook,github already,jenkins wiki,push anywhere,push master,git trigger\n",
      "\n",
      "Cluster 164\n",
      "important not,view important,tr tr,scroll view,header stay,table header,user scroll,tr tdinfotd,tdinfotd tr,tdinfotd tdinfotd\n",
      "\n",
      "Cluster 165\n",
      "50 fill,use css3,drop shadow,shadow effect,888 webkitboxshadow,shadow use,boxshadow 5px,webkitboxshadow 5px,5px 888,5px 5px\n",
      "\n",
      "Cluster 166\n",
      "execute several,port cli,party binaries,node here,buildspdfbookpdf what,pdf cmd,buildspdfbookhtml buildspdfbookpdf,binaries necessary,prince buildspdfbookhtml,process port\n",
      "\n",
      "Cluster 167\n"
     ]
    },
    {
     "name": "stdout",
     "output_type": "stream",
     "text": [
      "control custom,invalid also,api rather,validation angularjs,tap validation,mark field,might thing,method formcontroller,would tap,custom validation\n",
      "\n",
      "Cluster 168\n",
      "know sell,pretty soon,ownership another,ownership iphone,mechanism can,new owner,move app,app another,another company,sell app\n",
      "\n",
      "Cluster 169\n",
      "ajaxonreadystatechange function,testsavephp false,canvasdata canvastodataurl,canvastodataurl imagepng,var canvasdata,ajaxsetrequestheader contenttype,ajaxsend imgdata,imgdata canvasdata,ajaxopen post,ajax new\n",
      "\n",
      "Cluster 170\n",
      "stupid user,orm database,orm confirm,implement discrete,satisfy load,unit test,unit testing,test database,databasedriven applications,test orm\n",
      "\n",
      "Cluster 171\n",
      "decode example,systemoutprintln bsdecode,base64 bs,base64 bsencodebytes,bytearray sourcegetbytes,source password,base64 use,bytearray systemoutprintln,bsdecode bsencodebytes,bsencodebytes bytearray\n",
      "\n",
      "Cluster 172\n",
      "argumentslength return,function argumentslength,dy 15,assignments example,15 return,mathpi dy,wonder operator,hexbinradius function,example hexbinradius,mean javascript\n",
      "\n",
      "Cluster 173\n",
      "state country,country visitor,address customize,like city,location ip,page accord,accord location,php serverside,visitor ip,ip address\n",
      "\n",
      "Cluster 174\n",
      "obj var,way function,faster better,empty is,var key,empty what,countobj obj,key obj,function countobj,object empty\n",
      "\n",
      "Cluster 175\n",
      "keep value,one dict,need pythonic,pythonic way,combine two,add value,way combine,dicts add,key appear,two dicts\n",
      "\n",
      "Cluster 176\n",
      "isnull lastname,isnull title,create store,id firstname,title null,store procedure,lastname title,varchar 25,25 null,firstname lastname\n",
      "\n",
      "Cluster 177\n",
      "strs blah,blah hey,line avoid,avoid declare,declare name,string strs,yo strs,way declare,declare array,array inline\n",
      "\n",
      "Cluster 178\n",
      "hyperlink behave,style replace,website ios,devices style,make hyperlink,button ipad,mac default,replace mac,input button,style input\n",
      "\n",
      "Cluster 179\n",
      "reload local,dynamically reload,semiduplicated follow,longer ideal,editorial note,clear browsers,javascript code,how force,latest javascript,cache javascript\n",
      "\n",
      "Cluster 180\n",
      "not hang,info pwaitforexit,stringjoin args,programmatically hang,3kb is,consolewriteline pstandardoutputreadtoend,processstartinfo hang,processstartinfo buffer,infowindowstyle systemdiagnosticsprocesswindowstylehidden,true infouseshellexecute\n",
      "\n",
      "Cluster 181\n",
      "overwrite want,cp directory,older copy,part crontab,noninteractive part,copy overwrite,want cp,completely noninteractive,crontab bash,even older\n",
      "\n",
      "Cluster 182\n",
      "want export,webpage want,how export,webpage how,export contain,contain format,format colour,export table,table excel,excel webpage\n",
      "\n",
      "Cluster 183\n",
      "limit class,inside manifest,is usable,items etc,recent new,path activity,file starting,mainactivity what,starting recent,tool context\n",
      "\n",
      "Cluster 184\n",
      "equally dangerous,you obtain,activitygetapplication yet,activitygetapplication but,memory leak,unable add,token null,null application,add window,window token\n",
      "\n",
      "Cluster 185\n",
      "something title,page clean,clean avoid,new issue,request exist,attach issue,request issue,exist issue,new pull,pull request\n"
     ]
    }
   ],
   "source": [
    "get_top_keywords(tf_idf_matrix_bi, clusters, tf_idf_vectorizer_bi.get_feature_names(), 10)"
   ]
  },
  {
   "cell_type": "markdown",
   "metadata": {},
   "source": [
    "Pour notre problème (la recherche de mot clé) l'utilisation d'une matrice monogramme est plus pertinente."
   ]
  },
  {
   "cell_type": "markdown",
   "metadata": {},
   "source": [
    "### 3.4. LDA"
   ]
  },
  {
   "cell_type": "code",
   "execution_count": 20,
   "metadata": {
    "ExecuteTime": {
     "end_time": "2020-03-31T14:05:01.710079Z",
     "start_time": "2020-03-31T14:04:29.489548Z"
    }
   },
   "outputs": [],
   "source": [
    "lda = LatentDirichletAllocation(n_components=20, max_iter=5, learning_method='online', learning_offset=50, random_state=20).fit(tf_idf_matrix_mono)"
   ]
  },
  {
   "cell_type": "code",
   "execution_count": 21,
   "metadata": {
    "ExecuteTime": {
     "end_time": "2020-03-31T14:05:01.767550Z",
     "start_time": "2020-03-31T14:05:01.757052Z"
    }
   },
   "outputs": [],
   "source": [
    "def display_topics(model, feature_names, no_top_words):\n",
    "    for topic_idx, topic in enumerate(model.components_):\n",
    "        print(\"\\nTopic {}\".format(topic_idx))\n",
    "        print(\" \".join([feature_names[i] for i in topic.argsort()[:-no_top_words -1: -1]]))"
   ]
  },
  {
   "cell_type": "code",
   "execution_count": 22,
   "metadata": {
    "ExecuteTime": {
     "end_time": "2020-03-31T14:05:01.981048Z",
     "start_time": "2020-03-31T14:05:01.808048Z"
    }
   },
   "outputs": [
    {
     "name": "stdout",
     "output_type": "stream",
     "text": [
      "\n",
      "Topic 0\n",
      "vcvarsallbat getsharedpreferences getdefaultsharedpreferences addpreferencesfromresource preferencefragment\n",
      "\n",
      "Topic 1\n",
      "filelist threadpoolexecutorjava cleartext screenname domdocument\n",
      "\n",
      "Topic 2\n",
      "warehouse tracking transitioncontext tiendas coefficients\n",
      "\n",
      "Topic 3\n",
      "wsystemerr asd activitythreadjava javalangruntimeexception pandasparserc\n",
      "\n",
      "Topic 4\n",
      "addressbook dbcolumn dbstringproperty armappledarwin10g421 quartzcore\n",
      "\n",
      "Topic 5\n",
      "myint interop gyp db2 mms\n",
      "\n",
      "Topic 6\n",
      "alltext pprint secdiff adict 86400365\n",
      "\n",
      "Topic 7\n",
      "monkey 19216811 huawei animage onchanged\n",
      "\n",
      "Topic 8\n",
      "italic 054 amet dolor containerheight\n",
      "\n",
      "Topic 9\n",
      "mongoose execjs favoritefoods optdir mysql2\n",
      "\n",
      "Topic 10\n",
      "528205 ifor 20140317 genders 20140419\n",
      "\n",
      "Topic 11\n",
      "gridarrange dockercomposeyml composer displayerrors tortoisesvn\n",
      "\n",
      "Topic 12\n",
      "dun navigationview inputimage newprice mcryptrijndael256\n",
      "\n",
      "Topic 13\n",
      "activation modeladd rmagick loadmodule ifmodule\n",
      "\n",
      "Topic 14\n",
      "mov transactionscope chrono rax kokos\n",
      "\n",
      "Topic 15\n",
      "date2 webmethod 0x1839b38 20110815 date1\n",
      "\n",
      "Topic 16\n",
      "memoization loginrequired arraytojs pdfapi spacename\n",
      "\n",
      "Topic 17\n",
      "prop2 prop1 sharp rs connectionimpljava\n",
      "\n",
      "Topic 18\n",
      "use file get string like\n",
      "\n",
      "Topic 19\n",
      "sellday buyday swfid somefield getid\n"
     ]
    }
   ],
   "source": [
    "display_topics(lda, tf_idf_vectorizer_mono.get_feature_names(), 5)"
   ]
  },
  {
   "cell_type": "markdown",
   "metadata": {},
   "source": [
    "### 3.5. NMF"
   ]
  },
  {
   "cell_type": "code",
   "execution_count": 23,
   "metadata": {
    "ExecuteTime": {
     "end_time": "2020-03-31T14:05:03.243050Z",
     "start_time": "2020-03-31T14:05:02.019047Z"
    }
   },
   "outputs": [],
   "source": [
    "nmf = NMF(n_components=20, max_iter=5, random_state=20).fit(tf_idf_matrix_mono)"
   ]
  },
  {
   "cell_type": "code",
   "execution_count": 24,
   "metadata": {
    "ExecuteTime": {
     "end_time": "2020-03-31T14:05:03.388053Z",
     "start_time": "2020-03-31T14:05:03.284553Z"
    }
   },
   "outputs": [
    {
     "name": "stdout",
     "output_type": "stream",
     "text": [
      "\n",
      "Topic 0\n",
      "use would code like one\n",
      "\n",
      "Topic 1\n",
      "git commit repository branch file\n",
      "\n",
      "Topic 2\n",
      "string convert character int char\n",
      "\n",
      "Topic 3\n",
      "view button app page change\n",
      "\n",
      "Topic 4\n",
      "android layoutwidth layoutheight wrapcontent studio\n",
      "\n",
      "Topic 5\n",
      "div height id width html\n",
      "\n",
      "Topic 6\n",
      "table database mysql sql query\n",
      "\n",
      "Topic 7\n",
      "function var return call jquery\n",
      "\n",
      "Topic 8\n",
      "class file public static java\n",
      "\n",
      "Topic 9\n",
      "python print module import directory\n",
      "\n",
      "Topic 10\n",
      "124 null grep group mysql\n",
      "\n",
      "Topic 11\n",
      "array java convert int numpy\n",
      "\n",
      "Topic 12\n",
      "run error install command try\n",
      "\n",
      "Topic 13\n",
      "request url json data http\n",
      "\n",
      "Topic 14\n",
      "javascript object date convert format\n",
      "\n",
      "Topic 15\n",
      "difference image what docker use\n",
      "\n",
      "Topic 16\n",
      "line command file text vim\n",
      "\n",
      "Topic 17\n",
      "value key jquery input type\n",
      "\n",
      "Topic 18\n",
      "branch script php shell master\n",
      "\n",
      "Topic 19\n",
      "list item number sort get\n"
     ]
    }
   ],
   "source": [
    "display_topics(nmf, tf_idf_vectorizer_mono.get_feature_names(), 5)"
   ]
  },
  {
   "cell_type": "code",
   "execution_count": 33,
   "metadata": {
    "ExecuteTime": {
     "end_time": "2020-03-31T14:21:31.637097Z",
     "start_time": "2020-03-31T14:21:31.620073Z"
    }
   },
   "outputs": [
    {
     "data": {
      "text/plain": [
       "'restart node upon change file For someone come PHP background process kill node start every code change seem tedious Is flag start script node automatically restart node code change save'"
      ]
     },
     "execution_count": 33,
     "metadata": {},
     "output_type": "execute_result"
    }
   ],
   "source": [
    "df[\"document\"][2]"
   ]
  },
  {
   "cell_type": "code",
   "execution_count": 40,
   "metadata": {
    "ExecuteTime": {
     "end_time": "2020-03-31T14:22:40.472917Z",
     "start_time": "2020-03-31T14:22:40.405416Z"
    }
   },
   "outputs": [],
   "source": [
    "tfidf_mono_features_nm = tf_idf_vectorizer_mono.get_feature_names()"
   ]
  },
  {
   "cell_type": "code",
   "execution_count": 52,
   "metadata": {
    "ExecuteTime": {
     "end_time": "2020-03-31T14:24:45.525831Z",
     "start_time": "2020-03-31T14:24:45.522281Z"
    }
   },
   "outputs": [],
   "source": [
    "def top_tags_from_nmf(x, vec_model, nmf_mod, score_min=0.05):\n",
    "    \"\"\"Returns dictionnary with words maximally associated to document and their relative NMF score.\n",
    "    Score of words are calculated by multiplication between NMF transformed W matrix and NMF fitted H\n",
    "    (vocabulary) value to get importance of each words into topic definition.\n",
    "    Args:\n",
    "        x: Token to be analyzed (list of ngrams)\n",
    "        vec_model: Vectorizer model used for TFIDF calculation\n",
    "        nmf_mod: Trained NMF model\n",
    "        score_min: threshold score for keeping word\n",
    "    \"\"\"\n",
    "    tfidf_target = vec_model.transform(x)\n",
    "    target_nmf_trans = nmf_mod.transform(tfidf_target)\n",
    "    \n",
    "    tags_scores = np.dot(target_nmf_trans, nmf_mod.components_).tolist()[0]\n",
    "\n",
    "    dict_tags_score = dict(zip(tfidf_mono_features_nm, tags_scores))\n",
    "    \n",
    "    return { k: v for k, v in dict_tags_score.items() if v >= score_min }\n"
   ]
  },
  {
   "cell_type": "code",
   "execution_count": 53,
   "metadata": {
    "ExecuteTime": {
     "end_time": "2020-03-31T14:24:46.254919Z",
     "start_time": "2020-03-31T14:24:46.221410Z"
    },
    "scrolled": true
   },
   "outputs": [
    {
     "data": {
      "text/plain": [
       "{'branch': 0.06275273512352307, 'script': 0.0571124107319197}"
      ]
     },
     "execution_count": 53,
     "metadata": {},
     "output_type": "execute_result"
    }
   ],
   "source": [
    "top_tags_from_nmf([df[\"document\"][2]], tf_idf_vectorizer_mono, nmf, score_min=0.05)"
   ]
  },
  {
   "cell_type": "markdown",
   "metadata": {},
   "source": [
    "## 4. Analyse supervisé"
   ]
  },
  {
   "cell_type": "markdown",
   "metadata": {},
   "source": [
    "### 4.1. Sépération dans jeu d'entrainement et jeu de test"
   ]
  },
  {
   "cell_type": "code",
   "execution_count": 85,
   "metadata": {
    "ExecuteTime": {
     "end_time": "2020-03-31T14:33:21.640399Z",
     "start_time": "2020-03-31T14:33:21.637898Z"
    }
   },
   "outputs": [],
   "source": [
    "X = df[\"document\"]\n",
    "y = df[\"tags\"]"
   ]
  },
  {
   "cell_type": "code",
   "execution_count": 86,
   "metadata": {
    "ExecuteTime": {
     "end_time": "2020-03-31T14:33:22.273400Z",
     "start_time": "2020-03-31T14:33:22.257401Z"
    }
   },
   "outputs": [],
   "source": [
    "mlb = MultiLabelBinarizer()\n",
    "y_bin = mlb.fit_transform(y)"
   ]
  },
  {
   "cell_type": "code",
   "execution_count": 87,
   "metadata": {
    "ExecuteTime": {
     "end_time": "2020-03-31T14:33:22.898397Z",
     "start_time": "2020-03-31T14:33:22.893899Z"
    }
   },
   "outputs": [
    {
     "data": {
      "text/plain": [
       "array(['.net', 'ajax', 'algorithm', 'android', 'android-fragments',\n",
       "       'android-studio', 'angular', 'angularjs', 'arrays', 'asp.net',\n",
       "       'asp.net-mvc', 'bash', 'c', 'c#', 'c++', 'c++11', 'class',\n",
       "       'cocoa-touch', 'command-line', 'css', 'csv', 'data-structures',\n",
       "       'database', 'dataframe', 'date', 'datetime', 'debugging',\n",
       "       'design-patterns', 'dictionary', 'django', 'docker', 'eclipse',\n",
       "       'exception', 'express', 'file', 'file-io', 'function', 'generics',\n",
       "       'git', 'github', 'google-chrome', 'html', 'http', 'image', 'ios',\n",
       "       'iphone', 'java', 'javascript', 'jquery', 'json',\n",
       "       'language-agnostic', 'linux', 'list', 'logging', 'macos', 'math',\n",
       "       'mongodb', 'multithreading', 'mysql', 'node.js', 'npm', 'object',\n",
       "       'objective-c', 'oop', 'pandas', 'performance', 'php', 'pip',\n",
       "       'postgresql', 'python', 'r', 'r-faq', 'reactjs', 'regex', 'rest',\n",
       "       'ruby', 'ruby-on-rails', 'scripting', 'security', 'shell',\n",
       "       'sorting', 'spring', 'sql', 'sql-server', 'ssh', 'string', 'swift',\n",
       "       'syntax', 'terminology', 'tsql', 'twitter-bootstrap',\n",
       "       'unit-testing', 'unix', 'url', 'version-control', 'vim',\n",
       "       'visual-studio', 'windows', 'xcode', 'xml'], dtype=object)"
      ]
     },
     "execution_count": 87,
     "metadata": {},
     "output_type": "execute_result"
    }
   ],
   "source": [
    "mlb.classes_"
   ]
  },
  {
   "cell_type": "code",
   "execution_count": 88,
   "metadata": {
    "ExecuteTime": {
     "end_time": "2020-03-31T14:33:23.556897Z",
     "start_time": "2020-03-31T14:33:23.547897Z"
    }
   },
   "outputs": [],
   "source": [
    "vectorizer_X = TfidfVectorizer(min_df=0.0, max_features=200000, ngram_range=(1,1))"
   ]
  },
  {
   "cell_type": "code",
   "execution_count": 89,
   "metadata": {
    "ExecuteTime": {
     "end_time": "2020-03-31T14:33:24.857398Z",
     "start_time": "2020-03-31T14:33:24.187400Z"
    }
   },
   "outputs": [],
   "source": [
    "X_tfidf = vectorizer_X.fit_transform(X)"
   ]
  },
  {
   "cell_type": "code",
   "execution_count": 90,
   "metadata": {
    "ExecuteTime": {
     "end_time": "2020-03-31T14:33:25.543398Z",
     "start_time": "2020-03-31T14:33:25.527397Z"
    }
   },
   "outputs": [],
   "source": [
    "X_train, X_test, y_train, y_test = train_test_split(X_tfidf, y_bin, test_size=0.2, random_state=20)"
   ]
  },
  {
   "cell_type": "code",
   "execution_count": 91,
   "metadata": {
    "ExecuteTime": {
     "end_time": "2020-03-31T14:33:26.154398Z",
     "start_time": "2020-03-31T14:33:26.150398Z"
    }
   },
   "outputs": [
    {
     "name": "stdout",
     "output_type": "stream",
     "text": [
      "Nombre de données dans le training set :  11989\n",
      "Nombre de données dans le test set :  2998\n"
     ]
    }
   ],
   "source": [
    "print(\"Nombre de données dans le training set : \", X_train.shape[0])\n",
    "print(\"Nombre de données dans le test set : \", X_test.shape[0])"
   ]
  },
  {
   "cell_type": "markdown",
   "metadata": {},
   "source": [
    "### 4.2. Modélisations"
   ]
  },
  {
   "cell_type": "code",
   "execution_count": 92,
   "metadata": {
    "ExecuteTime": {
     "end_time": "2020-03-31T14:33:26.764400Z",
     "start_time": "2020-03-31T14:33:26.757898Z"
    }
   },
   "outputs": [],
   "source": [
    "def avg_jaccard(y_test, y_pred):\n",
    "    '''\n",
    "    see https://en.wikipedia.org/wiki/Multi-label_classification#Statistics_and_evaluation_metrics\n",
    "    '''\n",
    "    jacard = np.minimum(y_test, y_pred).sum(axis=1) / \\\n",
    "        np.maximum(y_test, y_pred).sum(axis=1)\n",
    "    return jacard.mean()*100\n",
    "\n",
    "\n",
    "def get_score(y_pred, model, submodel=\"\"):\n",
    "    classifier_name = model.__class__.__name__\n",
    "    macro_f1_score = metrics.f1_score(y_test, y_pred, average=\"macro\")\n",
    "    micro_f1_score = metrics.f1_score(y_test, y_pred, average=\"micro\")\n",
    "    jaccard_score = avg_jaccard(y_test, y_pred)\n",
    "    hamming_loss = metrics.hamming_loss(y_test, y_pred)\n",
    "    data = {\"Macro F1 Score\": macro_f1_score, \"Micro F1 Score\": micro_f1_score,\n",
    "            \"Jaccard Score\": jaccard_score, \"Hamming_loss\": hamming_loss}\n",
    "    if(submodel):\n",
    "        return pd.DataFrame(data=data, index=[submodel])\n",
    "    else:\n",
    "        return pd.DataFrame(data=data, index=[classifier_name])"
   ]
  },
  {
   "cell_type": "code",
   "execution_count": 93,
   "metadata": {
    "ExecuteTime": {
     "end_time": "2020-03-31T14:33:27.378399Z",
     "start_time": "2020-03-31T14:33:27.370897Z"
    }
   },
   "outputs": [
    {
     "data": {
      "text/html": [
       "<div>\n",
       "<style scoped>\n",
       "    .dataframe tbody tr th:only-of-type {\n",
       "        vertical-align: middle;\n",
       "    }\n",
       "\n",
       "    .dataframe tbody tr th {\n",
       "        vertical-align: top;\n",
       "    }\n",
       "\n",
       "    .dataframe thead th {\n",
       "        text-align: right;\n",
       "    }\n",
       "</style>\n",
       "<table border=\"1\" class=\"dataframe\">\n",
       "  <thead>\n",
       "    <tr style=\"text-align: right;\">\n",
       "      <th></th>\n",
       "      <th>tags</th>\n",
       "      <th>document</th>\n",
       "    </tr>\n",
       "  </thead>\n",
       "  <tbody>\n",
       "    <tr>\n",
       "      <td>2</td>\n",
       "      <td>[node.js]</td>\n",
       "      <td>restart node upon change file For someone come...</td>\n",
       "    </tr>\n",
       "    <tr>\n",
       "      <td>3</td>\n",
       "      <td>[html, css]</td>\n",
       "      <td>100 min height css layout What best way make e...</td>\n",
       "    </tr>\n",
       "    <tr>\n",
       "      <td>4</td>\n",
       "      <td>[regex, language-agnostic]</td>\n",
       "      <td>stack overflow generate seofriendly urls What ...</td>\n",
       "    </tr>\n",
       "    <tr>\n",
       "      <td>5</td>\n",
       "      <td>[java]</td>\n",
       "      <td>get oslevel system information I currently bui...</td>\n",
       "    </tr>\n",
       "    <tr>\n",
       "      <td>6</td>\n",
       "      <td>[security]</td>\n",
       "      <td>disable browser ave password functionality One...</td>\n",
       "    </tr>\n",
       "  </tbody>\n",
       "</table>\n",
       "</div>"
      ],
      "text/plain": [
       "                         tags  \\\n",
       "2                   [node.js]   \n",
       "3                 [html, css]   \n",
       "4  [regex, language-agnostic]   \n",
       "5                      [java]   \n",
       "6                  [security]   \n",
       "\n",
       "                                            document  \n",
       "2  restart node upon change file For someone come...  \n",
       "3  100 min height css layout What best way make e...  \n",
       "4  stack overflow generate seofriendly urls What ...  \n",
       "5  get oslevel system information I currently bui...  \n",
       "6  disable browser ave password functionality One...  "
      ]
     },
     "execution_count": 93,
     "metadata": {},
     "output_type": "execute_result"
    }
   ],
   "source": [
    "df.loc[[2, 3, 4, 5, 6]]"
   ]
  },
  {
   "cell_type": "code",
   "execution_count": 94,
   "metadata": {
    "ExecuteTime": {
     "end_time": "2020-03-31T14:33:28.001901Z",
     "start_time": "2020-03-31T14:33:27.998399Z"
    }
   },
   "outputs": [],
   "source": [
    "def predict_5_questions(model):\n",
    "    questions = df.loc[[2, 3, 4, 5, 6]][\"document\"]\n",
    "    X_tfidf = vectorizer_X.transform(questions)\n",
    "    prediction_inv = model.predict(X_tfidf)\n",
    "    prediction = mlb.inverse_transform(prediction_inv)\n",
    "    print(prediction)"
   ]
  },
  {
   "cell_type": "markdown",
   "metadata": {},
   "source": [
    "#### 4.2.1. DummyClassifier"
   ]
  },
  {
   "cell_type": "code",
   "execution_count": 95,
   "metadata": {
    "ExecuteTime": {
     "end_time": "2020-03-31T14:33:29.736169Z",
     "start_time": "2020-03-31T14:33:29.548171Z"
    }
   },
   "outputs": [
    {
     "data": {
      "text/html": [
       "<div>\n",
       "<style scoped>\n",
       "    .dataframe tbody tr th:only-of-type {\n",
       "        vertical-align: middle;\n",
       "    }\n",
       "\n",
       "    .dataframe tbody tr th {\n",
       "        vertical-align: top;\n",
       "    }\n",
       "\n",
       "    .dataframe thead th {\n",
       "        text-align: right;\n",
       "    }\n",
       "</style>\n",
       "<table border=\"1\" class=\"dataframe\">\n",
       "  <thead>\n",
       "    <tr style=\"text-align: right;\">\n",
       "      <th></th>\n",
       "      <th>Macro F1 Score</th>\n",
       "      <th>Micro F1 Score</th>\n",
       "      <th>Jaccard Score</th>\n",
       "      <th>Hamming_loss</th>\n",
       "    </tr>\n",
       "  </thead>\n",
       "  <tbody>\n",
       "    <tr>\n",
       "      <td>DummyClassifier</td>\n",
       "      <td>0.015163</td>\n",
       "      <td>0.043245</td>\n",
       "      <td>2.499126</td>\n",
       "      <td>0.030994</td>\n",
       "    </tr>\n",
       "  </tbody>\n",
       "</table>\n",
       "</div>"
      ],
      "text/plain": [
       "                 Macro F1 Score  Micro F1 Score  Jaccard Score  Hamming_loss\n",
       "DummyClassifier        0.015163        0.043245       2.499126      0.030994"
      ]
     },
     "execution_count": 95,
     "metadata": {},
     "output_type": "execute_result"
    }
   ],
   "source": [
    "clf = OneVsRestClassifier(DummyClassifier())\n",
    "clf.fit(X_train, y_train)\n",
    "y_pred = clf.predict(X_test)\n",
    "dummy_score = get_score(y_pred, clf, \"DummyClassifier\")\n",
    "dummy_score"
   ]
  },
  {
   "cell_type": "code",
   "execution_count": 96,
   "metadata": {
    "ExecuteTime": {
     "end_time": "2020-03-31T14:33:30.453669Z",
     "start_time": "2020-03-31T14:33:30.447169Z"
    }
   },
   "outputs": [
    {
     "name": "stdout",
     "output_type": "stream",
     "text": [
      "[(), ('file', 'iphone'), ('arrays', 'java'), ('r',), ('java',)]\n"
     ]
    }
   ],
   "source": [
    "predict_5_questions(clf)"
   ]
  },
  {
   "cell_type": "markdown",
   "metadata": {},
   "source": [
    "#### 4.2.2. RandomForestClassifier"
   ]
  },
  {
   "cell_type": "code",
   "execution_count": 97,
   "metadata": {
    "ExecuteTime": {
     "end_time": "2020-03-31T14:33:42.033693Z",
     "start_time": "2020-03-31T14:33:32.677189Z"
    }
   },
   "outputs": [
    {
     "data": {
      "text/html": [
       "<div>\n",
       "<style scoped>\n",
       "    .dataframe tbody tr th:only-of-type {\n",
       "        vertical-align: middle;\n",
       "    }\n",
       "\n",
       "    .dataframe tbody tr th {\n",
       "        vertical-align: top;\n",
       "    }\n",
       "\n",
       "    .dataframe thead th {\n",
       "        text-align: right;\n",
       "    }\n",
       "</style>\n",
       "<table border=\"1\" class=\"dataframe\">\n",
       "  <thead>\n",
       "    <tr style=\"text-align: right;\">\n",
       "      <th></th>\n",
       "      <th>Macro F1 Score</th>\n",
       "      <th>Micro F1 Score</th>\n",
       "      <th>Jaccard Score</th>\n",
       "      <th>Hamming_loss</th>\n",
       "    </tr>\n",
       "  </thead>\n",
       "  <tbody>\n",
       "    <tr>\n",
       "      <td>RandomForestClassifier</td>\n",
       "      <td>0.13009</td>\n",
       "      <td>0.312223</td>\n",
       "      <td>22.239827</td>\n",
       "      <td>0.013476</td>\n",
       "    </tr>\n",
       "  </tbody>\n",
       "</table>\n",
       "</div>"
      ],
      "text/plain": [
       "                        Macro F1 Score  Micro F1 Score  Jaccard Score  \\\n",
       "RandomForestClassifier         0.13009        0.312223      22.239827   \n",
       "\n",
       "                        Hamming_loss  \n",
       "RandomForestClassifier      0.013476  "
      ]
     },
     "execution_count": 97,
     "metadata": {},
     "output_type": "execute_result"
    }
   ],
   "source": [
    "clf = RandomForestClassifier(random_state=20)\n",
    "clf.fit(X_train, y_train)\n",
    "y_pred = clf.predict(X_test)\n",
    "rfc_score = get_score(y_pred, clf)\n",
    "rfc_score"
   ]
  },
  {
   "cell_type": "code",
   "execution_count": 98,
   "metadata": {
    "ExecuteTime": {
     "end_time": "2020-03-31T14:33:42.682690Z",
     "start_time": "2020-03-31T14:33:42.666691Z"
    }
   },
   "outputs": [
    {
     "name": "stdout",
     "output_type": "stream",
     "text": [
      "[('node.js',), ('css', 'html'), ('language-agnostic', 'regex'), ('java',), ('security',)]\n"
     ]
    }
   ],
   "source": [
    "predict_5_questions(clf)"
   ]
  },
  {
   "cell_type": "markdown",
   "metadata": {},
   "source": [
    "#### 4.2.3. LogisticRegression"
   ]
  },
  {
   "cell_type": "code",
   "execution_count": 99,
   "metadata": {
    "ExecuteTime": {
     "end_time": "2020-03-31T14:33:51.536891Z",
     "start_time": "2020-03-31T14:33:44.508417Z"
    }
   },
   "outputs": [
    {
     "data": {
      "text/html": [
       "<div>\n",
       "<style scoped>\n",
       "    .dataframe tbody tr th:only-of-type {\n",
       "        vertical-align: middle;\n",
       "    }\n",
       "\n",
       "    .dataframe tbody tr th {\n",
       "        vertical-align: top;\n",
       "    }\n",
       "\n",
       "    .dataframe thead th {\n",
       "        text-align: right;\n",
       "    }\n",
       "</style>\n",
       "<table border=\"1\" class=\"dataframe\">\n",
       "  <thead>\n",
       "    <tr style=\"text-align: right;\">\n",
       "      <th></th>\n",
       "      <th>Macro F1 Score</th>\n",
       "      <th>Micro F1 Score</th>\n",
       "      <th>Jaccard Score</th>\n",
       "      <th>Hamming_loss</th>\n",
       "    </tr>\n",
       "  </thead>\n",
       "  <tbody>\n",
       "    <tr>\n",
       "      <td>LogisticRegression</td>\n",
       "      <td>0.22571</td>\n",
       "      <td>0.447734</td>\n",
       "      <td>32.41272</td>\n",
       "      <td>0.011948</td>\n",
       "    </tr>\n",
       "  </tbody>\n",
       "</table>\n",
       "</div>"
      ],
      "text/plain": [
       "                    Macro F1 Score  Micro F1 Score  Jaccard Score  \\\n",
       "LogisticRegression         0.22571        0.447734       32.41272   \n",
       "\n",
       "                    Hamming_loss  \n",
       "LogisticRegression      0.011948  "
      ]
     },
     "execution_count": 99,
     "metadata": {},
     "output_type": "execute_result"
    }
   ],
   "source": [
    "clf = OneVsRestClassifier(LogisticRegression())\n",
    "clf.fit(X_train, y_train)\n",
    "y_pred = clf.predict(X_test)\n",
    "lr_score = get_score(y_pred, clf, \"LogisticRegression\")\n",
    "lr_score"
   ]
  },
  {
   "cell_type": "code",
   "execution_count": 100,
   "metadata": {
    "ExecuteTime": {
     "end_time": "2020-03-31T14:33:52.153928Z",
     "start_time": "2020-03-31T14:33:52.142892Z"
    }
   },
   "outputs": [
    {
     "name": "stdout",
     "output_type": "stream",
     "text": [
      "[('node.js',), ('css',), (), ('java',), ()]\n"
     ]
    }
   ],
   "source": [
    "predict_5_questions(clf)"
   ]
  },
  {
   "cell_type": "markdown",
   "metadata": {},
   "source": [
    "#### 4.2.4. SGDClassifier "
   ]
  },
  {
   "cell_type": "code",
   "execution_count": 101,
   "metadata": {
    "ExecuteTime": {
     "end_time": "2020-03-31T14:33:55.692632Z",
     "start_time": "2020-03-31T14:33:54.215635Z"
    }
   },
   "outputs": [
    {
     "data": {
      "text/html": [
       "<div>\n",
       "<style scoped>\n",
       "    .dataframe tbody tr th:only-of-type {\n",
       "        vertical-align: middle;\n",
       "    }\n",
       "\n",
       "    .dataframe tbody tr th {\n",
       "        vertical-align: top;\n",
       "    }\n",
       "\n",
       "    .dataframe thead th {\n",
       "        text-align: right;\n",
       "    }\n",
       "</style>\n",
       "<table border=\"1\" class=\"dataframe\">\n",
       "  <thead>\n",
       "    <tr style=\"text-align: right;\">\n",
       "      <th></th>\n",
       "      <th>Macro F1 Score</th>\n",
       "      <th>Micro F1 Score</th>\n",
       "      <th>Jaccard Score</th>\n",
       "      <th>Hamming_loss</th>\n",
       "    </tr>\n",
       "  </thead>\n",
       "  <tbody>\n",
       "    <tr>\n",
       "      <td>SGDClassifier</td>\n",
       "      <td>0.464377</td>\n",
       "      <td>0.634719</td>\n",
       "      <td>51.726151</td>\n",
       "      <td>0.009229</td>\n",
       "    </tr>\n",
       "  </tbody>\n",
       "</table>\n",
       "</div>"
      ],
      "text/plain": [
       "               Macro F1 Score  Micro F1 Score  Jaccard Score  Hamming_loss\n",
       "SGDClassifier        0.464377        0.634719      51.726151      0.009229"
      ]
     },
     "execution_count": 101,
     "metadata": {},
     "output_type": "execute_result"
    }
   ],
   "source": [
    "clf = OneVsRestClassifier(SGDClassifier())\n",
    "clf.fit(X_train, y_train)\n",
    "y_pred = clf.predict(X_test)\n",
    "sgdc_score = get_score(y_pred, clf, \"SGDClassifier\")\n",
    "sgdc_score"
   ]
  },
  {
   "cell_type": "code",
   "execution_count": 102,
   "metadata": {
    "ExecuteTime": {
     "end_time": "2020-03-31T14:33:56.951365Z",
     "start_time": "2020-03-31T14:33:56.941834Z"
    }
   },
   "outputs": [
    {
     "name": "stdout",
     "output_type": "stream",
     "text": [
      "[('node.js',), ('css', 'html'), ('regex',), ('java',), ()]\n"
     ]
    }
   ],
   "source": [
    "predict_5_questions(clf)"
   ]
  },
  {
   "cell_type": "markdown",
   "metadata": {},
   "source": [
    "#### 4.2.5. MultinomialNB"
   ]
  },
  {
   "cell_type": "code",
   "execution_count": 103,
   "metadata": {
    "ExecuteTime": {
     "end_time": "2020-03-31T14:34:07.364763Z",
     "start_time": "2020-03-31T14:34:06.601264Z"
    }
   },
   "outputs": [
    {
     "data": {
      "text/html": [
       "<div>\n",
       "<style scoped>\n",
       "    .dataframe tbody tr th:only-of-type {\n",
       "        vertical-align: middle;\n",
       "    }\n",
       "\n",
       "    .dataframe tbody tr th {\n",
       "        vertical-align: top;\n",
       "    }\n",
       "\n",
       "    .dataframe thead th {\n",
       "        text-align: right;\n",
       "    }\n",
       "</style>\n",
       "<table border=\"1\" class=\"dataframe\">\n",
       "  <thead>\n",
       "    <tr style=\"text-align: right;\">\n",
       "      <th></th>\n",
       "      <th>Macro F1 Score</th>\n",
       "      <th>Micro F1 Score</th>\n",
       "      <th>Jaccard Score</th>\n",
       "      <th>Hamming_loss</th>\n",
       "    </tr>\n",
       "  </thead>\n",
       "  <tbody>\n",
       "    <tr>\n",
       "      <td>MultinomialNB</td>\n",
       "      <td>0.00141</td>\n",
       "      <td>0.006504</td>\n",
       "      <td>0.494774</td>\n",
       "      <td>0.016304</td>\n",
       "    </tr>\n",
       "  </tbody>\n",
       "</table>\n",
       "</div>"
      ],
      "text/plain": [
       "               Macro F1 Score  Micro F1 Score  Jaccard Score  Hamming_loss\n",
       "MultinomialNB         0.00141        0.006504       0.494774      0.016304"
      ]
     },
     "execution_count": 103,
     "metadata": {},
     "output_type": "execute_result"
    }
   ],
   "source": [
    "clf = OneVsRestClassifier(MultinomialNB())\n",
    "clf.fit(X_train, y_train)\n",
    "y_pred = clf.predict(X_test)\n",
    "mnb_score = get_score(y_pred, clf, \"MultinomialNB\")\n",
    "mnb_score"
   ]
  },
  {
   "cell_type": "code",
   "execution_count": 104,
   "metadata": {
    "ExecuteTime": {
     "end_time": "2020-03-31T14:34:10.245147Z",
     "start_time": "2020-03-31T14:34:10.176645Z"
    }
   },
   "outputs": [
    {
     "name": "stdout",
     "output_type": "stream",
     "text": [
      "[(), (), (), (), ()]\n"
     ]
    }
   ],
   "source": [
    "predict_5_questions(clf)"
   ]
  },
  {
   "cell_type": "markdown",
   "metadata": {},
   "source": [
    "#### 4.2.6. LinearSVC"
   ]
  },
  {
   "cell_type": "code",
   "execution_count": 105,
   "metadata": {
    "ExecuteTime": {
     "end_time": "2020-03-31T14:34:24.326021Z",
     "start_time": "2020-03-31T14:34:21.906494Z"
    }
   },
   "outputs": [
    {
     "data": {
      "text/html": [
       "<div>\n",
       "<style scoped>\n",
       "    .dataframe tbody tr th:only-of-type {\n",
       "        vertical-align: middle;\n",
       "    }\n",
       "\n",
       "    .dataframe tbody tr th {\n",
       "        vertical-align: top;\n",
       "    }\n",
       "\n",
       "    .dataframe thead th {\n",
       "        text-align: right;\n",
       "    }\n",
       "</style>\n",
       "<table border=\"1\" class=\"dataframe\">\n",
       "  <thead>\n",
       "    <tr style=\"text-align: right;\">\n",
       "      <th></th>\n",
       "      <th>Macro F1 Score</th>\n",
       "      <th>Micro F1 Score</th>\n",
       "      <th>Jaccard Score</th>\n",
       "      <th>Hamming_loss</th>\n",
       "    </tr>\n",
       "  </thead>\n",
       "  <tbody>\n",
       "    <tr>\n",
       "      <td>LinearSVC</td>\n",
       "      <td>0.504072</td>\n",
       "      <td>0.649911</td>\n",
       "      <td>53.410607</td>\n",
       "      <td>0.009199</td>\n",
       "    </tr>\n",
       "  </tbody>\n",
       "</table>\n",
       "</div>"
      ],
      "text/plain": [
       "           Macro F1 Score  Micro F1 Score  Jaccard Score  Hamming_loss\n",
       "LinearSVC        0.504072        0.649911      53.410607      0.009199"
      ]
     },
     "execution_count": 105,
     "metadata": {},
     "output_type": "execute_result"
    }
   ],
   "source": [
    "clf = OneVsRestClassifier(LinearSVC())\n",
    "clf.fit(X_train, y_train)\n",
    "y_pred = clf.predict(X_test)\n",
    "svc_score = get_score(y_pred, clf, \"LinearSVC\")\n",
    "svc_score"
   ]
  },
  {
   "cell_type": "code",
   "execution_count": 106,
   "metadata": {
    "ExecuteTime": {
     "end_time": "2020-03-31T14:34:25.693525Z",
     "start_time": "2020-03-31T14:34:25.684526Z"
    }
   },
   "outputs": [
    {
     "name": "stdout",
     "output_type": "stream",
     "text": [
      "[('node.js',), ('css', 'html'), ('language-agnostic', 'regex'), ('java',), ('security',)]\n"
     ]
    }
   ],
   "source": [
    "predict_5_questions(clf)"
   ]
  },
  {
   "cell_type": "markdown",
   "metadata": {},
   "source": [
    "#### 4.2.7. Perceptron"
   ]
  },
  {
   "cell_type": "code",
   "execution_count": 107,
   "metadata": {
    "ExecuteTime": {
     "end_time": "2020-03-31T14:34:29.802237Z",
     "start_time": "2020-03-31T14:34:28.606739Z"
    }
   },
   "outputs": [
    {
     "data": {
      "text/html": [
       "<div>\n",
       "<style scoped>\n",
       "    .dataframe tbody tr th:only-of-type {\n",
       "        vertical-align: middle;\n",
       "    }\n",
       "\n",
       "    .dataframe tbody tr th {\n",
       "        vertical-align: top;\n",
       "    }\n",
       "\n",
       "    .dataframe thead th {\n",
       "        text-align: right;\n",
       "    }\n",
       "</style>\n",
       "<table border=\"1\" class=\"dataframe\">\n",
       "  <thead>\n",
       "    <tr style=\"text-align: right;\">\n",
       "      <th></th>\n",
       "      <th>Macro F1 Score</th>\n",
       "      <th>Micro F1 Score</th>\n",
       "      <th>Jaccard Score</th>\n",
       "      <th>Hamming_loss</th>\n",
       "    </tr>\n",
       "  </thead>\n",
       "  <tbody>\n",
       "    <tr>\n",
       "      <td>Perceptron</td>\n",
       "      <td>0.528576</td>\n",
       "      <td>0.631818</td>\n",
       "      <td>53.077369</td>\n",
       "      <td>0.010831</td>\n",
       "    </tr>\n",
       "  </tbody>\n",
       "</table>\n",
       "</div>"
      ],
      "text/plain": [
       "            Macro F1 Score  Micro F1 Score  Jaccard Score  Hamming_loss\n",
       "Perceptron        0.528576        0.631818      53.077369      0.010831"
      ]
     },
     "execution_count": 107,
     "metadata": {},
     "output_type": "execute_result"
    }
   ],
   "source": [
    "clf = OneVsRestClassifier(Perceptron())\n",
    "clf.fit(X_train, y_train)\n",
    "y_pred = clf.predict(X_test)\n",
    "perceptron_score = get_score(y_pred, clf, \"Perceptron\")\n",
    "perceptron_score"
   ]
  },
  {
   "cell_type": "code",
   "execution_count": 108,
   "metadata": {
    "ExecuteTime": {
     "end_time": "2020-03-31T14:34:31.685184Z",
     "start_time": "2020-03-31T14:34:31.676654Z"
    }
   },
   "outputs": [
    {
     "name": "stdout",
     "output_type": "stream",
     "text": [
      "[('node.js',), ('css', 'html'), ('language-agnostic', 'regex'), ('java',), ('security',)]\n"
     ]
    }
   ],
   "source": [
    "predict_5_questions(clf)"
   ]
  },
  {
   "cell_type": "markdown",
   "metadata": {},
   "source": [
    "#### 4.2.8. PassiveAggressiveClassifier"
   ]
  },
  {
   "cell_type": "code",
   "execution_count": 109,
   "metadata": {
    "ExecuteTime": {
     "end_time": "2020-03-31T14:34:36.836893Z",
     "start_time": "2020-03-31T14:34:34.674892Z"
    }
   },
   "outputs": [
    {
     "data": {
      "text/html": [
       "<div>\n",
       "<style scoped>\n",
       "    .dataframe tbody tr th:only-of-type {\n",
       "        vertical-align: middle;\n",
       "    }\n",
       "\n",
       "    .dataframe tbody tr th {\n",
       "        vertical-align: top;\n",
       "    }\n",
       "\n",
       "    .dataframe thead th {\n",
       "        text-align: right;\n",
       "    }\n",
       "</style>\n",
       "<table border=\"1\" class=\"dataframe\">\n",
       "  <thead>\n",
       "    <tr style=\"text-align: right;\">\n",
       "      <th></th>\n",
       "      <th>Macro F1 Score</th>\n",
       "      <th>Micro F1 Score</th>\n",
       "      <th>Jaccard Score</th>\n",
       "      <th>Hamming_loss</th>\n",
       "    </tr>\n",
       "  </thead>\n",
       "  <tbody>\n",
       "    <tr>\n",
       "      <td>PassiveAggressiveClassifier</td>\n",
       "      <td>0.550473</td>\n",
       "      <td>0.657489</td>\n",
       "      <td>55.381365</td>\n",
       "      <td>0.00971</td>\n",
       "    </tr>\n",
       "  </tbody>\n",
       "</table>\n",
       "</div>"
      ],
      "text/plain": [
       "                             Macro F1 Score  Micro F1 Score  Jaccard Score  \\\n",
       "PassiveAggressiveClassifier        0.550473        0.657489      55.381365   \n",
       "\n",
       "                             Hamming_loss  \n",
       "PassiveAggressiveClassifier       0.00971  "
      ]
     },
     "execution_count": 109,
     "metadata": {},
     "output_type": "execute_result"
    }
   ],
   "source": [
    "clf = OneVsRestClassifier(PassiveAggressiveClassifier())\n",
    "clf.fit(X_train, y_train)\n",
    "y_pred = clf.predict(X_test)\n",
    "pac_score = get_score(y_pred, clf, \"PassiveAggressiveClassifier\")\n",
    "pac_score"
   ]
  },
  {
   "cell_type": "code",
   "execution_count": 110,
   "metadata": {
    "ExecuteTime": {
     "end_time": "2020-03-31T14:34:38.264652Z",
     "start_time": "2020-03-31T14:34:38.255652Z"
    }
   },
   "outputs": [
    {
     "name": "stdout",
     "output_type": "stream",
     "text": [
      "[('node.js',), ('css', 'html'), ('language-agnostic', 'regex'), ('java',), ('security',)]\n"
     ]
    }
   ],
   "source": [
    "predict_5_questions(clf)"
   ]
  },
  {
   "cell_type": "markdown",
   "metadata": {},
   "source": [
    "#### 4.2.9. MultiLayerPerceptron Classifier"
   ]
  },
  {
   "cell_type": "code",
   "execution_count": 111,
   "metadata": {
    "ExecuteTime": {
     "end_time": "2020-03-31T14:35:02.838110Z",
     "start_time": "2020-03-31T14:34:41.698614Z"
    },
    "scrolled": true
   },
   "outputs": [
    {
     "name": "stdout",
     "output_type": "stream",
     "text": [
      "Iteration 1, loss = 52.22958615\n"
     ]
    },
    {
     "data": {
      "text/html": [
       "<div>\n",
       "<style scoped>\n",
       "    .dataframe tbody tr th:only-of-type {\n",
       "        vertical-align: middle;\n",
       "    }\n",
       "\n",
       "    .dataframe tbody tr th {\n",
       "        vertical-align: top;\n",
       "    }\n",
       "\n",
       "    .dataframe thead th {\n",
       "        text-align: right;\n",
       "    }\n",
       "</style>\n",
       "<table border=\"1\" class=\"dataframe\">\n",
       "  <thead>\n",
       "    <tr style=\"text-align: right;\">\n",
       "      <th></th>\n",
       "      <th>Macro F1 Score</th>\n",
       "      <th>Micro F1 Score</th>\n",
       "      <th>Jaccard Score</th>\n",
       "      <th>Hamming_loss</th>\n",
       "    </tr>\n",
       "  </thead>\n",
       "  <tbody>\n",
       "    <tr>\n",
       "      <td>MLPClassifier</td>\n",
       "      <td>0.0</td>\n",
       "      <td>0.0</td>\n",
       "      <td>0.0</td>\n",
       "      <td>0.016351</td>\n",
       "    </tr>\n",
       "  </tbody>\n",
       "</table>\n",
       "</div>"
      ],
      "text/plain": [
       "               Macro F1 Score  Micro F1 Score  Jaccard Score  Hamming_loss\n",
       "MLPClassifier             0.0             0.0            0.0      0.016351"
      ]
     },
     "execution_count": 111,
     "metadata": {},
     "output_type": "execute_result"
    }
   ],
   "source": [
    "mlcp = MLPClassifier(max_iter=100, verbose=True)\n",
    "mlcp.fit(X_train, y_train)\n",
    "y_pred = mlcp.predict(X_test)\n",
    "mlpc_score = get_score(y_pred, mlcp)\n",
    "mlpc_score"
   ]
  },
  {
   "cell_type": "code",
   "execution_count": 112,
   "metadata": {
    "ExecuteTime": {
     "end_time": "2020-03-31T14:35:04.077705Z",
     "start_time": "2020-03-31T14:35:04.057179Z"
    }
   },
   "outputs": [
    {
     "name": "stdout",
     "output_type": "stream",
     "text": [
      "[(), (), (), (), ()]\n"
     ]
    }
   ],
   "source": [
    "predict_5_questions(mlcp)"
   ]
  },
  {
   "cell_type": "code",
   "execution_count": 113,
   "metadata": {
    "ExecuteTime": {
     "end_time": "2020-03-31T14:35:05.762421Z",
     "start_time": "2020-03-31T14:35:05.758923Z"
    }
   },
   "outputs": [],
   "source": [
    "def highlight(val):\n",
    "    is_max = val == val.max()\n",
    "    return ['color: green' if v else '' for v in is_max]\n",
    "\n",
    "def highlight_hamming(val):\n",
    "    is_min = val == val.min()\n",
    "    return ['color: green' if v else '' for v in is_min]"
   ]
  },
  {
   "cell_type": "code",
   "execution_count": 114,
   "metadata": {
    "ExecuteTime": {
     "end_time": "2020-03-31T14:35:06.531921Z",
     "start_time": "2020-03-31T14:35:06.409922Z"
    }
   },
   "outputs": [
    {
     "data": {
      "text/html": [
       "<style  type=\"text/css\" >\n",
       "    #T_d0c948cc_735c_11ea_890a_0c9d9283f849row5_col3 {\n",
       "            color:  green;\n",
       "        }    #T_d0c948cc_735c_11ea_890a_0c9d9283f849row7_col0 {\n",
       "            color:  green;\n",
       "        }    #T_d0c948cc_735c_11ea_890a_0c9d9283f849row7_col1 {\n",
       "            color:  green;\n",
       "        }    #T_d0c948cc_735c_11ea_890a_0c9d9283f849row7_col2 {\n",
       "            color:  green;\n",
       "        }</style><table id=\"T_d0c948cc_735c_11ea_890a_0c9d9283f849\" ><thead>    <tr>        <th class=\"blank level0\" ></th>        <th class=\"col_heading level0 col0\" >Macro F1 Score</th>        <th class=\"col_heading level0 col1\" >Micro F1 Score</th>        <th class=\"col_heading level0 col2\" >Jaccard Score</th>        <th class=\"col_heading level0 col3\" >Hamming_loss</th>    </tr></thead><tbody>\n",
       "                <tr>\n",
       "                        <th id=\"T_d0c948cc_735c_11ea_890a_0c9d9283f849level0_row0\" class=\"row_heading level0 row0\" >RandomForestClassifier</th>\n",
       "                        <td id=\"T_d0c948cc_735c_11ea_890a_0c9d9283f849row0_col0\" class=\"data row0 col0\" >0.13009</td>\n",
       "                        <td id=\"T_d0c948cc_735c_11ea_890a_0c9d9283f849row0_col1\" class=\"data row0 col1\" >0.312223</td>\n",
       "                        <td id=\"T_d0c948cc_735c_11ea_890a_0c9d9283f849row0_col2\" class=\"data row0 col2\" >22.2398</td>\n",
       "                        <td id=\"T_d0c948cc_735c_11ea_890a_0c9d9283f849row0_col3\" class=\"data row0 col3\" >0.0134757</td>\n",
       "            </tr>\n",
       "            <tr>\n",
       "                        <th id=\"T_d0c948cc_735c_11ea_890a_0c9d9283f849level0_row1\" class=\"row_heading level0 row1\" >LogisticRegression</th>\n",
       "                        <td id=\"T_d0c948cc_735c_11ea_890a_0c9d9283f849row1_col0\" class=\"data row1 col0\" >0.22571</td>\n",
       "                        <td id=\"T_d0c948cc_735c_11ea_890a_0c9d9283f849row1_col1\" class=\"data row1 col1\" >0.447734</td>\n",
       "                        <td id=\"T_d0c948cc_735c_11ea_890a_0c9d9283f849row1_col2\" class=\"data row1 col2\" >32.4127</td>\n",
       "                        <td id=\"T_d0c948cc_735c_11ea_890a_0c9d9283f849row1_col3\" class=\"data row1 col3\" >0.011948</td>\n",
       "            </tr>\n",
       "            <tr>\n",
       "                        <th id=\"T_d0c948cc_735c_11ea_890a_0c9d9283f849level0_row2\" class=\"row_heading level0 row2\" >DummyClassifier</th>\n",
       "                        <td id=\"T_d0c948cc_735c_11ea_890a_0c9d9283f849row2_col0\" class=\"data row2 col0\" >0.0151629</td>\n",
       "                        <td id=\"T_d0c948cc_735c_11ea_890a_0c9d9283f849row2_col1\" class=\"data row2 col1\" >0.0432455</td>\n",
       "                        <td id=\"T_d0c948cc_735c_11ea_890a_0c9d9283f849row2_col2\" class=\"data row2 col2\" >2.49913</td>\n",
       "                        <td id=\"T_d0c948cc_735c_11ea_890a_0c9d9283f849row2_col3\" class=\"data row2 col3\" >0.030994</td>\n",
       "            </tr>\n",
       "            <tr>\n",
       "                        <th id=\"T_d0c948cc_735c_11ea_890a_0c9d9283f849level0_row3\" class=\"row_heading level0 row3\" >SGDClassifier</th>\n",
       "                        <td id=\"T_d0c948cc_735c_11ea_890a_0c9d9283f849row3_col0\" class=\"data row3 col0\" >0.464377</td>\n",
       "                        <td id=\"T_d0c948cc_735c_11ea_890a_0c9d9283f849row3_col1\" class=\"data row3 col1\" >0.634719</td>\n",
       "                        <td id=\"T_d0c948cc_735c_11ea_890a_0c9d9283f849row3_col2\" class=\"data row3 col2\" >51.7262</td>\n",
       "                        <td id=\"T_d0c948cc_735c_11ea_890a_0c9d9283f849row3_col3\" class=\"data row3 col3\" >0.00922949</td>\n",
       "            </tr>\n",
       "            <tr>\n",
       "                        <th id=\"T_d0c948cc_735c_11ea_890a_0c9d9283f849level0_row4\" class=\"row_heading level0 row4\" >MultinomialNB</th>\n",
       "                        <td id=\"T_d0c948cc_735c_11ea_890a_0c9d9283f849row4_col0\" class=\"data row4 col0\" >0.00141013</td>\n",
       "                        <td id=\"T_d0c948cc_735c_11ea_890a_0c9d9283f849row4_col1\" class=\"data row4 col1\" >0.00650407</td>\n",
       "                        <td id=\"T_d0c948cc_735c_11ea_890a_0c9d9283f849row4_col2\" class=\"data row4 col2\" >0.494774</td>\n",
       "                        <td id=\"T_d0c948cc_735c_11ea_890a_0c9d9283f849row4_col3\" class=\"data row4 col3\" >0.0163042</td>\n",
       "            </tr>\n",
       "            <tr>\n",
       "                        <th id=\"T_d0c948cc_735c_11ea_890a_0c9d9283f849level0_row5\" class=\"row_heading level0 row5\" >LinearSVC</th>\n",
       "                        <td id=\"T_d0c948cc_735c_11ea_890a_0c9d9283f849row5_col0\" class=\"data row5 col0\" >0.504072</td>\n",
       "                        <td id=\"T_d0c948cc_735c_11ea_890a_0c9d9283f849row5_col1\" class=\"data row5 col1\" >0.649911</td>\n",
       "                        <td id=\"T_d0c948cc_735c_11ea_890a_0c9d9283f849row5_col2\" class=\"data row5 col2\" >53.4106</td>\n",
       "                        <td id=\"T_d0c948cc_735c_11ea_890a_0c9d9283f849row5_col3\" class=\"data row5 col3\" >0.00919947</td>\n",
       "            </tr>\n",
       "            <tr>\n",
       "                        <th id=\"T_d0c948cc_735c_11ea_890a_0c9d9283f849level0_row6\" class=\"row_heading level0 row6\" >Perceptron</th>\n",
       "                        <td id=\"T_d0c948cc_735c_11ea_890a_0c9d9283f849row6_col0\" class=\"data row6 col0\" >0.528576</td>\n",
       "                        <td id=\"T_d0c948cc_735c_11ea_890a_0c9d9283f849row6_col1\" class=\"data row6 col1\" >0.631818</td>\n",
       "                        <td id=\"T_d0c948cc_735c_11ea_890a_0c9d9283f849row6_col2\" class=\"data row6 col2\" >53.0774</td>\n",
       "                        <td id=\"T_d0c948cc_735c_11ea_890a_0c9d9283f849row6_col3\" class=\"data row6 col3\" >0.0108306</td>\n",
       "            </tr>\n",
       "            <tr>\n",
       "                        <th id=\"T_d0c948cc_735c_11ea_890a_0c9d9283f849level0_row7\" class=\"row_heading level0 row7\" >PassiveAggressiveClassifier</th>\n",
       "                        <td id=\"T_d0c948cc_735c_11ea_890a_0c9d9283f849row7_col0\" class=\"data row7 col0\" >0.550473</td>\n",
       "                        <td id=\"T_d0c948cc_735c_11ea_890a_0c9d9283f849row7_col1\" class=\"data row7 col1\" >0.657489</td>\n",
       "                        <td id=\"T_d0c948cc_735c_11ea_890a_0c9d9283f849row7_col2\" class=\"data row7 col2\" >55.3814</td>\n",
       "                        <td id=\"T_d0c948cc_735c_11ea_890a_0c9d9283f849row7_col3\" class=\"data row7 col3\" >0.00970981</td>\n",
       "            </tr>\n",
       "            <tr>\n",
       "                        <th id=\"T_d0c948cc_735c_11ea_890a_0c9d9283f849level0_row8\" class=\"row_heading level0 row8\" >MLPClassifier</th>\n",
       "                        <td id=\"T_d0c948cc_735c_11ea_890a_0c9d9283f849row8_col0\" class=\"data row8 col0\" >0</td>\n",
       "                        <td id=\"T_d0c948cc_735c_11ea_890a_0c9d9283f849row8_col1\" class=\"data row8 col1\" >0</td>\n",
       "                        <td id=\"T_d0c948cc_735c_11ea_890a_0c9d9283f849row8_col2\" class=\"data row8 col2\" >0</td>\n",
       "                        <td id=\"T_d0c948cc_735c_11ea_890a_0c9d9283f849row8_col3\" class=\"data row8 col3\" >0.0163509</td>\n",
       "            </tr>\n",
       "    </tbody></table>"
      ],
      "text/plain": [
       "<pandas.io.formats.style.Styler at 0x1a704f4f508>"
      ]
     },
     "execution_count": 114,
     "metadata": {},
     "output_type": "execute_result"
    }
   ],
   "source": [
    "score = pd.concat([rfc_score, lr_score, dummy_score, sgdc_score, mnb_score, svc_score, perceptron_score, pac_score, mlpc_score])\n",
    "score = score.style.apply(highlight, subset=[\"Macro F1 Score\", \"Micro F1 Score\", \"Jaccard Score\"])\n",
    "score = score.apply(highlight_hamming, subset=[\"Hamming_loss\"])\n",
    "score"
   ]
  },
  {
   "cell_type": "markdown",
   "metadata": {},
   "source": [
    "### 4.3. Amélioration des hyperparamètres"
   ]
  },
  {
   "cell_type": "code",
   "execution_count": 47,
   "metadata": {
    "ExecuteTime": {
     "end_time": "2020-03-27T13:26:29.159311Z",
     "start_time": "2020-03-27T13:26:29.155783Z"
    }
   },
   "outputs": [],
   "source": [
    "param_grid = {'estimator__C':[1, 10, 100, 1000]}"
   ]
  },
  {
   "cell_type": "markdown",
   "metadata": {},
   "source": [
    "## 5. Enregistrement du meilleur model"
   ]
  },
  {
   "cell_type": "code",
   "execution_count": 48,
   "metadata": {
    "ExecuteTime": {
     "end_time": "2020-03-27T13:26:30.584281Z",
     "start_time": "2020-03-27T13:26:29.161309Z"
    }
   },
   "outputs": [
    {
     "data": {
      "text/plain": [
       "OneVsRestClassifier(estimator=SGDClassifier(alpha=0.0001, average=False,\n",
       "                                            class_weight=None,\n",
       "                                            early_stopping=False, epsilon=0.1,\n",
       "                                            eta0=0.0, fit_intercept=True,\n",
       "                                            l1_ratio=0.15,\n",
       "                                            learning_rate='optimal',\n",
       "                                            loss='hinge', max_iter=1000,\n",
       "                                            n_iter_no_change=5, n_jobs=None,\n",
       "                                            penalty='l2', power_t=0.5,\n",
       "                                            random_state=None, shuffle=True,\n",
       "                                            tol=0.001, validation_fraction=0.1,\n",
       "                                            verbose=0, warm_start=False),\n",
       "                    n_jobs=None)"
      ]
     },
     "execution_count": 48,
     "metadata": {},
     "output_type": "execute_result"
    }
   ],
   "source": [
    "clf = OneVsRestClassifier(SGDClassifier())\n",
    "clf.fit(X_train, y_train)"
   ]
  },
  {
   "cell_type": "code",
   "execution_count": 49,
   "metadata": {
    "ExecuteTime": {
     "end_time": "2020-03-27T13:26:30.810282Z",
     "start_time": "2020-03-27T13:26:30.586284Z"
    }
   },
   "outputs": [],
   "source": [
    "import pickle\n",
    "\n",
    "# Enregistrement du model\n",
    "with open('webapp/model/model.pkl', 'wb') as file:\n",
    "    pickle.dump(clf, file)\n",
    "    \n",
    "# Enregistrement de TFIDFVectorizer\n",
    "with open('webapp/model/vectorizer.pkl', 'wb') as file:\n",
    "    pickle.dump(vectorizer_X, file)\n",
    "    \n",
    "# Enregistrement de MultiLabelBinarizer\n",
    "with open('webapp/model/mlb.pkl', 'wb') as file:\n",
    "    pickle.dump(mlb, file)"
   ]
  },
  {
   "cell_type": "code",
   "execution_count": null,
   "metadata": {},
   "outputs": [],
   "source": []
  }
 ],
 "metadata": {
  "hide_input": false,
  "kernelspec": {
   "display_name": "Python 3",
   "language": "python",
   "name": "python3"
  },
  "language_info": {
   "codemirror_mode": {
    "name": "ipython",
    "version": 3
   },
   "file_extension": ".py",
   "mimetype": "text/x-python",
   "name": "python",
   "nbconvert_exporter": "python",
   "pygments_lexer": "ipython3",
   "version": "3.7.4"
  },
  "toc": {
   "base_numbering": 1,
   "nav_menu": {},
   "number_sections": false,
   "sideBar": true,
   "skip_h1_title": false,
   "title_cell": "Table of Contents",
   "title_sidebar": "Contents",
   "toc_cell": false,
   "toc_position": {},
   "toc_section_display": true,
   "toc_window_display": false
  },
  "varInspector": {
   "cols": {
    "lenName": 16,
    "lenType": 16,
    "lenVar": 40
   },
   "kernels_config": {
    "python": {
     "delete_cmd_postfix": "",
     "delete_cmd_prefix": "del ",
     "library": "var_list.py",
     "varRefreshCmd": "print(var_dic_list())"
    },
    "r": {
     "delete_cmd_postfix": ") ",
     "delete_cmd_prefix": "rm(",
     "library": "var_list.r",
     "varRefreshCmd": "cat(var_dic_list()) "
    }
   },
   "position": {
    "height": "283px",
    "left": "1536px",
    "right": "20px",
    "top": "240px",
    "width": "317px"
   },
   "types_to_exclude": [
    "module",
    "function",
    "builtin_function_or_method",
    "instance",
    "_Feature"
   ],
   "window_display": false
  }
 },
 "nbformat": 4,
 "nbformat_minor": 2
}

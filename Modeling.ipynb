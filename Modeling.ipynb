{
 "cells": [
  {
   "cell_type": "markdown",
   "metadata": {},
   "source": [
    "## 1. Import des librairies"
   ]
  },
  {
   "cell_type": "code",
   "execution_count": 148,
   "metadata": {
    "ExecuteTime": {
     "end_time": "2020-04-01T11:19:20.904667Z",
     "start_time": "2020-04-01T11:19:20.879667Z"
    }
   },
   "outputs": [],
   "source": [
    "from matplotlib import pyplot as plt\n",
    "import matplotlib.cm as cm\n",
    "import seaborn as sns\n",
    "import pandas as pd\n",
    "import numpy as np\n",
    "import nltk\n",
    "\n",
    "from sklearn.feature_extraction.text import TfidfVectorizer\n",
    "from sklearn.feature_extraction.text import CountVectorizer\n",
    "from sklearn.preprocessing import StandardScaler\n",
    "from sklearn.manifold import TSNE\n",
    "from sklearn.decomposition import PCA\n",
    "from sklearn.cluster import MiniBatchKMeans\n",
    "from sklearn.decomposition import LatentDirichletAllocation\n",
    "from sklearn.decomposition import NMF\n",
    "from sklearn.model_selection import train_test_split\n",
    "from sklearn.ensemble import RandomForestClassifier\n",
    "from sklearn.multiclass import OneVsRestClassifier\n",
    "from sklearn.linear_model import LogisticRegression\n",
    "from sklearn.preprocessing import MultiLabelBinarizer\n",
    "from sklearn.dummy import DummyClassifier\n",
    "from sklearn.linear_model import SGDClassifier\n",
    "from sklearn.naive_bayes import MultinomialNB\n",
    "from sklearn.svm import LinearSVC\n",
    "from sklearn.linear_model import Perceptron\n",
    "from sklearn.linear_model import PassiveAggressiveClassifier\n",
    "from sklearn.neural_network import MLPClassifier\n",
    "from sklearn import metrics\n",
    "from sklearn.model_selection import GridSearchCV\n",
    "\n",
    "sns.set_style(\"whitegrid\")\n",
    "%matplotlib inline\n",
    "\n",
    "import warnings\n",
    "warnings.filterwarnings(\"ignore\")"
   ]
  },
  {
   "cell_type": "markdown",
   "metadata": {},
   "source": [
    "## 2. Chargement des données"
   ]
  },
  {
   "cell_type": "code",
   "execution_count": 2,
   "metadata": {
    "ExecuteTime": {
     "end_time": "2020-04-01T10:09:50.849250Z",
     "start_time": "2020-04-01T10:09:50.767250Z"
    }
   },
   "outputs": [],
   "source": [
    "df = pd.read_csv(\"data/clean.csv\", index_col=[\"Unnamed: 0\"])"
   ]
  },
  {
   "cell_type": "code",
   "execution_count": 3,
   "metadata": {
    "ExecuteTime": {
     "end_time": "2020-04-01T10:09:50.870750Z",
     "start_time": "2020-04-01T10:09:50.862750Z"
    }
   },
   "outputs": [
    {
     "data": {
      "text/html": [
       "<div>\n",
       "<style scoped>\n",
       "    .dataframe tbody tr th:only-of-type {\n",
       "        vertical-align: middle;\n",
       "    }\n",
       "\n",
       "    .dataframe tbody tr th {\n",
       "        vertical-align: top;\n",
       "    }\n",
       "\n",
       "    .dataframe thead th {\n",
       "        text-align: right;\n",
       "    }\n",
       "</style>\n",
       "<table border=\"1\" class=\"dataframe\">\n",
       "  <thead>\n",
       "    <tr style=\"text-align: right;\">\n",
       "      <th></th>\n",
       "      <th>tags</th>\n",
       "      <th>document</th>\n",
       "    </tr>\n",
       "  </thead>\n",
       "  <tbody>\n",
       "    <tr>\n",
       "      <td>2</td>\n",
       "      <td>node.js</td>\n",
       "      <td>restart node upon change file For someone come...</td>\n",
       "    </tr>\n",
       "    <tr>\n",
       "      <td>3</td>\n",
       "      <td>html css</td>\n",
       "      <td>100 min height css layout What best way make e...</td>\n",
       "    </tr>\n",
       "    <tr>\n",
       "      <td>4</td>\n",
       "      <td>regex language-agnostic</td>\n",
       "      <td>stack overflow generate seofriendly urls What ...</td>\n",
       "    </tr>\n",
       "    <tr>\n",
       "      <td>5</td>\n",
       "      <td>java</td>\n",
       "      <td>get oslevel system information I currently bui...</td>\n",
       "    </tr>\n",
       "    <tr>\n",
       "      <td>6</td>\n",
       "      <td>security</td>\n",
       "      <td>disable browser ave password functionality One...</td>\n",
       "    </tr>\n",
       "    <tr>\n",
       "      <td>...</td>\n",
       "      <td>...</td>\n",
       "      <td>...</td>\n",
       "    </tr>\n",
       "    <tr>\n",
       "      <td>16368</td>\n",
       "      <td>oop</td>\n",
       "      <td>difference interface abstract class What exact...</td>\n",
       "    </tr>\n",
       "    <tr>\n",
       "      <td>16370</td>\n",
       "      <td>ios xcode</td>\n",
       "      <td>symbolicate crash log xcode Xcode 5 organizer ...</td>\n",
       "    </tr>\n",
       "    <tr>\n",
       "      <td>16371</td>\n",
       "      <td>java spring</td>\n",
       "      <td>spring boot multiple external configuration fi...</td>\n",
       "    </tr>\n",
       "    <tr>\n",
       "      <td>16372</td>\n",
       "      <td>java c++</td>\n",
       "      <td>java final vs c++ const The Java C programmers...</td>\n",
       "    </tr>\n",
       "    <tr>\n",
       "      <td>16373</td>\n",
       "      <td>android</td>\n",
       "      <td>contextstartforegroundservice call servicestar...</td>\n",
       "    </tr>\n",
       "  </tbody>\n",
       "</table>\n",
       "<p>14987 rows × 2 columns</p>\n",
       "</div>"
      ],
      "text/plain": [
       "                          tags  \\\n",
       "2                      node.js   \n",
       "3                     html css   \n",
       "4      regex language-agnostic   \n",
       "5                         java   \n",
       "6                     security   \n",
       "...                        ...   \n",
       "16368                      oop   \n",
       "16370                ios xcode   \n",
       "16371              java spring   \n",
       "16372                 java c++   \n",
       "16373                  android   \n",
       "\n",
       "                                                document  \n",
       "2      restart node upon change file For someone come...  \n",
       "3      100 min height css layout What best way make e...  \n",
       "4      stack overflow generate seofriendly urls What ...  \n",
       "5      get oslevel system information I currently bui...  \n",
       "6      disable browser ave password functionality One...  \n",
       "...                                                  ...  \n",
       "16368  difference interface abstract class What exact...  \n",
       "16370  symbolicate crash log xcode Xcode 5 organizer ...  \n",
       "16371  spring boot multiple external configuration fi...  \n",
       "16372  java final vs c++ const The Java C programmers...  \n",
       "16373  contextstartforegroundservice call servicestar...  \n",
       "\n",
       "[14987 rows x 2 columns]"
      ]
     },
     "execution_count": 3,
     "metadata": {},
     "output_type": "execute_result"
    }
   ],
   "source": [
    "df"
   ]
  },
  {
   "cell_type": "code",
   "execution_count": 4,
   "metadata": {
    "ExecuteTime": {
     "end_time": "2020-04-01T10:09:50.892250Z",
     "start_time": "2020-04-01T10:09:50.885250Z"
    }
   },
   "outputs": [],
   "source": [
    "df[\"tags\"] = df[\"tags\"].apply(lambda x: x.split())"
   ]
  },
  {
   "cell_type": "markdown",
   "metadata": {
    "ExecuteTime": {
     "end_time": "2020-03-26T11:07:49.156212Z",
     "start_time": "2020-03-26T11:07:49.153713Z"
    }
   },
   "source": [
    "## 3. Analyse non-supervisé"
   ]
  },
  {
   "cell_type": "markdown",
   "metadata": {},
   "source": [
    "### 3.1. Transformation texte en matrice TF-IDF"
   ]
  },
  {
   "cell_type": "code",
   "execution_count": 5,
   "metadata": {
    "ExecuteTime": {
     "end_time": "2020-04-01T10:09:51.817631Z",
     "start_time": "2020-04-01T10:09:51.807631Z"
    }
   },
   "outputs": [],
   "source": [
    "def find_optimal_cluster(data, max_k):\n",
    "    iters = range(1, max_k+1, 5)\n",
    "    sse = []\n",
    "    \n",
    "    for k in iters:\n",
    "        sse.append(MiniBatchKMeans(n_clusters=k, init_size=1024, batch_size=2048, random_state=20).fit(data).inertia_)\n",
    "        print('Fit {} clusters'.format(k))\n",
    "    fig, ax = plt.subplots(1,1, figsize=(15, 5))\n",
    "    ax.plot(iters, sse, marker='o')\n",
    "    ax.set_xlabel('Nombre de Clusters')\n",
    "    ax.set_xticks(iters)\n",
    "    ax.set_xticklabels(iters)\n",
    "    ax.set_ylabel('SSE')\n",
    "    ax.set_title(\"SSE par nombre de clusters\")\n",
    "    plt.tight_layout()\n",
    "    plt.show()\n",
    "    \n",
    "    \n",
    "def plot_tsne_pca(data, labels):\n",
    "    max_label = max(labels)\n",
    "    max_items = np.random.choice(range(data.shape[0]), size=3000, replace=False)\n",
    "    \n",
    "    pca = PCA(n_components=2).fit_transform(data[max_items,:].todense())\n",
    "    tsne = TSNE().fit_transform(PCA(n_components=50).fit_transform(data[max_items,:].todense()))\n",
    "    \n",
    "    \n",
    "    idx = np.random.choice(range(pca.shape[0]), size=300, replace=False)\n",
    "    label_subset = labels[max_items]\n",
    "    label_subset = [cm.hsv(i/max_label) for i in label_subset[idx]]\n",
    "    \n",
    "    fig, ax = plt.subplots(1, 2, figsize=(15, 5))\n",
    "    \n",
    "    ax[0].scatter(pca[idx, 0], pca[idx, 1], c=label_subset)\n",
    "    ax[0].set_title('PCA Cluster Plot')\n",
    "    \n",
    "    ax[1].scatter(tsne[idx, 0], tsne[idx, 1], c=label_subset)\n",
    "    ax[1].set_title('TSNE Cluster Plot')\n",
    "    \n",
    "def get_top_keywords(data, clusters, labels, n_terms):\n",
    "    temp_df = pd.DataFrame(data.todense()).groupby(clusters).mean()\n",
    "    \n",
    "    for i, r in temp_df.iterrows():\n",
    "        print('\\nCluster {}'.format(i))\n",
    "        print(','.join([labels[t] for t in np.argsort(r)[-n_terms:]]))"
   ]
  },
  {
   "cell_type": "markdown",
   "metadata": {},
   "source": [
    "### 3.2. Matrice monogramme"
   ]
  },
  {
   "cell_type": "code",
   "execution_count": 6,
   "metadata": {
    "ExecuteTime": {
     "end_time": "2020-04-01T10:09:52.535270Z",
     "start_time": "2020-04-01T10:09:52.532768Z"
    }
   },
   "outputs": [],
   "source": [
    "tf_idf_vectorizer_mono = TfidfVectorizer(ngram_range=(1,1))"
   ]
  },
  {
   "cell_type": "code",
   "execution_count": 7,
   "metadata": {
    "ExecuteTime": {
     "end_time": "2020-04-01T10:09:53.650536Z",
     "start_time": "2020-04-01T10:09:52.959537Z"
    }
   },
   "outputs": [],
   "source": [
    "tf_idf_matrix_mono = tf_idf_vectorizer_mono.fit_transform(df[\"document\"].values)"
   ]
  },
  {
   "cell_type": "code",
   "execution_count": 8,
   "metadata": {
    "ExecuteTime": {
     "end_time": "2020-04-01T10:09:53.688538Z",
     "start_time": "2020-04-01T10:09:53.685037Z"
    }
   },
   "outputs": [
    {
     "data": {
      "text/plain": [
       "(14987, 71421)"
      ]
     },
     "execution_count": 8,
     "metadata": {},
     "output_type": "execute_result"
    }
   ],
   "source": [
    "tf_idf_matrix_mono.shape"
   ]
  },
  {
   "cell_type": "code",
   "execution_count": 9,
   "metadata": {
    "ExecuteTime": {
     "end_time": "2020-04-01T10:13:18.900038Z",
     "start_time": "2020-04-01T10:09:53.734037Z"
    }
   },
   "outputs": [
    {
     "name": "stdout",
     "output_type": "stream",
     "text": [
      "Fit 1 clusters\n",
      "Fit 6 clusters\n",
      "Fit 11 clusters\n",
      "Fit 16 clusters\n",
      "Fit 21 clusters\n",
      "Fit 26 clusters\n",
      "Fit 31 clusters\n",
      "Fit 36 clusters\n",
      "Fit 41 clusters\n",
      "Fit 46 clusters\n",
      "Fit 51 clusters\n",
      "Fit 56 clusters\n",
      "Fit 61 clusters\n",
      "Fit 66 clusters\n",
      "Fit 71 clusters\n",
      "Fit 76 clusters\n",
      "Fit 81 clusters\n",
      "Fit 86 clusters\n",
      "Fit 91 clusters\n",
      "Fit 96 clusters\n",
      "Fit 101 clusters\n",
      "Fit 106 clusters\n",
      "Fit 111 clusters\n",
      "Fit 116 clusters\n",
      "Fit 121 clusters\n",
      "Fit 126 clusters\n",
      "Fit 131 clusters\n",
      "Fit 136 clusters\n",
      "Fit 141 clusters\n",
      "Fit 146 clusters\n",
      "Fit 151 clusters\n",
      "Fit 156 clusters\n",
      "Fit 161 clusters\n",
      "Fit 166 clusters\n",
      "Fit 171 clusters\n",
      "Fit 176 clusters\n",
      "Fit 181 clusters\n",
      "Fit 186 clusters\n",
      "Fit 191 clusters\n",
      "Fit 196 clusters\n"
     ]
    },
    {
     "data": {
      "image/png": "[encoded data removed]",
      "text/plain": [
       "<Figure size 1080x360 with 1 Axes>"
      ]
     },
     "metadata": {
      "needs_background": "light"
     },
     "output_type": "display_data"
    }
   ],
   "source": [
    "find_optimal_cluster(tf_idf_matrix_mono, 200)"
   ]
  },
  {
   "cell_type": "code",
   "execution_count": 10,
   "metadata": {
    "ExecuteTime": {
     "end_time": "2020-04-01T10:13:26.482536Z",
     "start_time": "2020-04-01T10:13:18.934538Z"
    }
   },
   "outputs": [],
   "source": [
    "clusters = MiniBatchKMeans(n_clusters=136, init_size=1024, batch_size=2048, random_state=20).fit_predict(tf_idf_matrix_mono)"
   ]
  },
  {
   "cell_type": "code",
   "execution_count": 11,
   "metadata": {
    "ExecuteTime": {
     "end_time": "2020-04-01T10:13:59.816038Z",
     "start_time": "2020-04-01T10:13:26.515537Z"
    }
   },
   "outputs": [
    {
     "data": {
      "image/png": "[encoded data removed]",
      "text/plain": [
       "<Figure size 1080x360 with 2 Axes>"
      ]
     },
     "metadata": {
      "needs_background": "light"
     },
     "output_type": "display_data"
    }
   ],
   "source": [
    "plot_tsne_pca(tf_idf_matrix_mono, clusters)"
   ]
  },
  {
   "cell_type": "code",
   "execution_count": 12,
   "metadata": {
    "ExecuteTime": {
     "end_time": "2020-04-01T10:14:05.473037Z",
     "start_time": "2020-04-01T10:13:59.850538Z"
    }
   },
   "outputs": [
    {
     "name": "stdout",
     "output_type": "stream",
     "text": [
      "\n",
      "Cluster 0\n",
      "versa,two,stage,stream,snippet,convert,output,thanks,outputstream,inputstream\n",
      "\n",
      "Cluster 1\n",
      "checkbox,string,object,get,use,value,id,class,type,name\n",
      "\n",
      "Cluster 2\n",
      "outputdirectory,move,dircreate,pathtomaindir,existence,directory,setwd,filepath,maindir,subdir\n",
      "\n",
      "Cluster 3\n",
      "necessary,string,loop,variables,dangerousincorrect,declare,outside,condition,str,calculatestr\n",
      "\n",
      "Cluster 4\n",
      "result,row,get,where,order,from,mysql,select,sql,query\n",
      "\n",
      "Cluster 5\n",
      "canvas,find,check,javascript,attribute,remove,class,dom,jquery,element\n",
      "\n",
      "Cluster 6\n",
      "executable,source,file,gcc,program,comandroidsupport,java,project,code,compile\n",
      "\n",
      "Cluster 7\n",
      "use,pull,change,clone,remote,commit,push,file,repository,git\n",
      "\n",
      "Cluster 8\n",
      "run,how,app,use,sdk,device,emulator,studio,application,android\n",
      "\n",
      "Cluster 9\n",
      "exit,python,how,process,unix,run,bash,command,script,shell\n",
      "\n",
      "Cluster 10\n",
      "require,how,express,run,file,server,use,nodejs,js,node\n",
      "\n",
      "Cluster 11\n",
      "selector,obj,potentially,typeof,check,var,oselector,jquery,dostuff,object\n",
      "\n",
      "Cluster 12\n",
      "prettyinformative,anything,object,debug,methodsfields,javascript,equivalent,printr,php,vardump\n",
      "\n",
      "Cluster 13\n",
      "how,full,encode,use,parameters,page,javascript,current,get,url\n",
      "\n",
      "Cluster 14\n",
      "alone,pain,significantly,justify,benchmark,gap,program,python,convert,cc\n",
      "\n",
      "Cluster 15\n",
      "call,data,ajax,code,chrome,file,page,browser,clear,cache\n",
      "\n",
      "Cluster 16\n",
      "computer,set,normally,easiest,32bit,run,wamp,service,windows,mongodb\n",
      "\n",
      "Cluster 17\n",
      "message,head,revert,push,repository,branch,file,change,git,commit\n",
      "\n",
      "Cluster 18\n",
      "str,use,value,split,like,how,way,java,convert,string\n",
      "\n",
      "Cluster 19\n",
      "query,2005,2008,select,use,join,table,database,server,sql\n",
      "\n",
      "Cluster 20\n",
      "is,apply,file,background,display,image,jquery,use,style,css\n",
      "\n",
      "Cluster 21\n",
      "action,android,text,press,radio,page,input,click,back,button\n",
      "\n",
      "Cluster 22\n",
      "string,render,file,parse,attribute,tag,javascript,use,page,html\n",
      "\n",
      "Cluster 23\n",
      "what,differences,junit,nunit,tool,unit,integration,regression,smoke,test\n",
      "\n",
      "Cluster 24\n",
      "php,connect,command,server,error,use,password,table,database,mysql\n",
      "\n",
      "Cluster 25\n",
      "sudo,command,dockerfile,ip,host,containers,image,run,container,docker\n",
      "\n",
      "Cluster 26\n",
      "brew,config,command,v424,terminal,v01113,npm,install,prefix,nvm\n",
      "\n",
      "Cluster 27\n",
      "use,create,set,mvc,controllers,storyboard,uiviewcontroller,ios,controller,view\n",
      "\n",
      "Cluster 28\n",
      "error,xmx1400m,allocate,megabytes,windows,1200,1400,xp,java,machine\n",
      "\n",
      "Cluster 29\n",
      "avoid,py,python,interpreter,pytopyc,pyfilepath,pycfilepath,generate,file,pyc\n",
      "\n",
      "Cluster 30\n",
      "string,undefined,varchar,table,not,return,value,check,empty,null\n",
      "\n",
      "Cluster 31\n",
      "like,would,debug,trace,line,console,message,use,file,log\n",
      "\n",
      "Cluster 32\n",
      "element,100,css,content,center,id,width,class,height,div\n",
      "\n",
      "Cluster 33\n",
      "usrbinenv,ppa,error,chrisleanodejs,ubuntu,npm,nodejs,install,aptget,sudo\n",
      "\n",
      "Cluster 34\n",
      "special,javascript,how,newline,match,nonascii,remove,replace,string,character\n",
      "\n",
      "Cluster 35\n",
      "blur,intervals,mydiv,etc,jquery,htmltext,contentchanged,detect,change,div\n",
      "\n",
      "Cluster 36\n",
      "hax,haxm,emulator,x86,intel,hardware,error,emulation,instal,acceleration\n",
      "\n",
      "Cluster 37\n",
      "method,methods,interfaces,public,factory,implement,java,class,abstract,interface\n",
      "\n",
      "Cluster 38\n",
      "primarily,manipulate,javascriptjquery,tradeoffs,abilities,momentum,vmlie,jquery,raphael,svg\n",
      "\n",
      "Cluster 39\n",
      "row,structure,dataframe,json,frame,columns,use,store,database,data\n",
      "\n",
      "Cluster 40\n",
      "whereas,value,splice,removeitem,eleven,array,item,remove,seven,ary\n",
      "\n",
      "Cluster 41\n",
      "file,program,way,what,windows,line,run,code,use,python\n",
      "\n",
      "Cluster 42\n",
      "try,virtualenv,python,version,error,instal,gem,package,pip,install\n",
      "\n",
      "Cluster 43\n",
      "how,find,python,tell,minutes,time,object,two,difference,datetime\n",
      "\n",
      "Cluster 44\n",
      "value,elements,way,tuples,use,items,sort,item,python,list\n",
      "\n",
      "Cluster 45\n",
      "unsigned,total,iphoneipad,nsfilemanager,atdict,detect,space,availablefree,freespace,disk\n",
      "\n",
      "Cluster 46\n",
      "change,repository,local,push,merge,commit,remote,master,git,branch\n",
      "\n",
      "Cluster 47\n",
      "use,set,dropdown,item,get,list,jquery,option,value,select\n",
      "\n",
      "Cluster 48\n",
      "ssh,project,clone,repo,pull,push,fork,git,repository,github\n",
      "\n",
      "Cluster 49\n",
      "get,set,new,string,int,private,void,constructor,class,public\n",
      "\n",
      "Cluster 50\n",
      "isset,function,singleton,database,host127001,dbnametoto,pdo,somefunction,self,db\n",
      "\n",
      "Cluster 51\n",
      "button,name,text,jquery,value,field,type,submit,form,input\n",
      "\n",
      "Cluster 52\n",
      "how,want,way,open,folder,command,read,use,line,file\n",
      "\n",
      "Cluster 53\n",
      "new,bundle,void,savedinstancestate,android,override,viewpager,public,activity,fragment\n",
      "\n",
      "Cluster 54\n",
      "command,use,build,code,solution,2010,file,project,studio,visual\n",
      "\n",
      "Cluster 55\n",
      "addsd,a1,d1,int,c1,b1,movsd,ptr,xmm0,mmword\n",
      "\n",
      "Cluster 56\n",
      "way,use,properties,value,property,var,class,json,javascript,object\n",
      "\n",
      "Cluster 57\n",
      "statement,way,line,console,use,page,hello,output,python,print\n",
      "\n",
      "Cluster 58\n",
      "belowunder,aboveover,ydimensions,draw,combine,define,button,image,imagebutton,text\n",
      "\n",
      "Cluster 59\n",
      "menu,gui,72,10,consolas,guifontconsolas,vimrc,set,gvim,font\n",
      "\n",
      "Cluster 60\n",
      "what,primitive,merely,interpolate,interpolation,vs,difference,put,cout,printf\n",
      "\n",
      "Cluster 61\n",
      "unsigned,argv,use,main,void,what,difference,int,char,const\n",
      "\n",
      "Cluster 62\n",
      "back,dialog,screen,application,call,activities,context,intent,android,activity\n",
      "\n",
      "Cluster 63\n",
      "href,string,display,vs,linka,unescape,unescaped,xhtmlsafe,htmlsafe,raw\n",
      "\n",
      "Cluster 64\n",
      "font,want,uitextview,way,string,use,file,uilabel,line,text\n",
      "\n",
      "Cluster 65\n",
      "define,java,global,command,use,javahome,set,variable,environment,variables\n",
      "\n",
      "Cluster 66\n",
      "use,null,id,sed,select,like,row,table,mysql,124\n",
      "\n",
      "Cluster 67\n",
      "programming,manipulate,edition,nontrivial,pmessage,amessage,differences,pointers,array,char\n",
      "\n",
      "Cluster 68\n",
      "set,databasetable,mdbinsert,insert,record,datetime,contentvalues,initialvaluesput,initialvalues,datecreated\n",
      "\n",
      "Cluster 69\n",
      "line,execute,python,file,src,php,command,run,bash,script\n",
      "\n",
      "Cluster 70\n",
      "stringparam,evaluate,nokogiri,xmllint,xml,dyn,elementattribute,filenamexml,xsl,xpath\n",
      "\n",
      "Cluster 71\n",
      "spot,finger,uiscrollview,downwards,httpwwwiphonedevsdkcomforumiphonesdkdevelopment996turnoffscrollingbouncesuiwebviewhtml,httpforumsmacrumorscomshowthreadphpt619534,vertically,uiwebview,stop,bounce\n",
      "\n",
      "Cluster 72\n",
      "use,color,change,hide,action,progress,status,navigation,foo,bar\n",
      "\n",
      "Cluster 73\n",
      "get,how,path,subdirectories,python,command,find,current,file,directory\n",
      "\n",
      "Cluster 74\n",
      "get,how,current,convert,days,datetime,time,format,javascript,date\n",
      "\n",
      "Cluster 75\n",
      "way,work,would,java,get,like,difference,code,what,use\n",
      "\n",
      "Cluster 76\n",
      "visualization,networkx,interactiveness,graphtool,python,graph,plot,interactive,2d,d3js\n",
      "\n",
      "Cluster 77\n",
      "return,execute,def,self,use,override,methods,call,class,method\n",
      "\n",
      "Cluster 78\n",
      "django,modelsmodel,31jan2011,fieldsdatefield,autonowfalse,1jan2011,object,range,filter,date\n",
      "\n",
      "Cluster 79\n",
      "screen,run,android,device,user,use,application,ios,iphone,app\n",
      "\n",
      "Cluster 80\n",
      "page,appstore,app,redirect,webpage,myapp,url,application,instal,iphone\n",
      "\n",
      "Cluster 81\n",
      "copy,mode,like,cursor,end,paste,command,file,line,vim\n",
      "\n",
      "Cluster 82\n",
      "get,available,box,plan,server,vbnet,combo,sql,list,databases\n",
      "\n",
      "Cluster 83\n",
      "ios,tvos,perform,apple,11,xcode,tv,4k,debug,wireless\n",
      "\n",
      "Cluster 84\n",
      "project,unsubmodule,update,commit,branch,path,repo,repository,git,submodule\n",
      "\n",
      "Cluster 85\n",
      "trust,bypass,invalid,40,errors,ignore,apache,ssl,httpclient,certificate\n",
      "\n",
      "Cluster 86\n",
      "team,cool,central,150,git,inadvertently,thankfully,delete,branch,prefix\n",
      "\n",
      "Cluster 87\n",
      "build,code,app,objectivec,project,ios,use,simulator,swift,xcode\n",
      "\n",
      "Cluster 88\n",
      "name,insert,query,mysql,sql,select,column,row,database,table\n",
      "\n",
      "Cluster 89\n",
      "wait,google,ready,document,image,ajax,use,page,jquery,load\n",
      "\n",
      "Cluster 90\n",
      "30,frame,corner,calayer,topright,topleft,uibezierpath,layer,cornerradius,uiview\n",
      "\n",
      "Cluster 91\n",
      "context,method,public,string,return,getclassname,myclass,static,class,name\n",
      "\n",
      "Cluster 92\n",
      "gulp,module,package,modules,instal,packagejson,node,err,install,npm\n",
      "\n",
      "Cluster 93\n",
      "specify,integer,integers,javascript,how,int,range,number,generate,random\n",
      "\n",
      "Cluster 94\n",
      "amp,control,requirements,add,button,action,uipicker,uipickerview,sheet,uitoolbar\n",
      "\n",
      "Cluster 95\n",
      "elements,like,var,way,numpy,convert,object,value,javascript,array\n",
      "\n",
      "Cluster 96\n",
      "include,much,inheritance,template,bodyhtml,htmlbody,wrapper,h1welcomeh1,basehtml,jsp\n",
      "\n",
      "Cluster 97\n",
      "application,app,require,ask,miss,javanetsocketexception,android,internet,marshmallow,permission\n",
      "\n",
      "Cluster 98\n",
      "dependency,intellij,use,file,java,jar,build,maven,project,eclipse\n",
      "\n",
      "Cluster 99\n",
      "use,project,class,run,methods,junit,code,write,unit,test\n",
      "\n",
      "Cluster 100\n",
      "viewforheaderinsection,style,unexplained,top,tableviewcontentinsetadjustmentbehavior,pad,35,uitableview,ios7,uitableviewstylegrouped\n",
      "\n",
      "Cluster 101\n",
      "how,the,string,content,variable,alert,javascript,format,object,display\n",
      "\n",
      "Cluster 102\n",
      "press,way,use,dict,foreign,table,primary,value,dictionary,key\n",
      "\n",
      "Cluster 103\n",
      "find,paths,bash,get,directory,full,absolute,relative,file,path\n",
      "\n",
      "Cluster 104\n"
     ]
    },
    {
     "name": "stdout",
     "output_type": "stream",
     "text": [
      "array,continue,var,something,recursion,use,break,iteration,foreach,loop\n",
      "\n",
      "Cluster 105\n",
      "server,web,api,get,response,send,rest,post,http,request\n",
      "\n",
      "Cluster 106\n",
      "img,background,display,file,bitmap,size,save,use,resize,image\n",
      "\n",
      "Cluster 107\n",
      "lock,pool,code,main,java,use,run,task,process,thread\n",
      "\n",
      "Cluster 108\n",
      "think,pointer,nest,function,lambda,tool,closure,language,program,functional\n",
      "\n",
      "Cluster 109\n",
      "assume,vertical,curl,animation,vertically,cut,transition,uiviewanimationtransitionflipfromright,uiview,flip\n",
      "\n",
      "Cluster 110\n",
      "mypropertynamelocalized,resourcesmypropertynamelocalized,propertygrid,type,resource,namespace,localization,myproperty,strongly,displaynameattribute\n",
      "\n",
      "Cluster 111\n",
      "mergetool,open,meld,collison,merge,finally,branch,base,local,remote\n",
      "\n",
      "Cluster 112\n",
      "width,nonnative,definition,myclass,backgroundimage,foosvg,css,scale,inline,svg\n",
      "\n",
      "Cluster 113\n",
      "tablename,server,table,newname,navicat,oldname,2008,sql,column,rename\n",
      "\n",
      "Cluster 114\n",
      "customize,android,set,transparent,red,white,text,change,background,color\n",
      "\n",
      "Cluster 115\n",
      "button,textview,id,fillparent,linearlayout,matchparent,wrapcontent,layoutwidth,layoutheight,android\n",
      "\n",
      "Cluster 116\n",
      "full,maximum,reach,queue,method,saturate,block,rejectedexecutionhandler,submit,threadpoolexecutor\n",
      "\n",
      "Cluster 117\n",
      "girls,whereami,def,method,occur,due,define,foo,rails,runtime\n",
      "\n",
      "Cluster 118\n",
      "around,uiview,input,button,create,place,decimal,corner,border,round\n",
      "\n",
      "Cluster 119\n",
      "must,browsers,img,csshtml,break,errorsrc,hide,src,icon,image\n",
      "\n",
      "Cluster 120\n",
      "java,code,try,handle,error,differences,catch,exceptions,throw,exception\n",
      "\n",
      "Cluster 121\n",
      "herb,practice,class,book,struct,technique,idiom,private,pimpl,ximpl\n",
      "\n",
      "Cluster 122\n",
      "jquery,callback,code,scope,use,javascript,call,var,return,function\n",
      "\n",
      "Cluster 123\n",
      "close,page,link,function,jquery,twitter,event,bootstrap,modal,click\n",
      "\n",
      "Cluster 124\n",
      "class,java,type,use,public,string,enums,value,xml,enum\n",
      "\n",
      "Cluster 125\n",
      "is,use,js,module,node,nodejs,validate,securely,json,parse\n",
      "\n",
      "Cluster 126\n",
      "variables,what,private,method,final,public,methods,java,class,static\n",
      "\n",
      "Cluster 127\n",
      "script,anything,within,define,turn,phpini,file,errors,log,warn\n",
      "\n",
      "Cluster 128\n",
      "int,difference,constructor,typedef,heap,memory,function,class,struct,virtual\n",
      "\n",
      "Cluster 129\n",
      "docs,dev,stag,deploy2dev,fabfile,def,host,deploy,fabric,envhosts\n",
      "\n",
      "Cluster 130\n",
      "bootstrap,menu,active,lia,span,div,href,ul,li,class\n",
      "\n",
      "Cluster 131\n",
      "world,url,script,hello,tmp,bash,curl,timestamp,tmpmyscript,httpmywebsitecommyscripttxt\n",
      "\n",
      "Cluster 132\n",
      "float,value,vector,random,sort,use,integer,std,int,number\n",
      "\n",
      "Cluster 133\n",
      "div,content,user,recyclerview,uiscrollview,view,top,bottom,page,scroll\n",
      "\n",
      "Cluster 134\n",
      "way,recommend,deprecate,line,hi,universal,rn,print,regarding,unixspecific\n",
      "\n",
      "Cluster 135\n",
      "fail,webservice,error,nsurlconnection,nsurlrequest,cfnetwork,9824,sslhandshake,urlrequest,ios\n"
     ]
    }
   ],
   "source": [
    "get_top_keywords(tf_idf_matrix_mono, clusters, tf_idf_vectorizer_mono.get_feature_names(), 10)"
   ]
  },
  {
   "cell_type": "markdown",
   "metadata": {},
   "source": [
    "### 3.3. Matrice bigramme"
   ]
  },
  {
   "cell_type": "code",
   "execution_count": 13,
   "metadata": {
    "ExecuteTime": {
     "end_time": "2020-04-01T10:14:05.517539Z",
     "start_time": "2020-04-01T10:14:05.515038Z"
    }
   },
   "outputs": [],
   "source": [
    "tf_idf_vectorizer_bi = TfidfVectorizer(ngram_range=(2,2))"
   ]
  },
  {
   "cell_type": "code",
   "execution_count": 14,
   "metadata": {
    "ExecuteTime": {
     "end_time": "2020-04-01T10:14:08.145913Z",
     "start_time": "2020-04-01T10:14:05.548038Z"
    }
   },
   "outputs": [],
   "source": [
    "tf_idf_matrix_bi = tf_idf_vectorizer_bi.fit_transform(df[\"document\"].values)"
   ]
  },
  {
   "cell_type": "code",
   "execution_count": 15,
   "metadata": {
    "ExecuteTime": {
     "end_time": "2020-04-01T10:14:08.203038Z",
     "start_time": "2020-04-01T10:14:08.198537Z"
    }
   },
   "outputs": [
    {
     "data": {
      "text/plain": [
       "(14987, 536365)"
      ]
     },
     "execution_count": 15,
     "metadata": {},
     "output_type": "execute_result"
    }
   ],
   "source": [
    "tf_idf_matrix_bi.shape"
   ]
  },
  {
   "cell_type": "code",
   "execution_count": 16,
   "metadata": {
    "ExecuteTime": {
     "end_time": "2020-04-01T10:19:38.211037Z",
     "start_time": "2020-04-01T10:14:08.254038Z"
    }
   },
   "outputs": [
    {
     "name": "stdout",
     "output_type": "stream",
     "text": [
      "Fit 1 clusters\n",
      "Fit 6 clusters\n",
      "Fit 11 clusters\n",
      "Fit 16 clusters\n",
      "Fit 21 clusters\n",
      "Fit 26 clusters\n",
      "Fit 31 clusters\n",
      "Fit 36 clusters\n",
      "Fit 41 clusters\n",
      "Fit 46 clusters\n",
      "Fit 51 clusters\n",
      "Fit 56 clusters\n",
      "Fit 61 clusters\n",
      "Fit 66 clusters\n",
      "Fit 71 clusters\n",
      "Fit 76 clusters\n",
      "Fit 81 clusters\n",
      "Fit 86 clusters\n",
      "Fit 91 clusters\n",
      "Fit 96 clusters\n",
      "Fit 101 clusters\n",
      "Fit 106 clusters\n",
      "Fit 111 clusters\n",
      "Fit 116 clusters\n",
      "Fit 121 clusters\n",
      "Fit 126 clusters\n",
      "Fit 131 clusters\n",
      "Fit 136 clusters\n",
      "Fit 141 clusters\n",
      "Fit 146 clusters\n",
      "Fit 151 clusters\n",
      "Fit 156 clusters\n",
      "Fit 161 clusters\n",
      "Fit 166 clusters\n",
      "Fit 171 clusters\n",
      "Fit 176 clusters\n",
      "Fit 181 clusters\n",
      "Fit 186 clusters\n",
      "Fit 191 clusters\n",
      "Fit 196 clusters\n"
     ]
    },
    {
     "data": {
      "image/png": "[encoded data removed]",
      "text/plain": [
       "<Figure size 1080x360 with 1 Axes>"
      ]
     },
     "metadata": {
      "needs_background": "light"
     },
     "output_type": "display_data"
    }
   ],
   "source": [
    "find_optimal_cluster(tf_idf_matrix_bi, 200)"
   ]
  },
  {
   "cell_type": "code",
   "execution_count": 17,
   "metadata": {
    "ExecuteTime": {
     "end_time": "2020-04-01T10:19:53.892537Z",
     "start_time": "2020-04-01T10:19:38.263036Z"
    }
   },
   "outputs": [],
   "source": [
    "clusters = MiniBatchKMeans(n_clusters=186, init_size=1024, batch_size=2048, random_state=20).fit_predict(tf_idf_matrix_bi)"
   ]
  },
  {
   "cell_type": "code",
   "execution_count": 18,
   "metadata": {
    "ExecuteTime": {
     "end_time": "2020-04-01T10:22:02.970038Z",
     "start_time": "2020-04-01T10:19:53.946037Z"
    }
   },
   "outputs": [
    {
     "data": {
      "image/png": "[encoded data removed]",
      "text/plain": [
       "<Figure size 1080x360 with 2 Axes>"
      ]
     },
     "metadata": {
      "needs_background": "light"
     },
     "output_type": "display_data"
    }
   ],
   "source": [
    "plot_tsne_pca(tf_idf_matrix_bi, clusters)"
   ]
  },
  {
   "cell_type": "code",
   "execution_count": 19,
   "metadata": {
    "ExecuteTime": {
     "end_time": "2020-04-01T10:23:44.463039Z",
     "start_time": "2020-04-01T10:22:03.083036Z"
    }
   },
   "outputs": [
    {
     "name": "stdout",
     "output_type": "stream",
     "text": [
      "\n",
      "Cluster 0\n",
      "apple work,interact 3rd,trick longer,cookie iframe,close loophole,get 3rd,party cookies,cookies safari,use trick,3rd party\n",
      "\n",
      "Cluster 1\n",
      "casesensitive however,include child,elementgetelementbyxpath return,elementtext property,equal divouter,parent test,div class,selenium webdriver,divouter also,my button\n",
      "\n",
      "Cluster 2\n",
      "pay one,concensus however,work wont,successful even,mind always,wait fall,deeper try,collections still,later cost,kind know\n",
      "\n",
      "Cluster 3\n",
      "array var,item items,item javascript,items array,var items,5346 how,523345233431 5346,array 523345233431,get random,random item\n",
      "\n",
      "Cluster 4\n",
      "eventid 120,set eventid,copy need,copy select,field large,155 how,eventid 155,table eventid,want copy,copy row\n",
      "\n",
      "Cluster 5\n",
      "reason pseudocode,null bad,variable objectmethod,hear voice,pseudocode variable,value methods,voice say,objectmethod null,return null,bad design\n",
      "\n",
      "Cluster 6\n",
      "justin usable,purely hypothetically,graph are,answer justin,slow solution,isare fastest,maze follow,one way,the second,solve maze\n",
      "\n",
      "Cluster 7\n",
      "statements 1000,switch syntax,either statements,reason obviously,switch statement,use switch,1000 amp,amp 2000,stuff break,case 1000\n",
      "\n",
      "Cluster 8\n",
      "scroll fluid,stay always,fluid twitter,fix sidebar,always fix,navigation stay,bootstrap 20,make sidebar,navigation fluid,sidebar navigation\n",
      "\n",
      "Cluster 9\n",
      "analogy wrong,invoke postit,instead stick,tag stick,commit create,call v01,stick invoke,postit note,commit master,recent commit\n",
      "\n",
      "Cluster 10\n",
      "long virtual,can vtable,effect long,function vtable,vtable exist,vtable implement,vtable modify,overwrite effect,least one,virtual function\n",
      "\n",
      "Cluster 11\n",
      "code sublime,python ide,ide sublime,set complete,within editor,complete python,python code,run python,text want,sublime text\n",
      "\n",
      "Cluster 12\n",
      "lollipop in,bug os,fwiw manifest,manifest contain,text correctly,40 ie,compatibility use,tide now,tablet lollipop,button text\n",
      "\n",
      "Cluster 13\n",
      "different redis,api easy,mongodb development,much hard,api atomic,pick mongodb,api totally,want use,redis mongodb,when pick\n",
      "\n",
      "Cluster 14\n",
      "2mb oom,byte allocation,allocate 23970828,free bytes,androidgraphicsbitmapcreatebitmap bitmapjava,androidviewviewlayout viewjava,androidviewviewgrouplayout viewgroupjava,viewjava 15671,viewgroupjava 5038,15671 androidviewviewgrouplayout\n",
      "\n",
      "Cluster 15\n",
      "active users,9c 75,d9 46,previous version,fingerprint sha1,version upload,apk must,must sign,sign certificate,certificate previous\n",
      "\n",
      "Cluster 16\n",
      "autonowfalse now,1jan2011 31jan2011,date fieldsdatefield,modelsmodel date,date 1jan2011,fieldsdatefield autonowfalse,range django,date range,filter object,object date\n",
      "\n",
      "Cluster 17\n",
      "flaky looking,unable overcome,gwt gwtext,additional feedback,looking additional,beginningmiddle project,feedback items,style general,choose implement,use gwt\n",
      "\n",
      "Cluster 18\n",
      "use tojson,infoaddress itemphone,data sendinfo,response controller,public personmodel,personsheets sendinfo,itemname infoname,add list,public string,val var\n",
      "\n",
      "Cluster 19\n",
      "probably json,javascript doubt,file fiddle,probably via,app that,download result,attempt highlight,fiddle webgl,file memory,parse file\n",
      "\n",
      "Cluster 20\n",
      "params id,format 124,def show,respondto 124,124 formathtml,id respondto,formathtml formatjson,userfind params,user userfind,render json\n",
      "\n",
      "Cluster 21\n",
      "check box,symbols architecture,undefined symbols,i386 objcclass,skpsmtpmessage reference,objcclass skpsmtpmessage,architecture i386,reference confirmcontroller,confirmcontroller sendemail,sendemail confirmcontrollero\n",
      "\n",
      "Cluster 22\n",
      "neuter somehow,seem may,inadvertently load,1819 hy000,requirements would,change validatepasswordlength,abcd error,password for,mysql set,password validation\n",
      "\n",
      "Cluster 23\n",
      "string for,string does,does swift,let result,trim result,abc trim,method string,swift trim,result abc,trim method\n",
      "\n",
      "Cluster 24\n",
      "arrive comet,comet concept,within iis,implement gmaillike,possible iis,matter require,this scale,inside browser,concept however,implementation comet\n",
      "\n",
      "Cluster 25\n",
      "node js,use something,would one,use node,js how,one bulk,like httpsgithubcomfelixgenodemysql,mysql use,bulk insert,insert mysql\n",
      "\n",
      "Cluster 26\n",
      "anyway variations,15 2010,singleline result,insist report,0201 common,disable0321 disablec321,22 56,disablec0321 pylint,like disable0321,0211 matter\n",
      "\n",
      "Cluster 27\n",
      "gb none,ago 3251,60afe4036d97 delete,mb try,docker image,sudo docker,remove one,alexalexvps sudo,days ago,none none\n",
      "\n",
      "Cluster 28\n",
      "module serverlogin,use python,username password,send email,email gmail,support server,extension support,auth extension,smtp auth,serverlogin username\n",
      "\n",
      "Cluster 29\n",
      "case hard,experimental code,debug experimental,away git,reverse would,code stash,reverse apply,work copy,git stash,stash apply\n",
      "\n",
      "Cluster 30\n",
      "things aware,never visible,regexpsingleline check,practice eg,generating stack,material suggest,process though,bad practice,print stack,stack trace\n",
      "\n",
      "Cluster 31\n",
      "xcode 40,framework coregraphics,armappledarwin10g421 usersyveswheelerlibrarydeveloperxcodederiveddataiparcelfkeqjcjcbbhjwhdssjptkdxzzzxhbuildproductsdebugiphoneoslibthree20uia,40 longer,linker error,macho linker,apple macho,file directory,no file,directory armappledarwin10g421\n",
      "\n",
      "Cluster 32\n",
      "ng include,viewssidepanelhtml nginclude,src pathfilehtml,syntax nginclude,nginclude viewssidepanelhtml,viewssidepanelhtml div,pathfilehtml div,src viewssidepanelhtml,nginclude src,div nginclude\n",
      "\n",
      "Cluster 33\n",
      "access menu,recognize uitableview,print quick,uitableviewcell print,menu did,already particularly,gesture recognize,press uitableviewcell,particularly gesture,long press\n",
      "\n",
      "Cluster 34\n",
      "regardless axis,place visuals,gridarrange ncol1,two graph,visuals opposite,geombar coordflip,co2 aes,opposite corner,play widths,ggplot co2\n",
      "\n",
      "Cluster 35\n",
      "difference bigger,end class,target class,module methods,methods target,reusablemodule end,mix specify,specify module,method hi,module method\n",
      "\n",
      "Cluster 36\n",
      "asp repeater,runat server,certificate certificate,certificate store,td x509certificate2,x509certificate2 containerdataitem,td td,access private,key certificate,private key\n",
      "\n",
      "Cluster 37\n",
      "show variable,anything contain,vardump code,stick vardump,simply stick,frequently find,php frequently,vardump when,useful simply,python equivalent\n",
      "\n",
      "Cluster 38\n",
      "still block,input subprocesscommunicate,subprocesscommunicate appear,subprocesscommunicate read,subprocesscommunicate use,appear give,stream fashion,stream input,terminate continue,python subprocesscommunicate\n",
      "\n",
      "Cluster 39\n",
      "function timestamp,style timestamp,sinceepochdays secondsinaday,sinceepoch fiveminutesfromnow,24 fiveminutes,secondsinaday sinceepochseconds,sinceepochseconds is,value minutes,unix timestamp,minutes future\n",
      "\n",
      "Cluster 40\n",
      "injection like,user input,insert into,table column,table table,drop table,sql injection,into table,value drop,column values\n",
      "\n",
      "Cluster 41\n",
      "send email,email dogemail,dog code,increments dogbarkcount,bark send,restful way,dog bark,serverside method,make dog,dogbarkcount bark\n",
      "\n",
      "Cluster 42\n",
      "use someone,amp output,include snippet,explain inputstream,inputstream amp,case inputstream,outputstream if,outputstream confuse,along explanation,inputstream outputstream\n",
      "\n",
      "Cluster 43\n",
      "apps find,drop method,record listview,something others,tutorial it,view drag,implement apps,drop sort,able resort,drag drop\n",
      "\n",
      "Cluster 44\n",
      "module figure,instance heroku,surely need,heroku limit,anywhere lean,err client,constring processenvdatabaseurl,inside every,node js,client object\n",
      "\n",
      "Cluster 45\n",
      "pos value,unsigned getlowestbitpos,things people,people tell,xyzoptimization evil,squeeze cycle,least significant,bite set,significant bite,position least\n",
      "\n",
      "Cluster 46\n",
      "schedule cron,user crontabs,servers view,view overall,well etccrontab,include user,system schedule,runparts etccrontab,output nice,cron job\n",
      "\n",
      "Cluster 47\n",
      "hesc exprvalue,logical condition,data frame,5873096 hesc,exprvalue celltype,hesc 5873096,5929771 hesc,hesc 5665857,5665857 hesc,bj fibroblast\n",
      "\n",
      "Cluster 48\n",
      "cmd process,process generate,generate signature,signature start,base64 in,external command,internal external,recognize internal,124 openssl,openssl recognize\n",
      "\n",
      "Cluster 49\n",
      "ne end,lt comparitive,queryset filter,querysets see,gt lt,model querysets,filter in,atrue the,result modelobjectsexclude,modelobjectsexclude atrue\n",
      "\n",
      "Cluster 50\n",
      "bypass invalid,how bypass,invalid ssl,40 how,errors apache,httpclient 40,certificate errors,ignore ssl,ssl certificate,apache httpclient\n",
      "\n",
      "Cluster 51\n",
      "simple thanks,simple mysupervc,uiview even,underneath disappear,effect any,kind popup,uiviewcontroller contain,even navigation,uiviewcontroller underneath,navigation bar\n",
      "\n",
      "Cluster 52\n",
      "bar overlap,appearance no,inside uinavigationcontroller,navigationbar hide,no fix,overlap view,bar appearance,viewcontroller inside,ios status,status bar\n",
      "\n",
      "Cluster 53\n",
      "mysqldbbackupsql 124,file outgo,night linux,back mysql,cat mysqldbbackupsql,send tar,email message,file email,compress tar,tar file\n",
      "\n",
      "Cluster 54\n",
      "23 59,59 59000,month datediff,month getdate,previous month,month timestamp,dateadd month,datediff month,day previous,follow currentdate\n",
      "\n",
      "Cluster 55\n",
      "stripslashes input,write mysqlrealescapestring,input think,input htmlspecialchars,input mysqlrealescapestring,user input,return input,cleanme input,input input,get post\n",
      "\n",
      "Cluster 56\n",
      "give element,find give,test much,use clock,search take,call clock,clock for,clock how,time linear,take find\n",
      "\n",
      "Cluster 57\n",
      "do is,key do,javascript consider,consider key,xhasownproperty key,key xhasownproperty,check object,property javascript,specific property,object specific\n",
      "\n",
      "Cluster 58\n"
     ]
    },
    {
     "name": "stdout",
     "output_type": "stream",
     "text": [
      "events fire,element check,are events,transition events,wether css3,fire element,events are,transition start,check wether,css3 transition\n",
      "\n",
      "Cluster 59\n",
      "alphabets like,5x users,cyrillic alphabets,setup follow,opera 9x,users mainly,jsp framework,work java,get utf8,utf8 work\n",
      "\n",
      "Cluster 60\n",
      "price 543,pork price,fruit price,350 array,type fruit,milk price,inventory array,type pork,price 350,array type\n",
      "\n",
      "Cluster 61\n",
      "want small,database softwares,resources could,small net,know light,choice database,much resources,small light,light weight,weight database\n",
      "\n",
      "Cluster 62\n",
      "interest multiline,write computed,quote vim,select computed,ask nice,coefficients for,select bracket,bracket quote,computed solution,solution coefficients\n",
      "\n",
      "Cluster 63\n",
      "last char,stringsize return,comment include,stringsize int,flag produce,cstring stringsize,cstring printf,int stringsize,return value,nonvoid function\n",
      "\n",
      "Cluster 64\n",
      "sql server,what best,command line,what difference,is possible,best way,for example,something like,is way,would like\n",
      "\n",
      "Cluster 65\n",
      "look pandas,documentation immediately,pandas in,somevalue try,columename somevalue,column python,where columename,select row,row dataframe,dataframe base\n",
      "\n",
      "Cluster 66\n",
      "console give,thistitle name,thistitle consolelog,thisonsubmit classname,title thistitle,give undefined,ref thistitle,classname formhorizontal,classname formcontrol,undefined ideas\n",
      "\n",
      "Cluster 67\n",
      "recyclerview inside,wrapcontent android,inside nestedscrollview,android background,android id,layoutheight matchparent,layoutwidth matchparent,android layoutwidth,android layoutheight,matchparent android\n",
      "\n",
      "Cluster 68\n",
      "longlive object,use stl,disadvantage play,stl store,scope beyond,containers realize,ensure object,two obvious,stl containers,pointers object\n",
      "\n",
      "Cluster 69\n",
      "post able,foo many,sharedptrobject p2,sharedptrobject p1,p2 new,create operations,able understand,understand makeshared,makeshared efficient,std sharedptrobject\n",
      "\n",
      "Cluster 70\n",
      "messaging follow,messaging project,make googleservicesjson,different many,the googleservicesjson,different productflavors,put appgoogleservicesjson,applicationidpackagename different,cloud messaging,google cloud\n",
      "\n",
      "Cluster 71\n",
      "ways different,assume different,every say,minutes assume,set task,often how,oss use,say 30,different oss,run every\n",
      "\n",
      "Cluster 72\n",
      "text sometimes,top within,short text,uilabel space,top uilabel,sometimes text,center label,text short,vertically align,align text\n",
      "\n",
      "Cluster 73\n",
      "static const,templatetypename typename,null stream,value templatetypename,ostream amp,std ostream,tchartraits amp,basicostreamtchar tchartraits,std endl,amp stream\n",
      "\n",
      "Cluster 74\n",
      "private module,function private,is diveintopython,import print,elements private,define module,according httpwwwfaqsorgdocsdiveintopythonfileinfoprivatehtml,run bpy,num1 bpy,module function\n",
      "\n",
      "Cluster 75\n",
      "the pwd,osgetuid osgetuid,osgetusername slartibartfast,pwd module,although perhaps,osgetuid 42,way get,get current,portable way,username python\n",
      "\n",
      "Cluster 76\n",
      "server initdb,initdb usrlocalpgsqldata,would connectionstring,usrlocalpgsqldata start,usrlocalpgsqldata interact,postgres usrlocalpgsqldata,interact node,connectionstring able,connection postgres,create postgres\n",
      "\n",
      "Cluster 77\n",
      "exist nothing,value dog,ruby value,dog bird,dog array,bird how,array cat,check value,value exist,exist array\n",
      "\n",
      "Cluster 78\n",
      "fileexists subdir,outputdirectory fileexists,approach maindir,check existence,directory move,setwd filepath,existence directory,subdir setwd,filepath maindir,maindir subdir\n",
      "\n",
      "Cluster 79\n",
      "iterate dataframe,idea runtime,i9 temp,operation big,pc still,else temp,name temp,temp i9,i10 temp,temp i10\n",
      "\n",
      "Cluster 80\n",
      "examples task,bite error,stats google,prone difficult,retrieving stats,email emailqueue,adwords fill,windowsiisaspnet environment,run schedule,schedule task\n",
      "\n",
      "Cluster 81\n",
      "timeout get,console tell,debug past,rundebug android,launch cancel,step success,failed install,device timeout,install apk,apk device\n",
      "\n",
      "Cluster 82\n",
      "write neat,100 css,ev return,ev new,internal prototypecss,update sorry,function consolelog,style change,style function,bind style\n",
      "\n",
      "Cluster 83\n",
      "vim when,copy code,how autoformat,autoformat code,like fun,fun how,format mess,mess like,autoformatindent code,code vim\n",
      "\n",
      "Cluster 84\n",
      "button class,div form,show content,datadismiss modal,edit 2a,div class,datatoggle modal,modalitem datatoggle,datatarget modalitem,modal edit\n",
      "\n",
      "Cluster 85\n",
      "repeat dynamically,though good,detail particular,ahead calendar,one look,calendar application,change detail,way model,model recur,recur events\n",
      "\n",
      "Cluster 86\n",
      "thoughts sometimes,corruption weird,contentview window,disable autoresize,nswindow swap,background thread,application modify,autolayout engine,modify autolayout,engine background\n",
      "\n",
      "Cluster 87\n",
      "like items,guess tuple,end generator,items end,generator tuple,python as,immutable seem,comprehension why,comprehension like,tuple comprehension\n",
      "\n",
      "Cluster 88\n",
      "resistance level,resistance algorithm,chart try,calculate support,analysis intraday,algorithm technical,level anyone,intraday chart,technical analysis,support resistance\n",
      "\n",
      "Cluster 89\n",
      "what prefer,space string,build new,string could,could loop,loop character,character build,string better,space std,remove space\n",
      "\n",
      "Cluster 90\n",
      "either provide,affect app,export schema,directory provide,cannot export,export directory,processor cannot,provide annotation,schema export,annotation processor\n",
      "\n",
      "Cluster 91\n",
      "however 4095,rule less,link 31,2018 on,understand 31,silly css,stylesheetlimitsininternetexplorer information,internet explorer,31 import,4095 rule\n",
      "\n",
      "Cluster 92\n",
      "multiple word,produce cat,goat cat,goat str,string multiple,replace multiple,str strreplace,multiple string,cat cat,dog goat\n",
      "\n",
      "Cluster 93\n",
      "tell exactly,android read,read android,documentation still,need clarification,android pendingintent,newbie android,exactly pendingintent,clarification can,pendingintent newbie\n",
      "\n",
      "Cluster 94\n",
      "text jtextarea,insertupdate documentevent,docstr null,docstr textareadocgettext,try docstr,void insertupdate,split docstrsplit,documentevent string,getoffset catch,split docstr\n",
      "\n",
      "Cluster 95\n",
      "fileprovider new,couple change,new fileserveroptions,azure app,336 fontawesome,collect lot,use npm,static file,aspnet core,jquery bootstrap\n",
      "\n",
      "Cluster 96\n",
      "cause syntax,bar it,javascript error,console uncaught,illegal this,illegal get,uncaught syntaxerror,visible cause,unexpected token,token illegal\n",
      "\n",
      "Cluster 97\n",
      "best write,randomly total,fast how,600k row,row randomly,10 random,total 600k,row 600k,row fast,select 10\n",
      "\n",
      "Cluster 98\n",
      "uiapplication uiapplication,timeelapsed uiapplication,there somewhatrelated,explain look,screen certain,timer periodically,exceed threshold,would thanks,threshold hopefully,uiapplication sharedapplication\n",
      "\n",
      "Cluster 99\n",
      "simpleclass load,task net,save wtf,static simpleclass,question world,serialize content,probably easiest,retrieve load,object save,serialize object\n",
      "\n",
      "Cluster 100\n",
      "eclipse do,region want,code fold,region name,fold eclipse,usage region,equivalent region,code endregion,use regions,regions code\n",
      "\n",
      "Cluster 101\n",
      "element want,try seem,css the,work hr,hr tag,hr color,color 123455,hr element,change color,color hr\n",
      "\n",
      "Cluster 102\n",
      "asset pipeline,format svg,fontface fontfamily,format woff,format truetype,format embeddedopentype,icomoon src,fontfamily icomoon,font file,font format\n",
      "\n",
      "Cluster 103\n",
      "ienumerablestring cannot,create commaseparated,string cumbersome,cumbersome work,stringjoin operate,value iliststring,operate string,type iliststring,list iliststring,iliststring ienumerablestring\n",
      "\n",
      "Cluster 104\n",
      "define abstract,abstract void,java define,void bar2,abstract java,bar ok,foo abstract,ok abstract,example abstract,abstract static\n",
      "\n",
      "Cluster 105\n",
      "grant privilege,collate utf8bin,myuser grant,all on,utf8 collate,privilege database,create table,mydb to,on mydb,to myuser\n",
      "\n",
      "Cluster 106\n",
      "generate positionindependent,generation conventions,gcc options,read gcc,conventions could,understand generate,pic please,positionindependent code,fpic option,gcc fpic\n",
      "\n",
      "Cluster 107\n",
      "sql server,use name,get add,others use,prefix app,hundreds sprocs,some people,name convention,verb noun,app name\n",
      "\n",
      "Cluster 108\n",
      "another perform,cr dynamiccastc,br dynamiccastb,staticcast quite,ap std,badcast definition,dynamiccastb ap,dynamiccastc ap,dynamiccast keyword,ap ok\n",
      "\n",
      "Cluster 109\n",
      "in method,foot in,generics class,instance generics,use tclass,tclass what,type generics,call tclass,class instance,get class\n",
      "\n",
      "Cluster 110\n",
      "delete edit,echo array,php notice,way get,array array,get last,element array,array without,without delete,last element\n",
      "\n",
      "Cluster 111\n",
      "similar success,edit prefer,silly invent,ready go,wheel someone,libraryclass code,ldap php,directory provider,success edit,active directory\n",
      "\n",
      "Cluster 112\n",
      "jce unlimited,reference policy,jce policy,install my,distribute end,end user,make app,file instal,unlimited strength,policy file\n",
      "\n",
      "Cluster 113\n",
      "mimetypes simply,wide configuration,howto serve,launch every,eg mimetypes,simply launch,configuration eg,current directory,directory command,serve current\n",
      "\n",
      "Cluster 114\n"
     ]
    },
    {
     "name": "stdout",
     "output_type": "stream",
     "text": [
      "fast bonus,vs decrease,converge differently,look long,rate increase,number change,per second,frame per,calculate frame,second game\n",
      "\n",
      "Cluster 115\n",
      "get current,date time,date format,windows command,current datetime,datetime format,regional settings,mydatetime set,mydatetime mydatetime,set mydatetime\n",
      "\n",
      "Cluster 116\n",
      "generate django,solutions add,showlog orm,unexpected sql,log notice,notice several,sql print,django orm,python shell,sql call\n",
      "\n",
      "Cluster 117\n",
      "new know,question variable,hope understand,nonetype need,return nonetype,nonetype python,nonetype value,test nonetype,example new,variable nonetype\n",
      "\n",
      "Cluster 118\n",
      "aindex valueerror,but simpler,file zjmcodeapy,zjmcodeapy line,del except,value aindex,try aindex,module aindex,delete list,aindex del\n",
      "\n",
      "Cluster 119\n",
      "terminal app,neater way,bash write,instal want,use trycatch,catch command,trycatch command,unless neater,check terminal,command unless\n",
      "\n",
      "Cluster 120\n",
      "bufferedwriter write,mb 400000,secs write,around 40,data text,huge data,write huge,40 secs,174 mb,bufferedwriter new\n",
      "\n",
      "Cluster 121\n",
      "push origin,origin master,fatal githttppush,githttppush fail,clone change,error cannot,lock exist,exist inforefs,cannot lock,inforefs fatal\n",
      "\n",
      "Cluster 122\n",
      "use class,better use,use struct,class vs,vs class,struct vs,struct in,vs struct,in scenarios,scenarios better\n",
      "\n",
      "Cluster 123\n",
      "do standards,failed request,api obviously,practice exist,different much,would go,data would,applicationspecific data,payload applicationspecific,request success\n",
      "\n",
      "Cluster 124\n",
      "think yield,how can,fragment ilist,in how,can expose,only fragment,yield sense,snippet ienumerableobject,sense one,yield keyword\n",
      "\n",
      "Cluster 125\n",
      "instantiate uinavigationcontroller,also programmatically,what customize,believe do,without ib,uinavigationbar programmatically,navigation bar,custom subclass,uinavigationcontroller programmatically,subclass uinavigationbar\n",
      "\n",
      "Cluster 126\n",
      "relevant buildscript,everything red,caches restart,files closing,ones my,android studio,repositories mavencentral,remove unused,compile comandroidsupport,1900 compile\n",
      "\n",
      "Cluster 127\n",
      "time space,interviewer insist,look obvious,must scan,would solve,number 100,the interviewer,number miss,find miss,miss number\n",
      "\n",
      "Cluster 128\n",
      "objectfunctionclass declaration,layout null,yahooutildom event,yahooutilevent layout,couple parentheses,function possibly,dom yahooutildom,parentheses execute,function declaration,parentheses surround\n",
      "\n",
      "Cluster 129\n",
      "resheader accesscontrolalloworigin,delete options,accesscontrolallowcredentials true,accesscontrolalloworigin resheader,resheader accesscontrolallowmethods,resheader accesscontrolallowcredentials,options resheader,res resheader,contenttype it,crossorigin get\n",
      "\n",
      "Cluster 130\n",
      "briefly look,explanations come,explanation monad,fairly inaccessible,inaccessible lack,haskell recently,monad essentially,monad having,practical explanation,succinct practical\n",
      "\n",
      "Cluster 131\n",
      "file download,how could,back how,continue edit,temporarily exit,back continue,could exit,go back,exit vim,vim go\n",
      "\n",
      "Cluster 132\n",
      "need able,number days,able add,date use,add number,date need,10 days,add 10,today date,days today\n",
      "\n",
      "Cluster 133\n",
      "actual service,drive unc,logging service,map context,paths how,available service,session service,context actual,network drive,map network\n",
      "\n",
      "Cluster 134\n",
      "explain simple,ternary operator,operator use,javascript can,use conditional,conditional operator,operator javascript,simple word,conditional ternary,word conditional\n",
      "\n",
      "Cluster 135\n",
      "programming javascript,least couple,program javascript,least first,javascript tradeoffs,way inheritance,doc javascript,discuss objectoriented,inheritance doc,class javascript\n",
      "\n",
      "Cluster 136\n",
      "function inputsingle,logic change,single optionsingleoption,val run,execute val,val the,value mouse,id single,val use,change event\n",
      "\n",
      "Cluster 137\n",
      "column index,id 124,124 how,case fragmentname,124 id,text 124,multilevel column,drop level,src inc,124 124\n",
      "\n",
      "Cluster 138\n",
      "file domwindowsjs,file domain,file dom,file doing,file does,file downloading,file easy,operation what,what idempotent,idempotent operation\n",
      "\n",
      "Cluster 139\n",
      "linux hear,linux if,hear need,app development,download necessary,development linux,yes need,necessary tool,iphone apps,develop iphone\n",
      "\n",
      "Cluster 140\n",
      "permissions think,backup apps,numerous apps,access apk,aren backup,nonsystemapps locate,folder require,app without,without root,apk file\n",
      "\n",
      "Cluster 141\n",
      "read api,defer amp,next one,var task,defer task,function task,append task,use deferred,handle next,defer object\n",
      "\n",
      "Cluster 142\n",
      "height user,100 etc,backgroundcolor need,piece content,layout two,try height,depend height,height browser,browser window,right div\n",
      "\n",
      "Cluster 143\n",
      "request modification,object http11,post object,object use,object id,representation object,allow clients,clients create,http11 json,json representation\n",
      "\n",
      "Cluster 144\n",
      "android apk,code apk,app resources,assets source,engineer android,source code,engineer apk,resources assets,reverse engineer,apk file\n",
      "\n",
      "Cluster 145\n",
      "method iterate,count yea,property extension,methods tell,extend ienumerable,theany count,recently want,method count,count extension,extension method\n",
      "\n",
      "Cluster 146\n",
      "rhs operand,java internally,lhs operand,operator java,use verify,boolean operands,operands true,whether boolean,verify whether,amp operator\n",
      "\n",
      "Cluster 147\n",
      "and finish,place between,place where,mysql second,from place,set finish,where place,finish 10,declare variable,variable mysql\n",
      "\n",
      "Cluster 148\n",
      "int value,declare variable,length array,part standard,variable length,value declare,vectorint value,void foo,foo int,int int\n",
      "\n",
      "Cluster 149\n",
      "keyword case,develop make,uncommon for,go inherit,keyword similarly,inherit does,matter performance,improve performance,use final,final keyword\n",
      "\n",
      "Cluster 150\n",
      "libraries include,field android,good technique,already would,android orgapachecommonsvalidatorroutinesemailvalidator,address eg,orgapachecommonsvalidatorroutinesemailvalidator seem,technique validate,email address,validate email\n",
      "\n",
      "Cluster 151\n",
      "application capture,love receive,save information,relist would,receive live,file relist,capture console,console remember,output net,net application\n",
      "\n",
      "Cluster 152\n",
      "freestore vs,heap dynamic,heap newmalloc,distinction two,compilers make,difference practice,heap like,do compilers,allocations newdelete,place freestore\n",
      "\n",
      "Cluster 153\n",
      "service report,request windows,report user,credentials correctly,usedefaultcredentials true,request web,windows service,pass credentials,web application,make request\n",
      "\n",
      "Cluster 154\n",
      "folderplist privatevardbdslocalnodesdefaultuserspostgresplist,choke variant,904 different,find name,snow leopard,not directory,uninstall postgres,sudo find,postgresql 904,uninstall postgresql\n",
      "\n",
      "Cluster 155\n",
      "make symbolic,path compile,ln basebuild,homebuildsandboxgen2basebuildipdomekernelkernal is,source ln,ipdomekernelkernel homebuildsandboxgen2basebuildipdomekernelkernal,first path,link second,link linux,basebuild ipdomekernelkernel\n",
      "\n",
      "Cluster 156\n",
      "2mb im,change phpini,ubuntu virtualbox,see 2mb,postmaxsize why,phpini parameters,server ce,limit phpmyadmin,ce ubuntu,use zend\n",
      "\n",
      "Cluster 157\n",
      "vim open,prefer write,want globally,vim note,globally single,open emacs,message vim,choice commit,emacs how,editor choice\n",
      "\n",
      "Cluster 158\n",
      "c11 handy,resources cheat,able what,resource people,efficiently select,people choose,select standard,set map,flow chart,collection use\n",
      "\n",
      "Cluster 159\n",
      "one best,function in,use virtual,case recommend,virtual abstract,abstract which,virtual function,difference abstract,function virtual,abstract function\n",
      "\n",
      "Cluster 160\n",
      "column numpy,zero get,extra column,nparray how,say numpy,easily numpy,nparray and,column zero,numpy array,array nparray\n",
      "\n",
      "Cluster 162\n",
      "deferred consolelog,servicea var,var dfd,1234 ids,across whenapply,somearray little,processitemsdeferred var,datalength processitemsdeferredpush,whenapply somearray,processitem data\n",
      "\n",
      "Cluster 163\n",
      "anywhere broad,anyone push,couple tutorials,build trigger,service hook,github already,jenkins wiki,push anywhere,push master,git trigger\n",
      "\n",
      "Cluster 164\n",
      "important not,view important,tr tr,scroll view,header stay,table header,user scroll,tr tdinfotd,tdinfotd tr,tdinfotd tdinfotd\n",
      "\n",
      "Cluster 165\n",
      "50 fill,use css3,drop shadow,shadow effect,888 webkitboxshadow,shadow use,boxshadow 5px,webkitboxshadow 5px,5px 888,5px 5px\n",
      "\n",
      "Cluster 166\n",
      "execute several,port cli,party binaries,node here,buildspdfbookpdf what,pdf cmd,buildspdfbookhtml buildspdfbookpdf,binaries necessary,prince buildspdfbookhtml,process port\n",
      "\n",
      "Cluster 167\n",
      "control custom,invalid also,api rather,validation angularjs,tap validation,mark field,might thing,method formcontroller,would tap,custom validation\n",
      "\n",
      "Cluster 168\n",
      "know sell,pretty soon,ownership another,ownership iphone,mechanism can,new owner,move app,app another,another company,sell app\n",
      "\n",
      "Cluster 169\n",
      "ajaxonreadystatechange function,testsavephp false,canvasdata canvastodataurl,canvastodataurl imagepng,var canvasdata,ajaxsetrequestheader contenttype,ajaxsend imgdata,imgdata canvasdata,ajaxopen post,ajax new\n",
      "\n",
      "Cluster 170\n"
     ]
    },
    {
     "name": "stdout",
     "output_type": "stream",
     "text": [
      "stupid user,orm database,orm confirm,implement discrete,satisfy load,unit test,unit testing,test database,databasedriven applications,test orm\n",
      "\n",
      "Cluster 171\n",
      "decode example,systemoutprintln bsdecode,base64 bs,base64 bsencodebytes,bytearray sourcegetbytes,source password,base64 use,bytearray systemoutprintln,bsdecode bsencodebytes,bsencodebytes bytearray\n",
      "\n",
      "Cluster 172\n",
      "argumentslength return,function argumentslength,dy 15,assignments example,15 return,mathpi dy,wonder operator,hexbinradius function,example hexbinradius,mean javascript\n",
      "\n",
      "Cluster 173\n",
      "state country,country visitor,address customize,like city,location ip,page accord,accord location,php serverside,visitor ip,ip address\n",
      "\n",
      "Cluster 174\n",
      "obj var,way function,faster better,empty is,var key,empty what,countobj obj,key obj,function countobj,object empty\n",
      "\n",
      "Cluster 175\n",
      "keep value,one dict,need pythonic,pythonic way,combine two,add value,way combine,dicts add,key appear,two dicts\n",
      "\n",
      "Cluster 176\n",
      "isnull lastname,isnull title,create store,id firstname,title null,store procedure,lastname title,varchar 25,25 null,firstname lastname\n",
      "\n",
      "Cluster 177\n",
      "strs blah,blah hey,line avoid,avoid declare,declare name,string strs,yo strs,way declare,declare array,array inline\n",
      "\n",
      "Cluster 178\n",
      "hyperlink behave,style replace,website ios,devices style,make hyperlink,button ipad,mac default,replace mac,input button,style input\n",
      "\n",
      "Cluster 179\n",
      "reload local,dynamically reload,semiduplicated follow,longer ideal,editorial note,clear browsers,javascript code,how force,latest javascript,cache javascript\n",
      "\n",
      "Cluster 180\n",
      "not hang,info pwaitforexit,stringjoin args,programmatically hang,3kb is,consolewriteline pstandardoutputreadtoend,processstartinfo hang,processstartinfo buffer,infowindowstyle systemdiagnosticsprocesswindowstylehidden,true infouseshellexecute\n",
      "\n",
      "Cluster 181\n",
      "overwrite want,cp directory,older copy,part crontab,noninteractive part,copy overwrite,want cp,completely noninteractive,crontab bash,even older\n",
      "\n",
      "Cluster 182\n",
      "want export,webpage want,how export,webpage how,export contain,contain format,format colour,export table,table excel,excel webpage\n",
      "\n",
      "Cluster 183\n",
      "limit class,inside manifest,is usable,items etc,recent new,path activity,file starting,mainactivity what,starting recent,tool context\n",
      "\n",
      "Cluster 184\n",
      "equally dangerous,you obtain,activitygetapplication yet,activitygetapplication but,memory leak,unable add,token null,null application,add window,window token\n",
      "\n",
      "Cluster 185\n",
      "something title,page clean,clean avoid,new issue,request exist,attach issue,request issue,exist issue,new pull,pull request\n"
     ]
    }
   ],
   "source": [
    "get_top_keywords(tf_idf_matrix_bi, clusters, tf_idf_vectorizer_bi.get_feature_names(), 10)"
   ]
  },
  {
   "cell_type": "markdown",
   "metadata": {},
   "source": [
    "Pour notre problème (la recherche de mot clé) l'utilisation d'une matrice monogramme est plus pertinente."
   ]
  },
  {
   "cell_type": "markdown",
   "metadata": {},
   "source": [
    "### 3.4. LDA"
   ]
  },
  {
   "cell_type": "code",
   "execution_count": 20,
   "metadata": {
    "ExecuteTime": {
     "end_time": "2020-04-01T10:24:22.570539Z",
     "start_time": "2020-04-01T10:23:44.557537Z"
    }
   },
   "outputs": [],
   "source": [
    "lda = LatentDirichletAllocation(n_components=20, max_iter=5, learning_method='online', learning_offset=50, random_state=20).fit(tf_idf_matrix_mono)"
   ]
  },
  {
   "cell_type": "code",
   "execution_count": 95,
   "metadata": {
    "ExecuteTime": {
     "end_time": "2020-04-01T10:55:16.240168Z",
     "start_time": "2020-04-01T10:55:16.235668Z"
    }
   },
   "outputs": [],
   "source": [
    "def show_topics(model, features_names, n_words=20):\n",
    "    keywords = np.array(features_names)\n",
    "    topic_keywords = []\n",
    "    for topic_weights in model.components_:\n",
    "        top_keyword_locs = (-topic_weights).argsort()[:n_words]\n",
    "        topic_keywords.append(keywords.take(top_keyword_locs))\n",
    "    df_topic_keywords = pd.DataFrame(topic_keywords)\n",
    "    df_topic_keywords.columns = ['Word ' + str(i) for i in range(df_topic_keywords.shape[1])]\n",
    "    df_topic_keywords.index = ['Topic ' + str(i) for i in range(df_topic_keywords.shape[0])]\n",
    "    return df_topic_keywords"
   ]
  },
  {
   "cell_type": "markdown",
   "metadata": {},
   "source": [
    "#### 3.4.1 - Affichage des topics"
   ]
  },
  {
   "cell_type": "code",
   "execution_count": 102,
   "metadata": {
    "ExecuteTime": {
     "end_time": "2020-04-01T10:57:43.751707Z",
     "start_time": "2020-04-01T10:57:43.585680Z"
    }
   },
   "outputs": [
    {
     "data": {
      "text/html": [
       "<div>\n",
       "<style scoped>\n",
       "    .dataframe tbody tr th:only-of-type {\n",
       "        vertical-align: middle;\n",
       "    }\n",
       "\n",
       "    .dataframe tbody tr th {\n",
       "        vertical-align: top;\n",
       "    }\n",
       "\n",
       "    .dataframe thead th {\n",
       "        text-align: right;\n",
       "    }\n",
       "</style>\n",
       "<table border=\"1\" class=\"dataframe\">\n",
       "  <thead>\n",
       "    <tr style=\"text-align: right;\">\n",
       "      <th></th>\n",
       "      <th>Word 0</th>\n",
       "      <th>Word 1</th>\n",
       "      <th>Word 2</th>\n",
       "      <th>Word 3</th>\n",
       "      <th>Word 4</th>\n",
       "    </tr>\n",
       "  </thead>\n",
       "  <tbody>\n",
       "    <tr>\n",
       "      <td>Topic 0</td>\n",
       "      <td>vcvarsallbat</td>\n",
       "      <td>getsharedpreferences</td>\n",
       "      <td>getdefaultsharedpreferences</td>\n",
       "      <td>addpreferencesfromresource</td>\n",
       "      <td>preferencefragment</td>\n",
       "    </tr>\n",
       "    <tr>\n",
       "      <td>Topic 1</td>\n",
       "      <td>filelist</td>\n",
       "      <td>threadpoolexecutorjava</td>\n",
       "      <td>cleartext</td>\n",
       "      <td>screenname</td>\n",
       "      <td>domdocument</td>\n",
       "    </tr>\n",
       "    <tr>\n",
       "      <td>Topic 2</td>\n",
       "      <td>warehouse</td>\n",
       "      <td>tracking</td>\n",
       "      <td>transitioncontext</td>\n",
       "      <td>tiendas</td>\n",
       "      <td>coefficients</td>\n",
       "    </tr>\n",
       "    <tr>\n",
       "      <td>Topic 3</td>\n",
       "      <td>wsystemerr</td>\n",
       "      <td>asd</td>\n",
       "      <td>activitythreadjava</td>\n",
       "      <td>javalangruntimeexception</td>\n",
       "      <td>pandasparserc</td>\n",
       "    </tr>\n",
       "    <tr>\n",
       "      <td>Topic 4</td>\n",
       "      <td>addressbook</td>\n",
       "      <td>dbcolumn</td>\n",
       "      <td>dbstringproperty</td>\n",
       "      <td>armappledarwin10g421</td>\n",
       "      <td>quartzcore</td>\n",
       "    </tr>\n",
       "    <tr>\n",
       "      <td>Topic 5</td>\n",
       "      <td>myint</td>\n",
       "      <td>interop</td>\n",
       "      <td>gyp</td>\n",
       "      <td>db2</td>\n",
       "      <td>mms</td>\n",
       "    </tr>\n",
       "    <tr>\n",
       "      <td>Topic 6</td>\n",
       "      <td>alltext</td>\n",
       "      <td>pprint</td>\n",
       "      <td>secdiff</td>\n",
       "      <td>adict</td>\n",
       "      <td>86400365</td>\n",
       "    </tr>\n",
       "    <tr>\n",
       "      <td>Topic 7</td>\n",
       "      <td>monkey</td>\n",
       "      <td>19216811</td>\n",
       "      <td>huawei</td>\n",
       "      <td>animage</td>\n",
       "      <td>onchanged</td>\n",
       "    </tr>\n",
       "    <tr>\n",
       "      <td>Topic 8</td>\n",
       "      <td>italic</td>\n",
       "      <td>054</td>\n",
       "      <td>amet</td>\n",
       "      <td>dolor</td>\n",
       "      <td>containerheight</td>\n",
       "    </tr>\n",
       "    <tr>\n",
       "      <td>Topic 9</td>\n",
       "      <td>mongoose</td>\n",
       "      <td>execjs</td>\n",
       "      <td>favoritefoods</td>\n",
       "      <td>optdir</td>\n",
       "      <td>mysql2</td>\n",
       "    </tr>\n",
       "    <tr>\n",
       "      <td>Topic 10</td>\n",
       "      <td>528205</td>\n",
       "      <td>ifor</td>\n",
       "      <td>20140317</td>\n",
       "      <td>genders</td>\n",
       "      <td>20140419</td>\n",
       "    </tr>\n",
       "    <tr>\n",
       "      <td>Topic 11</td>\n",
       "      <td>gridarrange</td>\n",
       "      <td>dockercomposeyml</td>\n",
       "      <td>composer</td>\n",
       "      <td>displayerrors</td>\n",
       "      <td>tortoisesvn</td>\n",
       "    </tr>\n",
       "    <tr>\n",
       "      <td>Topic 12</td>\n",
       "      <td>dun</td>\n",
       "      <td>navigationview</td>\n",
       "      <td>inputimage</td>\n",
       "      <td>newprice</td>\n",
       "      <td>mcryptrijndael256</td>\n",
       "    </tr>\n",
       "    <tr>\n",
       "      <td>Topic 13</td>\n",
       "      <td>activation</td>\n",
       "      <td>modeladd</td>\n",
       "      <td>rmagick</td>\n",
       "      <td>loadmodule</td>\n",
       "      <td>ifmodule</td>\n",
       "    </tr>\n",
       "    <tr>\n",
       "      <td>Topic 14</td>\n",
       "      <td>mov</td>\n",
       "      <td>transactionscope</td>\n",
       "      <td>chrono</td>\n",
       "      <td>rax</td>\n",
       "      <td>kokos</td>\n",
       "    </tr>\n",
       "    <tr>\n",
       "      <td>Topic 15</td>\n",
       "      <td>date2</td>\n",
       "      <td>webmethod</td>\n",
       "      <td>0x1839b38</td>\n",
       "      <td>20110815</td>\n",
       "      <td>date1</td>\n",
       "    </tr>\n",
       "    <tr>\n",
       "      <td>Topic 16</td>\n",
       "      <td>memoization</td>\n",
       "      <td>loginrequired</td>\n",
       "      <td>arraytojs</td>\n",
       "      <td>pdfapi</td>\n",
       "      <td>spacename</td>\n",
       "    </tr>\n",
       "    <tr>\n",
       "      <td>Topic 17</td>\n",
       "      <td>prop2</td>\n",
       "      <td>prop1</td>\n",
       "      <td>sharp</td>\n",
       "      <td>rs</td>\n",
       "      <td>connectionimpljava</td>\n",
       "    </tr>\n",
       "    <tr>\n",
       "      <td>Topic 18</td>\n",
       "      <td>use</td>\n",
       "      <td>file</td>\n",
       "      <td>get</td>\n",
       "      <td>string</td>\n",
       "      <td>like</td>\n",
       "    </tr>\n",
       "    <tr>\n",
       "      <td>Topic 19</td>\n",
       "      <td>sellday</td>\n",
       "      <td>buyday</td>\n",
       "      <td>swfid</td>\n",
       "      <td>somefield</td>\n",
       "      <td>getid</td>\n",
       "    </tr>\n",
       "  </tbody>\n",
       "</table>\n",
       "</div>"
      ],
      "text/plain": [
       "                Word 0                  Word 1                       Word 2  \\\n",
       "Topic 0   vcvarsallbat    getsharedpreferences  getdefaultsharedpreferences   \n",
       "Topic 1       filelist  threadpoolexecutorjava                    cleartext   \n",
       "Topic 2      warehouse                tracking            transitioncontext   \n",
       "Topic 3     wsystemerr                     asd           activitythreadjava   \n",
       "Topic 4    addressbook                dbcolumn             dbstringproperty   \n",
       "Topic 5          myint                 interop                          gyp   \n",
       "Topic 6        alltext                  pprint                      secdiff   \n",
       "Topic 7         monkey                19216811                       huawei   \n",
       "Topic 8         italic                     054                         amet   \n",
       "Topic 9       mongoose                  execjs                favoritefoods   \n",
       "Topic 10        528205                    ifor                     20140317   \n",
       "Topic 11   gridarrange        dockercomposeyml                     composer   \n",
       "Topic 12           dun          navigationview                   inputimage   \n",
       "Topic 13    activation                modeladd                      rmagick   \n",
       "Topic 14           mov        transactionscope                       chrono   \n",
       "Topic 15         date2               webmethod                    0x1839b38   \n",
       "Topic 16   memoization           loginrequired                    arraytojs   \n",
       "Topic 17         prop2                   prop1                        sharp   \n",
       "Topic 18           use                    file                          get   \n",
       "Topic 19       sellday                  buyday                        swfid   \n",
       "\n",
       "                              Word 3              Word 4  \n",
       "Topic 0   addpreferencesfromresource  preferencefragment  \n",
       "Topic 1                   screenname         domdocument  \n",
       "Topic 2                      tiendas        coefficients  \n",
       "Topic 3     javalangruntimeexception       pandasparserc  \n",
       "Topic 4         armappledarwin10g421          quartzcore  \n",
       "Topic 5                          db2                 mms  \n",
       "Topic 6                        adict            86400365  \n",
       "Topic 7                      animage           onchanged  \n",
       "Topic 8                        dolor     containerheight  \n",
       "Topic 9                       optdir              mysql2  \n",
       "Topic 10                     genders            20140419  \n",
       "Topic 11               displayerrors         tortoisesvn  \n",
       "Topic 12                    newprice   mcryptrijndael256  \n",
       "Topic 13                  loadmodule            ifmodule  \n",
       "Topic 14                         rax               kokos  \n",
       "Topic 15                    20110815               date1  \n",
       "Topic 16                      pdfapi           spacename  \n",
       "Topic 17                          rs  connectionimpljava  \n",
       "Topic 18                      string                like  \n",
       "Topic 19                   somefield               getid  "
      ]
     },
     "execution_count": 102,
     "metadata": {},
     "output_type": "execute_result"
    }
   ],
   "source": [
    "lda_topic_keywords = show_topics(lda, tf_idf_vectorizer_mono.get_feature_names(), 5)\n",
    "lda_topic_keywords"
   ]
  },
  {
   "cell_type": "markdown",
   "metadata": {},
   "source": [
    "#### 3.4.2 - Prédiction sur 5 questions"
   ]
  },
  {
   "cell_type": "markdown",
   "metadata": {},
   "source": [
    "Les 5 questions de tests seront :"
   ]
  },
  {
   "cell_type": "code",
   "execution_count": 116,
   "metadata": {
    "ExecuteTime": {
     "end_time": "2020-04-01T11:03:05.358793Z",
     "start_time": "2020-04-01T11:03:05.352289Z"
    }
   },
   "outputs": [
    {
     "data": {
      "text/html": [
       "<div>\n",
       "<style scoped>\n",
       "    .dataframe tbody tr th:only-of-type {\n",
       "        vertical-align: middle;\n",
       "    }\n",
       "\n",
       "    .dataframe tbody tr th {\n",
       "        vertical-align: top;\n",
       "    }\n",
       "\n",
       "    .dataframe thead th {\n",
       "        text-align: right;\n",
       "    }\n",
       "</style>\n",
       "<table border=\"1\" class=\"dataframe\">\n",
       "  <thead>\n",
       "    <tr style=\"text-align: right;\">\n",
       "      <th></th>\n",
       "      <th>tags</th>\n",
       "      <th>document</th>\n",
       "    </tr>\n",
       "  </thead>\n",
       "  <tbody>\n",
       "    <tr>\n",
       "      <td>2</td>\n",
       "      <td>[node.js]</td>\n",
       "      <td>restart node upon change file For someone come...</td>\n",
       "    </tr>\n",
       "    <tr>\n",
       "      <td>3</td>\n",
       "      <td>[html, css]</td>\n",
       "      <td>100 min height css layout What best way make e...</td>\n",
       "    </tr>\n",
       "    <tr>\n",
       "      <td>4</td>\n",
       "      <td>[regex, language-agnostic]</td>\n",
       "      <td>stack overflow generate seofriendly urls What ...</td>\n",
       "    </tr>\n",
       "    <tr>\n",
       "      <td>5</td>\n",
       "      <td>[java]</td>\n",
       "      <td>get oslevel system information I currently bui...</td>\n",
       "    </tr>\n",
       "    <tr>\n",
       "      <td>6</td>\n",
       "      <td>[security]</td>\n",
       "      <td>disable browser ave password functionality One...</td>\n",
       "    </tr>\n",
       "  </tbody>\n",
       "</table>\n",
       "</div>"
      ],
      "text/plain": [
       "                         tags  \\\n",
       "2                   [node.js]   \n",
       "3                 [html, css]   \n",
       "4  [regex, language-agnostic]   \n",
       "5                      [java]   \n",
       "6                  [security]   \n",
       "\n",
       "                                            document  \n",
       "2  restart node upon change file For someone come...  \n",
       "3  100 min height css layout What best way make e...  \n",
       "4  stack overflow generate seofriendly urls What ...  \n",
       "5  get oslevel system information I currently bui...  \n",
       "6  disable browser ave password functionality One...  "
      ]
     },
     "execution_count": 116,
     "metadata": {},
     "output_type": "execute_result"
    }
   ],
   "source": [
    "df.loc[[2, 3, 4, 5, 6]]"
   ]
  },
  {
   "cell_type": "code",
   "execution_count": 111,
   "metadata": {
    "ExecuteTime": {
     "end_time": "2020-04-01T11:01:29.771547Z",
     "start_time": "2020-04-01T11:01:29.768048Z"
    }
   },
   "outputs": [],
   "source": [
    "def predict_topic(text, vectorizer, model, df_topic_keywords):\n",
    "    text = vectorizer.transform(text)\n",
    "    topic_probabitity_scores = model.transform(text)\n",
    "    topic = df_topic_keywords.iloc[np.argmax(topic_probabitity_scores), :].values.tolist()\n",
    "    return topic, topic_probabitity_scores"
   ]
  },
  {
   "cell_type": "code",
   "execution_count": 115,
   "metadata": {
    "ExecuteTime": {
     "end_time": "2020-04-01T11:02:24.713199Z",
     "start_time": "2020-04-01T11:02:24.707669Z"
    }
   },
   "outputs": [
    {
     "data": {
      "text/plain": [
       "(['use', 'file', 'get', 'string', 'like'],\n",
       " array([[0.01003397, 0.01003397, 0.01003397, 0.01003397, 0.01003397,\n",
       "         0.01003397, 0.01003397, 0.01003397, 0.01003397, 0.01003397,\n",
       "         0.01003397, 0.01003397, 0.01003397, 0.01003397, 0.01003397,\n",
       "         0.01003397, 0.01003397, 0.01003397, 0.80935449, 0.01003397]]))"
      ]
     },
     "execution_count": 115,
     "metadata": {},
     "output_type": "execute_result"
    }
   ],
   "source": [
    "predict_topic([df.loc[2, \"document\"]], tf_idf_vectorizer_mono, lda, lda_topic_keywords)"
   ]
  },
  {
   "cell_type": "code",
   "execution_count": 117,
   "metadata": {
    "ExecuteTime": {
     "end_time": "2020-04-01T11:03:16.692849Z",
     "start_time": "2020-04-01T11:03:16.687819Z"
    }
   },
   "outputs": [
    {
     "data": {
      "text/plain": [
       "(['use', 'file', 'get', 'string', 'like'],\n",
       " array([[0.00907058, 0.00907058, 0.00907058, 0.00907058, 0.00907058,\n",
       "         0.00907058, 0.00907058, 0.00907058, 0.00907058, 0.00907058,\n",
       "         0.00907058, 0.00907058, 0.00907058, 0.00907058, 0.00907058,\n",
       "         0.00907058, 0.00907058, 0.00907058, 0.82765896, 0.00907058]]))"
      ]
     },
     "execution_count": 117,
     "metadata": {},
     "output_type": "execute_result"
    }
   ],
   "source": [
    "predict_topic([df.loc[3, \"document\"]], tf_idf_vectorizer_mono, lda, lda_topic_keywords)"
   ]
  },
  {
   "cell_type": "code",
   "execution_count": 118,
   "metadata": {
    "ExecuteTime": {
     "end_time": "2020-04-01T11:03:42.198513Z",
     "start_time": "2020-04-01T11:03:42.193514Z"
    }
   },
   "outputs": [
    {
     "data": {
      "text/plain": [
       "(['use', 'file', 'get', 'string', 'like'],\n",
       " array([[0.00670776, 0.00670776, 0.00670776, 0.00670776, 0.00670776,\n",
       "         0.08738506, 0.00670776, 0.00670776, 0.00670776, 0.00670776,\n",
       "         0.00670776, 0.00670776, 0.00670776, 0.00670776, 0.00670776,\n",
       "         0.00670776, 0.00670776, 0.00670776, 0.79187525, 0.00670776]]))"
      ]
     },
     "execution_count": 118,
     "metadata": {},
     "output_type": "execute_result"
    }
   ],
   "source": [
    "predict_topic([df.loc[4, \"document\"]], tf_idf_vectorizer_mono, lda, lda_topic_keywords)"
   ]
  },
  {
   "cell_type": "code",
   "execution_count": 119,
   "metadata": {
    "ExecuteTime": {
     "end_time": "2020-04-01T11:04:15.020488Z",
     "start_time": "2020-04-01T11:04:15.014461Z"
    }
   },
   "outputs": [
    {
     "data": {
      "text/plain": [
       "(['use', 'file', 'get', 'string', 'like'],\n",
       " array([[0.00735203, 0.00735203, 0.00735203, 0.00735203, 0.00735203,\n",
       "         0.00735203, 0.00735203, 0.00735203, 0.0437077 , 0.00735203,\n",
       "         0.00735203, 0.00735203, 0.00735203, 0.00735203, 0.00735203,\n",
       "         0.00735203, 0.00735203, 0.00735203, 0.82395581, 0.00735203]]))"
      ]
     },
     "execution_count": 119,
     "metadata": {},
     "output_type": "execute_result"
    }
   ],
   "source": [
    "predict_topic([df.loc[5, \"document\"]], tf_idf_vectorizer_mono, lda, lda_topic_keywords)"
   ]
  },
  {
   "cell_type": "code",
   "execution_count": 120,
   "metadata": {
    "ExecuteTime": {
     "end_time": "2020-04-01T11:04:20.370748Z",
     "start_time": "2020-04-01T11:04:20.365748Z"
    }
   },
   "outputs": [
    {
     "data": {
      "text/plain": [
       "(['use', 'file', 'get', 'string', 'like'],\n",
       " array([[0.00555595, 0.00555595, 0.00555595, 0.00555595, 0.00555595,\n",
       "         0.00555595, 0.00555595, 0.0777306 , 0.00555595, 0.00555595,\n",
       "         0.00555595, 0.00555595, 0.00555595, 0.00555595, 0.00555595,\n",
       "         0.00555595, 0.00555595, 0.00555595, 0.82226236, 0.00555595]]))"
      ]
     },
     "execution_count": 120,
     "metadata": {},
     "output_type": "execute_result"
    }
   ],
   "source": [
    "predict_topic([df.loc[6, \"document\"]], tf_idf_vectorizer_mono, lda, lda_topic_keywords)"
   ]
  },
  {
   "cell_type": "markdown",
   "metadata": {},
   "source": [
    "### 3.5. NMF"
   ]
  },
  {
   "cell_type": "code",
   "execution_count": 121,
   "metadata": {
    "ExecuteTime": {
     "end_time": "2020-04-01T11:04:41.425184Z",
     "start_time": "2020-04-01T11:04:40.132686Z"
    }
   },
   "outputs": [],
   "source": [
    "nmf = NMF(n_components=20, max_iter=5, random_state=20).fit(tf_idf_matrix_mono)"
   ]
  },
  {
   "cell_type": "markdown",
   "metadata": {},
   "source": [
    "#### 3.5.1 - Affichage des topics"
   ]
  },
  {
   "cell_type": "code",
   "execution_count": 122,
   "metadata": {
    "ExecuteTime": {
     "end_time": "2020-04-01T11:05:40.114643Z",
     "start_time": "2020-04-01T11:05:39.991135Z"
    }
   },
   "outputs": [
    {
     "data": {
      "text/html": [
       "<div>\n",
       "<style scoped>\n",
       "    .dataframe tbody tr th:only-of-type {\n",
       "        vertical-align: middle;\n",
       "    }\n",
       "\n",
       "    .dataframe tbody tr th {\n",
       "        vertical-align: top;\n",
       "    }\n",
       "\n",
       "    .dataframe thead th {\n",
       "        text-align: right;\n",
       "    }\n",
       "</style>\n",
       "<table border=\"1\" class=\"dataframe\">\n",
       "  <thead>\n",
       "    <tr style=\"text-align: right;\">\n",
       "      <th></th>\n",
       "      <th>Word 0</th>\n",
       "      <th>Word 1</th>\n",
       "      <th>Word 2</th>\n",
       "      <th>Word 3</th>\n",
       "      <th>Word 4</th>\n",
       "    </tr>\n",
       "  </thead>\n",
       "  <tbody>\n",
       "    <tr>\n",
       "      <td>Topic 0</td>\n",
       "      <td>use</td>\n",
       "      <td>would</td>\n",
       "      <td>code</td>\n",
       "      <td>like</td>\n",
       "      <td>one</td>\n",
       "    </tr>\n",
       "    <tr>\n",
       "      <td>Topic 1</td>\n",
       "      <td>git</td>\n",
       "      <td>commit</td>\n",
       "      <td>repository</td>\n",
       "      <td>branch</td>\n",
       "      <td>file</td>\n",
       "    </tr>\n",
       "    <tr>\n",
       "      <td>Topic 2</td>\n",
       "      <td>string</td>\n",
       "      <td>convert</td>\n",
       "      <td>character</td>\n",
       "      <td>int</td>\n",
       "      <td>char</td>\n",
       "    </tr>\n",
       "    <tr>\n",
       "      <td>Topic 3</td>\n",
       "      <td>view</td>\n",
       "      <td>button</td>\n",
       "      <td>app</td>\n",
       "      <td>page</td>\n",
       "      <td>change</td>\n",
       "    </tr>\n",
       "    <tr>\n",
       "      <td>Topic 4</td>\n",
       "      <td>android</td>\n",
       "      <td>layoutwidth</td>\n",
       "      <td>layoutheight</td>\n",
       "      <td>wrapcontent</td>\n",
       "      <td>studio</td>\n",
       "    </tr>\n",
       "    <tr>\n",
       "      <td>Topic 5</td>\n",
       "      <td>div</td>\n",
       "      <td>height</td>\n",
       "      <td>id</td>\n",
       "      <td>width</td>\n",
       "      <td>html</td>\n",
       "    </tr>\n",
       "    <tr>\n",
       "      <td>Topic 6</td>\n",
       "      <td>table</td>\n",
       "      <td>database</td>\n",
       "      <td>mysql</td>\n",
       "      <td>sql</td>\n",
       "      <td>query</td>\n",
       "    </tr>\n",
       "    <tr>\n",
       "      <td>Topic 7</td>\n",
       "      <td>function</td>\n",
       "      <td>var</td>\n",
       "      <td>return</td>\n",
       "      <td>call</td>\n",
       "      <td>jquery</td>\n",
       "    </tr>\n",
       "    <tr>\n",
       "      <td>Topic 8</td>\n",
       "      <td>class</td>\n",
       "      <td>file</td>\n",
       "      <td>public</td>\n",
       "      <td>static</td>\n",
       "      <td>java</td>\n",
       "    </tr>\n",
       "    <tr>\n",
       "      <td>Topic 9</td>\n",
       "      <td>python</td>\n",
       "      <td>print</td>\n",
       "      <td>module</td>\n",
       "      <td>import</td>\n",
       "      <td>directory</td>\n",
       "    </tr>\n",
       "    <tr>\n",
       "      <td>Topic 10</td>\n",
       "      <td>124</td>\n",
       "      <td>null</td>\n",
       "      <td>grep</td>\n",
       "      <td>group</td>\n",
       "      <td>mysql</td>\n",
       "    </tr>\n",
       "    <tr>\n",
       "      <td>Topic 11</td>\n",
       "      <td>array</td>\n",
       "      <td>java</td>\n",
       "      <td>convert</td>\n",
       "      <td>int</td>\n",
       "      <td>numpy</td>\n",
       "    </tr>\n",
       "    <tr>\n",
       "      <td>Topic 12</td>\n",
       "      <td>run</td>\n",
       "      <td>error</td>\n",
       "      <td>install</td>\n",
       "      <td>command</td>\n",
       "      <td>try</td>\n",
       "    </tr>\n",
       "    <tr>\n",
       "      <td>Topic 13</td>\n",
       "      <td>request</td>\n",
       "      <td>url</td>\n",
       "      <td>json</td>\n",
       "      <td>data</td>\n",
       "      <td>http</td>\n",
       "    </tr>\n",
       "    <tr>\n",
       "      <td>Topic 14</td>\n",
       "      <td>javascript</td>\n",
       "      <td>object</td>\n",
       "      <td>date</td>\n",
       "      <td>convert</td>\n",
       "      <td>format</td>\n",
       "    </tr>\n",
       "    <tr>\n",
       "      <td>Topic 15</td>\n",
       "      <td>difference</td>\n",
       "      <td>image</td>\n",
       "      <td>what</td>\n",
       "      <td>docker</td>\n",
       "      <td>use</td>\n",
       "    </tr>\n",
       "    <tr>\n",
       "      <td>Topic 16</td>\n",
       "      <td>line</td>\n",
       "      <td>command</td>\n",
       "      <td>file</td>\n",
       "      <td>text</td>\n",
       "      <td>vim</td>\n",
       "    </tr>\n",
       "    <tr>\n",
       "      <td>Topic 17</td>\n",
       "      <td>value</td>\n",
       "      <td>key</td>\n",
       "      <td>jquery</td>\n",
       "      <td>input</td>\n",
       "      <td>type</td>\n",
       "    </tr>\n",
       "    <tr>\n",
       "      <td>Topic 18</td>\n",
       "      <td>branch</td>\n",
       "      <td>script</td>\n",
       "      <td>php</td>\n",
       "      <td>shell</td>\n",
       "      <td>master</td>\n",
       "    </tr>\n",
       "    <tr>\n",
       "      <td>Topic 19</td>\n",
       "      <td>list</td>\n",
       "      <td>item</td>\n",
       "      <td>number</td>\n",
       "      <td>sort</td>\n",
       "      <td>get</td>\n",
       "    </tr>\n",
       "  </tbody>\n",
       "</table>\n",
       "</div>"
      ],
      "text/plain": [
       "              Word 0       Word 1        Word 2       Word 3     Word 4\n",
       "Topic 0          use        would          code         like        one\n",
       "Topic 1          git       commit    repository       branch       file\n",
       "Topic 2       string      convert     character          int       char\n",
       "Topic 3         view       button           app         page     change\n",
       "Topic 4      android  layoutwidth  layoutheight  wrapcontent     studio\n",
       "Topic 5          div       height            id        width       html\n",
       "Topic 6        table     database         mysql          sql      query\n",
       "Topic 7     function          var        return         call     jquery\n",
       "Topic 8        class         file        public       static       java\n",
       "Topic 9       python        print        module       import  directory\n",
       "Topic 10         124         null          grep        group      mysql\n",
       "Topic 11       array         java       convert          int      numpy\n",
       "Topic 12         run        error       install      command        try\n",
       "Topic 13     request          url          json         data       http\n",
       "Topic 14  javascript       object          date      convert     format\n",
       "Topic 15  difference        image          what       docker        use\n",
       "Topic 16        line      command          file         text        vim\n",
       "Topic 17       value          key        jquery        input       type\n",
       "Topic 18      branch       script           php        shell     master\n",
       "Topic 19        list         item        number         sort        get"
      ]
     },
     "execution_count": 122,
     "metadata": {},
     "output_type": "execute_result"
    }
   ],
   "source": [
    "nmf_topic_keywords = show_topics(nmf, tf_idf_vectorizer_mono.get_feature_names(), 5)\n",
    "nmf_topic_keywords"
   ]
  },
  {
   "cell_type": "markdown",
   "metadata": {},
   "source": [
    "#### 3.5.2 - Prédiction sur 5 questions"
   ]
  },
  {
   "cell_type": "code",
   "execution_count": 129,
   "metadata": {
    "ExecuteTime": {
     "end_time": "2020-04-01T11:07:15.619250Z",
     "start_time": "2020-04-01T11:07:15.612249Z"
    }
   },
   "outputs": [
    {
     "data": {
      "text/html": [
       "<div>\n",
       "<style scoped>\n",
       "    .dataframe tbody tr th:only-of-type {\n",
       "        vertical-align: middle;\n",
       "    }\n",
       "\n",
       "    .dataframe tbody tr th {\n",
       "        vertical-align: top;\n",
       "    }\n",
       "\n",
       "    .dataframe thead th {\n",
       "        text-align: right;\n",
       "    }\n",
       "</style>\n",
       "<table border=\"1\" class=\"dataframe\">\n",
       "  <thead>\n",
       "    <tr style=\"text-align: right;\">\n",
       "      <th></th>\n",
       "      <th>tags</th>\n",
       "      <th>document</th>\n",
       "    </tr>\n",
       "  </thead>\n",
       "  <tbody>\n",
       "    <tr>\n",
       "      <td>2</td>\n",
       "      <td>[node.js]</td>\n",
       "      <td>restart node upon change file For someone come...</td>\n",
       "    </tr>\n",
       "    <tr>\n",
       "      <td>3</td>\n",
       "      <td>[html, css]</td>\n",
       "      <td>100 min height css layout What best way make e...</td>\n",
       "    </tr>\n",
       "    <tr>\n",
       "      <td>4</td>\n",
       "      <td>[regex, language-agnostic]</td>\n",
       "      <td>stack overflow generate seofriendly urls What ...</td>\n",
       "    </tr>\n",
       "    <tr>\n",
       "      <td>5</td>\n",
       "      <td>[java]</td>\n",
       "      <td>get oslevel system information I currently bui...</td>\n",
       "    </tr>\n",
       "    <tr>\n",
       "      <td>6</td>\n",
       "      <td>[security]</td>\n",
       "      <td>disable browser ave password functionality One...</td>\n",
       "    </tr>\n",
       "  </tbody>\n",
       "</table>\n",
       "</div>"
      ],
      "text/plain": [
       "                         tags  \\\n",
       "2                   [node.js]   \n",
       "3                 [html, css]   \n",
       "4  [regex, language-agnostic]   \n",
       "5                      [java]   \n",
       "6                  [security]   \n",
       "\n",
       "                                            document  \n",
       "2  restart node upon change file For someone come...  \n",
       "3  100 min height css layout What best way make e...  \n",
       "4  stack overflow generate seofriendly urls What ...  \n",
       "5  get oslevel system information I currently bui...  \n",
       "6  disable browser ave password functionality One...  "
      ]
     },
     "execution_count": 129,
     "metadata": {},
     "output_type": "execute_result"
    }
   ],
   "source": [
    "df.loc[[2, 3, 4, 5, 6]]"
   ]
  },
  {
   "cell_type": "code",
   "execution_count": 123,
   "metadata": {
    "ExecuteTime": {
     "end_time": "2020-04-01T11:06:28.661284Z",
     "start_time": "2020-04-01T11:06:28.649755Z"
    }
   },
   "outputs": [
    {
     "data": {
      "text/plain": [
       "(['branch', 'script', 'php', 'shell', 'master'],\n",
       " array([[1.20445393e-02, 5.15389109e-03, 0.00000000e+00, 1.13947114e-02,\n",
       "         0.00000000e+00, 0.00000000e+00, 0.00000000e+00, 2.33221801e-03,\n",
       "         5.27356887e-03, 2.13435249e-04, 0.00000000e+00, 0.00000000e+00,\n",
       "         3.26941984e-02, 0.00000000e+00, 0.00000000e+00, 1.47567745e-03,\n",
       "         2.90549463e-03, 7.83827930e-05, 3.27171475e-02, 0.00000000e+00]]))"
      ]
     },
     "execution_count": 123,
     "metadata": {},
     "output_type": "execute_result"
    }
   ],
   "source": [
    "predict_topic([df.loc[2, \"document\"]], tf_idf_vectorizer_mono, nmf, nmf_topic_keywords)"
   ]
  },
  {
   "cell_type": "code",
   "execution_count": 124,
   "metadata": {
    "ExecuteTime": {
     "end_time": "2020-04-01T11:06:38.777256Z",
     "start_time": "2020-04-01T11:06:38.766259Z"
    }
   },
   "outputs": [
    {
     "data": {
      "text/plain": [
       "(['div', 'height', 'id', 'width', 'html'],\n",
       " array([[4.95087130e-03, 0.00000000e+00, 8.95061682e-04, 1.49808219e-02,\n",
       "         7.42072606e-04, 4.59855802e-02, 4.73948997e-05, 0.00000000e+00,\n",
       "         0.00000000e+00, 1.18147505e-03, 2.13906814e-03, 3.53313324e-03,\n",
       "         0.00000000e+00, 0.00000000e+00, 1.95563303e-03, 7.21157117e-03,\n",
       "         0.00000000e+00, 0.00000000e+00, 0.00000000e+00, 4.91890828e-03]]))"
      ]
     },
     "execution_count": 124,
     "metadata": {},
     "output_type": "execute_result"
    }
   ],
   "source": [
    "predict_topic([df.loc[3, \"document\"]], tf_idf_vectorizer_mono, nmf, nmf_topic_keywords)"
   ]
  },
  {
   "cell_type": "code",
   "execution_count": 126,
   "metadata": {
    "ExecuteTime": {
     "end_time": "2020-04-01T11:06:47.195644Z",
     "start_time": "2020-04-01T11:06:47.184646Z"
    }
   },
   "outputs": [
    {
     "data": {
      "text/plain": [
       "(['use', 'would', 'code', 'like', 'one'],\n",
       " array([[0.02959068, 0.        , 0.01454197, 0.00516479, 0.        ,\n",
       "         0.00127236, 0.        , 0.        , 0.        , 0.00020221,\n",
       "         0.00281306, 0.        , 0.        , 0.00634332, 0.        ,\n",
       "         0.00267646, 0.01817229, 0.        , 0.00524351, 0.        ]]))"
      ]
     },
     "execution_count": 126,
     "metadata": {},
     "output_type": "execute_result"
    }
   ],
   "source": [
    "predict_topic([df.loc[4, \"document\"]], tf_idf_vectorizer_mono, nmf, nmf_topic_keywords)"
   ]
  },
  {
   "cell_type": "code",
   "execution_count": 127,
   "metadata": {
    "ExecuteTime": {
     "end_time": "2020-04-01T11:06:51.617182Z",
     "start_time": "2020-04-01T11:06:51.606183Z"
    }
   },
   "outputs": [
    {
     "data": {
      "text/plain": [
       "(['run', 'error', 'install', 'command', 'try'],\n",
       " array([[0.02717684, 0.        , 0.0012673 , 0.00605697, 0.00082573,\n",
       "         0.        , 0.        , 0.        , 0.00163245, 0.        ,\n",
       "         0.        , 0.00397661, 0.03166069, 0.00089915, 0.        ,\n",
       "         0.00404326, 0.        , 0.        , 0.        , 0.        ]]))"
      ]
     },
     "execution_count": 127,
     "metadata": {},
     "output_type": "execute_result"
    }
   ],
   "source": [
    "predict_topic([df.loc[5, \"document\"]], tf_idf_vectorizer_mono, nmf, nmf_topic_keywords)"
   ]
  },
  {
   "cell_type": "code",
   "execution_count": 128,
   "metadata": {
    "ExecuteTime": {
     "end_time": "2020-04-01T11:06:57.205636Z",
     "start_time": "2020-04-01T11:06:57.193639Z"
    }
   },
   "outputs": [
    {
     "data": {
      "text/plain": [
       "(['use', 'would', 'code', 'like', 'one'],\n",
       " array([[0.03309262, 0.00018992, 0.        , 0.00694811, 0.        ,\n",
       "         0.        , 0.        , 0.        , 0.        , 0.        ,\n",
       "         0.        , 0.        , 0.00053856, 0.00600398, 0.00198432,\n",
       "         0.        , 0.        , 0.00111599, 0.00020021, 0.00084091]]))"
      ]
     },
     "execution_count": 128,
     "metadata": {},
     "output_type": "execute_result"
    }
   ],
   "source": [
    "predict_topic([df.loc[6, \"document\"]], tf_idf_vectorizer_mono, nmf, nmf_topic_keywords)"
   ]
  },
  {
   "cell_type": "markdown",
   "metadata": {},
   "source": [
    "On se rend compte que NMF est plus pertinent pour notre cas, même s'il n'est pas parfait."
   ]
  },
  {
   "cell_type": "markdown",
   "metadata": {},
   "source": [
    "#### 3.5.3 - NMF Inverse"
   ]
  },
  {
   "cell_type": "code",
   "execution_count": 136,
   "metadata": {
    "ExecuteTime": {
     "end_time": "2020-04-01T11:12:16.256256Z",
     "start_time": "2020-04-01T11:12:16.209730Z"
    }
   },
   "outputs": [],
   "source": [
    "tfidf_mono_features_nm = tf_idf_vectorizer_mono.get_feature_names()"
   ]
  },
  {
   "cell_type": "code",
   "execution_count": 137,
   "metadata": {
    "ExecuteTime": {
     "end_time": "2020-04-01T11:12:16.537232Z",
     "start_time": "2020-04-01T11:12:16.533231Z"
    }
   },
   "outputs": [],
   "source": [
    "def top_tags_from_nmf(x, vec_model, nmf_mod, score_min=0.05):\n",
    "    \"\"\"Returns dictionnary with words maximally associated to document and their relative NMF score.\n",
    "    Score of words are calculated by multiplication between NMF transformed W matrix and NMF fitted H\n",
    "    (vocabulary) value to get importance of each words into topic definition.\n",
    "    Args:\n",
    "        x: Token to be analyzed (list of ngrams)\n",
    "        vec_model: Vectorizer model used for TFIDF calculation\n",
    "        nmf_mod: Trained NMF model\n",
    "        score_min: threshold score for keeping word\n",
    "    \"\"\"\n",
    "    tfidf_target = vec_model.transform(x)\n",
    "    target_nmf_trans = nmf_mod.transform(tfidf_target)\n",
    "    \n",
    "    tags_scores = np.dot(target_nmf_trans, nmf_mod.components_).tolist()[0]\n",
    "\n",
    "    dict_tags_score = dict(zip(tfidf_mono_features_nm, tags_scores))\n",
    "    \n",
    "    return { k: v for k, v in dict_tags_score.items() if v >= score_min }\n"
   ]
  },
  {
   "cell_type": "code",
   "execution_count": 138,
   "metadata": {
    "ExecuteTime": {
     "end_time": "2020-04-01T11:12:18.131041Z",
     "start_time": "2020-04-01T11:12:18.101542Z"
    },
    "scrolled": true
   },
   "outputs": [
    {
     "data": {
      "text/plain": [
       "{'branch': 0.06275273512352307, 'script': 0.0571124107319197}"
      ]
     },
     "execution_count": 138,
     "metadata": {},
     "output_type": "execute_result"
    }
   ],
   "source": [
    "top_tags_from_nmf([df[\"document\"][2]], tf_idf_vectorizer_mono, nmf, score_min=0.05)"
   ]
  },
  {
   "cell_type": "code",
   "execution_count": 139,
   "metadata": {
    "ExecuteTime": {
     "end_time": "2020-04-01T11:12:18.555041Z",
     "start_time": "2020-04-01T11:12:18.525039Z"
    }
   },
   "outputs": [
    {
     "data": {
      "text/plain": [
       "{'div': 0.14133586467020212}"
      ]
     },
     "execution_count": 139,
     "metadata": {},
     "output_type": "execute_result"
    }
   ],
   "source": [
    "top_tags_from_nmf([df[\"document\"][3]], tf_idf_vectorizer_mono, nmf, score_min=0.05)"
   ]
  },
  {
   "cell_type": "code",
   "execution_count": 140,
   "metadata": {
    "ExecuteTime": {
     "end_time": "2020-04-01T11:12:18.961071Z",
     "start_time": "2020-04-01T11:12:18.925065Z"
    }
   },
   "outputs": [
    {
     "data": {
      "text/plain": [
       "{'string': 0.08241702943453574, 'use': 0.06510925531369748}"
      ]
     },
     "execution_count": 140,
     "metadata": {},
     "output_type": "execute_result"
    }
   ],
   "source": [
    "top_tags_from_nmf([df[\"document\"][4]], tf_idf_vectorizer_mono, nmf, score_min=0.05)"
   ]
  },
  {
   "cell_type": "code",
   "execution_count": 141,
   "metadata": {
    "ExecuteTime": {
     "end_time": "2020-04-01T11:12:19.977532Z",
     "start_time": "2020-04-01T11:12:19.946001Z"
    }
   },
   "outputs": [
    {
     "data": {
      "text/plain": [
       "{'use': 0.05932483512282445}"
      ]
     },
     "execution_count": 141,
     "metadata": {},
     "output_type": "execute_result"
    }
   ],
   "source": [
    "top_tags_from_nmf([df[\"document\"][5]], tf_idf_vectorizer_mono, nmf, score_min=0.05)"
   ]
  },
  {
   "cell_type": "code",
   "execution_count": 142,
   "metadata": {
    "ExecuteTime": {
     "end_time": "2020-04-01T11:12:20.724079Z",
     "start_time": "2020-04-01T11:12:20.697581Z"
    }
   },
   "outputs": [
    {
     "data": {
      "text/plain": [
       "{'use': 0.06989073599917482}"
      ]
     },
     "execution_count": 142,
     "metadata": {},
     "output_type": "execute_result"
    }
   ],
   "source": [
    "top_tags_from_nmf([df[\"document\"][6]], tf_idf_vectorizer_mono, nmf, score_min=0.05)"
   ]
  },
  {
   "cell_type": "markdown",
   "metadata": {},
   "source": [
    "## 4. Analyse supervisé"
   ]
  },
  {
   "cell_type": "markdown",
   "metadata": {},
   "source": [
    "### 4.1. Sépération dans jeu d'entrainement et jeu de test"
   ]
  },
  {
   "cell_type": "code",
   "execution_count": 143,
   "metadata": {
    "ExecuteTime": {
     "end_time": "2020-04-01T11:12:59.174632Z",
     "start_time": "2020-04-01T11:12:59.172632Z"
    }
   },
   "outputs": [],
   "source": [
    "X = df[\"document\"]\n",
    "y = df[\"tags\"]"
   ]
  },
  {
   "cell_type": "code",
   "execution_count": 144,
   "metadata": {
    "ExecuteTime": {
     "end_time": "2020-04-01T11:12:59.614132Z",
     "start_time": "2020-04-01T11:12:59.599632Z"
    }
   },
   "outputs": [],
   "source": [
    "mlb = MultiLabelBinarizer()\n",
    "y_bin = mlb.fit_transform(y)"
   ]
  },
  {
   "cell_type": "code",
   "execution_count": 145,
   "metadata": {
    "ExecuteTime": {
     "end_time": "2020-04-01T11:13:00.037634Z",
     "start_time": "2020-04-01T11:13:00.033633Z"
    }
   },
   "outputs": [
    {
     "data": {
      "text/plain": [
       "array(['.net', 'ajax', 'algorithm', 'android', 'android-fragments',\n",
       "       'android-studio', 'angular', 'angularjs', 'arrays', 'asp.net',\n",
       "       'asp.net-mvc', 'bash', 'c', 'c#', 'c++', 'c++11', 'class',\n",
       "       'cocoa-touch', 'command-line', 'css', 'csv', 'data-structures',\n",
       "       'database', 'dataframe', 'date', 'datetime', 'debugging',\n",
       "       'design-patterns', 'dictionary', 'django', 'docker', 'eclipse',\n",
       "       'exception', 'express', 'file', 'file-io', 'function', 'generics',\n",
       "       'git', 'github', 'google-chrome', 'html', 'http', 'image', 'ios',\n",
       "       'iphone', 'java', 'javascript', 'jquery', 'json',\n",
       "       'language-agnostic', 'linux', 'list', 'logging', 'macos', 'math',\n",
       "       'mongodb', 'multithreading', 'mysql', 'node.js', 'npm', 'object',\n",
       "       'objective-c', 'oop', 'pandas', 'performance', 'php', 'pip',\n",
       "       'postgresql', 'python', 'r', 'r-faq', 'reactjs', 'regex', 'rest',\n",
       "       'ruby', 'ruby-on-rails', 'scripting', 'security', 'shell',\n",
       "       'sorting', 'spring', 'sql', 'sql-server', 'ssh', 'string', 'swift',\n",
       "       'syntax', 'terminology', 'tsql', 'twitter-bootstrap',\n",
       "       'unit-testing', 'unix', 'url', 'version-control', 'vim',\n",
       "       'visual-studio', 'windows', 'xcode', 'xml'], dtype=object)"
      ]
     },
     "execution_count": 145,
     "metadata": {},
     "output_type": "execute_result"
    }
   ],
   "source": [
    "mlb.classes_"
   ]
  },
  {
   "cell_type": "code",
   "execution_count": 71,
   "metadata": {
    "ExecuteTime": {
     "end_time": "2020-04-01T10:45:17.228342Z",
     "start_time": "2020-04-01T10:45:17.219310Z"
    }
   },
   "outputs": [],
   "source": [
    "vectorizer_X = TfidfVectorizer(min_df=0.0, max_features=200000, ngram_range=(1,1))"
   ]
  },
  {
   "cell_type": "code",
   "execution_count": 72,
   "metadata": {
    "ExecuteTime": {
     "end_time": "2020-04-01T10:45:18.409310Z",
     "start_time": "2020-04-01T10:45:17.689312Z"
    }
   },
   "outputs": [],
   "source": [
    "X_tfidf = vectorizer_X.fit_transform(X)"
   ]
  },
  {
   "cell_type": "code",
   "execution_count": 73,
   "metadata": {
    "ExecuteTime": {
     "end_time": "2020-04-01T10:45:18.789334Z",
     "start_time": "2020-04-01T10:45:18.775813Z"
    }
   },
   "outputs": [],
   "source": [
    "X_train, X_test, y_train, y_test = train_test_split(X_tfidf, y_bin, test_size=0.2)"
   ]
  },
  {
   "cell_type": "code",
   "execution_count": 74,
   "metadata": {
    "ExecuteTime": {
     "end_time": "2020-04-01T10:45:19.251985Z",
     "start_time": "2020-04-01T10:45:19.248485Z"
    }
   },
   "outputs": [
    {
     "name": "stdout",
     "output_type": "stream",
     "text": [
      "Nombre de données dans le training set :  11989\n",
      "Nombre de données dans le test set :  2998\n"
     ]
    }
   ],
   "source": [
    "print(\"Nombre de données dans le training set : \", X_train.shape[0])\n",
    "print(\"Nombre de données dans le test set : \", X_test.shape[0])"
   ]
  },
  {
   "cell_type": "markdown",
   "metadata": {},
   "source": [
    "### 4.2. Modélisations"
   ]
  },
  {
   "cell_type": "code",
   "execution_count": 75,
   "metadata": {
    "ExecuteTime": {
     "end_time": "2020-04-01T10:45:20.376638Z",
     "start_time": "2020-04-01T10:45:20.371137Z"
    }
   },
   "outputs": [],
   "source": [
    "def avg_jaccard(y_test, y_pred):\n",
    "    '''\n",
    "    see https://en.wikipedia.org/wiki/Multi-label_classification#Statistics_and_evaluation_metrics\n",
    "    '''\n",
    "    jacard = np.minimum(y_test, y_pred).sum(axis=1) / \\\n",
    "        np.maximum(y_test, y_pred).sum(axis=1)\n",
    "    return jacard.mean()*100\n",
    "\n",
    "\n",
    "def get_score(y_pred, model, submodel=\"\"):\n",
    "    classifier_name = model.__class__.__name__\n",
    "    macro_f1_score = metrics.f1_score(y_test, y_pred, average=\"macro\")\n",
    "    micro_f1_score = metrics.f1_score(y_test, y_pred, average=\"micro\")\n",
    "    jaccard_score = avg_jaccard(y_test, y_pred)\n",
    "    hamming_loss = metrics.hamming_loss(y_test, y_pred)\n",
    "    data = {\"Macro F1 Score\": macro_f1_score, \"Micro F1 Score\": micro_f1_score,\n",
    "            \"Jaccard Score\": jaccard_score, \"Hamming_loss\": hamming_loss}\n",
    "    if(submodel):\n",
    "        return pd.DataFrame(data=data, index=[submodel])\n",
    "    else:\n",
    "        return pd.DataFrame(data=data, index=[classifier_name])"
   ]
  },
  {
   "cell_type": "markdown",
   "metadata": {},
   "source": [
    "#### 4.2.1. DummyClassifier"
   ]
  },
  {
   "cell_type": "code",
   "execution_count": 76,
   "metadata": {
    "ExecuteTime": {
     "end_time": "2020-04-01T10:45:21.456777Z",
     "start_time": "2020-04-01T10:45:21.278778Z"
    }
   },
   "outputs": [
    {
     "data": {
      "text/html": [
       "<div>\n",
       "<style scoped>\n",
       "    .dataframe tbody tr th:only-of-type {\n",
       "        vertical-align: middle;\n",
       "    }\n",
       "\n",
       "    .dataframe tbody tr th {\n",
       "        vertical-align: top;\n",
       "    }\n",
       "\n",
       "    .dataframe thead th {\n",
       "        text-align: right;\n",
       "    }\n",
       "</style>\n",
       "<table border=\"1\" class=\"dataframe\">\n",
       "  <thead>\n",
       "    <tr style=\"text-align: right;\">\n",
       "      <th></th>\n",
       "      <th>Macro F1 Score</th>\n",
       "      <th>Micro F1 Score</th>\n",
       "      <th>Jaccard Score</th>\n",
       "      <th>Hamming_loss</th>\n",
       "    </tr>\n",
       "  </thead>\n",
       "  <tbody>\n",
       "    <tr>\n",
       "      <td>DummyClassifier</td>\n",
       "      <td>0.014676</td>\n",
       "      <td>0.044458</td>\n",
       "      <td>2.501588</td>\n",
       "      <td>0.031544</td>\n",
       "    </tr>\n",
       "  </tbody>\n",
       "</table>\n",
       "</div>"
      ],
      "text/plain": [
       "                 Macro F1 Score  Micro F1 Score  Jaccard Score  Hamming_loss\n",
       "DummyClassifier        0.014676        0.044458       2.501588      0.031544"
      ]
     },
     "execution_count": 76,
     "metadata": {},
     "output_type": "execute_result"
    }
   ],
   "source": [
    "dummy_clf = OneVsRestClassifier(DummyClassifier())\n",
    "dummy_clf.fit(X_train, y_train)\n",
    "y_pred = dummy_clf.predict(X_test)\n",
    "dummy_score = get_score(y_pred, dummy_clf, \"DummyClassifier\")\n",
    "dummy_score"
   ]
  },
  {
   "cell_type": "markdown",
   "metadata": {},
   "source": [
    "#### 4.2.2. RandomForestClassifier"
   ]
  },
  {
   "cell_type": "code",
   "execution_count": 78,
   "metadata": {
    "ExecuteTime": {
     "end_time": "2020-04-01T10:45:43.552235Z",
     "start_time": "2020-04-01T10:45:34.105732Z"
    }
   },
   "outputs": [
    {
     "data": {
      "text/html": [
       "<div>\n",
       "<style scoped>\n",
       "    .dataframe tbody tr th:only-of-type {\n",
       "        vertical-align: middle;\n",
       "    }\n",
       "\n",
       "    .dataframe tbody tr th {\n",
       "        vertical-align: top;\n",
       "    }\n",
       "\n",
       "    .dataframe thead th {\n",
       "        text-align: right;\n",
       "    }\n",
       "</style>\n",
       "<table border=\"1\" class=\"dataframe\">\n",
       "  <thead>\n",
       "    <tr style=\"text-align: right;\">\n",
       "      <th></th>\n",
       "      <th>Macro F1 Score</th>\n",
       "      <th>Micro F1 Score</th>\n",
       "      <th>Jaccard Score</th>\n",
       "      <th>Hamming_loss</th>\n",
       "    </tr>\n",
       "  </thead>\n",
       "  <tbody>\n",
       "    <tr>\n",
       "      <td>RandomForestClassifier</td>\n",
       "      <td>0.122779</td>\n",
       "      <td>0.293306</td>\n",
       "      <td>20.792751</td>\n",
       "      <td>0.013839</td>\n",
       "    </tr>\n",
       "  </tbody>\n",
       "</table>\n",
       "</div>"
      ],
      "text/plain": [
       "                        Macro F1 Score  Micro F1 Score  Jaccard Score  \\\n",
       "RandomForestClassifier        0.122779        0.293306      20.792751   \n",
       "\n",
       "                        Hamming_loss  \n",
       "RandomForestClassifier      0.013839  "
      ]
     },
     "execution_count": 78,
     "metadata": {},
     "output_type": "execute_result"
    }
   ],
   "source": [
    "rf_clf = RandomForestClassifier()\n",
    "rf_clf.fit(X_train, y_train)\n",
    "y_pred = rf_clf.predict(X_test)\n",
    "rfc_score = get_score(y_pred, rf_clf)\n",
    "rfc_score"
   ]
  },
  {
   "cell_type": "markdown",
   "metadata": {},
   "source": [
    "#### 4.2.3. LogisticRegression"
   ]
  },
  {
   "cell_type": "code",
   "execution_count": 79,
   "metadata": {
    "ExecuteTime": {
     "end_time": "2020-04-01T10:45:54.831694Z",
     "start_time": "2020-04-01T10:45:45.730695Z"
    }
   },
   "outputs": [
    {
     "data": {
      "text/html": [
       "<div>\n",
       "<style scoped>\n",
       "    .dataframe tbody tr th:only-of-type {\n",
       "        vertical-align: middle;\n",
       "    }\n",
       "\n",
       "    .dataframe tbody tr th {\n",
       "        vertical-align: top;\n",
       "    }\n",
       "\n",
       "    .dataframe thead th {\n",
       "        text-align: right;\n",
       "    }\n",
       "</style>\n",
       "<table border=\"1\" class=\"dataframe\">\n",
       "  <thead>\n",
       "    <tr style=\"text-align: right;\">\n",
       "      <th></th>\n",
       "      <th>Macro F1 Score</th>\n",
       "      <th>Micro F1 Score</th>\n",
       "      <th>Jaccard Score</th>\n",
       "      <th>Hamming_loss</th>\n",
       "    </tr>\n",
       "  </thead>\n",
       "  <tbody>\n",
       "    <tr>\n",
       "      <td>LogisticRegression</td>\n",
       "      <td>0.222809</td>\n",
       "      <td>0.435598</td>\n",
       "      <td>31.120191</td>\n",
       "      <td>0.012248</td>\n",
       "    </tr>\n",
       "  </tbody>\n",
       "</table>\n",
       "</div>"
      ],
      "text/plain": [
       "                    Macro F1 Score  Micro F1 Score  Jaccard Score  \\\n",
       "LogisticRegression        0.222809        0.435598      31.120191   \n",
       "\n",
       "                    Hamming_loss  \n",
       "LogisticRegression      0.012248  "
      ]
     },
     "execution_count": 79,
     "metadata": {},
     "output_type": "execute_result"
    }
   ],
   "source": [
    "lg_clf = OneVsRestClassifier(LogisticRegression())\n",
    "lg_clf.fit(X_train, y_train)\n",
    "y_pred = lg_clf.predict(X_test)\n",
    "lr_score = get_score(y_pred, lg_clf, \"LogisticRegression\")\n",
    "lr_score"
   ]
  },
  {
   "cell_type": "markdown",
   "metadata": {},
   "source": [
    "#### 4.2.4. SGDClassifier "
   ]
  },
  {
   "cell_type": "code",
   "execution_count": 80,
   "metadata": {
    "ExecuteTime": {
     "end_time": "2020-04-01T10:45:58.828080Z",
     "start_time": "2020-04-01T10:45:56.953078Z"
    }
   },
   "outputs": [
    {
     "data": {
      "text/html": [
       "<div>\n",
       "<style scoped>\n",
       "    .dataframe tbody tr th:only-of-type {\n",
       "        vertical-align: middle;\n",
       "    }\n",
       "\n",
       "    .dataframe tbody tr th {\n",
       "        vertical-align: top;\n",
       "    }\n",
       "\n",
       "    .dataframe thead th {\n",
       "        text-align: right;\n",
       "    }\n",
       "</style>\n",
       "<table border=\"1\" class=\"dataframe\">\n",
       "  <thead>\n",
       "    <tr style=\"text-align: right;\">\n",
       "      <th></th>\n",
       "      <th>Macro F1 Score</th>\n",
       "      <th>Micro F1 Score</th>\n",
       "      <th>Jaccard Score</th>\n",
       "      <th>Hamming_loss</th>\n",
       "    </tr>\n",
       "  </thead>\n",
       "  <tbody>\n",
       "    <tr>\n",
       "      <td>SGDClassifier</td>\n",
       "      <td>0.458664</td>\n",
       "      <td>0.620071</td>\n",
       "      <td>50.470314</td>\n",
       "      <td>0.00961</td>\n",
       "    </tr>\n",
       "  </tbody>\n",
       "</table>\n",
       "</div>"
      ],
      "text/plain": [
       "               Macro F1 Score  Micro F1 Score  Jaccard Score  Hamming_loss\n",
       "SGDClassifier        0.458664        0.620071      50.470314       0.00961"
      ]
     },
     "execution_count": 80,
     "metadata": {},
     "output_type": "execute_result"
    }
   ],
   "source": [
    "sgd_clf = OneVsRestClassifier(SGDClassifier())\n",
    "sgd_clf.fit(X_train, y_train)\n",
    "y_pred = sgd_clf.predict(X_test)\n",
    "sgdc_score = get_score(y_pred, sgd_clf, \"SGDClassifier\")\n",
    "sgdc_score"
   ]
  },
  {
   "cell_type": "markdown",
   "metadata": {},
   "source": [
    "#### 4.2.5. MultinomialNB"
   ]
  },
  {
   "cell_type": "code",
   "execution_count": 81,
   "metadata": {
    "ExecuteTime": {
     "end_time": "2020-04-01T10:46:01.670674Z",
     "start_time": "2020-04-01T10:46:00.668175Z"
    }
   },
   "outputs": [
    {
     "data": {
      "text/html": [
       "<div>\n",
       "<style scoped>\n",
       "    .dataframe tbody tr th:only-of-type {\n",
       "        vertical-align: middle;\n",
       "    }\n",
       "\n",
       "    .dataframe tbody tr th {\n",
       "        vertical-align: top;\n",
       "    }\n",
       "\n",
       "    .dataframe thead th {\n",
       "        text-align: right;\n",
       "    }\n",
       "</style>\n",
       "<table border=\"1\" class=\"dataframe\">\n",
       "  <thead>\n",
       "    <tr style=\"text-align: right;\">\n",
       "      <th></th>\n",
       "      <th>Macro F1 Score</th>\n",
       "      <th>Micro F1 Score</th>\n",
       "      <th>Jaccard Score</th>\n",
       "      <th>Hamming_loss</th>\n",
       "    </tr>\n",
       "  </thead>\n",
       "  <tbody>\n",
       "    <tr>\n",
       "      <td>MultinomialNB</td>\n",
       "      <td>0.001746</td>\n",
       "      <td>0.005556</td>\n",
       "      <td>0.317545</td>\n",
       "      <td>0.016718</td>\n",
       "    </tr>\n",
       "  </tbody>\n",
       "</table>\n",
       "</div>"
      ],
      "text/plain": [
       "               Macro F1 Score  Micro F1 Score  Jaccard Score  Hamming_loss\n",
       "MultinomialNB        0.001746        0.005556       0.317545      0.016718"
      ]
     },
     "execution_count": 81,
     "metadata": {},
     "output_type": "execute_result"
    }
   ],
   "source": [
    "mnb_clf = OneVsRestClassifier(MultinomialNB())\n",
    "mnb_clf.fit(X_train, y_train)\n",
    "y_pred = mnb_clf.predict(X_test)\n",
    "mnb_score = get_score(y_pred, mnb_clf, \"MultinomialNB\")\n",
    "mnb_score"
   ]
  },
  {
   "cell_type": "markdown",
   "metadata": {},
   "source": [
    "#### 4.2.6. LinearSVC"
   ]
  },
  {
   "cell_type": "code",
   "execution_count": 82,
   "metadata": {
    "ExecuteTime": {
     "end_time": "2020-04-01T10:46:05.881956Z",
     "start_time": "2020-04-01T10:46:03.189953Z"
    }
   },
   "outputs": [
    {
     "data": {
      "text/html": [
       "<div>\n",
       "<style scoped>\n",
       "    .dataframe tbody tr th:only-of-type {\n",
       "        vertical-align: middle;\n",
       "    }\n",
       "\n",
       "    .dataframe tbody tr th {\n",
       "        vertical-align: top;\n",
       "    }\n",
       "\n",
       "    .dataframe thead th {\n",
       "        text-align: right;\n",
       "    }\n",
       "</style>\n",
       "<table border=\"1\" class=\"dataframe\">\n",
       "  <thead>\n",
       "    <tr style=\"text-align: right;\">\n",
       "      <th></th>\n",
       "      <th>Macro F1 Score</th>\n",
       "      <th>Micro F1 Score</th>\n",
       "      <th>Jaccard Score</th>\n",
       "      <th>Hamming_loss</th>\n",
       "    </tr>\n",
       "  </thead>\n",
       "  <tbody>\n",
       "    <tr>\n",
       "      <td>LinearSVC</td>\n",
       "      <td>0.511001</td>\n",
       "      <td>0.642125</td>\n",
       "      <td>52.653436</td>\n",
       "      <td>0.009436</td>\n",
       "    </tr>\n",
       "  </tbody>\n",
       "</table>\n",
       "</div>"
      ],
      "text/plain": [
       "           Macro F1 Score  Micro F1 Score  Jaccard Score  Hamming_loss\n",
       "LinearSVC        0.511001        0.642125      52.653436      0.009436"
      ]
     },
     "execution_count": 82,
     "metadata": {},
     "output_type": "execute_result"
    }
   ],
   "source": [
    "svc_clf = OneVsRestClassifier(LinearSVC())\n",
    "svc_clf.fit(X_train, y_train)\n",
    "y_pred = svc_clf.predict(X_test)\n",
    "svc_score = get_score(y_pred, svc_clf, \"LinearSVC\")\n",
    "svc_score"
   ]
  },
  {
   "cell_type": "markdown",
   "metadata": {},
   "source": [
    "#### 4.2.7. Perceptron"
   ]
  },
  {
   "cell_type": "code",
   "execution_count": 83,
   "metadata": {
    "ExecuteTime": {
     "end_time": "2020-04-01T10:46:10.330999Z",
     "start_time": "2020-04-01T10:46:08.715002Z"
    }
   },
   "outputs": [
    {
     "data": {
      "text/html": [
       "<div>\n",
       "<style scoped>\n",
       "    .dataframe tbody tr th:only-of-type {\n",
       "        vertical-align: middle;\n",
       "    }\n",
       "\n",
       "    .dataframe tbody tr th {\n",
       "        vertical-align: top;\n",
       "    }\n",
       "\n",
       "    .dataframe thead th {\n",
       "        text-align: right;\n",
       "    }\n",
       "</style>\n",
       "<table border=\"1\" class=\"dataframe\">\n",
       "  <thead>\n",
       "    <tr style=\"text-align: right;\">\n",
       "      <th></th>\n",
       "      <th>Macro F1 Score</th>\n",
       "      <th>Micro F1 Score</th>\n",
       "      <th>Jaccard Score</th>\n",
       "      <th>Hamming_loss</th>\n",
       "    </tr>\n",
       "  </thead>\n",
       "  <tbody>\n",
       "    <tr>\n",
       "      <td>Perceptron</td>\n",
       "      <td>0.539092</td>\n",
       "      <td>0.633964</td>\n",
       "      <td>53.215239</td>\n",
       "      <td>0.010777</td>\n",
       "    </tr>\n",
       "  </tbody>\n",
       "</table>\n",
       "</div>"
      ],
      "text/plain": [
       "            Macro F1 Score  Micro F1 Score  Jaccard Score  Hamming_loss\n",
       "Perceptron        0.539092        0.633964      53.215239      0.010777"
      ]
     },
     "execution_count": 83,
     "metadata": {},
     "output_type": "execute_result"
    }
   ],
   "source": [
    "perc_clf = OneVsRestClassifier(Perceptron())\n",
    "perc_clf.fit(X_train, y_train)\n",
    "y_pred = perc_clf.predict(X_test)\n",
    "perceptron_score = get_score(y_pred, perc_clf, \"Perceptron\")\n",
    "perceptron_score"
   ]
  },
  {
   "cell_type": "markdown",
   "metadata": {},
   "source": [
    "#### 4.2.8. PassiveAggressiveClassifier"
   ]
  },
  {
   "cell_type": "code",
   "execution_count": 84,
   "metadata": {
    "ExecuteTime": {
     "end_time": "2020-04-01T10:46:14.638469Z",
     "start_time": "2020-04-01T10:46:11.942967Z"
    }
   },
   "outputs": [
    {
     "data": {
      "text/html": [
       "<div>\n",
       "<style scoped>\n",
       "    .dataframe tbody tr th:only-of-type {\n",
       "        vertical-align: middle;\n",
       "    }\n",
       "\n",
       "    .dataframe tbody tr th {\n",
       "        vertical-align: top;\n",
       "    }\n",
       "\n",
       "    .dataframe thead th {\n",
       "        text-align: right;\n",
       "    }\n",
       "</style>\n",
       "<table border=\"1\" class=\"dataframe\">\n",
       "  <thead>\n",
       "    <tr style=\"text-align: right;\">\n",
       "      <th></th>\n",
       "      <th>Macro F1 Score</th>\n",
       "      <th>Micro F1 Score</th>\n",
       "      <th>Jaccard Score</th>\n",
       "      <th>Hamming_loss</th>\n",
       "    </tr>\n",
       "  </thead>\n",
       "  <tbody>\n",
       "    <tr>\n",
       "      <td>PassiveAggressiveClassifier</td>\n",
       "      <td>0.543538</td>\n",
       "      <td>0.650517</td>\n",
       "      <td>54.349566</td>\n",
       "      <td>0.009913</td>\n",
       "    </tr>\n",
       "  </tbody>\n",
       "</table>\n",
       "</div>"
      ],
      "text/plain": [
       "                             Macro F1 Score  Micro F1 Score  Jaccard Score  \\\n",
       "PassiveAggressiveClassifier        0.543538        0.650517      54.349566   \n",
       "\n",
       "                             Hamming_loss  \n",
       "PassiveAggressiveClassifier      0.009913  "
      ]
     },
     "execution_count": 84,
     "metadata": {},
     "output_type": "execute_result"
    }
   ],
   "source": [
    "pa_clf = OneVsRestClassifier(PassiveAggressiveClassifier())\n",
    "pa_clf.fit(X_train, y_train)\n",
    "y_pred = pa_clf.predict(X_test)\n",
    "pac_score = get_score(y_pred, pa_clf, \"PassiveAggressiveClassifier\")\n",
    "pac_score"
   ]
  },
  {
   "cell_type": "markdown",
   "metadata": {},
   "source": [
    "#### 4.2.9. MultiLayerPerceptron Classifier"
   ]
  },
  {
   "cell_type": "code",
   "execution_count": 85,
   "metadata": {
    "ExecuteTime": {
     "end_time": "2020-04-01T10:46:19.906154Z",
     "start_time": "2020-04-01T10:46:16.751657Z"
    },
    "scrolled": true
   },
   "outputs": [
    {
     "data": {
      "text/html": [
       "<div>\n",
       "<style scoped>\n",
       "    .dataframe tbody tr th:only-of-type {\n",
       "        vertical-align: middle;\n",
       "    }\n",
       "\n",
       "    .dataframe tbody tr th {\n",
       "        vertical-align: top;\n",
       "    }\n",
       "\n",
       "    .dataframe thead th {\n",
       "        text-align: right;\n",
       "    }\n",
       "</style>\n",
       "<table border=\"1\" class=\"dataframe\">\n",
       "  <thead>\n",
       "    <tr style=\"text-align: right;\">\n",
       "      <th></th>\n",
       "      <th>Macro F1 Score</th>\n",
       "      <th>Micro F1 Score</th>\n",
       "      <th>Jaccard Score</th>\n",
       "      <th>Hamming_loss</th>\n",
       "    </tr>\n",
       "  </thead>\n",
       "  <tbody>\n",
       "    <tr>\n",
       "      <td>MLPClassifier</td>\n",
       "      <td>0.012151</td>\n",
       "      <td>0.026051</td>\n",
       "      <td>1.3444</td>\n",
       "      <td>0.340197</td>\n",
       "    </tr>\n",
       "  </tbody>\n",
       "</table>\n",
       "</div>"
      ],
      "text/plain": [
       "               Macro F1 Score  Micro F1 Score  Jaccard Score  Hamming_loss\n",
       "MLPClassifier        0.012151        0.026051         1.3444      0.340197"
      ]
     },
     "execution_count": 85,
     "metadata": {},
     "output_type": "execute_result"
    }
   ],
   "source": [
    "mlcp = MLPClassifier(max_iter=100, verbose=True)\n",
    "mlcp.fit(X_train, y_train)\n",
    "y_pred = mlcp.predict(X_test)\n",
    "mlpc_score = get_score(y_pred, mlcp)\n",
    "mlpc_score"
   ]
  },
  {
   "cell_type": "code",
   "execution_count": 86,
   "metadata": {
    "ExecuteTime": {
     "end_time": "2020-04-01T10:46:21.150268Z",
     "start_time": "2020-04-01T10:46:21.147267Z"
    }
   },
   "outputs": [],
   "source": [
    "def highlight(val):\n",
    "    is_max = val == val.max()\n",
    "    return ['color: green' if v else '' for v in is_max]\n",
    "\n",
    "def highlight_hamming(val):\n",
    "    is_min = val == val.min()\n",
    "    return ['color: green' if v else '' for v in is_min]"
   ]
  },
  {
   "cell_type": "code",
   "execution_count": 87,
   "metadata": {
    "ExecuteTime": {
     "end_time": "2020-04-01T10:46:21.956744Z",
     "start_time": "2020-04-01T10:46:21.939744Z"
    }
   },
   "outputs": [
    {
     "data": {
      "text/html": [
       "<style  type=\"text/css\" >\n",
       "    #T_06b7498c_7406_11ea_94e6_001a7dda7115row5_col3 {\n",
       "            color:  green;\n",
       "        }    #T_06b7498c_7406_11ea_94e6_001a7dda7115row7_col0 {\n",
       "            color:  green;\n",
       "        }    #T_06b7498c_7406_11ea_94e6_001a7dda7115row7_col1 {\n",
       "            color:  green;\n",
       "        }    #T_06b7498c_7406_11ea_94e6_001a7dda7115row7_col2 {\n",
       "            color:  green;\n",
       "        }</style><table id=\"T_06b7498c_7406_11ea_94e6_001a7dda7115\" ><thead>    <tr>        <th class=\"blank level0\" ></th>        <th class=\"col_heading level0 col0\" >Macro F1 Score</th>        <th class=\"col_heading level0 col1\" >Micro F1 Score</th>        <th class=\"col_heading level0 col2\" >Jaccard Score</th>        <th class=\"col_heading level0 col3\" >Hamming_loss</th>    </tr></thead><tbody>\n",
       "                <tr>\n",
       "                        <th id=\"T_06b7498c_7406_11ea_94e6_001a7dda7115level0_row0\" class=\"row_heading level0 row0\" >RandomForestClassifier</th>\n",
       "                        <td id=\"T_06b7498c_7406_11ea_94e6_001a7dda7115row0_col0\" class=\"data row0 col0\" >0.122779</td>\n",
       "                        <td id=\"T_06b7498c_7406_11ea_94e6_001a7dda7115row0_col1\" class=\"data row0 col1\" >0.293306</td>\n",
       "                        <td id=\"T_06b7498c_7406_11ea_94e6_001a7dda7115row0_col2\" class=\"data row0 col2\" >20.7928</td>\n",
       "                        <td id=\"T_06b7498c_7406_11ea_94e6_001a7dda7115row0_col3\" class=\"data row0 col3\" >0.0138392</td>\n",
       "            </tr>\n",
       "            <tr>\n",
       "                        <th id=\"T_06b7498c_7406_11ea_94e6_001a7dda7115level0_row1\" class=\"row_heading level0 row1\" >LogisticRegression</th>\n",
       "                        <td id=\"T_06b7498c_7406_11ea_94e6_001a7dda7115row1_col0\" class=\"data row1 col0\" >0.222809</td>\n",
       "                        <td id=\"T_06b7498c_7406_11ea_94e6_001a7dda7115row1_col1\" class=\"data row1 col1\" >0.435598</td>\n",
       "                        <td id=\"T_06b7498c_7406_11ea_94e6_001a7dda7115row1_col2\" class=\"data row1 col2\" >31.1202</td>\n",
       "                        <td id=\"T_06b7498c_7406_11ea_94e6_001a7dda7115row1_col3\" class=\"data row1 col3\" >0.0122482</td>\n",
       "            </tr>\n",
       "            <tr>\n",
       "                        <th id=\"T_06b7498c_7406_11ea_94e6_001a7dda7115level0_row2\" class=\"row_heading level0 row2\" >DummyClassifier</th>\n",
       "                        <td id=\"T_06b7498c_7406_11ea_94e6_001a7dda7115row2_col0\" class=\"data row2 col0\" >0.014676</td>\n",
       "                        <td id=\"T_06b7498c_7406_11ea_94e6_001a7dda7115row2_col1\" class=\"data row2 col1\" >0.0444579</td>\n",
       "                        <td id=\"T_06b7498c_7406_11ea_94e6_001a7dda7115row2_col2\" class=\"data row2 col2\" >2.50159</td>\n",
       "                        <td id=\"T_06b7498c_7406_11ea_94e6_001a7dda7115row2_col3\" class=\"data row2 col3\" >0.0315444</td>\n",
       "            </tr>\n",
       "            <tr>\n",
       "                        <th id=\"T_06b7498c_7406_11ea_94e6_001a7dda7115level0_row3\" class=\"row_heading level0 row3\" >SGDClassifier</th>\n",
       "                        <td id=\"T_06b7498c_7406_11ea_94e6_001a7dda7115row3_col0\" class=\"data row3 col0\" >0.458664</td>\n",
       "                        <td id=\"T_06b7498c_7406_11ea_94e6_001a7dda7115row3_col1\" class=\"data row3 col1\" >0.620071</td>\n",
       "                        <td id=\"T_06b7498c_7406_11ea_94e6_001a7dda7115row3_col2\" class=\"data row3 col2\" >50.4703</td>\n",
       "                        <td id=\"T_06b7498c_7406_11ea_94e6_001a7dda7115row3_col3\" class=\"data row3 col3\" >0.00960974</td>\n",
       "            </tr>\n",
       "            <tr>\n",
       "                        <th id=\"T_06b7498c_7406_11ea_94e6_001a7dda7115level0_row4\" class=\"row_heading level0 row4\" >MultinomialNB</th>\n",
       "                        <td id=\"T_06b7498c_7406_11ea_94e6_001a7dda7115row4_col0\" class=\"data row4 col0\" >0.00174586</td>\n",
       "                        <td id=\"T_06b7498c_7406_11ea_94e6_001a7dda7115row4_col1\" class=\"data row4 col1\" >0.00555556</td>\n",
       "                        <td id=\"T_06b7498c_7406_11ea_94e6_001a7dda7115row4_col2\" class=\"data row4 col2\" >0.317545</td>\n",
       "                        <td id=\"T_06b7498c_7406_11ea_94e6_001a7dda7115row4_col3\" class=\"data row4 col3\" >0.0167178</td>\n",
       "            </tr>\n",
       "            <tr>\n",
       "                        <th id=\"T_06b7498c_7406_11ea_94e6_001a7dda7115level0_row5\" class=\"row_heading level0 row5\" >LinearSVC</th>\n",
       "                        <td id=\"T_06b7498c_7406_11ea_94e6_001a7dda7115row5_col0\" class=\"data row5 col0\" >0.511001</td>\n",
       "                        <td id=\"T_06b7498c_7406_11ea_94e6_001a7dda7115row5_col1\" class=\"data row5 col1\" >0.642125</td>\n",
       "                        <td id=\"T_06b7498c_7406_11ea_94e6_001a7dda7115row5_col2\" class=\"data row5 col2\" >52.6534</td>\n",
       "                        <td id=\"T_06b7498c_7406_11ea_94e6_001a7dda7115row5_col3\" class=\"data row5 col3\" >0.00943629</td>\n",
       "            </tr>\n",
       "            <tr>\n",
       "                        <th id=\"T_06b7498c_7406_11ea_94e6_001a7dda7115level0_row6\" class=\"row_heading level0 row6\" >Perceptron</th>\n",
       "                        <td id=\"T_06b7498c_7406_11ea_94e6_001a7dda7115row6_col0\" class=\"data row6 col0\" >0.539092</td>\n",
       "                        <td id=\"T_06b7498c_7406_11ea_94e6_001a7dda7115row6_col1\" class=\"data row6 col1\" >0.633964</td>\n",
       "                        <td id=\"T_06b7498c_7406_11ea_94e6_001a7dda7115row6_col2\" class=\"data row6 col2\" >53.2152</td>\n",
       "                        <td id=\"T_06b7498c_7406_11ea_94e6_001a7dda7115row6_col3\" class=\"data row6 col3\" >0.0107772</td>\n",
       "            </tr>\n",
       "            <tr>\n",
       "                        <th id=\"T_06b7498c_7406_11ea_94e6_001a7dda7115level0_row7\" class=\"row_heading level0 row7\" >PassiveAggressiveClassifier</th>\n",
       "                        <td id=\"T_06b7498c_7406_11ea_94e6_001a7dda7115row7_col0\" class=\"data row7 col0\" >0.543538</td>\n",
       "                        <td id=\"T_06b7498c_7406_11ea_94e6_001a7dda7115row7_col1\" class=\"data row7 col1\" >0.650517</td>\n",
       "                        <td id=\"T_06b7498c_7406_11ea_94e6_001a7dda7115row7_col2\" class=\"data row7 col2\" >54.3496</td>\n",
       "                        <td id=\"T_06b7498c_7406_11ea_94e6_001a7dda7115row7_col3\" class=\"data row7 col3\" >0.00991328</td>\n",
       "            </tr>\n",
       "            <tr>\n",
       "                        <th id=\"T_06b7498c_7406_11ea_94e6_001a7dda7115level0_row8\" class=\"row_heading level0 row8\" >MLPClassifier</th>\n",
       "                        <td id=\"T_06b7498c_7406_11ea_94e6_001a7dda7115row8_col0\" class=\"data row8 col0\" >0.0121508</td>\n",
       "                        <td id=\"T_06b7498c_7406_11ea_94e6_001a7dda7115row8_col1\" class=\"data row8 col1\" >0.0260507</td>\n",
       "                        <td id=\"T_06b7498c_7406_11ea_94e6_001a7dda7115row8_col2\" class=\"data row8 col2\" >1.3444</td>\n",
       "                        <td id=\"T_06b7498c_7406_11ea_94e6_001a7dda7115row8_col3\" class=\"data row8 col3\" >0.340197</td>\n",
       "            </tr>\n",
       "    </tbody></table>"
      ],
      "text/plain": [
       "<pandas.io.formats.style.Styler at 0x1ea0bd0c3c8>"
      ]
     },
     "execution_count": 87,
     "metadata": {},
     "output_type": "execute_result"
    }
   ],
   "source": [
    "score = pd.concat([rfc_score, lr_score, dummy_score, sgdc_score, mnb_score, svc_score, perceptron_score, pac_score, mlpc_score])\n",
    "score = score.style.apply(highlight, subset=[\"Macro F1 Score\", \"Micro F1 Score\", \"Jaccard Score\"])\n",
    "score = score.apply(highlight_hamming, subset=[\"Hamming_loss\"])\n",
    "score"
   ]
  },
  {
   "cell_type": "markdown",
   "metadata": {},
   "source": [
    "### 4.3. Amélioration des hyperparamètres du meilleur model"
   ]
  },
  {
   "cell_type": "code",
   "execution_count": 146,
   "metadata": {
    "ExecuteTime": {
     "end_time": "2020-04-01T11:13:38.705071Z",
     "start_time": "2020-04-01T11:13:38.703070Z"
    }
   },
   "outputs": [],
   "source": [
    "best_model = pa_clf"
   ]
  },
  {
   "cell_type": "code",
   "execution_count": 164,
   "metadata": {
    "ExecuteTime": {
     "end_time": "2020-04-01T11:31:04.575274Z",
     "start_time": "2020-04-01T11:29:18.469773Z"
    }
   },
   "outputs": [
    {
     "data": {
      "text/plain": [
       "GridSearchCV(cv='warn', error_score='raise-deprecating',\n",
       "             estimator=OneVsRestClassifier(estimator=PassiveAggressiveClassifier(C=1.0,\n",
       "                                                                                 average=False,\n",
       "                                                                                 class_weight=None,\n",
       "                                                                                 early_stopping=False,\n",
       "                                                                                 fit_intercept=True,\n",
       "                                                                                 loss='hinge',\n",
       "                                                                                 max_iter=1000,\n",
       "                                                                                 n_iter_no_change=5,\n",
       "                                                                                 n_jobs=None,\n",
       "                                                                                 random_state=None,\n",
       "                                                                                 shuffle=True,\n",
       "                                                                                 tol=0.001,\n",
       "                                                                                 validation_fraction=0.1,\n",
       "                                                                                 verbose=0,\n",
       "                                                                                 warm_start=False),\n",
       "                                           n_jobs=None),\n",
       "             iid='warn', n_jobs=None,\n",
       "             param_grid={'estimator__C': [1, 2, 3, 4, 5],\n",
       "                         'estimator__max_iter': [1000, 2000, 3000, 4000, 5000]},\n",
       "             pre_dispatch='2*n_jobs', refit=True, return_train_score=False,\n",
       "             scoring=None, verbose=0)"
      ]
     },
     "execution_count": 164,
     "metadata": {},
     "output_type": "execute_result"
    }
   ],
   "source": [
    "parameters = {'estimator__C':[1, 2, 3, 4, 5], 'estimator__max_iter': [1000, 2000, 3000, 4000, 5000]}\n",
    "grid_cv = GridSearchCV(best_model, parameters)\n",
    "grid_cv.fit(X_train, y_train)"
   ]
  },
  {
   "cell_type": "code",
   "execution_count": 165,
   "metadata": {
    "ExecuteTime": {
     "end_time": "2020-04-01T11:31:04.754273Z",
     "start_time": "2020-04-01T11:31:04.736274Z"
    }
   },
   "outputs": [
    {
     "data": {
      "text/html": [
       "<div>\n",
       "<style scoped>\n",
       "    .dataframe tbody tr th:only-of-type {\n",
       "        vertical-align: middle;\n",
       "    }\n",
       "\n",
       "    .dataframe tbody tr th {\n",
       "        vertical-align: top;\n",
       "    }\n",
       "\n",
       "    .dataframe thead th {\n",
       "        text-align: right;\n",
       "    }\n",
       "</style>\n",
       "<table border=\"1\" class=\"dataframe\">\n",
       "  <thead>\n",
       "    <tr style=\"text-align: right;\">\n",
       "      <th></th>\n",
       "      <th>mean_fit_time</th>\n",
       "      <th>std_fit_time</th>\n",
       "      <th>mean_score_time</th>\n",
       "      <th>std_score_time</th>\n",
       "      <th>param_estimator__C</th>\n",
       "      <th>param_estimator__max_iter</th>\n",
       "      <th>params</th>\n",
       "      <th>split0_test_score</th>\n",
       "      <th>split1_test_score</th>\n",
       "      <th>split2_test_score</th>\n",
       "      <th>mean_test_score</th>\n",
       "      <th>std_test_score</th>\n",
       "      <th>rank_test_score</th>\n",
       "    </tr>\n",
       "  </thead>\n",
       "  <tbody>\n",
       "    <tr>\n",
       "      <td>0</td>\n",
       "      <td>1.407500</td>\n",
       "      <td>0.065416</td>\n",
       "      <td>0.057667</td>\n",
       "      <td>0.011918</td>\n",
       "      <td>1</td>\n",
       "      <td>1000</td>\n",
       "      <td>{'estimator__C': 1, 'estimator__max_iter': 1000}</td>\n",
       "      <td>0.362272</td>\n",
       "      <td>0.358609</td>\n",
       "      <td>0.348348</td>\n",
       "      <td>0.356410</td>\n",
       "      <td>0.005893</td>\n",
       "      <td>2</td>\n",
       "    </tr>\n",
       "    <tr>\n",
       "      <td>1</td>\n",
       "      <td>1.413334</td>\n",
       "      <td>0.113708</td>\n",
       "      <td>0.056332</td>\n",
       "      <td>0.010441</td>\n",
       "      <td>1</td>\n",
       "      <td>2000</td>\n",
       "      <td>{'estimator__C': 1, 'estimator__max_iter': 2000}</td>\n",
       "      <td>0.358519</td>\n",
       "      <td>0.359109</td>\n",
       "      <td>0.343093</td>\n",
       "      <td>0.353574</td>\n",
       "      <td>0.007415</td>\n",
       "      <td>20</td>\n",
       "    </tr>\n",
       "    <tr>\n",
       "      <td>2</td>\n",
       "      <td>1.278345</td>\n",
       "      <td>0.033592</td>\n",
       "      <td>0.049656</td>\n",
       "      <td>0.000950</td>\n",
       "      <td>1</td>\n",
       "      <td>3000</td>\n",
       "      <td>{'estimator__C': 1, 'estimator__max_iter': 3000}</td>\n",
       "      <td>0.362772</td>\n",
       "      <td>0.357357</td>\n",
       "      <td>0.347848</td>\n",
       "      <td>0.355993</td>\n",
       "      <td>0.006169</td>\n",
       "      <td>3</td>\n",
       "    </tr>\n",
       "    <tr>\n",
       "      <td>3</td>\n",
       "      <td>1.357001</td>\n",
       "      <td>0.041258</td>\n",
       "      <td>0.052999</td>\n",
       "      <td>0.004968</td>\n",
       "      <td>1</td>\n",
       "      <td>4000</td>\n",
       "      <td>{'estimator__C': 1, 'estimator__max_iter': 4000}</td>\n",
       "      <td>0.361771</td>\n",
       "      <td>0.357608</td>\n",
       "      <td>0.347347</td>\n",
       "      <td>0.355576</td>\n",
       "      <td>0.006061</td>\n",
       "      <td>6</td>\n",
       "    </tr>\n",
       "    <tr>\n",
       "      <td>4</td>\n",
       "      <td>1.300832</td>\n",
       "      <td>0.081242</td>\n",
       "      <td>0.055668</td>\n",
       "      <td>0.010143</td>\n",
       "      <td>1</td>\n",
       "      <td>5000</td>\n",
       "      <td>{'estimator__C': 1, 'estimator__max_iter': 5000}</td>\n",
       "      <td>0.361521</td>\n",
       "      <td>0.356106</td>\n",
       "      <td>0.346597</td>\n",
       "      <td>0.354742</td>\n",
       "      <td>0.006169</td>\n",
       "      <td>12</td>\n",
       "    </tr>\n",
       "    <tr>\n",
       "      <td>5</td>\n",
       "      <td>1.248001</td>\n",
       "      <td>0.063103</td>\n",
       "      <td>0.057001</td>\n",
       "      <td>0.005492</td>\n",
       "      <td>2</td>\n",
       "      <td>1000</td>\n",
       "      <td>{'estimator__C': 2, 'estimator__max_iter': 1000}</td>\n",
       "      <td>0.356017</td>\n",
       "      <td>0.355355</td>\n",
       "      <td>0.345345</td>\n",
       "      <td>0.352240</td>\n",
       "      <td>0.004882</td>\n",
       "      <td>25</td>\n",
       "    </tr>\n",
       "    <tr>\n",
       "      <td>6</td>\n",
       "      <td>1.247999</td>\n",
       "      <td>0.036913</td>\n",
       "      <td>0.057667</td>\n",
       "      <td>0.010170</td>\n",
       "      <td>2</td>\n",
       "      <td>2000</td>\n",
       "      <td>{'estimator__C': 2, 'estimator__max_iter': 2000}</td>\n",
       "      <td>0.360270</td>\n",
       "      <td>0.356607</td>\n",
       "      <td>0.344845</td>\n",
       "      <td>0.353908</td>\n",
       "      <td>0.006580</td>\n",
       "      <td>18</td>\n",
       "    </tr>\n",
       "    <tr>\n",
       "      <td>7</td>\n",
       "      <td>1.287166</td>\n",
       "      <td>0.038006</td>\n",
       "      <td>0.062333</td>\n",
       "      <td>0.010679</td>\n",
       "      <td>2</td>\n",
       "      <td>3000</td>\n",
       "      <td>{'estimator__C': 2, 'estimator__max_iter': 3000}</td>\n",
       "      <td>0.359019</td>\n",
       "      <td>0.358108</td>\n",
       "      <td>0.345095</td>\n",
       "      <td>0.354075</td>\n",
       "      <td>0.006360</td>\n",
       "      <td>15</td>\n",
       "    </tr>\n",
       "    <tr>\n",
       "      <td>8</td>\n",
       "      <td>1.295667</td>\n",
       "      <td>0.040183</td>\n",
       "      <td>0.050166</td>\n",
       "      <td>0.000234</td>\n",
       "      <td>2</td>\n",
       "      <td>4000</td>\n",
       "      <td>{'estimator__C': 2, 'estimator__max_iter': 4000}</td>\n",
       "      <td>0.361021</td>\n",
       "      <td>0.358358</td>\n",
       "      <td>0.348348</td>\n",
       "      <td>0.355910</td>\n",
       "      <td>0.005456</td>\n",
       "      <td>4</td>\n",
       "    </tr>\n",
       "    <tr>\n",
       "      <td>9</td>\n",
       "      <td>1.332835</td>\n",
       "      <td>0.059252</td>\n",
       "      <td>0.055497</td>\n",
       "      <td>0.008841</td>\n",
       "      <td>2</td>\n",
       "      <td>5000</td>\n",
       "      <td>{'estimator__C': 2, 'estimator__max_iter': 5000}</td>\n",
       "      <td>0.361271</td>\n",
       "      <td>0.355856</td>\n",
       "      <td>0.343093</td>\n",
       "      <td>0.353407</td>\n",
       "      <td>0.007621</td>\n",
       "      <td>21</td>\n",
       "    </tr>\n",
       "    <tr>\n",
       "      <td>10</td>\n",
       "      <td>1.226501</td>\n",
       "      <td>0.038894</td>\n",
       "      <td>0.053000</td>\n",
       "      <td>0.005338</td>\n",
       "      <td>3</td>\n",
       "      <td>1000</td>\n",
       "      <td>{'estimator__C': 3, 'estimator__max_iter': 1000}</td>\n",
       "      <td>0.359770</td>\n",
       "      <td>0.359860</td>\n",
       "      <td>0.344845</td>\n",
       "      <td>0.354825</td>\n",
       "      <td>0.007057</td>\n",
       "      <td>10</td>\n",
       "    </tr>\n",
       "    <tr>\n",
       "      <td>11</td>\n",
       "      <td>1.208834</td>\n",
       "      <td>0.030649</td>\n",
       "      <td>0.059332</td>\n",
       "      <td>0.008605</td>\n",
       "      <td>3</td>\n",
       "      <td>2000</td>\n",
       "      <td>{'estimator__C': 3, 'estimator__max_iter': 2000}</td>\n",
       "      <td>0.358269</td>\n",
       "      <td>0.360611</td>\n",
       "      <td>0.345596</td>\n",
       "      <td>0.354825</td>\n",
       "      <td>0.006596</td>\n",
       "      <td>10</td>\n",
       "    </tr>\n",
       "    <tr>\n",
       "      <td>12</td>\n",
       "      <td>1.283168</td>\n",
       "      <td>0.037563</td>\n",
       "      <td>0.061000</td>\n",
       "      <td>0.006744</td>\n",
       "      <td>3</td>\n",
       "      <td>3000</td>\n",
       "      <td>{'estimator__C': 3, 'estimator__max_iter': 3000}</td>\n",
       "      <td>0.360520</td>\n",
       "      <td>0.357357</td>\n",
       "      <td>0.346096</td>\n",
       "      <td>0.354658</td>\n",
       "      <td>0.006190</td>\n",
       "      <td>13</td>\n",
       "    </tr>\n",
       "    <tr>\n",
       "      <td>13</td>\n",
       "      <td>1.208000</td>\n",
       "      <td>0.067221</td>\n",
       "      <td>0.049166</td>\n",
       "      <td>0.000850</td>\n",
       "      <td>3</td>\n",
       "      <td>4000</td>\n",
       "      <td>{'estimator__C': 3, 'estimator__max_iter': 4000}</td>\n",
       "      <td>0.360270</td>\n",
       "      <td>0.360110</td>\n",
       "      <td>0.349349</td>\n",
       "      <td>0.356577</td>\n",
       "      <td>0.005111</td>\n",
       "      <td>1</td>\n",
       "    </tr>\n",
       "    <tr>\n",
       "      <td>14</td>\n",
       "      <td>1.278001</td>\n",
       "      <td>0.027654</td>\n",
       "      <td>0.064166</td>\n",
       "      <td>0.010772</td>\n",
       "      <td>3</td>\n",
       "      <td>5000</td>\n",
       "      <td>{'estimator__C': 3, 'estimator__max_iter': 5000}</td>\n",
       "      <td>0.361271</td>\n",
       "      <td>0.356106</td>\n",
       "      <td>0.348599</td>\n",
       "      <td>0.355326</td>\n",
       "      <td>0.005203</td>\n",
       "      <td>7</td>\n",
       "    </tr>\n",
       "    <tr>\n",
       "      <td>15</td>\n",
       "      <td>1.260668</td>\n",
       "      <td>0.071846</td>\n",
       "      <td>0.058499</td>\n",
       "      <td>0.006963</td>\n",
       "      <td>4</td>\n",
       "      <td>1000</td>\n",
       "      <td>{'estimator__C': 4, 'estimator__max_iter': 1000}</td>\n",
       "      <td>0.359019</td>\n",
       "      <td>0.355105</td>\n",
       "      <td>0.347598</td>\n",
       "      <td>0.353908</td>\n",
       "      <td>0.004739</td>\n",
       "      <td>18</td>\n",
       "    </tr>\n",
       "    <tr>\n",
       "      <td>16</td>\n",
       "      <td>1.204344</td>\n",
       "      <td>0.022682</td>\n",
       "      <td>0.058155</td>\n",
       "      <td>0.003339</td>\n",
       "      <td>4</td>\n",
       "      <td>2000</td>\n",
       "      <td>{'estimator__C': 4, 'estimator__max_iter': 2000}</td>\n",
       "      <td>0.358269</td>\n",
       "      <td>0.353103</td>\n",
       "      <td>0.347347</td>\n",
       "      <td>0.352907</td>\n",
       "      <td>0.004461</td>\n",
       "      <td>23</td>\n",
       "    </tr>\n",
       "    <tr>\n",
       "      <td>17</td>\n",
       "      <td>1.303667</td>\n",
       "      <td>0.041954</td>\n",
       "      <td>0.057500</td>\n",
       "      <td>0.009337</td>\n",
       "      <td>4</td>\n",
       "      <td>3000</td>\n",
       "      <td>{'estimator__C': 4, 'estimator__max_iter': 3000}</td>\n",
       "      <td>0.362272</td>\n",
       "      <td>0.355606</td>\n",
       "      <td>0.344845</td>\n",
       "      <td>0.354241</td>\n",
       "      <td>0.007180</td>\n",
       "      <td>14</td>\n",
       "    </tr>\n",
       "    <tr>\n",
       "      <td>18</td>\n",
       "      <td>1.268667</td>\n",
       "      <td>0.042822</td>\n",
       "      <td>0.055334</td>\n",
       "      <td>0.010403</td>\n",
       "      <td>4</td>\n",
       "      <td>4000</td>\n",
       "      <td>{'estimator__C': 4, 'estimator__max_iter': 4000}</td>\n",
       "      <td>0.358019</td>\n",
       "      <td>0.355355</td>\n",
       "      <td>0.348849</td>\n",
       "      <td>0.354075</td>\n",
       "      <td>0.003852</td>\n",
       "      <td>15</td>\n",
       "    </tr>\n",
       "    <tr>\n",
       "      <td>19</td>\n",
       "      <td>1.331999</td>\n",
       "      <td>0.061852</td>\n",
       "      <td>0.055166</td>\n",
       "      <td>0.004249</td>\n",
       "      <td>4</td>\n",
       "      <td>5000</td>\n",
       "      <td>{'estimator__C': 4, 'estimator__max_iter': 5000}</td>\n",
       "      <td>0.357518</td>\n",
       "      <td>0.357357</td>\n",
       "      <td>0.350100</td>\n",
       "      <td>0.354992</td>\n",
       "      <td>0.003460</td>\n",
       "      <td>9</td>\n",
       "    </tr>\n",
       "    <tr>\n",
       "      <td>20</td>\n",
       "      <td>1.581333</td>\n",
       "      <td>0.239038</td>\n",
       "      <td>0.067342</td>\n",
       "      <td>0.009060</td>\n",
       "      <td>5</td>\n",
       "      <td>1000</td>\n",
       "      <td>{'estimator__C': 5, 'estimator__max_iter': 1000}</td>\n",
       "      <td>0.357018</td>\n",
       "      <td>0.355355</td>\n",
       "      <td>0.347097</td>\n",
       "      <td>0.353157</td>\n",
       "      <td>0.004338</td>\n",
       "      <td>22</td>\n",
       "    </tr>\n",
       "    <tr>\n",
       "      <td>21</td>\n",
       "      <td>1.596501</td>\n",
       "      <td>0.090184</td>\n",
       "      <td>0.072999</td>\n",
       "      <td>0.009192</td>\n",
       "      <td>5</td>\n",
       "      <td>2000</td>\n",
       "      <td>{'estimator__C': 5, 'estimator__max_iter': 2000}</td>\n",
       "      <td>0.362272</td>\n",
       "      <td>0.356106</td>\n",
       "      <td>0.347097</td>\n",
       "      <td>0.355159</td>\n",
       "      <td>0.006231</td>\n",
       "      <td>8</td>\n",
       "    </tr>\n",
       "    <tr>\n",
       "      <td>22</td>\n",
       "      <td>1.376334</td>\n",
       "      <td>0.064038</td>\n",
       "      <td>0.053666</td>\n",
       "      <td>0.001699</td>\n",
       "      <td>5</td>\n",
       "      <td>3000</td>\n",
       "      <td>{'estimator__C': 5, 'estimator__max_iter': 3000}</td>\n",
       "      <td>0.359019</td>\n",
       "      <td>0.354855</td>\n",
       "      <td>0.343844</td>\n",
       "      <td>0.352573</td>\n",
       "      <td>0.006402</td>\n",
       "      <td>24</td>\n",
       "    </tr>\n",
       "    <tr>\n",
       "      <td>23</td>\n",
       "      <td>1.356834</td>\n",
       "      <td>0.130444</td>\n",
       "      <td>0.061999</td>\n",
       "      <td>0.009354</td>\n",
       "      <td>5</td>\n",
       "      <td>4000</td>\n",
       "      <td>{'estimator__C': 5, 'estimator__max_iter': 4000}</td>\n",
       "      <td>0.359520</td>\n",
       "      <td>0.357357</td>\n",
       "      <td>0.345095</td>\n",
       "      <td>0.353991</td>\n",
       "      <td>0.006352</td>\n",
       "      <td>17</td>\n",
       "    </tr>\n",
       "    <tr>\n",
       "      <td>24</td>\n",
       "      <td>1.423499</td>\n",
       "      <td>0.131092</td>\n",
       "      <td>0.063833</td>\n",
       "      <td>0.011904</td>\n",
       "      <td>5</td>\n",
       "      <td>5000</td>\n",
       "      <td>{'estimator__C': 5, 'estimator__max_iter': 5000}</td>\n",
       "      <td>0.360520</td>\n",
       "      <td>0.359610</td>\n",
       "      <td>0.346847</td>\n",
       "      <td>0.355659</td>\n",
       "      <td>0.006242</td>\n",
       "      <td>5</td>\n",
       "    </tr>\n",
       "  </tbody>\n",
       "</table>\n",
       "</div>"
      ],
      "text/plain": [
       "    mean_fit_time  std_fit_time  mean_score_time  std_score_time  \\\n",
       "0        1.407500      0.065416         0.057667        0.011918   \n",
       "1        1.413334      0.113708         0.056332        0.010441   \n",
       "2        1.278345      0.033592         0.049656        0.000950   \n",
       "3        1.357001      0.041258         0.052999        0.004968   \n",
       "4        1.300832      0.081242         0.055668        0.010143   \n",
       "5        1.248001      0.063103         0.057001        0.005492   \n",
       "6        1.247999      0.036913         0.057667        0.010170   \n",
       "7        1.287166      0.038006         0.062333        0.010679   \n",
       "8        1.295667      0.040183         0.050166        0.000234   \n",
       "9        1.332835      0.059252         0.055497        0.008841   \n",
       "10       1.226501      0.038894         0.053000        0.005338   \n",
       "11       1.208834      0.030649         0.059332        0.008605   \n",
       "12       1.283168      0.037563         0.061000        0.006744   \n",
       "13       1.208000      0.067221         0.049166        0.000850   \n",
       "14       1.278001      0.027654         0.064166        0.010772   \n",
       "15       1.260668      0.071846         0.058499        0.006963   \n",
       "16       1.204344      0.022682         0.058155        0.003339   \n",
       "17       1.303667      0.041954         0.057500        0.009337   \n",
       "18       1.268667      0.042822         0.055334        0.010403   \n",
       "19       1.331999      0.061852         0.055166        0.004249   \n",
       "20       1.581333      0.239038         0.067342        0.009060   \n",
       "21       1.596501      0.090184         0.072999        0.009192   \n",
       "22       1.376334      0.064038         0.053666        0.001699   \n",
       "23       1.356834      0.130444         0.061999        0.009354   \n",
       "24       1.423499      0.131092         0.063833        0.011904   \n",
       "\n",
       "   param_estimator__C param_estimator__max_iter  \\\n",
       "0                   1                      1000   \n",
       "1                   1                      2000   \n",
       "2                   1                      3000   \n",
       "3                   1                      4000   \n",
       "4                   1                      5000   \n",
       "5                   2                      1000   \n",
       "6                   2                      2000   \n",
       "7                   2                      3000   \n",
       "8                   2                      4000   \n",
       "9                   2                      5000   \n",
       "10                  3                      1000   \n",
       "11                  3                      2000   \n",
       "12                  3                      3000   \n",
       "13                  3                      4000   \n",
       "14                  3                      5000   \n",
       "15                  4                      1000   \n",
       "16                  4                      2000   \n",
       "17                  4                      3000   \n",
       "18                  4                      4000   \n",
       "19                  4                      5000   \n",
       "20                  5                      1000   \n",
       "21                  5                      2000   \n",
       "22                  5                      3000   \n",
       "23                  5                      4000   \n",
       "24                  5                      5000   \n",
       "\n",
       "                                              params  split0_test_score  \\\n",
       "0   {'estimator__C': 1, 'estimator__max_iter': 1000}           0.362272   \n",
       "1   {'estimator__C': 1, 'estimator__max_iter': 2000}           0.358519   \n",
       "2   {'estimator__C': 1, 'estimator__max_iter': 3000}           0.362772   \n",
       "3   {'estimator__C': 1, 'estimator__max_iter': 4000}           0.361771   \n",
       "4   {'estimator__C': 1, 'estimator__max_iter': 5000}           0.361521   \n",
       "5   {'estimator__C': 2, 'estimator__max_iter': 1000}           0.356017   \n",
       "6   {'estimator__C': 2, 'estimator__max_iter': 2000}           0.360270   \n",
       "7   {'estimator__C': 2, 'estimator__max_iter': 3000}           0.359019   \n",
       "8   {'estimator__C': 2, 'estimator__max_iter': 4000}           0.361021   \n",
       "9   {'estimator__C': 2, 'estimator__max_iter': 5000}           0.361271   \n",
       "10  {'estimator__C': 3, 'estimator__max_iter': 1000}           0.359770   \n",
       "11  {'estimator__C': 3, 'estimator__max_iter': 2000}           0.358269   \n",
       "12  {'estimator__C': 3, 'estimator__max_iter': 3000}           0.360520   \n",
       "13  {'estimator__C': 3, 'estimator__max_iter': 4000}           0.360270   \n",
       "14  {'estimator__C': 3, 'estimator__max_iter': 5000}           0.361271   \n",
       "15  {'estimator__C': 4, 'estimator__max_iter': 1000}           0.359019   \n",
       "16  {'estimator__C': 4, 'estimator__max_iter': 2000}           0.358269   \n",
       "17  {'estimator__C': 4, 'estimator__max_iter': 3000}           0.362272   \n",
       "18  {'estimator__C': 4, 'estimator__max_iter': 4000}           0.358019   \n",
       "19  {'estimator__C': 4, 'estimator__max_iter': 5000}           0.357518   \n",
       "20  {'estimator__C': 5, 'estimator__max_iter': 1000}           0.357018   \n",
       "21  {'estimator__C': 5, 'estimator__max_iter': 2000}           0.362272   \n",
       "22  {'estimator__C': 5, 'estimator__max_iter': 3000}           0.359019   \n",
       "23  {'estimator__C': 5, 'estimator__max_iter': 4000}           0.359520   \n",
       "24  {'estimator__C': 5, 'estimator__max_iter': 5000}           0.360520   \n",
       "\n",
       "    split1_test_score  split2_test_score  mean_test_score  std_test_score  \\\n",
       "0            0.358609           0.348348         0.356410        0.005893   \n",
       "1            0.359109           0.343093         0.353574        0.007415   \n",
       "2            0.357357           0.347848         0.355993        0.006169   \n",
       "3            0.357608           0.347347         0.355576        0.006061   \n",
       "4            0.356106           0.346597         0.354742        0.006169   \n",
       "5            0.355355           0.345345         0.352240        0.004882   \n",
       "6            0.356607           0.344845         0.353908        0.006580   \n",
       "7            0.358108           0.345095         0.354075        0.006360   \n",
       "8            0.358358           0.348348         0.355910        0.005456   \n",
       "9            0.355856           0.343093         0.353407        0.007621   \n",
       "10           0.359860           0.344845         0.354825        0.007057   \n",
       "11           0.360611           0.345596         0.354825        0.006596   \n",
       "12           0.357357           0.346096         0.354658        0.006190   \n",
       "13           0.360110           0.349349         0.356577        0.005111   \n",
       "14           0.356106           0.348599         0.355326        0.005203   \n",
       "15           0.355105           0.347598         0.353908        0.004739   \n",
       "16           0.353103           0.347347         0.352907        0.004461   \n",
       "17           0.355606           0.344845         0.354241        0.007180   \n",
       "18           0.355355           0.348849         0.354075        0.003852   \n",
       "19           0.357357           0.350100         0.354992        0.003460   \n",
       "20           0.355355           0.347097         0.353157        0.004338   \n",
       "21           0.356106           0.347097         0.355159        0.006231   \n",
       "22           0.354855           0.343844         0.352573        0.006402   \n",
       "23           0.357357           0.345095         0.353991        0.006352   \n",
       "24           0.359610           0.346847         0.355659        0.006242   \n",
       "\n",
       "    rank_test_score  \n",
       "0                 2  \n",
       "1                20  \n",
       "2                 3  \n",
       "3                 6  \n",
       "4                12  \n",
       "5                25  \n",
       "6                18  \n",
       "7                15  \n",
       "8                 4  \n",
       "9                21  \n",
       "10               10  \n",
       "11               10  \n",
       "12               13  \n",
       "13                1  \n",
       "14                7  \n",
       "15               18  \n",
       "16               23  \n",
       "17               14  \n",
       "18               15  \n",
       "19                9  \n",
       "20               22  \n",
       "21                8  \n",
       "22               24  \n",
       "23               17  \n",
       "24                5  "
      ]
     },
     "execution_count": 165,
     "metadata": {},
     "output_type": "execute_result"
    }
   ],
   "source": [
    "pd.DataFrame(grid_cv.cv_results_)"
   ]
  },
  {
   "cell_type": "code",
   "execution_count": 166,
   "metadata": {
    "ExecuteTime": {
     "end_time": "2020-04-01T11:31:39.064303Z",
     "start_time": "2020-04-01T11:31:39.060803Z"
    }
   },
   "outputs": [
    {
     "data": {
      "text/plain": [
       "{'estimator__C': 3, 'estimator__max_iter': 4000}"
      ]
     },
     "execution_count": 166,
     "metadata": {},
     "output_type": "execute_result"
    }
   ],
   "source": [
    "grid_cv.best_params_"
   ]
  },
  {
   "cell_type": "markdown",
   "metadata": {},
   "source": [
    "## 5. Enregistrement du meilleur model"
   ]
  },
  {
   "cell_type": "code",
   "execution_count": 167,
   "metadata": {
    "ExecuteTime": {
     "end_time": "2020-04-01T11:32:19.170256Z",
     "start_time": "2020-04-01T11:32:17.110258Z"
    }
   },
   "outputs": [
    {
     "data": {
      "text/plain": [
       "OneVsRestClassifier(estimator=PassiveAggressiveClassifier(C=3, average=False,\n",
       "                                                          class_weight=None,\n",
       "                                                          early_stopping=False,\n",
       "                                                          fit_intercept=True,\n",
       "                                                          loss='hinge',\n",
       "                                                          max_iter=4000,\n",
       "                                                          n_iter_no_change=5,\n",
       "                                                          n_jobs=None,\n",
       "                                                          random_state=None,\n",
       "                                                          shuffle=True,\n",
       "                                                          tol=0.001,\n",
       "                                                          validation_fraction=0.1,\n",
       "                                                          verbose=0,\n",
       "                                                          warm_start=False),\n",
       "                    n_jobs=None)"
      ]
     },
     "execution_count": 167,
     "metadata": {},
     "output_type": "execute_result"
    }
   ],
   "source": [
    "clf = OneVsRestClassifier(PassiveAggressiveClassifier(C=3, max_iter=4000))\n",
    "clf.fit(X_train, y_train)"
   ]
  },
  {
   "cell_type": "code",
   "execution_count": 168,
   "metadata": {
    "ExecuteTime": {
     "end_time": "2020-04-01T11:32:21.934367Z",
     "start_time": "2020-04-01T11:32:21.656806Z"
    }
   },
   "outputs": [],
   "source": [
    "import pickle\n",
    "\n",
    "# Enregistrement du model\n",
    "with open('webapp/model/model.pkl', 'wb') as file:\n",
    "    pickle.dump(clf, file)\n",
    "    \n",
    "# Enregistrement de TFIDFVectorizer\n",
    "with open('webapp/model/vectorizer.pkl', 'wb') as file:\n",
    "    pickle.dump(vectorizer_X, file)\n",
    "    \n",
    "# Enregistrement de MultiLabelBinarizer\n",
    "with open('webapp/model/mlb.pkl', 'wb') as file:\n",
    "    pickle.dump(mlb, file)"
   ]
  },
  {
   "cell_type": "code",
   "execution_count": null,
   "metadata": {},
   "outputs": [],
   "source": []
  }
 ],
 "metadata": {
  "hide_input": false,
  "kernelspec": {
   "display_name": "Python 3",
   "language": "python",
   "name": "python3"
  },
  "language_info": {
   "codemirror_mode": {
    "name": "ipython",
    "version": 3
   },
   "file_extension": ".py",
   "mimetype": "text/x-python",
   "name": "python",
   "nbconvert_exporter": "python",
   "pygments_lexer": "ipython3",
   "version": "3.7.4"
  },
  "toc": {
   "base_numbering": 1,
   "nav_menu": {},
   "number_sections": false,
   "sideBar": true,
   "skip_h1_title": false,
   "title_cell": "Table of Contents",
   "title_sidebar": "Contents",
   "toc_cell": false,
   "toc_position": {},
   "toc_section_display": true,
   "toc_window_display": false
  },
  "varInspector": {
   "cols": {
    "lenName": 16,
    "lenType": 16,
    "lenVar": 40
   },
   "kernels_config": {
    "python": {
     "delete_cmd_postfix": "",
     "delete_cmd_prefix": "del ",
     "library": "var_list.py",
     "varRefreshCmd": "print(var_dic_list())"
    },
    "r": {
     "delete_cmd_postfix": ") ",
     "delete_cmd_prefix": "rm(",
     "library": "var_list.r",
     "varRefreshCmd": "cat(var_dic_list()) "
    }
   },
   "position": {
    "height": "310px",
    "left": "1536px",
    "right": "20px",
    "top": "240px",
    "width": "360px"
   },
   "types_to_exclude": [
    "module",
    "function",
    "builtin_function_or_method",
    "instance",
    "_Feature"
   ],
   "window_display": false
  }
 },
 "nbformat": 4,
 "nbformat_minor": 2
}

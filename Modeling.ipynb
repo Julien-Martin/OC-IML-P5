{
 "cells": [
  {
   "cell_type": "markdown",
   "metadata": {},
   "source": [
    "## 1. Import des librairies"
   ]
  },
  {
   "cell_type": "code",
   "execution_count": 28,
   "metadata": {
    "ExecuteTime": {
     "end_time": "2020-03-19T11:46:50.930105Z",
     "start_time": "2020-03-19T11:46:50.923066Z"
    }
   },
   "outputs": [],
   "source": [
    "from matplotlib import pyplot as plt\n",
    "import matplotlib.cm as cm\n",
    "import seaborn as sns\n",
    "import pandas as pd\n",
    "import numpy as np\n",
    "import nltk\n",
    "\n",
    "from sklearn.feature_extraction.text import TfidfVectorizer\n",
    "from sklearn.feature_extraction.text import CountVectorizer\n",
    "from sklearn.preprocessing import StandardScaler\n",
    "from sklearn.manifold import TSNE\n",
    "from sklearn.decomposition import PCA\n",
    "from sklearn.cluster import MiniBatchKMeans\n",
    "from sklearn.decomposition import LatentDirichletAllocation\n",
    "from sklearn.decomposition import NMF\n",
    "\n",
    "sns.set_style(\"whitegrid\")\n",
    "%matplotlib inline"
   ]
  },
  {
   "cell_type": "markdown",
   "metadata": {},
   "source": [
    "## 2. Chargement des données"
   ]
  },
  {
   "cell_type": "code",
   "execution_count": 2,
   "metadata": {
    "ExecuteTime": {
     "end_time": "2020-03-19T11:08:42.223861Z",
     "start_time": "2020-03-19T11:08:42.144850Z"
    }
   },
   "outputs": [],
   "source": [
    "df = pd.read_csv(\"data/clean.csv\")"
   ]
  },
  {
   "cell_type": "code",
   "execution_count": 3,
   "metadata": {
    "ExecuteTime": {
     "end_time": "2020-03-19T11:08:42.490713Z",
     "start_time": "2020-03-19T11:08:42.479717Z"
    }
   },
   "outputs": [
    {
     "data": {
      "text/html": [
       "<div>\n",
       "<style scoped>\n",
       "    .dataframe tbody tr th:only-of-type {\n",
       "        vertical-align: middle;\n",
       "    }\n",
       "\n",
       "    .dataframe tbody tr th {\n",
       "        vertical-align: top;\n",
       "    }\n",
       "\n",
       "    .dataframe thead th {\n",
       "        text-align: right;\n",
       "    }\n",
       "</style>\n",
       "<table border=\"1\" class=\"dataframe\">\n",
       "  <thead>\n",
       "    <tr style=\"text-align: right;\">\n",
       "      <th></th>\n",
       "      <th>tags</th>\n",
       "      <th>document</th>\n",
       "    </tr>\n",
       "  </thead>\n",
       "  <tbody>\n",
       "    <tr>\n",
       "      <td>0</td>\n",
       "      <td>['node.js']</td>\n",
       "      <td>Restart node upon change file For someone come...</td>\n",
       "    </tr>\n",
       "    <tr>\n",
       "      <td>1</td>\n",
       "      <td>['html', 'css']</td>\n",
       "      <td>100 Min Height CSS layout What best way make e...</td>\n",
       "    </tr>\n",
       "    <tr>\n",
       "      <td>2</td>\n",
       "      <td>['regex', 'language-agnostic']</td>\n",
       "      <td>How Stack Overflow generate SEOfriendly URLs W...</td>\n",
       "    </tr>\n",
       "    <tr>\n",
       "      <td>3</td>\n",
       "      <td>['java']</td>\n",
       "      <td>Get OSlevel system information I currently bui...</td>\n",
       "    </tr>\n",
       "    <tr>\n",
       "      <td>4</td>\n",
       "      <td>['security']</td>\n",
       "      <td>Disable browser Save Password functionality On...</td>\n",
       "    </tr>\n",
       "    <tr>\n",
       "      <td>...</td>\n",
       "      <td>...</td>\n",
       "      <td>...</td>\n",
       "    </tr>\n",
       "    <tr>\n",
       "      <td>14983</td>\n",
       "      <td>['oop']</td>\n",
       "      <td>What difference interface abstract class What ...</td>\n",
       "    </tr>\n",
       "    <tr>\n",
       "      <td>14984</td>\n",
       "      <td>['ios', 'xcode']</td>\n",
       "      <td>How symbolicate crash log Xcode Xcode 5 organi...</td>\n",
       "    </tr>\n",
       "    <tr>\n",
       "      <td>14985</td>\n",
       "      <td>['java', 'spring']</td>\n",
       "      <td>Spring Boot multiple external configuration fi...</td>\n",
       "    </tr>\n",
       "    <tr>\n",
       "      <td>14986</td>\n",
       "      <td>['java', 'c++']</td>\n",
       "      <td>Java final vs C const The Java C programmers t...</td>\n",
       "    </tr>\n",
       "    <tr>\n",
       "      <td>14987</td>\n",
       "      <td>['android']</td>\n",
       "      <td>ContextstartForegroundService call Servicestar...</td>\n",
       "    </tr>\n",
       "  </tbody>\n",
       "</table>\n",
       "<p>14988 rows × 2 columns</p>\n",
       "</div>"
      ],
      "text/plain": [
       "                                 tags  \\\n",
       "0                         ['node.js']   \n",
       "1                     ['html', 'css']   \n",
       "2      ['regex', 'language-agnostic']   \n",
       "3                            ['java']   \n",
       "4                        ['security']   \n",
       "...                               ...   \n",
       "14983                         ['oop']   \n",
       "14984                ['ios', 'xcode']   \n",
       "14985              ['java', 'spring']   \n",
       "14986                 ['java', 'c++']   \n",
       "14987                     ['android']   \n",
       "\n",
       "                                                document  \n",
       "0      Restart node upon change file For someone come...  \n",
       "1      100 Min Height CSS layout What best way make e...  \n",
       "2      How Stack Overflow generate SEOfriendly URLs W...  \n",
       "3      Get OSlevel system information I currently bui...  \n",
       "4      Disable browser Save Password functionality On...  \n",
       "...                                                  ...  \n",
       "14983  What difference interface abstract class What ...  \n",
       "14984  How symbolicate crash log Xcode Xcode 5 organi...  \n",
       "14985  Spring Boot multiple external configuration fi...  \n",
       "14986  Java final vs C const The Java C programmers t...  \n",
       "14987  ContextstartForegroundService call Servicestar...  \n",
       "\n",
       "[14988 rows x 2 columns]"
      ]
     },
     "execution_count": 3,
     "metadata": {},
     "output_type": "execute_result"
    }
   ],
   "source": [
    "df"
   ]
  },
  {
   "cell_type": "markdown",
   "metadata": {},
   "source": [
    "## 3. Transformation texte en matrice TF-IDF"
   ]
  },
  {
   "cell_type": "code",
   "execution_count": 4,
   "metadata": {
    "ExecuteTime": {
     "end_time": "2020-03-19T11:08:43.507517Z",
     "start_time": "2020-03-19T11:08:43.504518Z"
    }
   },
   "outputs": [],
   "source": [
    "tf_idf_vectorizer = TfidfVectorizer(ngram_range=(1,2))"
   ]
  },
  {
   "cell_type": "code",
   "execution_count": 5,
   "metadata": {
    "ExecuteTime": {
     "end_time": "2020-03-19T11:08:46.626433Z",
     "start_time": "2020-03-19T11:08:43.850796Z"
    }
   },
   "outputs": [],
   "source": [
    "tf_idf_matrix = tf_idf_vectorizer.fit_transform(df[\"document\"].values)"
   ]
  },
  {
   "cell_type": "code",
   "execution_count": 6,
   "metadata": {
    "ExecuteTime": {
     "end_time": "2020-03-19T11:08:46.973932Z",
     "start_time": "2020-03-19T11:08:46.968932Z"
    }
   },
   "outputs": [],
   "source": [
    "def find_optimal_cluster(data, max_k):\n",
    "    iters = range(2, max_k+1, 2)\n",
    "    sse = []\n",
    "    \n",
    "    for k in iters:\n",
    "        sse.append(MiniBatchKMeans(n_clusters=k, init_size=1024, batch_size=2048, random_state=20).fit(data).inertia_)\n",
    "        print('Fit {} clusters'.format(k))\n",
    "    fig, ax = plt.subplots(1,1)\n",
    "    ax.plot(iters, sse, marker='o')\n",
    "    ax.set_xlabel('Nombre de Clusters')\n",
    "    ax.set_xticks(iters)\n",
    "    ax.set_xticklabels(iters)\n",
    "    ax.set_ylabel('SSE')\n",
    "    ax.set_title(\"SSE par nombre de clusters\")\n",
    "    plt.tight_layout()\n",
    "    plt.show()"
   ]
  },
  {
   "cell_type": "code",
   "execution_count": 7,
   "metadata": {
    "ExecuteTime": {
     "end_time": "2020-03-19T11:09:31.802934Z",
     "start_time": "2020-03-19T11:08:47.332932Z"
    }
   },
   "outputs": [
    {
     "name": "stdout",
     "output_type": "stream",
     "text": [
      "Fit 2 clusters\n",
      "Fit 4 clusters\n",
      "Fit 6 clusters\n",
      "Fit 8 clusters\n",
      "Fit 10 clusters\n",
      "Fit 12 clusters\n",
      "Fit 14 clusters\n",
      "Fit 16 clusters\n",
      "Fit 18 clusters\n",
      "Fit 20 clusters\n",
      "Fit 22 clusters\n",
      "Fit 24 clusters\n",
      "Fit 26 clusters\n",
      "Fit 28 clusters\n",
      "Fit 30 clusters\n"
     ]
    },
    {
     "data": {
      "image/png": "[encoded data removed]",
      "text/plain": [
       "<Figure size 432x288 with 1 Axes>"
      ]
     },
     "metadata": {
      "needs_background": "light"
     },
     "output_type": "display_data"
    }
   ],
   "source": [
    "find_optimal_cluster(tf_idf_matrix, 30)"
   ]
  },
  {
   "cell_type": "code",
   "execution_count": 8,
   "metadata": {
    "ExecuteTime": {
     "end_time": "2020-03-19T11:09:36.887432Z",
     "start_time": "2020-03-19T11:09:32.136432Z"
    }
   },
   "outputs": [],
   "source": [
    "clusters = MiniBatchKMeans(n_clusters=24, init_size=1024, batch_size=2048, random_state=20).fit_predict(tf_idf_matrix)"
   ]
  },
  {
   "cell_type": "code",
   "execution_count": 9,
   "metadata": {
    "ExecuteTime": {
     "end_time": "2020-03-19T11:09:37.255934Z",
     "start_time": "2020-03-19T11:09:37.248934Z"
    }
   },
   "outputs": [],
   "source": [
    "def plot_tsne_pca(data, labels):\n",
    "    max_label = max(labels)\n",
    "    max_items = np.random.choice(range(data.shape[0]), size=3000, replace=False)\n",
    "    \n",
    "    pca = PCA(n_components=2).fit_transform(data[max_items,:].todense())\n",
    "    tsne = TSNE().fit_transform(PCA(n_components=50).fit_transform(data[max_items,:].todense()))\n",
    "    \n",
    "    \n",
    "    idx = np.random.choice(range(pca.shape[0]), size=300, replace=False)\n",
    "    label_subset = labels[max_items]\n",
    "    label_subset = [cm.hsv(i/max_label) for i in label_subset[idx]]\n",
    "    \n",
    "    fig, ax = plt.subplots(1, 2, figsize=(15, 5))\n",
    "    \n",
    "    ax[0].scatter(pca[idx, 0], pca[idx, 1], c=label_subset)\n",
    "    ax[0].set_title('PCA Cluster Plot')\n",
    "    \n",
    "    ax[1].scatter(tsne[idx, 0], tsne[idx, 1], c=label_subset)\n",
    "    ax[1].set_title('TSNE Cluster Plot')"
   ]
  },
  {
   "cell_type": "code",
   "execution_count": 10,
   "metadata": {
    "ExecuteTime": {
     "end_time": "2020-03-19T11:11:38.554816Z",
     "start_time": "2020-03-19T11:09:43.082333Z"
    }
   },
   "outputs": [
    {
     "data": {
      "image/png": "[encoded data removed]",
      "text/plain": [
       "<Figure size 1080x360 with 2 Axes>"
      ]
     },
     "metadata": {
      "needs_background": "light"
     },
     "output_type": "display_data"
    }
   ],
   "source": [
    "plot_tsne_pca(tf_idf_matrix, clusters)"
   ]
  },
  {
   "cell_type": "code",
   "execution_count": 17,
   "metadata": {
    "ExecuteTime": {
     "end_time": "2020-03-19T11:22:35.891639Z",
     "start_time": "2020-03-19T11:22:35.882666Z"
    }
   },
   "outputs": [],
   "source": [
    "def get_top_keywords(data, clusters, labels, n_terms):\n",
    "    temp_df = pd.DataFrame(data.todense()).groupby(clusters).mean()\n",
    "    \n",
    "    for i, r in temp_df.iterrows():\n",
    "        print('\\nCluster {}'.format(i))\n",
    "        print(','.join([labels[t] for t in np.argsort(r)[-n_terms:]]))"
   ]
  },
  {
   "cell_type": "code",
   "execution_count": 18,
   "metadata": {
    "ExecuteTime": {
     "end_time": "2020-03-19T11:24:37.186844Z",
     "start_time": "2020-03-19T11:22:36.254141Z"
    },
    "scrolled": false
   },
   "outputs": [
    {
     "name": "stdout",
     "output_type": "stream",
     "text": [
      "\n",
      "Cluster 0\n",
      "top,jquery,height,html,load,content,bottom,iframe,scroll,page\n",
      "\n",
      "Cluster 1\n",
      "code,try,trace,catch exception,stack trace,throw exception,exceptions,catch,throw,exception\n",
      "\n",
      "Cluster 2\n",
      "how,layoutwidth,android layoutwidth,application,android layoutheight,layoutheight,app,studio,android studio,android\n",
      "\n",
      "Cluster 3\n",
      "clone,use git,git repository,remote,change,push,file,repository,commit,git\n",
      "\n",
      "Cluster 4\n",
      "str,java,like,way,how,convert,character,124 124,124,string\n",
      "\n",
      "Cluster 5\n",
      "string,json object,convert,how,javascript object,var,javascript,array,json,object\n",
      "\n",
      "Cluster 6\n",
      "difference two,differences,two,one,java,vs,use,what,what difference,difference\n",
      "\n",
      "Cluster 7\n",
      "id,submit,text,jquery,select,input type,form,type,value,input\n",
      "\n",
      "Cluster 8\n",
      "column,row,server,select,query,sql server,mysql,database,sql,table\n",
      "\n",
      "Cluster 9\n",
      "is,would,way,code,get,like,what,function,how,use\n",
      "\n",
      "Cluster 10\n",
      "press,foreign,foreign key,table,primary,primary key,key value,dictionary,value,key\n",
      "\n",
      "Cluster 11\n",
      "self,abstract,def,java,use,how,object,python,class,list\n",
      "\n",
      "Cluster 12\n",
      "error,version,npm err,npm install,node,instal,package,pip,npm,install\n",
      "\n",
      "Cluster 13\n",
      "use,bash,how,command,shell script,shell,docker,run,python,script\n",
      "\n",
      "Cluster 14\n",
      "remote branch,local,push,git branch,merge,remote,commit,master,git,branch\n",
      "\n",
      "Cluster 15\n",
      "imageview,background,url,load,docker,how,css,resize,use,image\n",
      "\n",
      "Cluster 16\n",
      "export,module name,use,name,line,python,how import,module,file,import\n",
      "\n",
      "Cluster 17\n",
      "what,is,jquery,array,function,javascript how,use,how,use javascript,javascript\n",
      "\n",
      "Cluster 18\n",
      "run,folder,find,project,directory,use,how,command,line,file\n",
      "\n",
      "Cluster 19\n",
      "dialog,view,how,android,activity,press,click,back button,back,button\n",
      "\n",
      "Cluster 20\n",
      "jdk,web service,javahome,web,version,run,windows service,windows,java,service\n",
      "\n",
      "Cluster 21\n",
      "content,center,width,div id,id,height,div div,class,div class,div\n",
      "\n",
      "Cluster 22\n",
      "method,new,string,public class,private,static,int,void,class,public\n",
      "\n",
      "Cluster 23\n",
      "how,code,popup,how create,send email,create,email,round corner,round,corner\n"
     ]
    }
   ],
   "source": [
    "get_top_keywords(tf_idf_matrix, clusters, tf_idf_vectorizer.get_feature_names(), 10)"
   ]
  },
  {
   "cell_type": "markdown",
   "metadata": {},
   "source": [
    "## LDA"
   ]
  },
  {
   "cell_type": "code",
   "execution_count": 22,
   "metadata": {
    "ExecuteTime": {
     "end_time": "2020-03-19T11:44:11.291013Z",
     "start_time": "2020-03-19T11:40:26.044013Z"
    }
   },
   "outputs": [],
   "source": [
    "lda = LatentDirichletAllocation(n_components=20, max_iter=5, learning_method='online', learning_offset=50, random_state=20).fit(tf_idf_matrix)"
   ]
  },
  {
   "cell_type": "code",
   "execution_count": 25,
   "metadata": {
    "ExecuteTime": {
     "end_time": "2020-03-19T11:44:28.986499Z",
     "start_time": "2020-03-19T11:44:28.982498Z"
    }
   },
   "outputs": [],
   "source": [
    "def display_topics(model, feature_names, no_top_words):\n",
    "    for topic_idx, topic in enumerate(model.components_):\n",
    "        print(\"\\nTopic {}\".format(topic_idx))\n",
    "        print(\" \".join([feature_names[i] for i in topic.argsort()[:-no_top_words -1: -1]]))"
   ]
  },
  {
   "cell_type": "code",
   "execution_count": 27,
   "metadata": {
    "ExecuteTime": {
     "end_time": "2020-03-19T11:45:37.218275Z",
     "start_time": "2020-03-19T11:45:35.791776Z"
    }
   },
   "outputs": [
    {
     "name": "stdout",
     "output_type": "stream",
     "text": [
      "\n",
      "Topic 0\n",
      "page give mov langerrors rax dword ptr\n",
      "\n",
      "Topic 1\n",
      "scss hips hesc mmmanufacturerid import regular\n",
      "\n",
      "Topic 2\n",
      "county ternary conditional anujmtest serializedname county al\n",
      "\n",
      "Topic 3\n",
      "comandroidsupport compile comandroidsupport picasso ccffibackendc makeshared\n",
      "\n",
      "Topic 4\n",
      "secondcomponent detect network arrayliststring string convert arrayliststring mmword ptr\n",
      "\n",
      "Topic 5\n",
      "addressbook catransaction cleartext http cleartext peer authentication\n",
      "\n",
      "Topic 6\n",
      "usersmichaeljamesdocumentsprojectsprojmeannodemodulesexpressnodemodulesconnectlibprotojs next usersmichaeljamesdocumentsprojectsprojmeannodemodulesexpressnodemodulesconnectlibprotojs usersmichaeljamesdocumentsprojectsprojmeannodemodulesjadelibjadejs open pdf usersmichaeljamesdocumentsprojectsprojmeannodemodulesexpressnodemodulesconnectlibprotojs 193\n",
      "\n",
      "Topic 7\n",
      "outerscopevar tiendas muse huawei playery\n",
      "\n",
      "Topic 8\n",
      "pandasparserc log4j warn log4jproperties python27libsitepackagespandasparserpyd nrows\n",
      "\n",
      "Topic 9\n",
      "loginrequired route change 20110815 css content main info\n",
      "\n",
      "Topic 10\n",
      "use how file what get\n",
      "\n",
      "Topic 11\n",
      "trainee eall color view 3001 android virtual\n",
      "\n",
      "Topic 12\n",
      "uniqueptr std uniqueptr linux terminal versions net alert text\n",
      "\n",
      "Topic 13\n",
      "mms fileutils objudmcountrystandards gadaffi fileutils confuse\n",
      "\n",
      "Topic 14\n",
      "rmagick pg gem sequence number configuration options optdir\n",
      "\n",
      "Topic 15\n",
      "loadmodule prop2 prop1 ifmodule babel\n",
      "\n",
      "Topic 16\n",
      "sit amet amet 0x1839b38 dolor xuacompatible\n",
      "\n",
      "Topic 17\n",
      "applet 7546 eandroidruntime 7546 recv touchesmoved\n",
      "\n",
      "Topic 18\n",
      "gridarrange gridextra ggsave lstproductsadd lstproductsadd new\n",
      "\n",
      "Topic 19\n",
      "modeladd 054 somevariable activation testlistadd\n"
     ]
    }
   ],
   "source": [
    "display_topics(lda, tf_idf_vectorizer.get_feature_names(), 5)"
   ]
  },
  {
   "cell_type": "markdown",
   "metadata": {},
   "source": [
    "## NMF"
   ]
  },
  {
   "cell_type": "code",
   "execution_count": 29,
   "metadata": {
    "ExecuteTime": {
     "end_time": "2020-03-19T11:47:46.567356Z",
     "start_time": "2020-03-19T11:47:36.911277Z"
    }
   },
   "outputs": [],
   "source": [
    "nmf = NMF(n_components=20, max_iter=5, random_state=20).fit(tf_idf_matrix)"
   ]
  },
  {
   "cell_type": "code",
   "execution_count": 30,
   "metadata": {
    "ExecuteTime": {
     "end_time": "2020-03-19T11:47:48.501923Z",
     "start_time": "2020-03-19T11:47:47.545902Z"
    }
   },
   "outputs": [
    {
     "name": "stdout",
     "output_type": "stream",
     "text": [
      "\n",
      "Topic 0\n",
      "use function code like would\n",
      "\n",
      "Topic 1\n",
      "git commit repository push change\n",
      "\n",
      "Topic 2\n",
      "android layoutwidth layoutheight android layoutwidth android layoutheight\n",
      "\n",
      "Topic 3\n",
      "124 124 124 group mysql null\n",
      "\n",
      "Topic 4\n",
      "file line directory folder how\n",
      "\n",
      "Topic 5\n",
      "div div class div div height class\n",
      "\n",
      "Topic 6\n",
      "string convert character how how convert\n",
      "\n",
      "Topic 7\n",
      "class public static int void\n",
      "\n",
      "Topic 8\n",
      "table sql database mysql query\n",
      "\n",
      "Topic 9\n",
      "what java use best what best\n",
      "\n",
      "Topic 10\n",
      "difference what difference what vs function\n",
      "\n",
      "Topic 11\n",
      "python install print pip run\n",
      "\n",
      "Topic 12\n",
      "array value int var numpy\n",
      "\n",
      "Topic 13\n",
      "list item how color sort\n",
      "\n",
      "Topic 14\n",
      "object date javascript json how\n",
      "\n",
      "Topic 15\n",
      "image docker css container size\n",
      "\n",
      "Topic 16\n",
      "branch master remote git branch remote branch\n",
      "\n",
      "Topic 17\n",
      "script command shell bash shell script\n",
      "\n",
      "Topic 18\n",
      "input value type jquery text\n",
      "\n",
      "Topic 19\n",
      "request data page http post\n"
     ]
    }
   ],
   "source": [
    "display_topics(nmf, tf_idf_vectorizer.get_feature_names(), 5)"
   ]
  },
  {
   "cell_type": "code",
   "execution_count": null,
   "metadata": {},
   "outputs": [],
   "source": []
  }
 ],
 "metadata": {
  "hide_input": false,
  "kernelspec": {
   "display_name": "Python 3",
   "language": "python",
   "name": "python3"
  },
  "toc": {
   "base_numbering": 1,
   "nav_menu": {},
   "number_sections": false,
   "sideBar": true,
   "skip_h1_title": false,
   "title_cell": "Table of Contents",
   "title_sidebar": "Contents",
   "toc_cell": false,
   "toc_position": {},
   "toc_section_display": true,
   "toc_window_display": false
  },
  "varInspector": {
   "cols": {
    "lenName": 16,
    "lenType": 16,
    "lenVar": 40
   },
   "kernels_config": {
    "python": {
     "delete_cmd_postfix": "",
     "delete_cmd_prefix": "del ",
     "library": "var_list.py",
     "varRefreshCmd": "print(var_dic_list())"
    },
    "r": {
     "delete_cmd_postfix": ") ",
     "delete_cmd_prefix": "rm(",
     "library": "var_list.r",
     "varRefreshCmd": "cat(var_dic_list()) "
    }
   },
   "position": {
    "height": "283px",
    "left": "1536px",
    "right": "20px",
    "top": "240px",
    "width": "317px"
   },
   "types_to_exclude": [
    "module",
    "function",
    "builtin_function_or_method",
    "instance",
    "_Feature"
   ],
   "window_display": true
  }
 },
 "nbformat": 4,
 "nbformat_minor": 2
}

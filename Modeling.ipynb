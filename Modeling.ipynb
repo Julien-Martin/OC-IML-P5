{
 "cells": [
  {
   "cell_type": "markdown",
   "metadata": {},
   "source": [
    "## 1. Import des librairies"
   ]
  },
  {
   "cell_type": "code",
   "execution_count": 1,
   "metadata": {
    "ExecuteTime": {
     "end_time": "2020-03-27T12:34:07.653650Z",
     "start_time": "2020-03-27T12:34:06.030150Z"
    }
   },
   "outputs": [],
   "source": [
    "from matplotlib import pyplot as plt\n",
    "import matplotlib.cm as cm\n",
    "import seaborn as sns\n",
    "import pandas as pd\n",
    "import numpy as np\n",
    "import nltk\n",
    "\n",
    "from sklearn.feature_extraction.text import TfidfVectorizer\n",
    "from sklearn.feature_extraction.text import CountVectorizer\n",
    "from sklearn.preprocessing import StandardScaler\n",
    "from sklearn.manifold import TSNE\n",
    "from sklearn.decomposition import PCA\n",
    "from sklearn.cluster import MiniBatchKMeans\n",
    "from sklearn.decomposition import LatentDirichletAllocation\n",
    "from sklearn.decomposition import NMF\n",
    "from sklearn.model_selection import train_test_split\n",
    "from sklearn.ensemble import RandomForestClassifier\n",
    "from sklearn.multiclass import OneVsRestClassifier\n",
    "from sklearn.linear_model import LogisticRegression\n",
    "from sklearn.preprocessing import MultiLabelBinarizer\n",
    "from sklearn.dummy import DummyClassifier\n",
    "from sklearn.linear_model import SGDClassifier\n",
    "from sklearn.naive_bayes import MultinomialNB\n",
    "from sklearn.svm import LinearSVC\n",
    "from sklearn.linear_model import Perceptron\n",
    "from sklearn.linear_model import PassiveAggressiveClassifier\n",
    "from sklearn.neural_network import MLPClassifier\n",
    "from sklearn import metrics\n",
    "\n",
    "sns.set_style(\"whitegrid\")\n",
    "%matplotlib inline\n",
    "\n",
    "import warnings\n",
    "warnings.filterwarnings(\"ignore\")"
   ]
  },
  {
   "cell_type": "markdown",
   "metadata": {},
   "source": [
    "## 2. Chargement des données"
   ]
  },
  {
   "cell_type": "code",
   "execution_count": 2,
   "metadata": {
    "ExecuteTime": {
     "end_time": "2020-03-27T12:34:07.732649Z",
     "start_time": "2020-03-27T12:34:07.655150Z"
    }
   },
   "outputs": [],
   "source": [
    "df = pd.read_csv(\"data/clean.csv\", index_col=[\"Unnamed: 0\"])"
   ]
  },
  {
   "cell_type": "code",
   "execution_count": 3,
   "metadata": {
    "ExecuteTime": {
     "end_time": "2020-03-27T12:34:07.745650Z",
     "start_time": "2020-03-27T12:34:07.734150Z"
    }
   },
   "outputs": [
    {
     "data": {
      "text/html": [
       "<div>\n",
       "<style scoped>\n",
       "    .dataframe tbody tr th:only-of-type {\n",
       "        vertical-align: middle;\n",
       "    }\n",
       "\n",
       "    .dataframe tbody tr th {\n",
       "        vertical-align: top;\n",
       "    }\n",
       "\n",
       "    .dataframe thead th {\n",
       "        text-align: right;\n",
       "    }\n",
       "</style>\n",
       "<table border=\"1\" class=\"dataframe\">\n",
       "  <thead>\n",
       "    <tr style=\"text-align: right;\">\n",
       "      <th></th>\n",
       "      <th>tags</th>\n",
       "      <th>document</th>\n",
       "    </tr>\n",
       "  </thead>\n",
       "  <tbody>\n",
       "    <tr>\n",
       "      <td>2</td>\n",
       "      <td>node.js</td>\n",
       "      <td>restart node upon change file For someone come...</td>\n",
       "    </tr>\n",
       "    <tr>\n",
       "      <td>3</td>\n",
       "      <td>html css</td>\n",
       "      <td>100 min height css layout What best way make e...</td>\n",
       "    </tr>\n",
       "    <tr>\n",
       "      <td>4</td>\n",
       "      <td>regex language-agnostic</td>\n",
       "      <td>stack overflow generate seofriendly urls What ...</td>\n",
       "    </tr>\n",
       "    <tr>\n",
       "      <td>5</td>\n",
       "      <td>java</td>\n",
       "      <td>get oslevel system information I currently bui...</td>\n",
       "    </tr>\n",
       "    <tr>\n",
       "      <td>6</td>\n",
       "      <td>security</td>\n",
       "      <td>disable browser ave password functionality One...</td>\n",
       "    </tr>\n",
       "    <tr>\n",
       "      <td>...</td>\n",
       "      <td>...</td>\n",
       "      <td>...</td>\n",
       "    </tr>\n",
       "    <tr>\n",
       "      <td>16368</td>\n",
       "      <td>oop</td>\n",
       "      <td>difference interface abstract class What exact...</td>\n",
       "    </tr>\n",
       "    <tr>\n",
       "      <td>16370</td>\n",
       "      <td>ios xcode</td>\n",
       "      <td>symbolicate crash log xcode Xcode 5 organizer ...</td>\n",
       "    </tr>\n",
       "    <tr>\n",
       "      <td>16371</td>\n",
       "      <td>java spring</td>\n",
       "      <td>spring boot multiple external configuration fi...</td>\n",
       "    </tr>\n",
       "    <tr>\n",
       "      <td>16372</td>\n",
       "      <td>java c++</td>\n",
       "      <td>java final vs c++ const The Java C programmers...</td>\n",
       "    </tr>\n",
       "    <tr>\n",
       "      <td>16373</td>\n",
       "      <td>android</td>\n",
       "      <td>contextstartforegroundservice call servicestar...</td>\n",
       "    </tr>\n",
       "  </tbody>\n",
       "</table>\n",
       "<p>14987 rows × 2 columns</p>\n",
       "</div>"
      ],
      "text/plain": [
       "                          tags  \\\n",
       "2                      node.js   \n",
       "3                     html css   \n",
       "4      regex language-agnostic   \n",
       "5                         java   \n",
       "6                     security   \n",
       "...                        ...   \n",
       "16368                      oop   \n",
       "16370                ios xcode   \n",
       "16371              java spring   \n",
       "16372                 java c++   \n",
       "16373                  android   \n",
       "\n",
       "                                                document  \n",
       "2      restart node upon change file For someone come...  \n",
       "3      100 min height css layout What best way make e...  \n",
       "4      stack overflow generate seofriendly urls What ...  \n",
       "5      get oslevel system information I currently bui...  \n",
       "6      disable browser ave password functionality One...  \n",
       "...                                                  ...  \n",
       "16368  difference interface abstract class What exact...  \n",
       "16370  symbolicate crash log xcode Xcode 5 organizer ...  \n",
       "16371  spring boot multiple external configuration fi...  \n",
       "16372  java final vs c++ const The Java C programmers...  \n",
       "16373  contextstartforegroundservice call servicestar...  \n",
       "\n",
       "[14987 rows x 2 columns]"
      ]
     },
     "execution_count": 3,
     "metadata": {},
     "output_type": "execute_result"
    }
   ],
   "source": [
    "df"
   ]
  },
  {
   "cell_type": "code",
   "execution_count": 4,
   "metadata": {
    "ExecuteTime": {
     "end_time": "2020-03-27T12:34:07.757651Z",
     "start_time": "2020-03-27T12:34:07.747150Z"
    }
   },
   "outputs": [],
   "source": [
    "df[\"tags\"] = df[\"tags\"].apply(lambda x: x.split())"
   ]
  },
  {
   "cell_type": "markdown",
   "metadata": {
    "ExecuteTime": {
     "end_time": "2020-03-26T11:07:49.156212Z",
     "start_time": "2020-03-26T11:07:49.153713Z"
    }
   },
   "source": [
    "## 3. Analyse non-supervisé"
   ]
  },
  {
   "cell_type": "markdown",
   "metadata": {},
   "source": [
    "### 3.1. Transformation texte en matrice TF-IDF"
   ]
  },
  {
   "cell_type": "code",
   "execution_count": 5,
   "metadata": {
    "ExecuteTime": {
     "end_time": "2020-03-27T12:34:07.769152Z",
     "start_time": "2020-03-27T12:34:07.758652Z"
    }
   },
   "outputs": [],
   "source": [
    "def find_optimal_cluster(data, max_k):\n",
    "    iters = range(1, max_k+1, 5)\n",
    "    sse = []\n",
    "    \n",
    "    for k in iters:\n",
    "        sse.append(MiniBatchKMeans(n_clusters=k, init_size=1024, batch_size=2048, random_state=20).fit(data).inertia_)\n",
    "        print('Fit {} clusters'.format(k))\n",
    "    fig, ax = plt.subplots(1,1, figsize=(15, 5))\n",
    "    ax.plot(iters, sse, marker='o')\n",
    "    ax.set_xlabel('Nombre de Clusters')\n",
    "    ax.set_xticks(iters)\n",
    "    ax.set_xticklabels(iters)\n",
    "    ax.set_ylabel('SSE')\n",
    "    ax.set_title(\"SSE par nombre de clusters\")\n",
    "    plt.tight_layout()\n",
    "    plt.show()\n",
    "    \n",
    "    \n",
    "def plot_tsne_pca(data, labels):\n",
    "    max_label = max(labels)\n",
    "    max_items = np.random.choice(range(data.shape[0]), size=3000, replace=False)\n",
    "    \n",
    "    pca = PCA(n_components=2).fit_transform(data[max_items,:].todense())\n",
    "    tsne = TSNE().fit_transform(PCA(n_components=50).fit_transform(data[max_items,:].todense()))\n",
    "    \n",
    "    \n",
    "    idx = np.random.choice(range(pca.shape[0]), size=300, replace=False)\n",
    "    label_subset = labels[max_items]\n",
    "    label_subset = [cm.hsv(i/max_label) for i in label_subset[idx]]\n",
    "    \n",
    "    fig, ax = plt.subplots(1, 2, figsize=(15, 5))\n",
    "    \n",
    "    ax[0].scatter(pca[idx, 0], pca[idx, 1], c=label_subset)\n",
    "    ax[0].set_title('PCA Cluster Plot')\n",
    "    \n",
    "    ax[1].scatter(tsne[idx, 0], tsne[idx, 1], c=label_subset)\n",
    "    ax[1].set_title('TSNE Cluster Plot')\n",
    "    \n",
    "def get_top_keywords(data, clusters, labels, n_terms):\n",
    "    temp_df = pd.DataFrame(data.todense()).groupby(clusters).mean()\n",
    "    \n",
    "    for i, r in temp_df.iterrows():\n",
    "        print('\\nCluster {}'.format(i))\n",
    "        print(','.join([labels[t] for t in np.argsort(r)[-n_terms:]]))"
   ]
  },
  {
   "cell_type": "markdown",
   "metadata": {},
   "source": [
    "### 3.2. Matrice monogramme"
   ]
  },
  {
   "cell_type": "code",
   "execution_count": 6,
   "metadata": {
    "ExecuteTime": {
     "end_time": "2020-03-27T12:34:07.780150Z",
     "start_time": "2020-03-27T12:34:07.771152Z"
    }
   },
   "outputs": [],
   "source": [
    "tf_idf_vectorizer_mono = TfidfVectorizer(ngram_range=(1,1))"
   ]
  },
  {
   "cell_type": "code",
   "execution_count": 7,
   "metadata": {
    "ExecuteTime": {
     "end_time": "2020-03-27T12:34:08.610650Z",
     "start_time": "2020-03-27T12:34:07.781651Z"
    }
   },
   "outputs": [],
   "source": [
    "tf_idf_matrix_mono = tf_idf_vectorizer_mono.fit_transform(df[\"document\"].values)"
   ]
  },
  {
   "cell_type": "code",
   "execution_count": 8,
   "metadata": {
    "ExecuteTime": {
     "end_time": "2020-03-27T12:34:08.620650Z",
     "start_time": "2020-03-27T12:34:08.615654Z"
    }
   },
   "outputs": [
    {
     "data": {
      "text/plain": [
       "(14987, 71421)"
      ]
     },
     "execution_count": 8,
     "metadata": {},
     "output_type": "execute_result"
    }
   ],
   "source": [
    "tf_idf_matrix_mono.shape"
   ]
  },
  {
   "cell_type": "code",
   "execution_count": 9,
   "metadata": {
    "ExecuteTime": {
     "end_time": "2020-03-27T12:38:19.295676Z",
     "start_time": "2020-03-27T12:34:08.622151Z"
    }
   },
   "outputs": [
    {
     "name": "stdout",
     "output_type": "stream",
     "text": [
      "Fit 1 clusters\n",
      "Fit 6 clusters\n",
      "Fit 11 clusters\n",
      "Fit 16 clusters\n",
      "Fit 21 clusters\n",
      "Fit 26 clusters\n",
      "Fit 31 clusters\n",
      "Fit 36 clusters\n",
      "Fit 41 clusters\n",
      "Fit 46 clusters\n",
      "Fit 51 clusters\n",
      "Fit 56 clusters\n",
      "Fit 61 clusters\n",
      "Fit 66 clusters\n",
      "Fit 71 clusters\n",
      "Fit 76 clusters\n",
      "Fit 81 clusters\n",
      "Fit 86 clusters\n",
      "Fit 91 clusters\n",
      "Fit 96 clusters\n",
      "Fit 101 clusters\n",
      "Fit 106 clusters\n",
      "Fit 111 clusters\n",
      "Fit 116 clusters\n",
      "Fit 121 clusters\n",
      "Fit 126 clusters\n",
      "Fit 131 clusters\n",
      "Fit 136 clusters\n",
      "Fit 141 clusters\n",
      "Fit 146 clusters\n",
      "Fit 151 clusters\n",
      "Fit 156 clusters\n",
      "Fit 161 clusters\n",
      "Fit 166 clusters\n",
      "Fit 171 clusters\n",
      "Fit 176 clusters\n",
      "Fit 181 clusters\n",
      "Fit 186 clusters\n",
      "Fit 191 clusters\n",
      "Fit 196 clusters\n"
     ]
    },
    {
     "data": {
      "image/png": "[encoded data removed]",
      "text/plain": [
       "<Figure size 1080x360 with 1 Axes>"
      ]
     },
     "metadata": {
      "needs_background": "light"
     },
     "output_type": "display_data"
    }
   ],
   "source": [
    "find_optimal_cluster(tf_idf_matrix_mono, 200)"
   ]
  },
  {
   "cell_type": "code",
   "execution_count": 10,
   "metadata": {
    "ExecuteTime": {
     "end_time": "2020-03-27T12:38:27.021648Z",
     "start_time": "2020-03-27T12:38:19.296652Z"
    }
   },
   "outputs": [],
   "source": [
    "clusters = MiniBatchKMeans(n_clusters=136, init_size=1024, batch_size=2048, random_state=20).fit_predict(tf_idf_matrix_mono)"
   ]
  },
  {
   "cell_type": "code",
   "execution_count": 11,
   "metadata": {
    "ExecuteTime": {
     "end_time": "2020-03-27T12:39:00.207175Z",
     "start_time": "2020-03-27T12:38:27.022648Z"
    }
   },
   "outputs": [
    {
     "data": {
      "image/png": "[encoded data removed]",
      "text/plain": [
       "<Figure size 1080x360 with 2 Axes>"
      ]
     },
     "metadata": {
      "needs_background": "light"
     },
     "output_type": "display_data"
    }
   ],
   "source": [
    "plot_tsne_pca(tf_idf_matrix_mono, clusters)"
   ]
  },
  {
   "cell_type": "code",
   "execution_count": 12,
   "metadata": {
    "ExecuteTime": {
     "end_time": "2020-03-27T12:39:05.419181Z",
     "start_time": "2020-03-27T12:39:00.208175Z"
    }
   },
   "outputs": [
    {
     "name": "stdout",
     "output_type": "stream",
     "text": [
      "\n",
      "Cluster 0\n",
      "versa,two,stage,stream,snippet,convert,output,thanks,outputstream,inputstream\n",
      "\n",
      "Cluster 1\n",
      "checkbox,string,object,get,use,value,id,class,type,name\n",
      "\n",
      "Cluster 2\n",
      "outputdirectory,move,dircreate,pathtomaindir,existence,directory,setwd,filepath,maindir,subdir\n",
      "\n",
      "Cluster 3\n",
      "necessary,string,loop,variables,dangerousincorrect,declare,outside,condition,str,calculatestr\n",
      "\n",
      "Cluster 4\n",
      "result,row,get,where,order,from,mysql,select,sql,query\n",
      "\n",
      "Cluster 5\n",
      "canvas,find,check,javascript,attribute,remove,class,dom,jquery,element\n",
      "\n",
      "Cluster 6\n",
      "executable,source,file,gcc,program,comandroidsupport,java,project,code,compile\n",
      "\n",
      "Cluster 7\n",
      "use,pull,change,clone,remote,commit,push,file,repository,git\n",
      "\n",
      "Cluster 8\n",
      "run,how,app,use,sdk,device,emulator,studio,application,android\n",
      "\n",
      "Cluster 9\n",
      "exit,python,how,process,unix,run,bash,command,script,shell\n",
      "\n",
      "Cluster 10\n",
      "require,how,express,run,file,server,use,nodejs,js,node\n",
      "\n",
      "Cluster 11\n",
      "selector,obj,potentially,typeof,check,var,oselector,jquery,dostuff,object\n",
      "\n",
      "Cluster 12\n",
      "prettyinformative,anything,object,debug,methodsfields,javascript,equivalent,printr,php,vardump\n",
      "\n",
      "Cluster 13\n",
      "how,full,encode,use,parameters,page,javascript,current,get,url\n",
      "\n",
      "Cluster 14\n",
      "alone,pain,significantly,justify,benchmark,gap,program,python,convert,cc\n",
      "\n",
      "Cluster 15\n",
      "call,data,ajax,code,chrome,file,page,browser,clear,cache\n",
      "\n",
      "Cluster 16\n",
      "computer,set,normally,easiest,32bit,run,wamp,service,windows,mongodb\n",
      "\n",
      "Cluster 17\n",
      "message,head,revert,push,repository,branch,file,change,git,commit\n",
      "\n",
      "Cluster 18\n",
      "str,use,value,split,like,how,way,java,convert,string\n",
      "\n",
      "Cluster 19\n",
      "query,2005,2008,select,use,join,table,database,server,sql\n",
      "\n",
      "Cluster 20\n",
      "is,apply,file,background,display,image,jquery,use,style,css\n",
      "\n",
      "Cluster 21\n",
      "action,android,text,press,radio,page,input,click,back,button\n",
      "\n",
      "Cluster 22\n",
      "string,render,file,parse,attribute,tag,javascript,use,page,html\n",
      "\n",
      "Cluster 23\n",
      "what,differences,junit,nunit,tool,unit,integration,regression,smoke,test\n",
      "\n",
      "Cluster 24\n",
      "php,connect,command,server,error,use,password,table,database,mysql\n",
      "\n",
      "Cluster 25\n",
      "sudo,command,dockerfile,ip,host,containers,image,run,container,docker\n",
      "\n",
      "Cluster 26\n",
      "brew,config,command,v424,terminal,v01113,npm,install,prefix,nvm\n",
      "\n",
      "Cluster 27\n",
      "use,create,set,mvc,controllers,storyboard,uiviewcontroller,ios,controller,view\n",
      "\n",
      "Cluster 28\n",
      "error,xmx1400m,allocate,megabytes,windows,1200,1400,xp,java,machine\n",
      "\n",
      "Cluster 29\n",
      "avoid,py,python,interpreter,pytopyc,pyfilepath,pycfilepath,generate,file,pyc\n",
      "\n",
      "Cluster 30\n",
      "string,undefined,varchar,table,not,return,value,check,empty,null\n",
      "\n",
      "Cluster 31\n",
      "like,would,debug,trace,line,console,message,use,file,log\n",
      "\n",
      "Cluster 32\n",
      "element,100,css,content,center,id,width,class,height,div\n",
      "\n",
      "Cluster 33\n",
      "usrbinenv,ppa,error,chrisleanodejs,ubuntu,npm,nodejs,install,aptget,sudo\n",
      "\n",
      "Cluster 34\n",
      "special,javascript,how,newline,match,nonascii,remove,replace,string,character\n",
      "\n",
      "Cluster 35\n",
      "blur,intervals,mydiv,etc,jquery,htmltext,contentchanged,detect,change,div\n",
      "\n",
      "Cluster 36\n",
      "hax,haxm,emulator,x86,intel,hardware,error,emulation,instal,acceleration\n",
      "\n",
      "Cluster 37\n",
      "method,methods,interfaces,public,factory,implement,java,class,abstract,interface\n",
      "\n",
      "Cluster 38\n",
      "primarily,manipulate,javascriptjquery,tradeoffs,abilities,momentum,vmlie,jquery,raphael,svg\n",
      "\n",
      "Cluster 39\n",
      "row,structure,dataframe,json,frame,columns,use,store,database,data\n",
      "\n",
      "Cluster 40\n",
      "whereas,value,splice,removeitem,eleven,array,item,remove,seven,ary\n",
      "\n",
      "Cluster 41\n",
      "file,program,way,what,windows,line,run,code,use,python\n",
      "\n",
      "Cluster 42\n",
      "try,virtualenv,python,version,error,instal,gem,package,pip,install\n",
      "\n",
      "Cluster 43\n",
      "how,find,python,tell,minutes,time,object,two,difference,datetime\n",
      "\n",
      "Cluster 44\n",
      "value,elements,way,tuples,use,items,sort,item,python,list\n",
      "\n",
      "Cluster 45\n",
      "unsigned,total,iphoneipad,nsfilemanager,atdict,detect,space,availablefree,freespace,disk\n",
      "\n",
      "Cluster 46\n",
      "change,repository,local,push,merge,commit,remote,master,git,branch\n",
      "\n",
      "Cluster 47\n",
      "use,set,dropdown,item,get,list,jquery,option,value,select\n",
      "\n",
      "Cluster 48\n",
      "ssh,project,clone,repo,pull,push,fork,git,repository,github\n",
      "\n",
      "Cluster 49\n",
      "get,set,new,string,int,private,void,constructor,class,public\n",
      "\n",
      "Cluster 50\n",
      "isset,function,singleton,database,host127001,dbnametoto,pdo,somefunction,self,db\n",
      "\n",
      "Cluster 51\n",
      "button,name,text,jquery,value,field,type,submit,form,input\n",
      "\n",
      "Cluster 52\n",
      "how,want,way,open,folder,command,read,use,line,file\n",
      "\n",
      "Cluster 53\n",
      "new,bundle,void,savedinstancestate,android,override,viewpager,public,activity,fragment\n",
      "\n",
      "Cluster 54\n",
      "command,use,build,code,solution,2010,file,project,studio,visual\n",
      "\n",
      "Cluster 55\n",
      "addsd,a1,d1,int,c1,b1,movsd,ptr,xmm0,mmword\n",
      "\n",
      "Cluster 56\n",
      "way,use,properties,value,property,var,class,json,javascript,object\n",
      "\n",
      "Cluster 57\n",
      "statement,way,line,console,use,page,hello,output,python,print\n",
      "\n",
      "Cluster 58\n",
      "belowunder,aboveover,ydimensions,draw,combine,define,button,image,imagebutton,text\n",
      "\n",
      "Cluster 59\n",
      "menu,gui,72,10,consolas,guifontconsolas,vimrc,set,gvim,font\n",
      "\n",
      "Cluster 60\n",
      "what,primitive,merely,interpolate,interpolation,vs,difference,put,cout,printf\n",
      "\n",
      "Cluster 61\n",
      "unsigned,argv,use,main,void,what,difference,int,char,const\n",
      "\n",
      "Cluster 62\n",
      "back,dialog,screen,application,call,activities,context,intent,android,activity\n",
      "\n",
      "Cluster 63\n",
      "href,string,display,vs,linka,unescape,unescaped,xhtmlsafe,htmlsafe,raw\n",
      "\n",
      "Cluster 64\n",
      "font,want,uitextview,way,string,use,file,uilabel,line,text\n",
      "\n",
      "Cluster 65\n",
      "define,java,global,command,use,javahome,set,variable,environment,variables\n",
      "\n",
      "Cluster 66\n",
      "use,null,id,sed,select,like,row,table,mysql,124\n",
      "\n",
      "Cluster 67\n",
      "programming,manipulate,edition,nontrivial,pmessage,amessage,differences,pointers,array,char\n",
      "\n",
      "Cluster 68\n",
      "set,databasetable,mdbinsert,insert,record,datetime,contentvalues,initialvaluesput,initialvalues,datecreated\n",
      "\n",
      "Cluster 69\n",
      "line,execute,python,file,src,php,command,run,bash,script\n",
      "\n",
      "Cluster 70\n",
      "stringparam,evaluate,nokogiri,xmllint,xml,dyn,elementattribute,filenamexml,xsl,xpath\n",
      "\n",
      "Cluster 71\n",
      "spot,finger,uiscrollview,downwards,httpwwwiphonedevsdkcomforumiphonesdkdevelopment996turnoffscrollingbouncesuiwebviewhtml,httpforumsmacrumorscomshowthreadphpt619534,vertically,uiwebview,stop,bounce\n",
      "\n",
      "Cluster 72\n",
      "use,color,change,hide,action,progress,status,navigation,foo,bar\n",
      "\n",
      "Cluster 73\n",
      "get,how,path,subdirectories,python,command,find,current,file,directory\n",
      "\n",
      "Cluster 74\n",
      "get,how,current,convert,days,datetime,time,format,javascript,date\n",
      "\n",
      "Cluster 75\n",
      "way,work,would,java,get,like,difference,code,what,use\n",
      "\n",
      "Cluster 76\n",
      "visualization,networkx,interactiveness,graphtool,python,graph,plot,interactive,2d,d3js\n",
      "\n",
      "Cluster 77\n",
      "return,execute,def,self,use,override,methods,call,class,method\n",
      "\n",
      "Cluster 78\n",
      "django,modelsmodel,31jan2011,fieldsdatefield,autonowfalse,1jan2011,object,range,filter,date\n",
      "\n",
      "Cluster 79\n",
      "screen,run,android,device,user,use,application,ios,iphone,app\n",
      "\n",
      "Cluster 80\n",
      "page,appstore,app,redirect,webpage,myapp,url,application,instal,iphone\n",
      "\n",
      "Cluster 81\n",
      "copy,mode,like,cursor,end,paste,command,file,line,vim\n",
      "\n",
      "Cluster 82\n",
      "get,available,box,plan,server,vbnet,combo,sql,list,databases\n",
      "\n",
      "Cluster 83\n",
      "ios,tvos,perform,apple,11,xcode,tv,4k,debug,wireless\n",
      "\n",
      "Cluster 84\n",
      "project,unsubmodule,update,commit,branch,path,repo,repository,git,submodule\n",
      "\n",
      "Cluster 85\n",
      "trust,bypass,invalid,40,errors,ignore,apache,ssl,httpclient,certificate\n",
      "\n",
      "Cluster 86\n",
      "team,cool,central,150,git,inadvertently,thankfully,delete,branch,prefix\n",
      "\n",
      "Cluster 87\n",
      "build,code,app,objectivec,project,ios,use,simulator,swift,xcode\n",
      "\n",
      "Cluster 88\n",
      "name,insert,query,mysql,sql,select,column,row,database,table\n",
      "\n",
      "Cluster 89\n",
      "wait,google,ready,document,image,ajax,use,page,jquery,load\n",
      "\n",
      "Cluster 90\n",
      "30,frame,corner,calayer,topright,topleft,uibezierpath,layer,cornerradius,uiview\n",
      "\n",
      "Cluster 91\n",
      "context,method,public,string,return,getclassname,myclass,static,class,name\n",
      "\n",
      "Cluster 92\n",
      "gulp,module,package,modules,instal,packagejson,node,err,install,npm\n",
      "\n",
      "Cluster 93\n",
      "specify,integer,integers,javascript,how,int,range,number,generate,random\n",
      "\n",
      "Cluster 94\n",
      "amp,control,requirements,add,button,action,uipicker,uipickerview,sheet,uitoolbar\n",
      "\n",
      "Cluster 95\n",
      "elements,like,var,way,numpy,convert,object,value,javascript,array\n",
      "\n",
      "Cluster 96\n",
      "include,much,inheritance,template,bodyhtml,htmlbody,wrapper,h1welcomeh1,basehtml,jsp\n",
      "\n",
      "Cluster 97\n",
      "application,app,require,ask,miss,javanetsocketexception,android,internet,marshmallow,permission\n",
      "\n",
      "Cluster 98\n",
      "dependency,intellij,use,file,java,jar,build,maven,project,eclipse\n",
      "\n",
      "Cluster 99\n",
      "use,project,class,run,methods,junit,code,write,unit,test\n",
      "\n",
      "Cluster 100\n",
      "viewforheaderinsection,style,unexplained,top,tableviewcontentinsetadjustmentbehavior,pad,35,uitableview,ios7,uitableviewstylegrouped\n",
      "\n",
      "Cluster 101\n",
      "how,the,string,content,variable,alert,javascript,format,object,display\n",
      "\n",
      "Cluster 102\n",
      "press,way,use,dict,foreign,table,primary,value,dictionary,key\n",
      "\n",
      "Cluster 103\n",
      "find,paths,bash,get,directory,full,absolute,relative,file,path\n",
      "\n",
      "Cluster 104\n",
      "array,continue,var,something,recursion,use,break,iteration,foreach,loop\n",
      "\n",
      "Cluster 105\n",
      "server,web,api,get,response,send,rest,post,http,request\n",
      "\n",
      "Cluster 106\n",
      "img,background,display,file,bitmap,size,save,use,resize,image\n",
      "\n",
      "Cluster 107\n",
      "lock,pool,code,main,java,use,run,task,process,thread\n",
      "\n",
      "Cluster 108\n",
      "think,pointer,nest,function,lambda,tool,closure,language,program,functional\n",
      "\n",
      "Cluster 109\n",
      "assume,vertical,curl,animation,vertically,cut,transition,uiviewanimationtransitionflipfromright,uiview,flip\n",
      "\n",
      "Cluster 110\n",
      "mypropertynamelocalized,resourcesmypropertynamelocalized,propertygrid,type,resource,namespace,localization,myproperty,strongly,displaynameattribute\n",
      "\n",
      "Cluster 111\n"
     ]
    },
    {
     "name": "stdout",
     "output_type": "stream",
     "text": [
      "mergetool,open,meld,collison,merge,finally,branch,base,local,remote\n",
      "\n",
      "Cluster 112\n",
      "width,nonnative,definition,myclass,backgroundimage,foosvg,css,scale,inline,svg\n",
      "\n",
      "Cluster 113\n",
      "tablename,server,table,newname,navicat,oldname,2008,sql,column,rename\n",
      "\n",
      "Cluster 114\n",
      "customize,android,set,transparent,red,white,text,change,background,color\n",
      "\n",
      "Cluster 115\n",
      "button,textview,id,fillparent,linearlayout,matchparent,wrapcontent,layoutwidth,layoutheight,android\n",
      "\n",
      "Cluster 116\n",
      "full,maximum,reach,queue,method,saturate,block,rejectedexecutionhandler,submit,threadpoolexecutor\n",
      "\n",
      "Cluster 117\n",
      "girls,whereami,def,method,occur,due,define,foo,rails,runtime\n",
      "\n",
      "Cluster 118\n",
      "around,uiview,input,button,create,place,decimal,corner,border,round\n",
      "\n",
      "Cluster 119\n",
      "must,browsers,img,csshtml,break,errorsrc,hide,src,icon,image\n",
      "\n",
      "Cluster 120\n",
      "java,code,try,handle,error,differences,catch,exceptions,throw,exception\n",
      "\n",
      "Cluster 121\n",
      "herb,practice,class,book,struct,technique,idiom,private,pimpl,ximpl\n",
      "\n",
      "Cluster 122\n",
      "jquery,callback,code,scope,use,javascript,call,var,return,function\n",
      "\n",
      "Cluster 123\n",
      "close,page,link,function,jquery,twitter,event,bootstrap,modal,click\n",
      "\n",
      "Cluster 124\n",
      "class,java,type,use,public,string,enums,value,xml,enum\n",
      "\n",
      "Cluster 125\n",
      "is,use,js,module,node,nodejs,validate,securely,json,parse\n",
      "\n",
      "Cluster 126\n",
      "variables,what,private,method,final,public,methods,java,class,static\n",
      "\n",
      "Cluster 127\n",
      "script,anything,within,define,turn,phpini,file,errors,log,warn\n",
      "\n",
      "Cluster 128\n",
      "int,difference,constructor,typedef,heap,memory,function,class,struct,virtual\n",
      "\n",
      "Cluster 129\n",
      "docs,dev,stag,deploy2dev,fabfile,def,host,deploy,fabric,envhosts\n",
      "\n",
      "Cluster 130\n",
      "bootstrap,menu,active,lia,span,div,href,ul,li,class\n",
      "\n",
      "Cluster 131\n",
      "world,url,script,hello,tmp,bash,curl,timestamp,tmpmyscript,httpmywebsitecommyscripttxt\n",
      "\n",
      "Cluster 132\n",
      "float,value,vector,random,sort,use,integer,std,int,number\n",
      "\n",
      "Cluster 133\n",
      "div,content,user,recyclerview,uiscrollview,view,top,bottom,page,scroll\n",
      "\n",
      "Cluster 134\n",
      "way,recommend,deprecate,line,hi,universal,rn,print,regarding,unixspecific\n",
      "\n",
      "Cluster 135\n",
      "fail,webservice,error,nsurlconnection,nsurlrequest,cfnetwork,9824,sslhandshake,urlrequest,ios\n"
     ]
    }
   ],
   "source": [
    "get_top_keywords(tf_idf_matrix_mono, clusters, tf_idf_vectorizer_mono.get_feature_names(), 10)"
   ]
  },
  {
   "cell_type": "markdown",
   "metadata": {},
   "source": [
    "### 3.3. Matrice bigramme"
   ]
  },
  {
   "cell_type": "code",
   "execution_count": 13,
   "metadata": {
    "ExecuteTime": {
     "end_time": "2020-03-27T12:39:05.422676Z",
     "start_time": "2020-03-27T12:39:05.420152Z"
    }
   },
   "outputs": [],
   "source": [
    "tf_idf_vectorizer_bi = TfidfVectorizer(ngram_range=(2,2))"
   ]
  },
  {
   "cell_type": "code",
   "execution_count": 14,
   "metadata": {
    "ExecuteTime": {
     "end_time": "2020-03-27T12:39:08.012149Z",
     "start_time": "2020-03-27T12:39:05.423652Z"
    }
   },
   "outputs": [],
   "source": [
    "tf_idf_matrix_bi = tf_idf_vectorizer_bi.fit_transform(df[\"document\"].values)"
   ]
  },
  {
   "cell_type": "code",
   "execution_count": 15,
   "metadata": {
    "ExecuteTime": {
     "end_time": "2020-03-27T12:39:08.017151Z",
     "start_time": "2020-03-27T12:39:08.013649Z"
    }
   },
   "outputs": [
    {
     "data": {
      "text/plain": [
       "(14987, 536365)"
      ]
     },
     "execution_count": 15,
     "metadata": {},
     "output_type": "execute_result"
    }
   ],
   "source": [
    "tf_idf_matrix_bi.shape"
   ]
  },
  {
   "cell_type": "code",
   "execution_count": 16,
   "metadata": {
    "ExecuteTime": {
     "end_time": "2020-03-27T12:44:33.136650Z",
     "start_time": "2020-03-27T12:39:08.018649Z"
    }
   },
   "outputs": [
    {
     "name": "stdout",
     "output_type": "stream",
     "text": [
      "Fit 1 clusters\n",
      "Fit 6 clusters\n",
      "Fit 11 clusters\n",
      "Fit 16 clusters\n",
      "Fit 21 clusters\n",
      "Fit 26 clusters\n",
      "Fit 31 clusters\n",
      "Fit 36 clusters\n",
      "Fit 41 clusters\n",
      "Fit 46 clusters\n",
      "Fit 51 clusters\n",
      "Fit 56 clusters\n",
      "Fit 61 clusters\n",
      "Fit 66 clusters\n",
      "Fit 71 clusters\n",
      "Fit 76 clusters\n",
      "Fit 81 clusters\n",
      "Fit 86 clusters\n",
      "Fit 91 clusters\n",
      "Fit 96 clusters\n",
      "Fit 101 clusters\n",
      "Fit 106 clusters\n",
      "Fit 111 clusters\n",
      "Fit 116 clusters\n",
      "Fit 121 clusters\n",
      "Fit 126 clusters\n",
      "Fit 131 clusters\n",
      "Fit 136 clusters\n",
      "Fit 141 clusters\n",
      "Fit 146 clusters\n",
      "Fit 151 clusters\n",
      "Fit 156 clusters\n",
      "Fit 161 clusters\n",
      "Fit 166 clusters\n",
      "Fit 171 clusters\n",
      "Fit 176 clusters\n",
      "Fit 181 clusters\n",
      "Fit 186 clusters\n",
      "Fit 191 clusters\n",
      "Fit 196 clusters\n"
     ]
    },
    {
     "data": {
      "image/png": "[encoded data removed]",
      "text/plain": [
       "<Figure size 1080x360 with 1 Axes>"
      ]
     },
     "metadata": {
      "needs_background": "light"
     },
     "output_type": "display_data"
    }
   ],
   "source": [
    "find_optimal_cluster(tf_idf_matrix_bi, 200)"
   ]
  },
  {
   "cell_type": "code",
   "execution_count": 17,
   "metadata": {
    "ExecuteTime": {
     "end_time": "2020-03-27T12:44:50.965152Z",
     "start_time": "2020-03-27T12:44:33.138650Z"
    }
   },
   "outputs": [],
   "source": [
    "clusters = MiniBatchKMeans(n_clusters=186, init_size=1024, batch_size=2048, random_state=20).fit_predict(tf_idf_matrix_bi)"
   ]
  },
  {
   "cell_type": "code",
   "execution_count": 18,
   "metadata": {
    "ExecuteTime": {
     "end_time": "2020-03-27T12:47:13.500462Z",
     "start_time": "2020-03-27T12:44:50.967151Z"
    }
   },
   "outputs": [
    {
     "data": {
      "image/png": "[encoded data removed]",
      "text/plain": [
       "<Figure size 1080x360 with 2 Axes>"
      ]
     },
     "metadata": {
      "needs_background": "light"
     },
     "output_type": "display_data"
    }
   ],
   "source": [
    "plot_tsne_pca(tf_idf_matrix_bi, clusters)"
   ]
  },
  {
   "cell_type": "code",
   "execution_count": null,
   "metadata": {
    "ExecuteTime": {
     "start_time": "2020-03-27T12:34:06.064Z"
    }
   },
   "outputs": [],
   "source": [
    "get_top_keywords(tf_idf_matrix_bi, clusters, tf_idf_vectorizer_bi.get_feature_names(), 10)"
   ]
  },
  {
   "cell_type": "markdown",
   "metadata": {},
   "source": [
    "Pour notre problème (la recherche de mot clé) l'utilisation d'une matrice monogramme est plus pertinente."
   ]
  },
  {
   "cell_type": "markdown",
   "metadata": {},
   "source": [
    "### 3.4. LDA"
   ]
  },
  {
   "cell_type": "code",
   "execution_count": null,
   "metadata": {
    "ExecuteTime": {
     "start_time": "2020-03-27T12:34:06.066Z"
    }
   },
   "outputs": [],
   "source": [
    "lda = LatentDirichletAllocation(n_components=20, max_iter=5, learning_method='online', learning_offset=50, random_state=20).fit(tf_idf_matrix_mono)"
   ]
  },
  {
   "cell_type": "code",
   "execution_count": null,
   "metadata": {
    "ExecuteTime": {
     "start_time": "2020-03-27T12:34:06.068Z"
    }
   },
   "outputs": [],
   "source": [
    "def display_topics(model, feature_names, no_top_words):\n",
    "    for topic_idx, topic in enumerate(model.components_):\n",
    "        print(\"\\nTopic {}\".format(topic_idx))\n",
    "        print(\" \".join([feature_names[i] for i in topic.argsort()[:-no_top_words -1: -1]]))"
   ]
  },
  {
   "cell_type": "code",
   "execution_count": null,
   "metadata": {
    "ExecuteTime": {
     "start_time": "2020-03-27T12:34:06.070Z"
    }
   },
   "outputs": [],
   "source": [
    "display_topics(lda, tf_idf_vectorizer_mono.get_feature_names(), 5)"
   ]
  },
  {
   "cell_type": "markdown",
   "metadata": {},
   "source": [
    "### 3.5. NMF"
   ]
  },
  {
   "cell_type": "code",
   "execution_count": null,
   "metadata": {
    "ExecuteTime": {
     "start_time": "2020-03-27T12:34:06.072Z"
    }
   },
   "outputs": [],
   "source": [
    "nmf = NMF(n_components=20, max_iter=5, random_state=20).fit(tf_idf_matrix_mono)"
   ]
  },
  {
   "cell_type": "code",
   "execution_count": null,
   "metadata": {
    "ExecuteTime": {
     "start_time": "2020-03-27T12:34:06.074Z"
    }
   },
   "outputs": [],
   "source": [
    "display_topics(nmf, tf_idf_vectorizer_mono.get_feature_names(), 5)"
   ]
  },
  {
   "cell_type": "code",
   "execution_count": null,
   "metadata": {
    "ExecuteTime": {
     "start_time": "2020-03-27T12:34:06.076Z"
    }
   },
   "outputs": [],
   "source": [
    "tfidf_mono_features_nm = tf_idf_vectorizer_mono.get_feature_names()"
   ]
  },
  {
   "cell_type": "code",
   "execution_count": null,
   "metadata": {
    "ExecuteTime": {
     "start_time": "2020-03-27T12:34:06.078Z"
    }
   },
   "outputs": [],
   "source": [
    "def top_tags_from_nmf(x, vec_model, nmf_mod, score_min=0.05):\n",
    "    \"\"\"Returns dictionnary with words maximally associated to document and their relative NMF score.\n",
    "    Score of words are calculated by multiplication between NMF transformed W matrix and NMF fitted H\n",
    "    (vocabulary) value to get importance of each words into topic definition.\n",
    "    Args:\n",
    "        x: Token to be analyzed (list of ngrams)\n",
    "        vec_model: Vectorizer model used for TFIDF calculation\n",
    "        nmf_mod: Trained NMF model\n",
    "        score_min: threshold score for keeping word\n",
    "    \"\"\"\n",
    "    tfidf_target = vec_model.transform(x)\n",
    "    target_nmf_trans = nmf_mod.transform(tfidf_target)\n",
    "    \n",
    "    tags_scores = np.dot(target_nmf_trans, nmf_mod.components_).tolist()[0]\n",
    "\n",
    "    dict_tags_score = dict(zip(tfidf_mono_features_nm, tags_scores))\n",
    "    \n",
    "    return { k: v for k, v in dict_tags_score.items() if v >= score_min }\n"
   ]
  },
  {
   "cell_type": "code",
   "execution_count": null,
   "metadata": {
    "ExecuteTime": {
     "start_time": "2020-03-27T12:34:06.080Z"
    }
   },
   "outputs": [],
   "source": [
    "top_tags_from_nmf(df[\"document\"].values, tf_idf_vectorizer_mono, nmf, score_min=0.05)"
   ]
  },
  {
   "cell_type": "markdown",
   "metadata": {},
   "source": [
    "## 4. Analyse supervisé"
   ]
  },
  {
   "cell_type": "markdown",
   "metadata": {},
   "source": [
    "### 4.1. Sépération dans jeu d'entrainement et jeu de test"
   ]
  },
  {
   "cell_type": "code",
   "execution_count": null,
   "metadata": {
    "ExecuteTime": {
     "start_time": "2020-03-27T12:34:06.082Z"
    }
   },
   "outputs": [],
   "source": [
    "X = df[\"document\"]\n",
    "y = df[\"tags\"]"
   ]
  },
  {
   "cell_type": "code",
   "execution_count": null,
   "metadata": {
    "ExecuteTime": {
     "start_time": "2020-03-27T12:34:06.084Z"
    }
   },
   "outputs": [],
   "source": [
    "mlb = MultiLabelBinarizer()\n",
    "y_bin = mlb.fit_transform(y)"
   ]
  },
  {
   "cell_type": "code",
   "execution_count": null,
   "metadata": {
    "ExecuteTime": {
     "start_time": "2020-03-27T12:34:06.089Z"
    }
   },
   "outputs": [],
   "source": [
    "mlb.classes_"
   ]
  },
  {
   "cell_type": "code",
   "execution_count": null,
   "metadata": {
    "ExecuteTime": {
     "start_time": "2020-03-27T12:34:06.092Z"
    }
   },
   "outputs": [],
   "source": [
    "vectorizer_X = TfidfVectorizer(min_df=0.0, max_features=200000, ngram_range=(1,1))"
   ]
  },
  {
   "cell_type": "code",
   "execution_count": null,
   "metadata": {
    "ExecuteTime": {
     "start_time": "2020-03-27T12:34:06.095Z"
    }
   },
   "outputs": [],
   "source": [
    "X_tfidf = vectorizer_X.fit_transform(X)"
   ]
  },
  {
   "cell_type": "code",
   "execution_count": null,
   "metadata": {
    "ExecuteTime": {
     "start_time": "2020-03-27T12:34:06.098Z"
    }
   },
   "outputs": [],
   "source": [
    "X_train, X_test, y_train, y_test = train_test_split(X_tfidf, y_bin, test_size=0.2, random_state=20)"
   ]
  },
  {
   "cell_type": "code",
   "execution_count": null,
   "metadata": {
    "ExecuteTime": {
     "start_time": "2020-03-27T12:34:06.100Z"
    }
   },
   "outputs": [],
   "source": [
    "print(\"Nombre de données dans le training set : \", X_train.shape[0])\n",
    "print(\"Nombre de données dans le test set : \", X_test.shape[0])"
   ]
  },
  {
   "cell_type": "markdown",
   "metadata": {},
   "source": [
    "### 4.2. Modélisations"
   ]
  },
  {
   "cell_type": "code",
   "execution_count": null,
   "metadata": {
    "ExecuteTime": {
     "start_time": "2020-03-27T12:34:06.102Z"
    }
   },
   "outputs": [],
   "source": [
    "def avg_jaccard(y_test, y_pred):\n",
    "    '''\n",
    "    see https://en.wikipedia.org/wiki/Multi-label_classification#Statistics_and_evaluation_metrics\n",
    "    '''\n",
    "    jacard = np.minimum(y_test, y_pred).sum(axis=1) / \\\n",
    "        np.maximum(y_test, y_pred).sum(axis=1)\n",
    "    return jacard.mean()*100\n",
    "\n",
    "\n",
    "def get_score(y_pred, model, submodel=\"\"):\n",
    "    classifier_name = model.__class__.__name__\n",
    "    macro_f1_score = metrics.f1_score(y_test, y_pred, average=\"macro\")\n",
    "    micro_f1_score = metrics.f1_score(y_test, y_pred, average=\"micro\")\n",
    "    jaccard_score = avg_jaccard(y_test, y_pred)\n",
    "    hamming_loss = metrics.hamming_loss(y_test, y_pred)\n",
    "    data = {\"Macro F1 Score\": macro_f1_score, \"Micro F1 Score\": micro_f1_score,\n",
    "            \"Jaccard Score\": jaccard_score, \"Hamming_loss\": hamming_loss}\n",
    "    if(submodel):\n",
    "        return pd.DataFrame(data=data, index=[submodel])\n",
    "    else:\n",
    "        return pd.DataFrame(data=data, index=[classifier_name])"
   ]
  },
  {
   "cell_type": "markdown",
   "metadata": {},
   "source": [
    "#### 4.2.1. DummyClassifier"
   ]
  },
  {
   "cell_type": "code",
   "execution_count": null,
   "metadata": {
    "ExecuteTime": {
     "start_time": "2020-03-27T12:34:06.104Z"
    }
   },
   "outputs": [],
   "source": [
    "clf = OneVsRestClassifier(DummyClassifier())\n",
    "clf.fit(X_train, y_train)\n",
    "y_pred = clf.predict(X_test)\n",
    "dummy_score = get_score(y_pred, clf, \"DummyClassifier\")\n",
    "dummy_score"
   ]
  },
  {
   "cell_type": "markdown",
   "metadata": {},
   "source": [
    "#### 4.2.2. RandomForestClassifier"
   ]
  },
  {
   "cell_type": "code",
   "execution_count": null,
   "metadata": {
    "ExecuteTime": {
     "start_time": "2020-03-27T12:34:06.106Z"
    }
   },
   "outputs": [],
   "source": [
    "clf = RandomForestClassifier(random_state=20)\n",
    "clf.fit(X_train, y_train)\n",
    "y_pred = clf.predict(X_test)\n",
    "rfc_score = get_score(y_pred, clf)\n",
    "rfc_score"
   ]
  },
  {
   "cell_type": "markdown",
   "metadata": {},
   "source": [
    "#### 4.2.3. LogisticRegression"
   ]
  },
  {
   "cell_type": "code",
   "execution_count": null,
   "metadata": {
    "ExecuteTime": {
     "start_time": "2020-03-27T12:34:06.108Z"
    }
   },
   "outputs": [],
   "source": [
    "clf = OneVsRestClassifier(LogisticRegression())\n",
    "clf.fit(X_train, y_train)\n",
    "y_pred = clf.predict(X_test)\n",
    "lr_score = get_score(y_pred, clf, \"LogisticRegression\")\n",
    "lr_score"
   ]
  },
  {
   "cell_type": "markdown",
   "metadata": {},
   "source": [
    "#### 4.2.4. SGDClassifier "
   ]
  },
  {
   "cell_type": "code",
   "execution_count": null,
   "metadata": {
    "ExecuteTime": {
     "start_time": "2020-03-27T12:34:06.110Z"
    }
   },
   "outputs": [],
   "source": [
    "clf = OneVsRestClassifier(SGDClassifier())\n",
    "clf.fit(X_train, y_train)\n",
    "y_pred = clf.predict(X_test)\n",
    "sgdc_score = get_score(y_pred, clf, \"SGDClassifier\")\n",
    "sgdc_score"
   ]
  },
  {
   "cell_type": "markdown",
   "metadata": {},
   "source": [
    "#### 4.2.5. MultinomialNB"
   ]
  },
  {
   "cell_type": "code",
   "execution_count": null,
   "metadata": {
    "ExecuteTime": {
     "start_time": "2020-03-27T12:34:06.113Z"
    }
   },
   "outputs": [],
   "source": [
    "clf = OneVsRestClassifier(MultinomialNB())\n",
    "clf.fit(X_train, y_train)\n",
    "y_pred = clf.predict(X_test)\n",
    "mnb_score = get_score(y_pred, clf, \"MultinomialNB\")\n",
    "mnb_score"
   ]
  },
  {
   "cell_type": "markdown",
   "metadata": {},
   "source": [
    "#### 4.2.6. LinearSVC"
   ]
  },
  {
   "cell_type": "code",
   "execution_count": null,
   "metadata": {
    "ExecuteTime": {
     "start_time": "2020-03-27T12:34:06.115Z"
    }
   },
   "outputs": [],
   "source": [
    "clf = OneVsRestClassifier(LinearSVC())\n",
    "clf.fit(X_train, y_train)\n",
    "y_pred = clf.predict(X_test)\n",
    "svc_score = get_score(y_pred, clf, \"LinearSVC\")\n",
    "svc_score"
   ]
  },
  {
   "cell_type": "markdown",
   "metadata": {},
   "source": [
    "#### 4.2.7. Perceptron"
   ]
  },
  {
   "cell_type": "code",
   "execution_count": null,
   "metadata": {
    "ExecuteTime": {
     "start_time": "2020-03-27T12:34:06.117Z"
    }
   },
   "outputs": [],
   "source": [
    "clf = OneVsRestClassifier(Perceptron())\n",
    "clf.fit(X_train, y_train)\n",
    "y_pred = clf.predict(X_test)\n",
    "perceptron_score = get_score(y_pred, clf, \"Perceptron\")\n",
    "perceptron_score"
   ]
  },
  {
   "cell_type": "markdown",
   "metadata": {},
   "source": [
    "#### 4.2.8. PassiveAggressiveClassifier"
   ]
  },
  {
   "cell_type": "code",
   "execution_count": null,
   "metadata": {
    "ExecuteTime": {
     "start_time": "2020-03-27T12:34:06.119Z"
    }
   },
   "outputs": [],
   "source": [
    "clf = OneVsRestClassifier(PassiveAggressiveClassifier())\n",
    "clf.fit(X_train, y_train)\n",
    "y_pred = clf.predict(X_test)\n",
    "pac_score = get_score(y_pred, clf, \"PassiveAggressiveClassifier\")\n",
    "pac_score"
   ]
  },
  {
   "cell_type": "markdown",
   "metadata": {},
   "source": [
    "#### 4.2.9. MultiLayerPerceptron Classifier"
   ]
  },
  {
   "cell_type": "code",
   "execution_count": null,
   "metadata": {
    "ExecuteTime": {
     "start_time": "2020-03-27T12:34:06.121Z"
    },
    "scrolled": true
   },
   "outputs": [],
   "source": [
    "mlcp = MLPClassifier(max_iter=100, verbose=True)\n",
    "mlcp.fit(X_train, y_train)\n",
    "y_pred = mlcp.predict(X_test)\n",
    "mlpc_score = get_score(y_pred, mlcp)\n",
    "mlpc_score"
   ]
  },
  {
   "cell_type": "code",
   "execution_count": null,
   "metadata": {
    "ExecuteTime": {
     "start_time": "2020-03-27T12:34:06.123Z"
    }
   },
   "outputs": [],
   "source": [
    "def highlight(val):\n",
    "    is_max = val == val.max()\n",
    "    return ['color: green' if v else '' for v in is_max]\n",
    "\n",
    "def highlight_hamming(val):\n",
    "    is_min = val == val.min()\n",
    "    return ['color: green' if v else '' for v in is_min]"
   ]
  },
  {
   "cell_type": "code",
   "execution_count": null,
   "metadata": {
    "ExecuteTime": {
     "start_time": "2020-03-27T12:34:06.125Z"
    }
   },
   "outputs": [],
   "source": [
    "score = pd.concat([rfc_score, lr_score, dummy_score, sgdc_score, mnb_score, svc_score, perceptron_score, pac_score, mlpc_score])\n",
    "score = score.style.apply(highlight, subset=[\"Macro F1 Score\", \"Micro F1 Score\", \"Jaccard Score\"])\n",
    "score = score.apply(highlight_hamming, subset=[\"Hamming_loss\"])\n",
    "score"
   ]
  },
  {
   "cell_type": "markdown",
   "metadata": {},
   "source": [
    "### 4.3. Amélioration des hyperparamètres"
   ]
  },
  {
   "cell_type": "code",
   "execution_count": null,
   "metadata": {
    "ExecuteTime": {
     "start_time": "2020-03-27T12:34:06.127Z"
    }
   },
   "outputs": [],
   "source": [
    "param_grid = {'estimator__C':[1, 10, 100, 1000]}"
   ]
  },
  {
   "cell_type": "markdown",
   "metadata": {},
   "source": [
    "## 5. Enregistrement du meilleur model"
   ]
  },
  {
   "cell_type": "code",
   "execution_count": null,
   "metadata": {
    "ExecuteTime": {
     "start_time": "2020-03-27T12:34:06.130Z"
    }
   },
   "outputs": [],
   "source": [
    "clf = OneVsRestClassifier(SGDClassifier())\n",
    "clf.fit(X_train, y_train)"
   ]
  },
  {
   "cell_type": "code",
   "execution_count": null,
   "metadata": {
    "ExecuteTime": {
     "start_time": "2020-03-27T12:34:06.132Z"
    }
   },
   "outputs": [],
   "source": [
    "import pickle\n",
    "\n",
    "# Enregistrement du model\n",
    "with open('webapp/model/model.pkl', 'wb') as file:\n",
    "    pickle.dump(clf, file)\n",
    "    \n",
    "# Enregistrement de TFIDFVectorizer\n",
    "with open('webapp/model/vectorizer.pkl', 'wb') as file:\n",
    "    pickle.dump(vectorizer_X, file)\n",
    "    \n",
    "# Enregistrement de MultiLabelBinarizer\n",
    "with open('webapp/model/mlb.pkl', 'wb') as file:\n",
    "    pickle.dump(mlb, file)"
   ]
  },
  {
   "cell_type": "code",
   "execution_count": null,
   "metadata": {},
   "outputs": [],
   "source": []
  }
 ],
 "metadata": {
  "hide_input": false,
  "kernelspec": {
   "display_name": "Python 3",
   "language": "python",
   "name": "python3"
  },
  "language_info": {
   "codemirror_mode": {
    "name": "ipython",
    "version": 3
   },
   "file_extension": ".py",
   "mimetype": "text/x-python",
   "name": "python",
   "nbconvert_exporter": "python",
   "pygments_lexer": "ipython3",
   "version": "3.7.4"
  },
  "toc": {
   "base_numbering": 1,
   "nav_menu": {},
   "number_sections": false,
   "sideBar": true,
   "skip_h1_title": false,
   "title_cell": "Table of Contents",
   "title_sidebar": "Contents",
   "toc_cell": false,
   "toc_position": {},
   "toc_section_display": true,
   "toc_window_display": false
  },
  "varInspector": {
   "cols": {
    "lenName": 16,
    "lenType": 16,
    "lenVar": 40
   },
   "kernels_config": {
    "python": {
     "delete_cmd_postfix": "",
     "delete_cmd_prefix": "del ",
     "library": "var_list.py",
     "varRefreshCmd": "print(var_dic_list())"
    },
    "r": {
     "delete_cmd_postfix": ") ",
     "delete_cmd_prefix": "rm(",
     "library": "var_list.r",
     "varRefreshCmd": "cat(var_dic_list()) "
    }
   },
   "position": {
    "height": "283px",
    "left": "1536px",
    "right": "20px",
    "top": "240px",
    "width": "317px"
   },
   "types_to_exclude": [
    "module",
    "function",
    "builtin_function_or_method",
    "instance",
    "_Feature"
   ],
   "window_display": false
  }
 },
 "nbformat": 4,
 "nbformat_minor": 2
}

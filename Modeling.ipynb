{
 "cells": [
  {
   "cell_type": "code",
   "execution_count": 1,
   "metadata": {
    "ExecuteTime": {
     "end_time": "2020-03-18T12:08:41.501035Z",
     "start_time": "2020-03-18T12:08:40.141539Z"
    }
   },
   "outputs": [],
   "source": [
    "from matplotlib import pyplot as plt\n",
    "import seaborn as sns\n",
    "import pandas as pd\n",
    "import numpy as np\n",
    "import nltk\n",
    "\n",
    "from sklearn.feature_extraction.text import TfidfVectorizer\n",
    "from sklearn.preprocessing import StandardScaler\n",
    "from sklearn.manifold import TSNE\n",
    "\n",
    "sns.set_style(\"whitegrid\")\n",
    "%matplotlib inline"
   ]
  },
  {
   "cell_type": "code",
   "execution_count": 4,
   "metadata": {
    "ExecuteTime": {
     "end_time": "2020-03-18T12:09:08.337569Z",
     "start_time": "2020-03-18T12:09:08.269537Z"
    }
   },
   "outputs": [],
   "source": [
    "df = pd.read_csv(\"data/clean.csv\")"
   ]
  },
  {
   "cell_type": "code",
   "execution_count": 5,
   "metadata": {
    "ExecuteTime": {
     "end_time": "2020-03-18T12:09:08.741456Z",
     "start_time": "2020-03-18T12:09:08.734456Z"
    }
   },
   "outputs": [
    {
     "data": {
      "text/html": [
       "<div>\n",
       "<style scoped>\n",
       "    .dataframe tbody tr th:only-of-type {\n",
       "        vertical-align: middle;\n",
       "    }\n",
       "\n",
       "    .dataframe tbody tr th {\n",
       "        vertical-align: top;\n",
       "    }\n",
       "\n",
       "    .dataframe thead th {\n",
       "        text-align: right;\n",
       "    }\n",
       "</style>\n",
       "<table border=\"1\" class=\"dataframe\">\n",
       "  <thead>\n",
       "    <tr style=\"text-align: right;\">\n",
       "      <th></th>\n",
       "      <th>tags</th>\n",
       "      <th>document</th>\n",
       "    </tr>\n",
       "  </thead>\n",
       "  <tbody>\n",
       "    <tr>\n",
       "      <td>0</td>\n",
       "      <td>['node.js']</td>\n",
       "      <td>restart node upon change file someone come php...</td>\n",
       "    </tr>\n",
       "    <tr>\n",
       "      <td>1</td>\n",
       "      <td>['html', 'css']</td>\n",
       "      <td>100 min height css layout best way make elemen...</td>\n",
       "    </tr>\n",
       "    <tr>\n",
       "      <td>2</td>\n",
       "      <td>['regex', 'language-agnostic']</td>\n",
       "      <td>stack overflow generate seofriendly urls good ...</td>\n",
       "    </tr>\n",
       "    <tr>\n",
       "      <td>3</td>\n",
       "      <td>['java']</td>\n",
       "      <td>get oslevel system information currently build...</td>\n",
       "    </tr>\n",
       "    <tr>\n",
       "      <td>4</td>\n",
       "      <td>['security']</td>\n",
       "      <td>disable browser ave password functionality one...</td>\n",
       "    </tr>\n",
       "    <tr>\n",
       "      <td>...</td>\n",
       "      <td>...</td>\n",
       "      <td>...</td>\n",
       "    </tr>\n",
       "    <tr>\n",
       "      <td>14983</td>\n",
       "      <td>['oop']</td>\n",
       "      <td>difference interface abstract class exactly di...</td>\n",
       "    </tr>\n",
       "    <tr>\n",
       "      <td>14984</td>\n",
       "      <td>['ios', 'xcode']</td>\n",
       "      <td>symbolicate crash log xcode xcode 5 organizer ...</td>\n",
       "    </tr>\n",
       "    <tr>\n",
       "      <td>14985</td>\n",
       "      <td>['java', 'spring']</td>\n",
       "      <td>spring boot multiple external configuration fi...</td>\n",
       "    </tr>\n",
       "    <tr>\n",
       "      <td>14986</td>\n",
       "      <td>['java', 'c++']</td>\n",
       "      <td>java final vs c++ const java c++ programmers t...</td>\n",
       "    </tr>\n",
       "    <tr>\n",
       "      <td>14987</td>\n",
       "      <td>['android']</td>\n",
       "      <td>contextstartforegroundservice call servicestar...</td>\n",
       "    </tr>\n",
       "  </tbody>\n",
       "</table>\n",
       "<p>14988 rows × 2 columns</p>\n",
       "</div>"
      ],
      "text/plain": [
       "                                 tags  \\\n",
       "0                         ['node.js']   \n",
       "1                     ['html', 'css']   \n",
       "2      ['regex', 'language-agnostic']   \n",
       "3                            ['java']   \n",
       "4                        ['security']   \n",
       "...                               ...   \n",
       "14983                         ['oop']   \n",
       "14984                ['ios', 'xcode']   \n",
       "14985              ['java', 'spring']   \n",
       "14986                 ['java', 'c++']   \n",
       "14987                     ['android']   \n",
       "\n",
       "                                                document  \n",
       "0      restart node upon change file someone come php...  \n",
       "1      100 min height css layout best way make elemen...  \n",
       "2      stack overflow generate seofriendly urls good ...  \n",
       "3      get oslevel system information currently build...  \n",
       "4      disable browser ave password functionality one...  \n",
       "...                                                  ...  \n",
       "14983  difference interface abstract class exactly di...  \n",
       "14984  symbolicate crash log xcode xcode 5 organizer ...  \n",
       "14985  spring boot multiple external configuration fi...  \n",
       "14986  java final vs c++ const java c++ programmers t...  \n",
       "14987  contextstartforegroundservice call servicestar...  \n",
       "\n",
       "[14988 rows x 2 columns]"
      ]
     },
     "execution_count": 5,
     "metadata": {},
     "output_type": "execute_result"
    }
   ],
   "source": [
    "df"
   ]
  },
  {
   "cell_type": "code",
   "execution_count": 6,
   "metadata": {
    "ExecuteTime": {
     "end_time": "2020-03-18T12:13:52.000084Z",
     "start_time": "2020-03-18T12:13:51.996584Z"
    }
   },
   "outputs": [],
   "source": [
    "def stem_tokens(tokens, stemmer):\n",
    "    stemmed = []\n",
    "    for item in tokens:\n",
    "        stemmed.append(stemmer.stem(item))\n",
    "    return stemmed\n",
    "\n",
    "def tokenize(text):\n",
    "    tokens = nltk.word_tokenize(text)\n",
    "    stems = stem_tokens(tokens, stemmer)\n",
    "    return stems"
   ]
  },
  {
   "cell_type": "code",
   "execution_count": 9,
   "metadata": {
    "ExecuteTime": {
     "end_time": "2020-03-18T12:15:31.940920Z",
     "start_time": "2020-03-18T12:15:31.938420Z"
    }
   },
   "outputs": [],
   "source": [
    "tfidf = TfidfVectorizer(tokenizer=tokenize)"
   ]
  },
  {
   "cell_type": "code",
   "execution_count": null,
   "metadata": {},
   "outputs": [],
   "source": []
  }
 ],
 "metadata": {
  "hide_input": false,
  "kernelspec": {
   "display_name": "Python 3",
   "language": "python",
   "name": "python3"
  },
  "language_info": {
   "codemirror_mode": {
    "name": "ipython",
    "version": 3
   },
   "file_extension": ".py",
   "mimetype": "text/x-python",
   "name": "python",
   "nbconvert_exporter": "python",
   "pygments_lexer": "ipython3",
   "version": "3.7.4"
  },
  "toc": {
   "base_numbering": 1,
   "nav_menu": {},
   "number_sections": true,
   "sideBar": true,
   "skip_h1_title": false,
   "title_cell": "Table of Contents",
   "title_sidebar": "Contents",
   "toc_cell": false,
   "toc_position": {},
   "toc_section_display": true,
   "toc_window_display": false
  },
  "varInspector": {
   "cols": {
    "lenName": 16,
    "lenType": 16,
    "lenVar": 40
   },
   "kernels_config": {
    "python": {
     "delete_cmd_postfix": "",
     "delete_cmd_prefix": "del ",
     "library": "var_list.py",
     "varRefreshCmd": "print(var_dic_list())"
    },
    "r": {
     "delete_cmd_postfix": ") ",
     "delete_cmd_prefix": "rm(",
     "library": "var_list.r",
     "varRefreshCmd": "cat(var_dic_list()) "
    }
   },
   "types_to_exclude": [
    "module",
    "function",
    "builtin_function_or_method",
    "instance",
    "_Feature"
   ],
   "window_display": false
  }
 },
 "nbformat": 4,
 "nbformat_minor": 2
}

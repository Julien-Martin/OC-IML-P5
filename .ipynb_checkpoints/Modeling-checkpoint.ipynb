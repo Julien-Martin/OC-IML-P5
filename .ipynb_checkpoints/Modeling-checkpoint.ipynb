{
 "cells": [
  {
   "cell_type": "markdown",
   "metadata": {},
   "source": [
    "## 1. Import des librairies"
   ]
  },
  {
   "cell_type": "code",
   "execution_count": 1,
   "metadata": {
    "ExecuteTime": {
     "end_time": "2020-03-20T12:43:05.144609Z",
     "start_time": "2020-03-20T12:43:03.669845Z"
    }
   },
   "outputs": [],
   "source": [
    "from matplotlib import pyplot as plt\n",
    "import matplotlib.cm as cm\n",
    "import seaborn as sns\n",
    "import pandas as pd\n",
    "import numpy as np\n",
    "import nltk\n",
    "\n",
    "from sklearn.feature_extraction.text import TfidfVectorizer\n",
    "from sklearn.feature_extraction.text import CountVectorizer\n",
    "from sklearn.preprocessing import StandardScaler\n",
    "from sklearn.manifold import TSNE\n",
    "from sklearn.decomposition import PCA\n",
    "from sklearn.cluster import MiniBatchKMeans\n",
    "from sklearn.decomposition import LatentDirichletAllocation\n",
    "from sklearn.decomposition import NMF\n",
    "\n",
    "sns.set_style(\"whitegrid\")\n",
    "%matplotlib inline"
   ]
  },
  {
   "cell_type": "markdown",
   "metadata": {},
   "source": [
    "## 2. Chargement des données"
   ]
  },
  {
   "cell_type": "code",
   "execution_count": 2,
   "metadata": {
    "ExecuteTime": {
     "end_time": "2020-03-20T12:43:05.998039Z",
     "start_time": "2020-03-20T12:43:05.922538Z"
    }
   },
   "outputs": [],
   "source": [
    "df = pd.read_csv(\"data/clean.csv\")"
   ]
  },
  {
   "cell_type": "code",
   "execution_count": 3,
   "metadata": {
    "ExecuteTime": {
     "end_time": "2020-03-20T12:43:06.447379Z",
     "start_time": "2020-03-20T12:43:06.438870Z"
    }
   },
   "outputs": [
    {
     "data": {
      "text/html": [
       "<div>\n",
       "<style scoped>\n",
       "    .dataframe tbody tr th:only-of-type {\n",
       "        vertical-align: middle;\n",
       "    }\n",
       "\n",
       "    .dataframe tbody tr th {\n",
       "        vertical-align: top;\n",
       "    }\n",
       "\n",
       "    .dataframe thead th {\n",
       "        text-align: right;\n",
       "    }\n",
       "</style>\n",
       "<table border=\"1\" class=\"dataframe\">\n",
       "  <thead>\n",
       "    <tr style=\"text-align: right;\">\n",
       "      <th></th>\n",
       "      <th>tags</th>\n",
       "      <th>document</th>\n",
       "    </tr>\n",
       "  </thead>\n",
       "  <tbody>\n",
       "    <tr>\n",
       "      <td>0</td>\n",
       "      <td>['node.js']</td>\n",
       "      <td>Restart node upon change file For someone come...</td>\n",
       "    </tr>\n",
       "    <tr>\n",
       "      <td>1</td>\n",
       "      <td>['html', 'css']</td>\n",
       "      <td>100 Min Height CSS layout What best way make e...</td>\n",
       "    </tr>\n",
       "    <tr>\n",
       "      <td>2</td>\n",
       "      <td>['regex', 'language-agnostic']</td>\n",
       "      <td>How Stack Overflow generate SEOfriendly URLs W...</td>\n",
       "    </tr>\n",
       "    <tr>\n",
       "      <td>3</td>\n",
       "      <td>['java']</td>\n",
       "      <td>Get OSlevel system information I currently bui...</td>\n",
       "    </tr>\n",
       "    <tr>\n",
       "      <td>4</td>\n",
       "      <td>['security']</td>\n",
       "      <td>Disable browser Save Password functionality On...</td>\n",
       "    </tr>\n",
       "    <tr>\n",
       "      <td>...</td>\n",
       "      <td>...</td>\n",
       "      <td>...</td>\n",
       "    </tr>\n",
       "    <tr>\n",
       "      <td>14983</td>\n",
       "      <td>['oop']</td>\n",
       "      <td>What difference interface abstract class What ...</td>\n",
       "    </tr>\n",
       "    <tr>\n",
       "      <td>14984</td>\n",
       "      <td>['ios', 'xcode']</td>\n",
       "      <td>How symbolicate crash log Xcode Xcode 5 organi...</td>\n",
       "    </tr>\n",
       "    <tr>\n",
       "      <td>14985</td>\n",
       "      <td>['java', 'spring']</td>\n",
       "      <td>Spring Boot multiple external configuration fi...</td>\n",
       "    </tr>\n",
       "    <tr>\n",
       "      <td>14986</td>\n",
       "      <td>['java', 'c++']</td>\n",
       "      <td>Java final vs C const The Java C programmers t...</td>\n",
       "    </tr>\n",
       "    <tr>\n",
       "      <td>14987</td>\n",
       "      <td>['android']</td>\n",
       "      <td>ContextstartForegroundService call Servicestar...</td>\n",
       "    </tr>\n",
       "  </tbody>\n",
       "</table>\n",
       "<p>14988 rows × 2 columns</p>\n",
       "</div>"
      ],
      "text/plain": [
       "                                 tags  \\\n",
       "0                         ['node.js']   \n",
       "1                     ['html', 'css']   \n",
       "2      ['regex', 'language-agnostic']   \n",
       "3                            ['java']   \n",
       "4                        ['security']   \n",
       "...                               ...   \n",
       "14983                         ['oop']   \n",
       "14984                ['ios', 'xcode']   \n",
       "14985              ['java', 'spring']   \n",
       "14986                 ['java', 'c++']   \n",
       "14987                     ['android']   \n",
       "\n",
       "                                                document  \n",
       "0      Restart node upon change file For someone come...  \n",
       "1      100 Min Height CSS layout What best way make e...  \n",
       "2      How Stack Overflow generate SEOfriendly URLs W...  \n",
       "3      Get OSlevel system information I currently bui...  \n",
       "4      Disable browser Save Password functionality On...  \n",
       "...                                                  ...  \n",
       "14983  What difference interface abstract class What ...  \n",
       "14984  How symbolicate crash log Xcode Xcode 5 organi...  \n",
       "14985  Spring Boot multiple external configuration fi...  \n",
       "14986  Java final vs C const The Java C programmers t...  \n",
       "14987  ContextstartForegroundService call Servicestar...  \n",
       "\n",
       "[14988 rows x 2 columns]"
      ]
     },
     "execution_count": 3,
     "metadata": {},
     "output_type": "execute_result"
    }
   ],
   "source": [
    "df"
   ]
  },
  {
   "cell_type": "markdown",
   "metadata": {},
   "source": [
    "## 3. Transformation texte en matrice TF-IDF"
   ]
  },
  {
   "cell_type": "code",
   "execution_count": 4,
   "metadata": {
    "ExecuteTime": {
     "end_time": "2020-03-20T12:43:09.142285Z",
     "start_time": "2020-03-20T12:43:09.139762Z"
    }
   },
   "outputs": [],
   "source": [
    "tf_idf_vectorizer_mono = TfidfVectorizer(ngram_range=(1,1))"
   ]
  },
  {
   "cell_type": "code",
   "execution_count": 5,
   "metadata": {
    "ExecuteTime": {
     "end_time": "2020-03-20T12:43:09.589226Z",
     "start_time": "2020-03-20T12:43:09.586725Z"
    }
   },
   "outputs": [],
   "source": [
    "tf_idf_vectorizer_bi = TfidfVectorizer(ngram_range=(2,2))"
   ]
  },
  {
   "cell_type": "code",
   "execution_count": 6,
   "metadata": {
    "ExecuteTime": {
     "end_time": "2020-03-20T12:43:10.782220Z",
     "start_time": "2020-03-20T12:43:10.086692Z"
    }
   },
   "outputs": [],
   "source": [
    "tf_idf_matrix_mono = tf_idf_vectorizer_mono.fit_transform(df[\"document\"].values)"
   ]
  },
  {
   "cell_type": "code",
   "execution_count": 7,
   "metadata": {
    "ExecuteTime": {
     "end_time": "2020-03-20T12:43:13.475695Z",
     "start_time": "2020-03-20T12:43:10.946191Z"
    }
   },
   "outputs": [],
   "source": [
    "tf_idf_matrix_bi = tf_idf_vectorizer_bi.fit_transform(df[\"document\"].values)"
   ]
  },
  {
   "cell_type": "code",
   "execution_count": 8,
   "metadata": {
    "ExecuteTime": {
     "end_time": "2020-03-20T12:43:14.751994Z",
     "start_time": "2020-03-20T12:43:14.748494Z"
    }
   },
   "outputs": [
    {
     "data": {
      "text/plain": [
       "(14988, 71533)"
      ]
     },
     "execution_count": 8,
     "metadata": {},
     "output_type": "execute_result"
    }
   ],
   "source": [
    "tf_idf_matrix_mono.shape"
   ]
  },
  {
   "cell_type": "code",
   "execution_count": 9,
   "metadata": {
    "ExecuteTime": {
     "end_time": "2020-03-20T12:43:15.721300Z",
     "start_time": "2020-03-20T12:43:15.717799Z"
    }
   },
   "outputs": [
    {
     "data": {
      "text/plain": [
       "(14988, 538487)"
      ]
     },
     "execution_count": 9,
     "metadata": {},
     "output_type": "execute_result"
    }
   ],
   "source": [
    "tf_idf_matrix_bi.shape"
   ]
  },
  {
   "cell_type": "code",
   "execution_count": 17,
   "metadata": {
    "ExecuteTime": {
     "end_time": "2020-03-20T12:50:01.166771Z",
     "start_time": "2020-03-20T12:50:01.161771Z"
    }
   },
   "outputs": [],
   "source": [
    "def find_optimal_cluster(data, max_k):\n",
    "    iters = range(1, max_k+1, 5)\n",
    "    sse = []\n",
    "    \n",
    "    for k in iters:\n",
    "        sse.append(MiniBatchKMeans(n_clusters=k, init_size=1024, batch_size=2048, random_state=20).fit(data).inertia_)\n",
    "        print('Fit {} clusters'.format(k))\n",
    "    fig, ax = plt.subplots(1,1, figsize=(15, 5))\n",
    "    ax.plot(iters, sse, marker='o')\n",
    "    ax.set_xlabel('Nombre de Clusters')\n",
    "    ax.set_xticks(iters)\n",
    "    ax.set_xticklabels(iters)\n",
    "    ax.set_ylabel('SSE')\n",
    "    ax.set_title(\"SSE par nombre de clusters\")\n",
    "    plt.tight_layout()\n",
    "    plt.show()"
   ]
  },
  {
   "cell_type": "markdown",
   "metadata": {},
   "source": [
    "### Monogram"
   ]
  },
  {
   "cell_type": "code",
   "execution_count": 19,
   "metadata": {
    "ExecuteTime": {
     "end_time": "2020-03-20T12:53:23.811543Z",
     "start_time": "2020-03-20T12:50:06.325019Z"
    }
   },
   "outputs": [
    {
     "name": "stdout",
     "output_type": "stream",
     "text": [
      "Fit 1 clusters\n",
      "Fit 6 clusters\n",
      "Fit 11 clusters\n",
      "Fit 16 clusters\n",
      "Fit 21 clusters\n",
      "Fit 26 clusters\n",
      "Fit 31 clusters\n",
      "Fit 36 clusters\n",
      "Fit 41 clusters\n",
      "Fit 46 clusters\n",
      "Fit 51 clusters\n",
      "Fit 56 clusters\n",
      "Fit 61 clusters\n",
      "Fit 66 clusters\n",
      "Fit 71 clusters\n",
      "Fit 76 clusters\n",
      "Fit 81 clusters\n",
      "Fit 86 clusters\n",
      "Fit 91 clusters\n",
      "Fit 96 clusters\n",
      "Fit 101 clusters\n",
      "Fit 106 clusters\n",
      "Fit 111 clusters\n",
      "Fit 116 clusters\n",
      "Fit 121 clusters\n",
      "Fit 126 clusters\n",
      "Fit 131 clusters\n",
      "Fit 136 clusters\n",
      "Fit 141 clusters\n",
      "Fit 146 clusters\n",
      "Fit 151 clusters\n",
      "Fit 156 clusters\n",
      "Fit 161 clusters\n",
      "Fit 166 clusters\n",
      "Fit 171 clusters\n",
      "Fit 176 clusters\n",
      "Fit 181 clusters\n",
      "Fit 186 clusters\n",
      "Fit 191 clusters\n",
      "Fit 196 clusters\n"
     ]
    },
    {
     "data": {
      "image/png": "[encoded data removed]",
      "text/plain": [
       "<Figure size 1080x360 with 1 Axes>"
      ]
     },
     "metadata": {
      "needs_background": "light"
     },
     "output_type": "display_data"
    }
   ],
   "source": [
    "find_optimal_cluster(tf_idf_matrix_mono, 200)"
   ]
  },
  {
   "cell_type": "code",
   "execution_count": 21,
   "metadata": {
    "ExecuteTime": {
     "end_time": "2020-03-20T12:54:36.387576Z",
     "start_time": "2020-03-20T12:54:29.108078Z"
    }
   },
   "outputs": [],
   "source": [
    "clusters = MiniBatchKMeans(n_clusters=126, init_size=1024, batch_size=2048, random_state=20).fit_predict(tf_idf_matrix_mono)"
   ]
  },
  {
   "cell_type": "code",
   "execution_count": 22,
   "metadata": {
    "ExecuteTime": {
     "end_time": "2020-03-20T12:54:36.526577Z",
     "start_time": "2020-03-20T12:54:36.519576Z"
    }
   },
   "outputs": [],
   "source": [
    "def plot_tsne_pca(data, labels):\n",
    "    max_label = max(labels)\n",
    "    max_items = np.random.choice(range(data.shape[0]), size=3000, replace=False)\n",
    "    \n",
    "    pca = PCA(n_components=2).fit_transform(data[max_items,:].todense())\n",
    "    tsne = TSNE().fit_transform(PCA(n_components=50).fit_transform(data[max_items,:].todense()))\n",
    "    \n",
    "    \n",
    "    idx = np.random.choice(range(pca.shape[0]), size=300, replace=False)\n",
    "    label_subset = labels[max_items]\n",
    "    label_subset = [cm.hsv(i/max_label) for i in label_subset[idx]]\n",
    "    \n",
    "    fig, ax = plt.subplots(1, 2, figsize=(15, 5))\n",
    "    \n",
    "    ax[0].scatter(pca[idx, 0], pca[idx, 1], c=label_subset)\n",
    "    ax[0].set_title('PCA Cluster Plot')\n",
    "    \n",
    "    ax[1].scatter(tsne[idx, 0], tsne[idx, 1], c=label_subset)\n",
    "    ax[1].set_title('TSNE Cluster Plot')"
   ]
  },
  {
   "cell_type": "code",
   "execution_count": 23,
   "metadata": {
    "ExecuteTime": {
     "end_time": "2020-03-20T12:55:11.885906Z",
     "start_time": "2020-03-20T12:54:40.673410Z"
    }
   },
   "outputs": [
    {
     "data": {
      "image/png": "[encoded data removed]",
      "text/plain": [
       "<Figure size 1080x360 with 2 Axes>"
      ]
     },
     "metadata": {
      "needs_background": "light"
     },
     "output_type": "display_data"
    }
   ],
   "source": [
    "plot_tsne_pca(tf_idf_matrix_mono, clusters)"
   ]
  },
  {
   "cell_type": "code",
   "execution_count": 24,
   "metadata": {
    "ExecuteTime": {
     "end_time": "2020-03-20T12:55:56.712452Z",
     "start_time": "2020-03-20T12:55:56.708377Z"
    }
   },
   "outputs": [],
   "source": [
    "def get_top_keywords(data, clusters, labels, n_terms):\n",
    "    temp_df = pd.DataFrame(data.todense()).groupby(clusters).mean()\n",
    "    \n",
    "    for i, r in temp_df.iterrows():\n",
    "        print('\\nCluster {}'.format(i))\n",
    "        print(','.join([labels[t] for t in np.argsort(r)[-n_terms:]]))"
   ]
  },
  {
   "cell_type": "code",
   "execution_count": 26,
   "metadata": {
    "ExecuteTime": {
     "end_time": "2020-03-20T12:56:09.930794Z",
     "start_time": "2020-03-20T12:56:04.828754Z"
    },
    "scrolled": false
   },
   "outputs": [
    {
     "name": "stdout",
     "output_type": "stream",
     "text": [
      "\n",
      "Cluster 0\n",
      "wellrounded,databaserelated,work,concept,concepts,answer,important,developers,don,databases\n",
      "\n",
      "Cluster 1\n",
      "uniqueptr,endl,cout,const,char,int,use,string,vector,std\n",
      "\n",
      "Cluster 2\n",
      "id,void,w3c,valid,validator,html5,elements,tag,nonvoid,selfclosing\n",
      "\n",
      "Cluster 3\n",
      "1787,terminal,application,detach,child,session,screen,nohup,process,kill\n",
      "\n",
      "Cluster 4\n",
      "what,net,python,how,use,application,linux,service,run,windows\n",
      "\n",
      "Cluster 5\n",
      "change,repository,commit,local,push,merge,remote,master,git,branch\n",
      "\n",
      "Cluster 6\n",
      "back,context,application,screen,activities,call,fragment,intent,android,activity\n",
      "\n",
      "Cluster 7\n",
      "app,xcode,let,nsstring,code,string,use,how,objectivec,swift\n",
      "\n",
      "Cluster 8\n",
      "find,try,install,run,code,get,error,use,how,python\n",
      "\n",
      "Cluster 9\n",
      "way,check,javascript,how,plugin,function,load,ajax,use,jquery\n",
      "\n",
      "Cluster 10\n",
      "em,filec,div,listgroupitem,pullright,productcolor,gemstore,chromeextension,storecontroller,productcolorhtml\n",
      "\n",
      "Cluster 11\n",
      "instance,python,self,interface,methods,java,static,object,abstract,class\n",
      "\n",
      "Cluster 12\n",
      "use,insert,copy,character,like,paste,how,file,line,vim\n",
      "\n",
      "Cluster 13\n",
      "sqlite,mysql,server,mongodb,how,sql,data,postgresql,table,database\n",
      "\n",
      "Cluster 14\n",
      "from,text,how,dropdown,get,id,jquery,value,option,select\n",
      "\n",
      "Cluster 15\n",
      "python,replace,str,like,javascript,split,way,how,character,string\n",
      "\n",
      "Cluster 16\n",
      "install,file,ios,error,gem,maven,build,eclipse,project,xcode\n",
      "\n",
      "Cluster 17\n",
      "char,static,code,array,void,printf,function,return,main,int\n",
      "\n",
      "Cluster 18\n",
      "believe,care,quite,realize,right,rename,lightweight,git,annotate,tag\n",
      "\n",
      "Cluster 19\n",
      "want,code,is,one,would,like,how,difference,what,use\n",
      "\n",
      "Cluster 20\n",
      "list,subdirectories,command,find,python,path,current,how,file,directory\n",
      "\n",
      "Cluster 21\n",
      "detect,versions,run,slightly,script,shellbash,windowscygwin,cygwin,linux,mac\n",
      "\n",
      "Cluster 22\n",
      "program,file,code,keyword,jdk,how,difference,use,what,java\n",
      "\n",
      "Cluster 23\n",
      "merge,commit,repo,pull,github,clone,remote,push,repository,git\n",
      "\n",
      "Cluster 24\n",
      "key,need,license,check,group,table,spot,registration,repositories,repository\n",
      "\n",
      "Cluster 25\n",
      "microsoft,use,code,build,2010,solution,file,project,studio,visual\n",
      "\n",
      "Cluster 26\n",
      "define,string,whether,global,undefined,how,javascript,check,variables,variable\n",
      "\n",
      "Cluster 27\n",
      "ignore,reset,delete,add,untracked,change,repository,commit,file,git\n",
      "\n",
      "Cluster 28\n",
      "sierra,condaclean,completely,usersusernameanacondabinpython,mac,revert,macos,uninstall,python,anaconda\n",
      "\n",
      "Cluster 29\n",
      "textview,sdk,id,app,how,wrapcontent,layoutwidth,application,layoutheight,android\n",
      "\n",
      "Cluster 30\n",
      "visible,use,class,check,javascript,attribute,remove,jquery,dom,element\n",
      "\n",
      "Cluster 31\n",
      "script,use,file,output,how,bash,shell,run,line,command\n",
      "\n",
      "Cluster 32\n",
      "mysql55,mysql55server,transaction,instal,dependency,enablerepowebtatic,yum,processing,55101w5,package\n",
      "\n",
      "Cluster 33\n",
      "modaldiv,backdrop,ametp,bootstrap,fade,body,class,mymodule,modal,div\n",
      "\n",
      "Cluster 34\n",
      "jquery,element,css,content,center,width,id,class,height,div\n",
      "\n",
      "Cluster 35\n",
      "check,src,file,execute,how,python,run,bash,shell,script\n",
      "\n",
      "Cluster 36\n",
      "item,something,string,continue,use,recursion,break,iteration,foreach,loop\n",
      "\n",
      "Cluster 37\n",
      "would,file,type,like,how,structure,store,use,json,data\n",
      "\n",
      "Cluster 38\n",
      "web,redirect,how,user,url,load,javascript,html,scroll,page\n",
      "\n",
      "Cluster 39\n",
      "lock,new,code,java,main,use,run,task,process,thread\n",
      "\n",
      "Cluster 40\n",
      "can,virtual,public,private,super,why,static,call,class,constructor\n",
      "\n",
      "Cluster 41\n",
      "constant,what,vs,define,foo,use,difference,char,int,const\n",
      "\n",
      "Cluster 42\n",
      "get,version,express,javascript,server,file,how,use,node,nodejs\n",
      "\n",
      "Cluster 43\n",
      "string,float,round,use,decimal,range,how,integer,random,number\n",
      "\n",
      "Cluster 44\n",
      "use,way,properties,value,how,var,property,json,javascript,object\n",
      "\n",
      "Cluster 45\n",
      "line,name,use,class,csv,initpy,python,module,file,import\n",
      "\n",
      "Cluster 46\n",
      "response,map,rest,uuid,sensible,exception,redirect,error,boot,spring\n",
      "\n",
      "Cluster 47\n",
      "jar,version,eclipse,library,compile,build,project,gradle,studio,android\n",
      "\n",
      "Cluster 48\n",
      "2008,clause,what,how,use,table,database,query,server,sql\n",
      "\n",
      "Cluster 49\n",
      "adb,application,sign,keystore,emulator,install,file,android,device,apk\n",
      "\n",
      "Cluster 50\n",
      "action,view,android,round,corner,press,how,click,back,button\n",
      "\n",
      "Cluster 51\n",
      "jquery,id,name,field,text,submit,value,type,form,input\n",
      "\n",
      "Cluster 52\n",
      "use,user,bar,application,controller,screen,view,ios,iphone,app\n",
      "\n",
      "Cluster 53\n",
      "name,debug,method,nsstring,nslog,world,log,10hello,nclog,applicationdelegate\n",
      "\n",
      "Cluster 54\n",
      "sameas,populateatcheckbox,autocompletefrom,value,var,div,thisstateitems,populateatcheckboxes,items,populateat\n",
      "\n",
      "Cluster 55\n",
      "client,json,restful,use,request,soap,web,service,api,rest\n",
      "\n",
      "Cluster 56\n",
      "use,make,server,headers,get,response,send,post,http,request\n",
      "\n",
      "Cluster 57\n",
      "package,avoid,download,work,manually,behind,npm,trying,npmrc,proxy\n",
      "\n",
      "Cluster 58\n",
      "key,id,insert,mysql,sql,query,select,column,row,table\n",
      "\n",
      "Cluster 59\n",
      "age,value,string,how,algorithm,array,order,alphabetically,list,sort\n",
      "\n",
      "Cluster 60\n",
      "return,int,new,string,private,method,void,class,static,public\n",
      "\n",
      "Cluster 61\n",
      "sub,pomxml,multi,pom,multimodule,parent,project,maven,create,archetype\n",
      "\n",
      "Cluster 62\n",
      "what,run,integration,junit,code,class,methods,write,unit,test\n",
      "\n",
      "Cluster 63\n",
      "python,challenge,storing,key1,key2,pck,keyinfo,keyinfo2,data,dictionaries\n",
      "\n",
      "Cluster 64\n",
      "mystify,db,return,ienumerableproduct,getallproducts,dbproduct,products,yield,adventureworksentities,product\n",
      "\n",
      "Cluster 65\n",
      "skipcharactersetclienthandshake,charactersetserverutf8,charsets,default,mysql,character,charset,etcmycnf,utf8,set\n",
      "\n",
      "Cluster 66\n",
      "way,like,return,use,value,items,how,item,python,list\n",
      "\n",
      "Cluster 67\n",
      "upload,want,way,open,folder,read,use,how,line,file\n",
      "\n",
      "Cluster 68\n",
      "display,content,background,how,width,javascript,use,html,style,css\n",
      "\n",
      "Cluster 69\n",
      "hold,initialize,undefined,typeof,assuming,check,bettercorrect,definedinitialized,variable,elem\n",
      "\n",
      "Cluster 70\n",
      "languages,java,output,blabla,ansiescape,0mn,color,systemoutprintln,0m,033\n",
      "\n",
      "Cluster 71\n",
      "type,call,src,textjavascript,documentready,jquery2js,jquery1js,script,document,ready\n",
      "\n",
      "Cluster 72\n",
      "sense,change,dostate2,different,current,uirouter,transition,previous,machine,state\n",
      "\n",
      "Cluster 73\n",
      "transparent,02,backgroundimage,transparency,bright,wpcontentuploads201011tandemjpg,set,opacity,background,image\n",
      "\n",
      "Cluster 74\n",
      "sublime,string,like,uitextview,file,use,line,how,uilabel,text\n",
      "\n",
      "Cluster 75\n",
      "timestamps,the,how,exist,push,yet,modify,unpushed,message,commit\n",
      "\n",
      "Cluster 76\n",
      "date,push,db0c078d5286b837532ff5e276dcf91885df2296,2009,sep,tue,0700,git,eb27bf26dd18c5a34e0e82b929e0d74cfcaab316,commit\n",
      "\n",
      "Cluster 77\n",
      "place,compositing,odometer,position,blue,corner,top,six,square,image\n",
      "\n",
      "Cluster 78\n",
      "like,elements,way,var,object,numpy,value,how,javascript,array\n",
      "\n",
      "Cluster 79\n",
      "string,return,what,generic,new,object,class,value,use,type\n",
      "\n",
      "Cluster 80\n",
      "message,yet,file,myfiletxt,mistakenly,command,undo,add,commit,git\n",
      "\n",
      "Cluster 81\n",
      "use,group,sed,id,select,like,row,table,mysql,124\n",
      "\n",
      "Cluster 82\n",
      "color,fragment,white,move,keylistener,end,theme,text,cursor,edittext\n",
      "\n",
      "Cluster 83\n",
      "sub,new,copy,amp,serverstoragedata,oldeserverstoragedata,file,server,storage,folder\n",
      "\n",
      "Cluster 84\n",
      "how,push,merge,master,file,repository,change,branch,git,commit\n",
      "\n",
      "Cluster 85\n",
      "detectavoid,count,allocate,leak,call,allocation,free,unmanaged,counter,memory\n",
      "\n",
      "Cluster 86\n",
      "class,difference,mvc,singletons,what,use,singleton,factory,design,pattern\n",
      "\n",
      "Cluster 87\n",
      "imagerendering,photoshop,canvascopywidth,canvascopyheight,var,ratio,image,imgwidth,imgheight,canvas\n",
      "\n",
      "Cluster 88\n",
      "vardump,post,file,what,function,code,how,script,use,php\n",
      "\n",
      "Cluster 89\n",
      "unix,cat,cut,thousands,randomly,awk,text,file,line,shuffle\n",
      "\n",
      "Cluster 90\n",
      "suppose,machine,is,performance,code,complex,900,slight,901,faster\n",
      "\n",
      "Cluster 91\n",
      "per,87,group,19,45,cat,rate1,rate2,ben,aira\n",
      "\n",
      "Cluster 92\n",
      "root,use,how,error,server,table,password,query,database,mysql\n",
      "\n",
      "Cluster 93\n",
      "uniqid,sha1256,login,secure,hash,sha256,createsalt,md5,sha1,salt\n",
      "\n",
      "Cluster 94\n",
      "managepy,runserver,syspath,import,error,templatesindexes,nameofmynewappsettings,name,settings,django\n",
      "\n",
      "Cluster 95\n",
      "minimize,update,weight,initializesinglesource,algorithm,shortest,edge,relax,vertex,dijkstra\n",
      "\n",
      "Cluster 96\n",
      "android,white,text,red,transparent,how,bar,change,background,color\n",
      "\n",
      "Cluster 97\n",
      "img,imageview,css,size,how,resize,url,load,use,image\n",
      "\n",
      "Cluster 98\n",
      "application,try,understand,amaze,web,service,differences,aspnet,api,wcf\n",
      "\n",
      "Cluster 99\n",
      "use,get,map,how,dict,primary,press,value,dictionary,key\n",
      "\n",
      "Cluster 100\n",
      "convert,get,attempt,string,decimal,value,instead,systembyte,byte,hex\n",
      "\n",
      "Cluster 101\n",
      "bootstrap,resize,window,fire,jquery,function,events,modal,click,event\n",
      "\n",
      "Cluster 102\n",
      "20100402t14,dgetutcmonth,201042t3,dgetutcminutes,dgetutcseconds,agoabbr,dgetutchours,title,portion,mssinceepoch\n",
      "\n",
      "Cluster 103\n",
      "emerge,far,order,property,rootnode,structure,flat,object,tree,parentid\n",
      "\n",
      "Cluster 104\n",
      "how,ip,command,dockerfile,host,containers,image,run,container,docker\n",
      "\n",
      "Cluster 105\n",
      "object,usage,application,use,allocation,stack,leak,allocate,heap,memory\n",
      "\n",
      "Cluster 106\n",
      "switch,request,err,node,non,wait,single,thread,model,io\n",
      "\n",
      "Cluster 107\n",
      "ever,anybody,jvm,close,implement,java,execute,call,method,finalize\n",
      "\n",
      "Cluster 108\n",
      "testargumentslength,determine,argument,tom,function,alert,blah,test,argument1,argument2\n",
      "\n",
      "Cluster 109\n",
      "key,http,property,object,method,regex,newuri,privmsg,myobject,ircevent\n",
      "\n",
      "Cluster 110\n",
      "console,like,use,way,hello,output,line,how,python,print\n",
      "\n",
      "Cluster 111\n",
      "package,modules,sudo,nodejs,instal,packagejson,node,err,install,npm\n",
      "\n",
      "Cluster 112\n",
      "uiswipegesturerecognizer,predeterminate,animation,slide,directions,gesture,recognize,leave,right,swipe\n",
      "\n",
      "Cluster 113\n",
      "yyyymmdd,javascript,00,current,how,time,datetime,days,format,date\n",
      "\n",
      "Cluster 114\n",
      "know,anyone,does,examples,net,internet,upload,45,httpclient,multipartformdata\n",
      "\n",
      "Cluster 115\n",
      "int,use,way,suit,public,type,string,enums,value,enum\n",
      "\n",
      "Cluster 116\n",
      "format,int,array,javascript,integer,java,byte,how,string,convert\n",
      "\n",
      "Cluster 117\n",
      "itemdone,alldone,consolelog,callback,function,asynchronous,item,foreach,whenalldone,do\n",
      "\n",
      "Cluster 118\n",
      "general,usage,hold,static,convert,staticcast,pointer,type,cast,reinterpretcast\n",
      "\n",
      "Cluster 119\n",
      "firstname,lastname,respective,fullname,last,fullnameexplode,split,var,string,fullnamearr\n",
      "\n",
      "Cluster 120\n",
      "socketeventemitteremit,js,extension,failed,17,bson,eventemitteremit,nullanonymous,node,eventsjs\n",
      "\n",
      "Cluster 121\n",
      "frame,data,value,nan,row,column,columns,df,pandas,dataframe\n",
      "\n",
      "Cluster 122\n",
      "user,machine,php,use,how,get,validate,email,ip,address\n",
      "\n",
      "Cluster 123\n",
      "esc,jjjjjj,ctrlq,insert,press,vim,gvim,sublimetext,multiline,asd\n",
      "\n",
      "Cluster 124\n",
      "what,callback,code,scope,use,javascript,call,return,var,function\n",
      "\n",
      "Cluster 125\n",
      "error,code,handle,stack,try,trace,catch,exceptions,throw,exception\n"
     ]
    }
   ],
   "source": [
    "get_top_keywords(tf_idf_matrix_mono, clusters, tf_idf_vectorizer_mono.get_feature_names(), 10)"
   ]
  },
  {
   "cell_type": "markdown",
   "metadata": {},
   "source": [
    "### Bigram"
   ]
  },
  {
   "cell_type": "code",
   "execution_count": 27,
   "metadata": {
    "ExecuteTime": {
     "end_time": "2020-03-20T13:01:57.937777Z",
     "start_time": "2020-03-20T12:56:58.808276Z"
    }
   },
   "outputs": [
    {
     "name": "stdout",
     "output_type": "stream",
     "text": [
      "Fit 1 clusters\n",
      "Fit 6 clusters\n",
      "Fit 11 clusters\n",
      "Fit 16 clusters\n",
      "Fit 21 clusters\n",
      "Fit 26 clusters\n",
      "Fit 31 clusters\n",
      "Fit 36 clusters\n",
      "Fit 41 clusters\n",
      "Fit 46 clusters\n",
      "Fit 51 clusters\n",
      "Fit 56 clusters\n",
      "Fit 61 clusters\n",
      "Fit 66 clusters\n",
      "Fit 71 clusters\n",
      "Fit 76 clusters\n",
      "Fit 81 clusters\n",
      "Fit 86 clusters\n",
      "Fit 91 clusters\n",
      "Fit 96 clusters\n",
      "Fit 101 clusters\n",
      "Fit 106 clusters\n",
      "Fit 111 clusters\n",
      "Fit 116 clusters\n",
      "Fit 121 clusters\n",
      "Fit 126 clusters\n",
      "Fit 131 clusters\n",
      "Fit 136 clusters\n",
      "Fit 141 clusters\n",
      "Fit 146 clusters\n",
      "Fit 151 clusters\n",
      "Fit 156 clusters\n",
      "Fit 161 clusters\n",
      "Fit 166 clusters\n",
      "Fit 171 clusters\n",
      "Fit 176 clusters\n",
      "Fit 181 clusters\n",
      "Fit 186 clusters\n",
      "Fit 191 clusters\n",
      "Fit 196 clusters\n"
     ]
    },
    {
     "data": {
      "image/png": "[encoded data removed]",
      "text/plain": [
       "<Figure size 1080x360 with 1 Axes>"
      ]
     },
     "metadata": {
      "needs_background": "light"
     },
     "output_type": "display_data"
    }
   ],
   "source": [
    "find_optimal_cluster(tf_idf_matrix_bi, 200)"
   ]
  },
  {
   "cell_type": "markdown",
   "metadata": {},
   "source": [
    "## LDA"
   ]
  },
  {
   "cell_type": "code",
   "execution_count": 22,
   "metadata": {
    "ExecuteTime": {
     "end_time": "2020-03-19T11:44:11.291013Z",
     "start_time": "2020-03-19T11:40:26.044013Z"
    }
   },
   "outputs": [],
   "source": [
    "lda = LatentDirichletAllocation(n_components=20, max_iter=5, learning_method='online', learning_offset=50, random_state=20).fit(tf_idf_matrix)"
   ]
  },
  {
   "cell_type": "code",
   "execution_count": 25,
   "metadata": {
    "ExecuteTime": {
     "end_time": "2020-03-19T11:44:28.986499Z",
     "start_time": "2020-03-19T11:44:28.982498Z"
    }
   },
   "outputs": [],
   "source": [
    "def display_topics(model, feature_names, no_top_words):\n",
    "    for topic_idx, topic in enumerate(model.components_):\n",
    "        print(\"\\nTopic {}\".format(topic_idx))\n",
    "        print(\" \".join([feature_names[i] for i in topic.argsort()[:-no_top_words -1: -1]]))"
   ]
  },
  {
   "cell_type": "code",
   "execution_count": 27,
   "metadata": {
    "ExecuteTime": {
     "end_time": "2020-03-19T11:45:37.218275Z",
     "start_time": "2020-03-19T11:45:35.791776Z"
    }
   },
   "outputs": [
    {
     "name": "stdout",
     "output_type": "stream",
     "text": [
      "\n",
      "Topic 0\n",
      "page give mov langerrors rax dword ptr\n",
      "\n",
      "Topic 1\n",
      "scss hips hesc mmmanufacturerid import regular\n",
      "\n",
      "Topic 2\n",
      "county ternary conditional anujmtest serializedname county al\n",
      "\n",
      "Topic 3\n",
      "comandroidsupport compile comandroidsupport picasso ccffibackendc makeshared\n",
      "\n",
      "Topic 4\n",
      "secondcomponent detect network arrayliststring string convert arrayliststring mmword ptr\n",
      "\n",
      "Topic 5\n",
      "addressbook catransaction cleartext http cleartext peer authentication\n",
      "\n",
      "Topic 6\n",
      "usersmichaeljamesdocumentsprojectsprojmeannodemodulesexpressnodemodulesconnectlibprotojs next usersmichaeljamesdocumentsprojectsprojmeannodemodulesexpressnodemodulesconnectlibprotojs usersmichaeljamesdocumentsprojectsprojmeannodemodulesjadelibjadejs open pdf usersmichaeljamesdocumentsprojectsprojmeannodemodulesexpressnodemodulesconnectlibprotojs 193\n",
      "\n",
      "Topic 7\n",
      "outerscopevar tiendas muse huawei playery\n",
      "\n",
      "Topic 8\n",
      "pandasparserc log4j warn log4jproperties python27libsitepackagespandasparserpyd nrows\n",
      "\n",
      "Topic 9\n",
      "loginrequired route change 20110815 css content main info\n",
      "\n",
      "Topic 10\n",
      "use how file what get\n",
      "\n",
      "Topic 11\n",
      "trainee eall color view 3001 android virtual\n",
      "\n",
      "Topic 12\n",
      "uniqueptr std uniqueptr linux terminal versions net alert text\n",
      "\n",
      "Topic 13\n",
      "mms fileutils objudmcountrystandards gadaffi fileutils confuse\n",
      "\n",
      "Topic 14\n",
      "rmagick pg gem sequence number configuration options optdir\n",
      "\n",
      "Topic 15\n",
      "loadmodule prop2 prop1 ifmodule babel\n",
      "\n",
      "Topic 16\n",
      "sit amet amet 0x1839b38 dolor xuacompatible\n",
      "\n",
      "Topic 17\n",
      "applet 7546 eandroidruntime 7546 recv touchesmoved\n",
      "\n",
      "Topic 18\n",
      "gridarrange gridextra ggsave lstproductsadd lstproductsadd new\n",
      "\n",
      "Topic 19\n",
      "modeladd 054 somevariable activation testlistadd\n"
     ]
    }
   ],
   "source": [
    "display_topics(lda, tf_idf_vectorizer.get_feature_names(), 5)"
   ]
  },
  {
   "cell_type": "markdown",
   "metadata": {},
   "source": [
    "## NMF"
   ]
  },
  {
   "cell_type": "code",
   "execution_count": 29,
   "metadata": {
    "ExecuteTime": {
     "end_time": "2020-03-19T11:47:46.567356Z",
     "start_time": "2020-03-19T11:47:36.911277Z"
    }
   },
   "outputs": [],
   "source": [
    "nmf = NMF(n_components=20, max_iter=5, random_state=20).fit(tf_idf_matrix)"
   ]
  },
  {
   "cell_type": "code",
   "execution_count": 30,
   "metadata": {
    "ExecuteTime": {
     "end_time": "2020-03-19T11:47:48.501923Z",
     "start_time": "2020-03-19T11:47:47.545902Z"
    }
   },
   "outputs": [
    {
     "name": "stdout",
     "output_type": "stream",
     "text": [
      "\n",
      "Topic 0\n",
      "use function code like would\n",
      "\n",
      "Topic 1\n",
      "git commit repository push change\n",
      "\n",
      "Topic 2\n",
      "android layoutwidth layoutheight android layoutwidth android layoutheight\n",
      "\n",
      "Topic 3\n",
      "124 124 124 group mysql null\n",
      "\n",
      "Topic 4\n",
      "file line directory folder how\n",
      "\n",
      "Topic 5\n",
      "div div class div div height class\n",
      "\n",
      "Topic 6\n",
      "string convert character how how convert\n",
      "\n",
      "Topic 7\n",
      "class public static int void\n",
      "\n",
      "Topic 8\n",
      "table sql database mysql query\n",
      "\n",
      "Topic 9\n",
      "what java use best what best\n",
      "\n",
      "Topic 10\n",
      "difference what difference what vs function\n",
      "\n",
      "Topic 11\n",
      "python install print pip run\n",
      "\n",
      "Topic 12\n",
      "array value int var numpy\n",
      "\n",
      "Topic 13\n",
      "list item how color sort\n",
      "\n",
      "Topic 14\n",
      "object date javascript json how\n",
      "\n",
      "Topic 15\n",
      "image docker css container size\n",
      "\n",
      "Topic 16\n",
      "branch master remote git branch remote branch\n",
      "\n",
      "Topic 17\n",
      "script command shell bash shell script\n",
      "\n",
      "Topic 18\n",
      "input value type jquery text\n",
      "\n",
      "Topic 19\n",
      "request data page http post\n"
     ]
    }
   ],
   "source": [
    "display_topics(nmf, tf_idf_vectorizer.get_feature_names(), 5)"
   ]
  },
  {
   "cell_type": "code",
   "execution_count": null,
   "metadata": {},
   "outputs": [],
   "source": [
    "tfidf_mono_features_nm = tfidf_mono_vectorizer.get_feature_names()"
   ]
  },
  {
   "cell_type": "code",
   "execution_count": null,
   "metadata": {},
   "outputs": [],
   "source": [
    "def top_tags_from_nmf(x, vec_model, nmf_mod, score_min=0.05):\n",
    "    \"\"\"Returns dictionnary with words maximally associated to document and their relative NMF score.\n",
    "    Score of words are calculated by multiplication between NMF transformed W matrix and NMF fitted H\n",
    "    (vocabulary) value to get importance of each words into topic definition.\n",
    "    Args:\n",
    "        x: Token to be analyzed (list of ngrams)\n",
    "        vec_model: Vectorizer model used for TFIDF calculation\n",
    "        nmf_mod: Trained NMF model\n",
    "        score_min: threshold score for keeping word\n",
    "    \"\"\"\n",
    "    tfidf_target = vec_model.transform(x)\n",
    "    target_nmf_trans = nmf_mod.transform(tfidf_target)\n",
    "    \n",
    "    tags_scores = np.dot(target_nmf_trans, nmf_mod.components_).tolist()[0]\n",
    "\n",
    "    dict_tags_score = dict(zip(tfidf_mono_features_nm, tags_scores))\n",
    "    \n",
    "    return { k: v for k, v in dict_tags_score.items() if v >= score_min }\n"
   ]
  }
 ],
 "metadata": {
  "hide_input": false,
  "kernelspec": {
   "display_name": "Python 3",
   "language": "python",
   "name": "python3"
  },
  "language_info": {
   "codemirror_mode": {
    "name": "ipython",
    "version": 3
   },
   "file_extension": ".py",
   "mimetype": "text/x-python",
   "name": "python",
   "nbconvert_exporter": "python",
   "pygments_lexer": "ipython3",
   "version": "3.7.4"
  },
  "toc": {
   "base_numbering": 1,
   "nav_menu": {},
   "number_sections": false,
   "sideBar": true,
   "skip_h1_title": false,
   "title_cell": "Table of Contents",
   "title_sidebar": "Contents",
   "toc_cell": false,
   "toc_position": {},
   "toc_section_display": true,
   "toc_window_display": false
  },
  "varInspector": {
   "cols": {
    "lenName": 16,
    "lenType": 16,
    "lenVar": 40
   },
   "kernels_config": {
    "python": {
     "delete_cmd_postfix": "",
     "delete_cmd_prefix": "del ",
     "library": "var_list.py",
     "varRefreshCmd": "print(var_dic_list())"
    },
    "r": {
     "delete_cmd_postfix": ") ",
     "delete_cmd_prefix": "rm(",
     "library": "var_list.r",
     "varRefreshCmd": "cat(var_dic_list()) "
    }
   },
   "position": {
    "height": "283px",
    "left": "1536px",
    "right": "20px",
    "top": "240px",
    "width": "317px"
   },
   "types_to_exclude": [
    "module",
    "function",
    "builtin_function_or_method",
    "instance",
    "_Feature"
   ],
   "window_display": false
  }
 },
 "nbformat": 4,
 "nbformat_minor": 2
}

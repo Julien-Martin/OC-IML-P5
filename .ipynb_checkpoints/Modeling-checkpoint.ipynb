{
 "cells": [
  {
   "cell_type": "markdown",
   "metadata": {},
   "source": [
    "## 1. Import des librairies"
   ]
  },
  {
   "cell_type": "code",
   "execution_count": 1,
   "metadata": {
    "ExecuteTime": {
     "end_time": "2020-04-08T11:17:42.177847Z",
     "start_time": "2020-04-08T11:17:40.805953Z"
    }
   },
   "outputs": [],
   "source": [
    "from matplotlib import pyplot as plt\n",
    "import matplotlib.cm as cm\n",
    "import seaborn as sns\n",
    "import pandas as pd\n",
    "import numpy as np\n",
    "import nltk\n",
    "\n",
    "from sklearn.feature_extraction.text import TfidfVectorizer\n",
    "from sklearn.feature_extraction.text import CountVectorizer\n",
    "from sklearn.preprocessing import StandardScaler\n",
    "from sklearn.manifold import TSNE\n",
    "from sklearn.decomposition import PCA\n",
    "from sklearn.cluster import MiniBatchKMeans\n",
    "from sklearn.decomposition import LatentDirichletAllocation\n",
    "from sklearn.decomposition import NMF\n",
    "from sklearn.model_selection import train_test_split\n",
    "from sklearn.ensemble import RandomForestClassifier\n",
    "from sklearn.multiclass import OneVsRestClassifier\n",
    "from sklearn.linear_model import LogisticRegression\n",
    "from sklearn.preprocessing import MultiLabelBinarizer\n",
    "from sklearn.dummy import DummyClassifier\n",
    "from sklearn.linear_model import SGDClassifier\n",
    "from sklearn.naive_bayes import MultinomialNB\n",
    "from sklearn.svm import LinearSVC\n",
    "from sklearn.linear_model import Perceptron\n",
    "from sklearn.linear_model import PassiveAggressiveClassifier\n",
    "from sklearn.neural_network import MLPClassifier\n",
    "from sklearn import metrics\n",
    "from sklearn.model_selection import GridSearchCV\n",
    "\n",
    "sns.set_style(\"whitegrid\")\n",
    "%matplotlib inline\n",
    "\n",
    "import warnings\n",
    "warnings.filterwarnings(\"ignore\")"
   ]
  },
  {
   "cell_type": "markdown",
   "metadata": {},
   "source": [
    "## 2. Chargement des données"
   ]
  },
  {
   "cell_type": "code",
   "execution_count": 2,
   "metadata": {
    "ExecuteTime": {
     "end_time": "2020-04-08T11:17:43.900541Z",
     "start_time": "2020-04-08T11:17:43.836062Z"
    }
   },
   "outputs": [],
   "source": [
    "df = pd.read_csv(\"data/clean.csv\", index_col=[\"Unnamed: 0\"])"
   ]
  },
  {
   "cell_type": "code",
   "execution_count": 3,
   "metadata": {
    "ExecuteTime": {
     "end_time": "2020-04-08T11:17:44.305024Z",
     "start_time": "2020-04-08T11:17:44.296096Z"
    }
   },
   "outputs": [
    {
     "data": {
      "text/html": [
       "<div>\n",
       "<style scoped>\n",
       "    .dataframe tbody tr th:only-of-type {\n",
       "        vertical-align: middle;\n",
       "    }\n",
       "\n",
       "    .dataframe tbody tr th {\n",
       "        vertical-align: top;\n",
       "    }\n",
       "\n",
       "    .dataframe thead th {\n",
       "        text-align: right;\n",
       "    }\n",
       "</style>\n",
       "<table border=\"1\" class=\"dataframe\">\n",
       "  <thead>\n",
       "    <tr style=\"text-align: right;\">\n",
       "      <th></th>\n",
       "      <th>tags</th>\n",
       "      <th>document</th>\n",
       "    </tr>\n",
       "  </thead>\n",
       "  <tbody>\n",
       "    <tr>\n",
       "      <td>1</td>\n",
       "      <td>functional-programming</td>\n",
       "      <td>learn lisp really feel learn lisp plenty good ...</td>\n",
       "    </tr>\n",
       "    <tr>\n",
       "      <td>2</td>\n",
       "      <td>node.js</td>\n",
       "      <td>restart node upon change for someone come php ...</td>\n",
       "    </tr>\n",
       "    <tr>\n",
       "      <td>3</td>\n",
       "      <td>html css</td>\n",
       "      <td>100 min height css layout best make element 10...</td>\n",
       "    </tr>\n",
       "    <tr>\n",
       "      <td>4</td>\n",
       "      <td>regex language-agnostic</td>\n",
       "      <td>stack overflow generate seofriendly urls good ...</td>\n",
       "    </tr>\n",
       "    <tr>\n",
       "      <td>5</td>\n",
       "      <td>java memory</td>\n",
       "      <td>oslevel system information currently build jav...</td>\n",
       "    </tr>\n",
       "    <tr>\n",
       "      <td>...</td>\n",
       "      <td>...</td>\n",
       "      <td>...</td>\n",
       "    </tr>\n",
       "    <tr>\n",
       "      <td>16368</td>\n",
       "      <td>oop interface</td>\n",
       "      <td>difference interface abstract class exactly di...</td>\n",
       "    </tr>\n",
       "    <tr>\n",
       "      <td>16370</td>\n",
       "      <td>ios xcode</td>\n",
       "      <td>symbolicate crash log xcode xcode 5 organizer ...</td>\n",
       "    </tr>\n",
       "    <tr>\n",
       "      <td>16371</td>\n",
       "      <td>java spring</td>\n",
       "      <td>spring boot multiple external configuration mu...</td>\n",
       "    </tr>\n",
       "    <tr>\n",
       "      <td>16372</td>\n",
       "      <td>java c++</td>\n",
       "      <td>java final vs c++ const java c programmers tut...</td>\n",
       "    </tr>\n",
       "    <tr>\n",
       "      <td>16373</td>\n",
       "      <td>android</td>\n",
       "      <td>contextstartforegroundservice call servicestar...</td>\n",
       "    </tr>\n",
       "  </tbody>\n",
       "</table>\n",
       "<p>15232 rows × 2 columns</p>\n",
       "</div>"
      ],
      "text/plain": [
       "                          tags  \\\n",
       "1       functional-programming   \n",
       "2                      node.js   \n",
       "3                     html css   \n",
       "4      regex language-agnostic   \n",
       "5                  java memory   \n",
       "...                        ...   \n",
       "16368            oop interface   \n",
       "16370                ios xcode   \n",
       "16371              java spring   \n",
       "16372                 java c++   \n",
       "16373                  android   \n",
       "\n",
       "                                                document  \n",
       "1      learn lisp really feel learn lisp plenty good ...  \n",
       "2      restart node upon change for someone come php ...  \n",
       "3      100 min height css layout best make element 10...  \n",
       "4      stack overflow generate seofriendly urls good ...  \n",
       "5      oslevel system information currently build jav...  \n",
       "...                                                  ...  \n",
       "16368  difference interface abstract class exactly di...  \n",
       "16370  symbolicate crash log xcode xcode 5 organizer ...  \n",
       "16371  spring boot multiple external configuration mu...  \n",
       "16372  java final vs c++ const java c programmers tut...  \n",
       "16373  contextstartforegroundservice call servicestar...  \n",
       "\n",
       "[15232 rows x 2 columns]"
      ]
     },
     "execution_count": 3,
     "metadata": {},
     "output_type": "execute_result"
    }
   ],
   "source": [
    "df"
   ]
  },
  {
   "cell_type": "code",
   "execution_count": 4,
   "metadata": {
    "ExecuteTime": {
     "end_time": "2020-04-08T11:17:44.793486Z",
     "start_time": "2020-04-08T11:17:44.785523Z"
    }
   },
   "outputs": [],
   "source": [
    "df[\"tags\"] = df[\"tags\"].apply(lambda x: x.split())"
   ]
  },
  {
   "cell_type": "markdown",
   "metadata": {
    "ExecuteTime": {
     "end_time": "2020-03-26T11:07:49.156212Z",
     "start_time": "2020-03-26T11:07:49.153713Z"
    }
   },
   "source": [
    "## 3. Analyse non-supervisé"
   ]
  },
  {
   "cell_type": "markdown",
   "metadata": {},
   "source": [
    "### 3.1. Transformation texte en matrice TF-IDF"
   ]
  },
  {
   "cell_type": "code",
   "execution_count": 5,
   "metadata": {
    "ExecuteTime": {
     "end_time": "2020-04-08T11:17:46.666260Z",
     "start_time": "2020-04-08T11:17:46.656346Z"
    }
   },
   "outputs": [],
   "source": [
    "def find_optimal_cluster(data, max_k):\n",
    "    iters = range(1, max_k+1, 5)\n",
    "    sse = []\n",
    "    \n",
    "    for k in iters:\n",
    "        sse.append(MiniBatchKMeans(n_clusters=k, init_size=1024, batch_size=2048, random_state=20).fit(data).inertia_)\n",
    "        print('Fit {} clusters'.format(k))\n",
    "    fig, ax = plt.subplots(1,1, figsize=(15, 5))\n",
    "    ax.plot(iters, sse, marker='o')\n",
    "    ax.set_xlabel('Nombre de Clusters')\n",
    "    ax.set_xticks(iters)\n",
    "    ax.set_xticklabels(iters)\n",
    "    ax.set_ylabel('SSE')\n",
    "    ax.set_title(\"SSE par nombre de clusters\")\n",
    "    plt.tight_layout()\n",
    "    plt.show()\n",
    "    \n",
    "    \n",
    "def plot_tsne_pca(data, labels):\n",
    "    max_label = max(labels)\n",
    "    max_items = np.random.choice(range(data.shape[0]), size=3000, replace=False)\n",
    "    \n",
    "    pca = PCA(n_components=2).fit_transform(data[max_items,:].todense())\n",
    "    tsne = TSNE().fit_transform(PCA(n_components=50).fit_transform(data[max_items,:].todense()))\n",
    "    \n",
    "    \n",
    "    idx = np.random.choice(range(pca.shape[0]), size=300, replace=False)\n",
    "    label_subset = labels[max_items]\n",
    "    label_subset = [cm.hsv(i/max_label) for i in label_subset[idx]]\n",
    "    \n",
    "    fig, ax = plt.subplots(1, 2, figsize=(15, 5))\n",
    "    \n",
    "    ax[0].scatter(pca[idx, 0], pca[idx, 1], c=label_subset)\n",
    "    ax[0].set_title('PCA Cluster Plot')\n",
    "    \n",
    "    ax[1].scatter(tsne[idx, 0], tsne[idx, 1], c=label_subset)\n",
    "    ax[1].set_title('TSNE Cluster Plot')\n",
    "    \n",
    "def get_top_keywords(data, clusters, labels, n_terms):\n",
    "    temp_df = pd.DataFrame(data.todense()).groupby(clusters).mean()\n",
    "    \n",
    "    for i, r in temp_df.iterrows():\n",
    "        print('\\nCluster {}'.format(i))\n",
    "        print(','.join([labels[t] for t in np.argsort(r)[-n_terms:]]))"
   ]
  },
  {
   "cell_type": "markdown",
   "metadata": {},
   "source": [
    "### 3.2. Matrice monogramme"
   ]
  },
  {
   "cell_type": "code",
   "execution_count": 6,
   "metadata": {
    "ExecuteTime": {
     "end_time": "2020-04-08T11:17:49.803606Z",
     "start_time": "2020-04-08T11:17:49.800631Z"
    }
   },
   "outputs": [],
   "source": [
    "tf_idf_vectorizer_mono = TfidfVectorizer(ngram_range=(1,1))"
   ]
  },
  {
   "cell_type": "code",
   "execution_count": 7,
   "metadata": {
    "ExecuteTime": {
     "end_time": "2020-04-08T11:17:51.212207Z",
     "start_time": "2020-04-08T11:17:50.809921Z"
    }
   },
   "outputs": [],
   "source": [
    "tf_idf_matrix_mono = tf_idf_vectorizer_mono.fit_transform(df[\"document\"].values)"
   ]
  },
  {
   "cell_type": "code",
   "execution_count": 8,
   "metadata": {
    "ExecuteTime": {
     "end_time": "2020-04-08T09:08:02.469039Z",
     "start_time": "2020-04-08T09:08:02.465070Z"
    }
   },
   "outputs": [
    {
     "data": {
      "text/plain": [
       "(15232, 29741)"
      ]
     },
     "execution_count": 8,
     "metadata": {},
     "output_type": "execute_result"
    }
   ],
   "source": [
    "tf_idf_matrix_mono.shape"
   ]
  },
  {
   "cell_type": "code",
   "execution_count": 9,
   "metadata": {
    "ExecuteTime": {
     "end_time": "2020-04-08T09:09:28.304721Z",
     "start_time": "2020-04-08T09:08:02.906434Z"
    }
   },
   "outputs": [
    {
     "name": "stdout",
     "output_type": "stream",
     "text": [
      "Fit 1 clusters\n",
      "Fit 6 clusters\n",
      "Fit 11 clusters\n",
      "Fit 16 clusters\n",
      "Fit 21 clusters\n",
      "Fit 26 clusters\n",
      "Fit 31 clusters\n",
      "Fit 36 clusters\n",
      "Fit 41 clusters\n",
      "Fit 46 clusters\n",
      "Fit 51 clusters\n",
      "Fit 56 clusters\n",
      "Fit 61 clusters\n",
      "Fit 66 clusters\n",
      "Fit 71 clusters\n",
      "Fit 76 clusters\n",
      "Fit 81 clusters\n",
      "Fit 86 clusters\n",
      "Fit 91 clusters\n",
      "Fit 96 clusters\n",
      "Fit 101 clusters\n",
      "Fit 106 clusters\n",
      "Fit 111 clusters\n",
      "Fit 116 clusters\n",
      "Fit 121 clusters\n",
      "Fit 126 clusters\n",
      "Fit 131 clusters\n",
      "Fit 136 clusters\n",
      "Fit 141 clusters\n",
      "Fit 146 clusters\n",
      "Fit 151 clusters\n",
      "Fit 156 clusters\n",
      "Fit 161 clusters\n",
      "Fit 166 clusters\n",
      "Fit 171 clusters\n",
      "Fit 176 clusters\n",
      "Fit 181 clusters\n",
      "Fit 186 clusters\n",
      "Fit 191 clusters\n",
      "Fit 196 clusters\n"
     ]
    },
    {
     "data": {
      "image/png": "[encoded data removed]",
      "text/plain": [
       "<Figure size 1080x360 with 1 Axes>"
      ]
     },
     "metadata": {
      "needs_background": "light"
     },
     "output_type": "display_data"
    }
   ],
   "source": [
    "find_optimal_cluster(tf_idf_matrix_mono, 200)"
   ]
  },
  {
   "cell_type": "code",
   "execution_count": 10,
   "metadata": {
    "ExecuteTime": {
     "end_time": "2020-04-08T09:14:01.840531Z",
     "start_time": "2020-04-08T09:13:58.621492Z"
    }
   },
   "outputs": [],
   "source": [
    "clusters = MiniBatchKMeans(n_clusters=136, init_size=1024, batch_size=2048, random_state=20).fit_predict(tf_idf_matrix_mono)"
   ]
  },
  {
   "cell_type": "code",
   "execution_count": 11,
   "metadata": {
    "ExecuteTime": {
     "end_time": "2020-04-08T09:14:24.679222Z",
     "start_time": "2020-04-08T09:14:01.854419Z"
    }
   },
   "outputs": [
    {
     "data": {
      "image/png": "[encoded data removed]",
      "text/plain": [
       "<Figure size 1080x360 with 2 Axes>"
      ]
     },
     "metadata": {
      "needs_background": "light"
     },
     "output_type": "display_data"
    }
   ],
   "source": [
    "plot_tsne_pca(tf_idf_matrix_mono, clusters)"
   ]
  },
  {
   "cell_type": "code",
   "execution_count": 12,
   "metadata": {
    "ExecuteTime": {
     "end_time": "2020-04-08T09:14:32.769543Z",
     "start_time": "2020-04-08T09:14:30.793479Z"
    }
   },
   "outputs": [
    {
     "name": "stdout",
     "output_type": "stream",
     "text": [
      "\n",
      "Cluster 0\n",
      "mean,after,variables,syntax,question,inheritance,noob,duplicates,colon,constructor\n",
      "\n",
      "Cluster 1\n",
      "integration,it,httpdevelopersfacebookcomdocs,httpwikidevelopersfacebookcomindexphphowconnectauthenticationworks,user,inbuilt,instal,connect,log,facebook\n",
      "\n",
      "Cluster 2\n",
      "class,javascript,textbox,span,stylesheet,tr,css,dropdownlist,datalist,dynamically\n",
      "\n",
      "Cluster 3\n",
      "facillitate,facility,java,different,difference,always,confuse,static,final,keywords\n",
      "\n",
      "Cluster 4\n",
      "multiple,command,occurrences,search,line,space,text,character,string,replace\n",
      "\n",
      "Cluster 5\n",
      "git,bash,cron,script,machine,remote,command,key,run,ssh\n",
      "\n",
      "Cluster 6\n",
      "where,global,keyword,scope,declaration,precisely,extern,source,share,variables\n",
      "\n",
      "Cluster 7\n",
      "application,php,smtp,mail,html,gmail,validate,address,send,email\n",
      "\n",
      "Cluster 8\n",
      "terminal,prompt,shell,line,error,container,windows,docker,run,command\n",
      "\n",
      "Cluster 9\n",
      "break,end,script,arguments,python,multiple,text,read,command,line\n",
      "\n",
      "Cluster 10\n",
      "content,url,web,browser,scroll,user,javascript,load,html,page\n",
      "\n",
      "Cluster 11\n",
      "two,phone,range,digits,algorithm,round,generate,decimal,random,number\n",
      "\n",
      "Cluster 12\n",
      "submit,callback,function,data,return,form,call,request,jquery,ajax\n",
      "\n",
      "Cluster 13\n",
      "method,tdd,class,integration,junit,methods,run,write,unit,test\n",
      "\n",
      "Cluster 14\n",
      "else,somebody,schema,without,data,program,database,structure,export,mysql\n",
      "\n",
      "Cluster 15\n",
      "module,virtualenv,error,npm,version,python,instal,pip,install,package\n",
      "\n",
      "Cluster 16\n",
      "return,always,as,are,everything,pointer,equal,exceptions,four,sizeof\n",
      "\n",
      "Cluster 17\n",
      "notification,user,simulator,iphone,error,run,device,xcode,ios,app\n",
      "\n",
      "Cluster 18\n",
      "in,explain,question,java,type,method,mean,var,yield,keyword\n",
      "\n",
      "Cluster 19\n",
      "write,branch,set,list,text,repository,name,git,html,tag\n",
      "\n",
      "Cluster 20\n",
      "set,fix,layout,size,cell,css,screen,100,height,width\n",
      "\n",
      "Cluster 21\n",
      "object,size,stack,allocation,free,usage,heap,leak,allocate,memory\n",
      "\n",
      "Cluster 22\n",
      "center,background,url,size,display,save,load,resize,docker,image\n",
      "\n",
      "Cluster 23\n",
      "plugin,hop,group,auto,shift,hunt,bootstrap,frame,slide,carousel\n",
      "\n",
      "Cluster 24\n",
      "ever,anatomy,third,programmer,party,detection,process,application,memory,leak\n",
      "\n",
      "Cluster 25\n",
      "read,learn,write,imperative,difference,haskell,language,languages,functional,program\n",
      "\n",
      "Cluster 26\n",
      "delete,last,statement,course,represent,pointer,of,allow,deletestatement,lycreated\n",
      "\n",
      "Cluster 27\n",
      "iterate,remove,tuples,elements,value,item,items,sort,python,list\n",
      "\n",
      "Cluster 28\n",
      "element,sort,function,elements,numpy,convert,value,object,javascript,array\n",
      "\n",
      "Cluster 29\n",
      "legitimate,delete,key,standard,elegantefficient,format,items,ways,iterate,dictionary\n",
      "\n",
      "Cluster 30\n",
      "android,current,google,device,maps,city,location,address,latitude,longitude\n",
      "\n",
      "Cluster 31\n",
      "61,orgslf4jimplstaticloggerbinder,slf4japijar,classpaths,deploy,jar,application,websphere,tcserver,slf4j\n",
      "\n",
      "Cluster 32\n",
      "scenario,thus,resharper,highest,awkward,ienumerable,handle,possible,multiple,enumeration\n",
      "\n",
      "Cluster 33\n",
      "user,ipad,programmatically,screen,device,simulator,detect,application,app,iphone\n",
      "\n",
      "Cluster 34\n",
      "natural,generics,improvements,tons,greatest,query,syntax,expression,benefit,fluent\n",
      "\n",
      "Cluster 35\n",
      "name,variables,parameters,invoke,identify,call,bean,java,getter,method\n",
      "\n",
      "Cluster 36\n",
      "actionbar,cancel,app,101,calendar,done,galaxy,dialogfragment,baraction,dialog\n",
      "\n",
      "Cluster 37\n",
      "select,jquery,android,press,form,submit,back,click,radio,button\n",
      "\n",
      "Cluster 38\n",
      "clause,row,statement,2008,join,query,table,database,server,sql\n",
      "\n",
      "Cluster 39\n",
      "format,response,xml,return,string,convert,data,parse,object,json\n",
      "\n",
      "Cluster 40\n",
      "implement,abstract,strategy,class,object,difference,singleton,factory,design,pattern\n",
      "\n",
      "Cluster 41\n",
      "field,query,sql,connect,server,error,table,data,database,mysql\n",
      "\n",
      "Cluster 42\n",
      "log,newline,without,string,console,format,output,python,warn,print\n",
      "\n",
      "Cluster 43\n",
      "ignore,project,commit,repo,remote,push,clone,change,repository,git\n",
      "\n",
      "Cluster 44\n",
      "mb,large,server,uptodate,local,push,git,ssh,repo,github\n",
      "\n",
      "Cluster 45\n",
      "it,typescript,contribute,namespaces,basetypests,treets,dogts,external,modules,namespace\n",
      "\n",
      "Cluster 46\n",
      "function,typescript,project,directive,change,route,controller,angularjs,component,angular\n",
      "\n",
      "Cluster 47\n",
      "add,round,draw,uiview,corner,inner,text,effect,drop,shadow\n",
      "\n",
      "Cluster 48\n",
      "pass,string,name,whether,value,function,variables,javascript,check,variable\n",
      "\n",
      "Cluster 49\n",
      "input,html,item,set,value,option,box,jquery,select,text\n",
      "\n",
      "Cluster 50\n",
      "insert,name,query,columns,mysql,sql,column,database,row,table\n",
      "\n",
      "Cluster 51\n",
      "general,share,present,sheet,cheat,eclipse,shortcut,shortcuts,useful,cdt\n",
      "\n",
      "Cluster 52\n",
      "create,soap,inject,android,start,activity,run,web,windows,service\n",
      "\n",
      "Cluster 53\n",
      "display,top,create,custom,ios,layout,set,scroll,controller,view\n",
      "\n",
      "Cluster 54\n",
      "add,hashmap,hash,value,unique,press,table,foreign,primary,key\n",
      "\n",
      "Cluster 55\n",
      "nest,access,pair,return,dictionaries,list,value,python,key,dictionary\n",
      "\n",
      "Cluster 56\n",
      "make,yank,buffer,edit,emacs,copy,paste,command,line,vim\n",
      "\n",
      "Cluster 57\n",
      "change,push,repository,local,master,merge,commit,remote,git,branch\n",
      "\n",
      "Cluster 58\n",
      "new,create,follow,class,program,write,convert,type,difference,java\n",
      "\n",
      "Cluster 59\n",
      "object,create,instance,initialize,private,super,default,call,class,constructor\n",
      "\n",
      "Cluster 60\n",
      "main,ui,java,difference,wait,pool,run,task,process,thread\n",
      "\n",
      "Cluster 61\n",
      "state,rest,asp,null,realize,web,access,api,hand,session\n",
      "\n",
      "Cluster 62\n",
      "encodingcodepage,françois,differentunknown,user,detect,receive,endusers,text,codepages,codepage\n",
      "\n",
      "Cluster 63\n",
      "server,access,store,root,hash,mysql,passwords,username,user,password\n",
      "\n",
      "Cluster 64\n",
      "function,form,input,checkbox,event,load,plugin,check,element,jquery\n",
      "\n",
      "Cluster 65\n",
      "display,show,view,ios,action,hide,progress,navigation,status,bar\n",
      "\n",
      "Cluster 66\n",
      "gem,operator,rail,rvm,best,192,version,string,rails,ruby\n",
      "\n",
      "Cluster 67\n",
      "output,customize,red,set,button,white,text,change,background,color\n",
      "\n",
      "Cluster 68\n",
      "record,player,app,videos,android,url,html5,play,youtube,video\n",
      "\n",
      "Cluster 69\n",
      "example,object,entities,leave,outer,list,query,join,sql,linq\n",
      "\n",
      "Cluster 70\n",
      "point,size,tick,graph,figure,axis,legend,label,matplotlib,plot\n",
      "\n",
      "Cluster 71\n",
      "button,press,call,main,method,viewpager,android,back,activity,fragment\n",
      "\n",
      "Cluster 72\n",
      "example,see,url,check,browser,mean,string,variables,function,javascript\n",
      "\n",
      "Cluster 73\n",
      "name,define,parameter,arguments,javascript,python,return,pass,call,function\n",
      "\n",
      "Cluster 74\n",
      "version,express,module,npm,error,run,server,nodejs,js,node\n",
      "\n",
      "Cluster 75\n",
      "sort,create,function,method,value,array,properties,property,javascript,object\n",
      "\n",
      "Cluster 76\n",
      "pdf,error,link,url,close,browser,new,window,tab,open\n",
      "\n",
      "Cluster 77\n",
      "recursively,exist,list,subdirectories,change,python,command,path,current,directory\n",
      "\n",
      "Cluster 78\n",
      "regex,escape,expressions,string,single,match,double,expression,regular,quote\n",
      "\n",
      "Cluster 79\n",
      "method,framework,mvc,properties,class,application,annotation,boot,bean,spring\n",
      "\n",
      "Cluster 80\n",
      "data,python,add,example,type,enums,html,value,enum,attribute\n",
      "\n",
      "Cluster 81\n",
      "site,users,resourceintensive,phpapachelinux,call,request,every,api,institute,limit\n",
      "\n",
      "Cluster 82\n",
      "data,make,header,server,headers,response,send,post,http,request\n",
      "\n",
      "Cluster 83\n",
      "respond,spirit,every,impress,answer,able,good,databasesql,question,developer\n",
      "\n",
      "Cluster 84\n",
      "post,http,call,client,restful,soap,service,web,api,rest\n",
      "\n",
      "Cluster 85\n",
      "current,day,object,two,time,javascript,days,convert,format,date\n",
      "\n",
      "Cluster 86\n",
      "web,framework,action,controller,application,core,aspnet,asp,mvc,net\n",
      "\n",
      "Cluster 87\n",
      "follow,make,data,set,question,see,time,error,difference,python\n",
      "\n",
      "Cluster 88\n",
      "fail,user,psql,postgresql,pg,instal,error,install,postgres,gem\n",
      "\n",
      "Cluster 89\n",
      "run,2010,solution,eclipse,gradle,build,android,project,visual,studio\n",
      "\n",
      "Cluster 90\n",
      "independently,does,always,main,call,action,program,flow,thread,asynchronous\n",
      "\n",
      "Cluster 91\n",
      "conversion,tim,convert,line,git,end,124,crlf,coreautocrlf,lf\n",
      "\n",
      "Cluster 92\n",
      "xml,sdk,ps,create,drive,error,android,wizard,cannot,resolve\n",
      "\n",
      "Cluster 93\n",
      "replace,arguments,extra,user,regular,flag,enter,expression,regex,string\n",
      "\n",
      "Cluster 94\n",
      "null,function,pass,two,string,set,type,field,return,value\n",
      "\n",
      "Cluster 95\n",
      "screen,apk,phone,activity,app,sdk,device,emulator,application,android\n",
      "\n",
      "Cluster 96\n",
      "bootstrap,vertically,vertical,horizontal,demo,horizontally,alignment,center,align,form\n",
      "\n",
      "Cluster 97\n",
      "spring,plugins,hibernate,junit,pom,pomxml,tag,plugin,maven,dependency\n",
      "\n",
      "Cluster 98\n",
      "return,contain,java,check,remove,split,python,convert,character,string\n",
      "\n",
      "Cluster 99\n",
      "idleness,hsqldb,efficient,connection,test,database,pool,sql,databases,query\n",
      "\n",
      "Cluster 100\n",
      "useful,per,xcode,tip,language,features,type,hidden,hide,feature\n",
      "\n",
      "Cluster 101\n",
      "write,call,check,command,execute,python,run,bash,shell,script\n",
      "\n",
      "Cluster 102\n",
      "user,web,html,library,safari,page,open,disable,click,link\n",
      "\n",
      "Cluster 103\n",
      "insert,title,uiview,category,show,size,color,font,alert,uialertcontroller\n",
      "\n",
      "Cluster 104\n",
      "programmers,javascript,combinations,good,separator,thousand,cjava,printfstringformat,cphp,equivalent\n",
      "\n",
      "Cluster 105\n",
      "cross,cocoa,stupid,win32,windows,api,linux,os,native,gtk\n",
      "\n",
      "Cluster 106\n",
      "create,error,trust,sign,keystore,server,selfsigned,https,ssl,certificate\n",
      "\n",
      "Cluster 107\n",
      "python,modules,session,ssh,output,application,nohup,redirect,ioerror,stdout\n",
      "\n",
      "Cluster 108\n",
      "pghbaconf,remover,pghbaconfsample,sample,start,final,postgresql,run,server,update\n",
      "\n",
      "Cluster 109\n",
      "attempt,pointer,this,customize,href,link,chrome,value,elements,print\n",
      "\n",
      "Cluster 110\n",
      "vs,call,error,mysql,web,page,string,function,script,php\n",
      "\n",
      "Cluster 111\n",
      "set,class,ie,background,html,apply,element,image,style,css\n",
      "\n",
      "Cluster 112\n",
      "server,webview,getter,name,read,subdomain,set,create,value,cookie\n",
      "\n",
      "Cluster 113\n",
      "native,41,jelly,caller,call,android,toast,incoming,broadcast,receiver\n",
      "\n",
      "Cluster 114\n",
      "new,clone,project,git,pull,fork,repo,push,repository,github\n",
      "\n",
      "Cluster 115\n",
      "library,appear,button,log,achieve,vote,message,stack,overflow,popup\n",
      "\n",
      "Cluster 116\n",
      "dependency,import,source,intellij,dependencies,build,eclipse,jar,project,maven\n",
      "\n",
      "Cluster 117\n",
      "itunes,symbolicate,spotlight,symbolicated,dsym,symbolicating,iphone,app,report,crash\n",
      "\n",
      "Cluster 118\n",
      "at,latest,moment,change,git,commit,merge,master,mobiledevicesupport,branch\n",
      "\n",
      "Cluster 119\n",
      "message,merge,undo,revert,branch,push,repository,change,git,commit\n",
      "\n",
      "Cluster 120\n",
      "clause,return,log,result,table,row,string,sql,mysql,query\n",
      "\n",
      "Cluster 121\n",
      "keep,wonder,language,machine,compiler,executable,translate,particulary,attach,debugger\n",
      "\n",
      "Cluster 122\n",
      "instance,call,member,initialize,variables,method,java,methods,class,static\n",
      "\n",
      "Cluster 123\n",
      "applications,window,look,type,forms,windows,bind,mvvm,control,wpf\n",
      "\n",
      "Cluster 124\n",
      "index,csv,value,frame,data,row,column,columns,pandas,dataframe\n",
      "\n",
      "Cluster 125\n",
      "return,java,object,name,override,python,class,methods,call,method\n",
      "\n",
      "Cluster 126\n",
      "database,app,data,create,south,controller,view,field,django,model\n",
      "\n",
      "Cluster 127\n",
      "item,programmatically,years,love,among,application,forms,menu,exit,wpf\n",
      "\n",
      "Cluster 128\n",
      "comment,finally,call,line,synchronize,catch,throw,exceptions,exception,block\n",
      "\n",
      "Cluster 129\n",
      "character,simply,syntax,course,response,somehow,encode,angular,html,bind\n",
      "\n",
      "Cluster 130\n",
      "bite,quite,confuse,purpose,become,regard,overload,rvalue,pushback,emplaceback\n",
      "\n",
      "Cluster 131\n",
      "hook,poll,edit,grateful,process,pywin32,curses,change,hear,watch\n",
      "\n",
      "Cluster 132\n",
      "python,difference,instance,method,methods,java,abstract,object,interface,class\n",
      "\n",
      "Cluster 133\n",
      "parent,jquery,css,horizontally,scroll,content,height,vertically,center,div\n",
      "\n",
      "Cluster 134\n",
      "language,but,import,in,xcode,objective,string,error,objectivec,swift\n",
      "\n",
      "Cluster 135\n",
      "commit,update,cascade,git,migration,directory,repository,remove,folder,delete\n"
     ]
    }
   ],
   "source": [
    "get_top_keywords(tf_idf_matrix_mono, clusters, tf_idf_vectorizer_mono.get_feature_names(), 10)"
   ]
  },
  {
   "cell_type": "markdown",
   "metadata": {},
   "source": [
    "### 3.3. Matrice bigramme"
   ]
  },
  {
   "cell_type": "code",
   "execution_count": 13,
   "metadata": {
    "ExecuteTime": {
     "end_time": "2020-04-08T09:14:36.477778Z",
     "start_time": "2020-04-08T09:14:36.474802Z"
    }
   },
   "outputs": [],
   "source": [
    "tf_idf_vectorizer_bi = TfidfVectorizer(ngram_range=(2,2))"
   ]
  },
  {
   "cell_type": "code",
   "execution_count": 14,
   "metadata": {
    "ExecuteTime": {
     "end_time": "2020-04-08T09:14:39.207894Z",
     "start_time": "2020-04-08T09:14:37.808678Z"
    }
   },
   "outputs": [],
   "source": [
    "tf_idf_matrix_bi = tf_idf_vectorizer_bi.fit_transform(df[\"document\"].values)"
   ]
  },
  {
   "cell_type": "code",
   "execution_count": 15,
   "metadata": {
    "ExecuteTime": {
     "end_time": "2020-04-08T09:14:39.718786Z",
     "start_time": "2020-04-08T09:14:39.714843Z"
    }
   },
   "outputs": [
    {
     "data": {
      "text/plain": [
       "(15232, 386354)"
      ]
     },
     "execution_count": 15,
     "metadata": {},
     "output_type": "execute_result"
    }
   ],
   "source": [
    "tf_idf_matrix_bi.shape"
   ]
  },
  {
   "cell_type": "code",
   "execution_count": 16,
   "metadata": {
    "ExecuteTime": {
     "end_time": "2020-04-08T09:18:07.516232Z",
     "start_time": "2020-04-08T09:14:41.308214Z"
    }
   },
   "outputs": [
    {
     "name": "stdout",
     "output_type": "stream",
     "text": [
      "Fit 1 clusters\n",
      "Fit 6 clusters\n",
      "Fit 11 clusters\n",
      "Fit 16 clusters\n",
      "Fit 21 clusters\n",
      "Fit 26 clusters\n",
      "Fit 31 clusters\n",
      "Fit 36 clusters\n",
      "Fit 41 clusters\n",
      "Fit 46 clusters\n",
      "Fit 51 clusters\n",
      "Fit 56 clusters\n",
      "Fit 61 clusters\n",
      "Fit 66 clusters\n",
      "Fit 71 clusters\n",
      "Fit 76 clusters\n",
      "Fit 81 clusters\n",
      "Fit 86 clusters\n",
      "Fit 91 clusters\n",
      "Fit 96 clusters\n",
      "Fit 101 clusters\n",
      "Fit 106 clusters\n",
      "Fit 111 clusters\n",
      "Fit 116 clusters\n",
      "Fit 121 clusters\n",
      "Fit 126 clusters\n",
      "Fit 131 clusters\n",
      "Fit 136 clusters\n",
      "Fit 141 clusters\n",
      "Fit 146 clusters\n",
      "Fit 151 clusters\n",
      "Fit 156 clusters\n",
      "Fit 161 clusters\n",
      "Fit 166 clusters\n",
      "Fit 171 clusters\n",
      "Fit 176 clusters\n",
      "Fit 181 clusters\n",
      "Fit 186 clusters\n",
      "Fit 191 clusters\n",
      "Fit 196 clusters\n"
     ]
    },
    {
     "data": {
      "image/png": "[encoded data removed]",
      "text/plain": [
       "<Figure size 1080x360 with 1 Axes>"
      ]
     },
     "metadata": {
      "needs_background": "light"
     },
     "output_type": "display_data"
    }
   ],
   "source": [
    "find_optimal_cluster(tf_idf_matrix_bi, 200)"
   ]
  },
  {
   "cell_type": "code",
   "execution_count": 17,
   "metadata": {
    "ExecuteTime": {
     "end_time": "2020-04-08T09:18:36.217747Z",
     "start_time": "2020-04-08T09:18:26.773885Z"
    }
   },
   "outputs": [],
   "source": [
    "clusters = MiniBatchKMeans(n_clusters=186, init_size=1024, batch_size=2048, random_state=20).fit_predict(tf_idf_matrix_bi)"
   ]
  },
  {
   "cell_type": "code",
   "execution_count": 18,
   "metadata": {
    "ExecuteTime": {
     "end_time": "2020-04-08T09:20:15.199383Z",
     "start_time": "2020-04-08T09:18:49.358275Z"
    }
   },
   "outputs": [
    {
     "data": {
      "image/png": "[encoded data removed]",
      "text/plain": [
       "<Figure size 1080x360 with 2 Axes>"
      ]
     },
     "metadata": {
      "needs_background": "light"
     },
     "output_type": "display_data"
    }
   ],
   "source": [
    "plot_tsne_pca(tf_idf_matrix_bi, clusters)"
   ]
  },
  {
   "cell_type": "code",
   "execution_count": 19,
   "metadata": {
    "ExecuteTime": {
     "end_time": "2020-04-08T09:22:00.906158Z",
     "start_time": "2020-04-08T09:21:04.311062Z"
    }
   },
   "outputs": [
    {
     "name": "stdout",
     "output_type": "stream",
     "text": [
      "\n",
      "Cluster 0\n",
      "identifier version,blank build,difference version,devices deployment,build devices,field blank,version build,build field,version field,edit xcode\n",
      "\n",
      "Cluster 1\n",
      "gson parser,volley api,parser parser,presentation volley,parser volley,postget request,api library,serious api,volley source,android volley\n",
      "\n",
      "Cluster 2\n",
      "control record,record previous,rollback record,database let,good approacharchitecture,control every,database admin,approacharchitecture version,version control,record database\n",
      "\n",
      "Cluster 3\n",
      "look snippets,snippets multiple,list foreach,foreachcall javascript,foreach apply,array front,apply empty,front foreach,elements call,empty array\n",
      "\n",
      "Cluster 4\n",
      "eg chrome,simple mp4,blob url,blob type,download blob,software download,mp4 url,video whose,extension software,url blob\n",
      "\n",
      "Cluster 5\n",
      "git daemon,index fatal,fix new,index corrupt,bad index,winxp clone,corrupt git,cygwin winxp,clone repository,add commit\n",
      "\n",
      "Cluster 6\n",
      "curry place,curry curry,curry actually,application decent,examples curry,actually partial,equivalent examples,difference curry,differ curry,partial application\n",
      "\n",
      "Cluster 7\n",
      "anonymous subclass,static initialiser,initialiser anonymous,subclass method,illustrate two,con here,map initialise,initialiser method,method pros,initialise static\n",
      "\n",
      "Cluster 8\n",
      "today go,example 100,create range,start today,range date,date start,100 days,back arbitrary,days better,days say\n",
      "\n",
      "Cluster 9\n",
      "run certain,thread main,main ui,check current,thread achieve,current thread,certain piece,piece main,check thread,thread check\n",
      "\n",
      "Cluster 10\n",
      "examples person,person function,correct then,scope always,properties others,sure scope,javascript object,see examples,object properties,properties methods\n",
      "\n",
      "Cluster 11\n",
      "separate versions,nvm place,switch it,folder along,node binary,along node,within local,install latest,binary however,version npm\n",
      "\n",
      "Cluster 12\n",
      "pass activity,extend implement,list custom,make order,parcelable interface,activity list,some attribute,order pass,boolean implement,readwrite boolean\n",
      "\n",
      "Cluster 13\n",
      "github ajax,example websites,information symbol,must url,url or,handler url,append page,change javascript,detect url,url change\n",
      "\n",
      "Cluster 14\n",
      "note intend,output contain,qa subject,output similar,canonical qa,person and,happen print,print collections,sometype2f92e0f4 class,collections object\n",
      "\n",
      "Cluster 15\n",
      "return hours,do exactly,this beneficial,if particularly,1970 this,nsdates monthsdayshoursminutesseconds,particularly familiar,second january,time two,two date\n",
      "\n",
      "Cluster 16\n",
      "mixture rowscolumns,line columns,linesrows thus,array thus,row columns,index array,array extract,nxn array,extract 2x2,slice numpy\n",
      "\n",
      "Cluster 17\n",
      "button ipad,replace mac,make hyperlink,ios maybe,behave submit,website ios,style replace,mac default,input button,style input\n",
      "\n",
      "Cluster 18\n",
      "process watch,seem map,grateful hear,poll edit,best hop,pywin32 library,change each,curses it,hear edit,watch change\n",
      "\n",
      "Cluster 19\n",
      "key reference,columns reference,still table,reference half,half but,reference key,reference query,foreign key,key table,list foreign\n",
      "\n",
      "Cluster 20\n",
      "syntax initial,using normal,using constructor,revert old,constructor revert,normal property,syntax using,autoproperty initial,give autoproperty,initial value\n",
      "\n",
      "Cluster 21\n",
      "etc cover,mysql information,download cvs,user url,csv email,information record,cvs record,user php,let download,create csv\n",
      "\n",
      "Cluster 22\n",
      "something useful,difference benefit,tell another,search difference,xdocument xmldocument,xmldocument learn,benefit something,useful could,learn run,run search\n",
      "\n",
      "Cluster 23\n",
      "mongodb export,import local,dump store,however correct,correct command,store import,bson format,import bson,format mongodb,server command\n",
      "\n",
      "Cluster 24\n",
      "farfuture expiration,farfutures headers,farm make,line number,always default,number default,default within,within edit,edit always,vim line\n",
      "\n",
      "Cluster 25\n",
      "wrong prevent,start close,server listen,am close,simple tcp,stop node,close ctrl,ctrl mac,port start,mac when\n",
      "\n",
      "Cluster 26\n",
      "say data,why alternatives,antipattern why,recently overhear,antipattern recently,overhear people,data transfer,transfer object,dtos antipattern,object dtos\n",
      "\n",
      "Cluster 27\n",
      "select last,example last,child select,element except,children element,selectors for,css3 selectors,child css3,select children,last child\n",
      "\n",
      "Cluster 28\n",
      "right stdout,character right,say file1,automatically then,file1 something,parsepy script,read name,single automatically,stdout direct,open every\n",
      "\n",
      "Cluster 29\n",
      "blend condition,recommend alternative,multiline condition,isn appeal,statements sometimes,moment but,onto several,line obvious,long condition,however natural\n",
      "\n",
      "Cluster 30\n",
      "exif rotation,api object,rotate photos,camera jpeg,side rotate,trick happen,information serverside,exif image,jpeg exif,access jpeg\n",
      "\n",
      "Cluster 31\n",
      "stand php,confuse rule,indication type,letter variables,case rule,variables indication,java thing,stand mobile,android tutorial,rule confuse\n",
      "\n",
      "Cluster 32\n",
      "folders large,conventions folders,ie consider,camelcase underscore,conventions amp,underscore ie,should capitalize,large nodejs,capitalize camelcase,name conventions\n",
      "\n",
      "Cluster 33\n",
      "return make,equality python,compare equality,variables two,two member,identical value,instance equality,class identical,equality attribute,however compare\n",
      "\n",
      "Cluster 34\n",
      "afaik solve,push base,identical case,solve user,gitolite distinguish,distinguish push,audit userserver,access ownership,push private,private key\n",
      "\n",
      "Cluster 35\n",
      "escape user,localstorage xss,jwt localstorage,safe localstorage,input safe,react escape,application reactjs,reactjs currently,since react,safe store\n",
      "\n",
      "Cluster 36\n",
      "argument creating,argument expect,arguments error,401 follow,constructors take,creating object,take arguments,take argument,constructor take,object constructor\n",
      "\n",
      "Cluster 37\n",
      "javascript loop,something where,javascript think,seem incorrect,array seem,foreach array,loop entries,where array,entries array,array javascript\n",
      "\n",
      "Cluster 38\n",
      "navigation link,handle react,dropdown selection,call navigation,saw mixin,link dropdown,with element,natively handle,link natively,react router\n",
      "\n",
      "Cluster 39\n",
      "return guess,function caret,guess perform,caret operator,exponentiation but,perform exponentiation,operator serve,give return,serve java,return return\n",
      "\n",
      "Cluster 40\n",
      "request send,web request,idea make,method request,post web,request idea,data method,request canonical,canonical make,make http\n",
      "\n",
      "Cluster 41\n",
      "fascinate it,character string,convert list,string if,single string,list character,convert single,if list,char convert,list char\n",
      "\n",
      "Cluster 42\n",
      "difference java,generic type,type java,program model,strong program,model so,generics provide,differences generic,provide strong,java generics\n",
      "\n",
      "Cluster 43\n",
      "give node,node for,fromto give,all cycle,something bcb,graph iterate,graph fromto,iterate all,direct graph,cycle direct\n",
      "\n",
      "Cluster 44\n",
      "text read,text able,still write,sample swift,ibook still,data tofrom,swift ibook,figure sample,tofrom text,read write\n",
      "\n",
      "Cluster 45\n",
      "time apache,implement robust,techniques andor,modules available,limit request,available implement,andor modules,bytesipunit time,124 bytesipunit,rate limit\n",
      "\n",
      "Cluster 46\n",
      "store preference,method share,share preference,21 method,when avd,run avd,and store,two and,avd 23,show error\n",
      "\n",
      "Cluster 47\n",
      "widely events,new amp,necessary delegates,declaration useful,events declaration,wonder delegates,alternative thank,delegates appropriately,delegate alternative,wonder delegate\n",
      "\n",
      "Cluster 48\n",
      "different columns,another variable,dataframe data,save another,extract save,variable select,select save,columns extract,save df1,df1 none\n",
      "\n",
      "Cluster 49\n",
      "property prop,suppose assign,prop exist,typescript generate,but typescript,programatically assign,typescript if,if programatically,property object,object typescript\n",
      "\n",
      "Cluster 50\n",
      "objective difference,difference google,term objectivec,pointer primitive,word objectivec,type absence,please explain,objectivec object,pointer objectivec,null pointer\n",
      "\n",
      "Cluster 51\n",
      "leave behind,project rename,behind bash,folders think,but recurse,pyc project,pyc leave,recurse folders,rename fairly,remove pyc\n",
      "\n",
      "Cluster 52\n",
      "refer variable,variable see,if default,default apply,local consider,can should,refer current,instead methods,may refer,current object\n",
      "\n",
      "Cluster 53\n",
      "double brace,brace initialization,long line,inch tablet,string easiest,random item,broadcast receiver,easiest convert,stack trace,method call\n",
      "\n",
      "Cluster 54\n",
      "global nonconstant,threadsafe function,program routine,safely execute,reentrant are,are recursive,execute concurrently,nonconstant data,computer program,function reentrant\n",
      "\n",
      "Cluster 55\n",
      "image header,designer must,colour multiple,layout element,colour however,new colour,somewhat clone,place additionally,background colour,android ui\n",
      "\n",
      "Cluster 56\n",
      "teach python,in reference,example simplify,sysargv mean,wonder in,simplify term,currently teach,term represent,mean script,represent simply\n",
      "\n",
      "Cluster 57\n"
     ]
    },
    {
     "name": "stdout",
     "output_type": "stream",
     "text": [
      "related question,question why,consider bad,why consider,ilist list,explain ilist,ilistt can,listt ilistt,bad expose,list related\n",
      "\n",
      "Cluster 58\n",
      "landscape tablets,landscape sw600dp,allow portrait,sw600dp greater,greater phone,conditionally choose,orientation any,portrait conditionally,tablets able,portrait landscape\n",
      "\n",
      "Cluster 59\n",
      "faraway point,far yet,far xml,farfutures headers,поколение основанное,matplotlib change,change size,size figure,figure draw,draw matplotlib\n",
      "\n",
      "Cluster 60\n",
      "opaque accomplish,image transparent,subject opacity,without text,element opaque,semitransparent content,background two,elements subject,separate elements,parent relative\n",
      "\n",
      "Cluster 61\n",
      "must refetched,header imply,maxage0 nocache,consider stale,refetched immediately,imply content,content consider,cachecontrol maxage0,difference cachecontrol,stale must\n",
      "\n",
      "Cluster 62\n",
      "troubleshoot communications,log troubleshoot,cannot answer,container stdout,daemon proxy,communications client,stdout daemon,oddly cannot,docker daemon,daemon log\n",
      "\n",
      "Cluster 63\n",
      "give method,parameters return,without class,java bean,method identify,identify method,getter java,call parameters,invoke java,it getter\n",
      "\n",
      "Cluster 64\n",
      "itsappusesnonexemptencryption export,itsappusesnonexemptencryption infoplist,compliance internal,infoplist mean,select build,mean necessary,testingit say,set itsappusesnonexemptencryption,internal testingit,message select\n",
      "\n",
      "Cluster 65\n",
      "ignore invalid,19216811 in,run wget,httpsrequest little,router linksys,linksys run,log local,node js,ssl certificate,selfsigned ssl\n",
      "\n",
      "Cluster 66\n",
      "line question,come hide,feature line,throw hide,love come,figured throw,no love,feature no,question figured,hide feature\n",
      "\n",
      "Cluster 67\n",
      "another solution,number value,number write,number another,hexadecimal number,literal binary,type binary,but hexadecimal,binary literal,binary number\n",
      "\n",
      "Cluster 68\n",
      "not evidently,much timmy,static media,reference eg,that wrong,please rescue,eg expect,put site,level css,site level\n",
      "\n",
      "Cluster 69\n",
      "usage wonder,message githubcom,communicate githubcom,ie write,help github,write user,github usage,wonder communicate,usernameid give,githubcom user\n",
      "\n",
      "Cluster 70\n",
      "desire project,postbuild event,via postbuild,dll via,viewsmodulehomeindexcshtml folder,another able,project copy,copy project,project another,post build\n",
      "\n",
      "Cluster 71\n",
      "answer list,list net,simple accept,tools come,come framework,tool my,net sdk,program tool,sdk program,20 sdk\n",
      "\n",
      "Cluster 72\n",
      "website web,pretty gray,databse or,content databse,application website,cms web,sort portal,still view,web site,web application\n",
      "\n",
      "Cluster 73\n",
      "warn permanently,add rsa,message warning,host prevent,warning permanently,annoyance everything,prevent annoy,annoy message,permanently add,list host\n",
      "\n",
      "Cluster 74\n",
      "it google,load in,class given,word look,eg best,preferably function,accept fqn,fqn class,engine preferably,python class\n",
      "\n",
      "Cluster 75\n",
      "well multiple,make play,site 25,explicitly install,site 26,installation site,virtualenv solution,things either,yes virtualenv,example explicitly\n",
      "\n",
      "Cluster 76\n",
      "typea hence,compiler target,fail runtime,successfully fail,studio allow,via automatically,fail stop,unit test,private methods,test private\n",
      "\n",
      "Cluster 77\n",
      "animations textview,simple layouti,layouti finish,viewgone design,animation add,my xml,animations setvisibility,good any,event did,textview click\n",
      "\n",
      "Cluster 78\n",
      "nulls using,aside change,undesirable several,columns aside,preserve look,contain nulls,this undesirable,nulls data,null table,alter column\n",
      "\n",
      "Cluster 79\n",
      "do exit,however appropriate,exit android,wish exit,attempt exit,exit type,api hook,activity however,promise stop,hook initially\n",
      "\n",
      "Cluster 80\n",
      "we highly,worker node,project computational,js python,task prefer,js asynchronous,computational task,python worker,node js,python we\n",
      "\n",
      "Cluster 81\n",
      "currently everything,tell mongo,mongo pretty,especially nest,everything output,default tell,read especially,print mongodb,nest array,pretty print\n",
      "\n",
      "Cluster 82\n",
      "ideas appreciate,value parse,parse that,value complete,requestmapping path,that able,spring requestmapping,parse any,complete path,path value\n",
      "\n",
      "Cluster 83\n",
      "wait child,allow wait,bash wait,mechanical follow,finish builtin,proceed script,builtin feature,feature bash,wait process,process finish\n",
      "\n",
      "Cluster 84\n",
      "far wrap,faraway point,поколение основанное,first argument,script first,argument last,shell script,argument pass,last argument,pass shell\n",
      "\n",
      "Cluster 85\n",
      "packet delay,linux simulate,simulate delay,loss linux,simulate packet,drop packets,packets linux,delay drop,linux measure,delay loss\n",
      "\n",
      "Cluster 87\n",
      "instantiation provide,without instantiation,both invoke,threadsafe difference,ie practical,provide instance,instance neither,static class,singleton pattern,class singleton\n",
      "\n",
      "Cluster 88\n",
      "ios apps,app does,apps create,folder ios,folders document,inside document,folder iphone,new folders,anybody appreciate,document folder\n",
      "\n",
      "Cluster 89\n",
      "finish execute,name start,three thread,finish object,notification thread,execute thread,start three,thread notification,finish still,thread finish\n",
      "\n",
      "Cluster 90\n",
      "short descriptive,aggregate algorithm,mean short,lame able,sound lame,algorithm explain,linq aggregate,descriptive comprehensive,good mean,comprehensive small\n",
      "\n",
      "Cluster 91\n",
      "physics workaround,post import,mainpy follow,physics run,import entity,physics post,entity twice,importerror cannot,main vector,guess error\n",
      "\n",
      "Cluster 92\n",
      "socialapp onto,structure branch,first folder,add entire,onto github,github ignore,folder sourcecode,folder socialapp,folder onto,folder repository\n",
      "\n",
      "Cluster 93\n",
      "generator comprehension,end generator,comprehension end,comprehension dictionary,comprehension why,guess immutable,tuple comprehension,as list,python as,immutable seem\n",
      "\n",
      "Cluster 94\n",
      "project workspace,errors seem,help it,unable build,project cocoapods,set podfile,build unable,cocoapods errors,workspace help,cocoapods follow\n",
      "\n",
      "Cluster 95\n",
      "best practice,create new,can anyone,follow error,does anyone,node js,visual studio,sql server,command line,for example\n",
      "\n",
      "Cluster 96\n",
      "difference bracket,dataframe operators,dataframe provide,bracket double,two in,bracket access,methods access,elements list,access elements,list dataframe\n",
      "\n",
      "Cluster 97\n",
      "common branch,branch put,light modification,project official,second light,project second,official project,development common,modification add,but development\n",
      "\n",
      "Cluster 98\n",
      "originally app,three independent,repo over,background repository,there originally,version rewrite,share and,contain three,newproject branch,repo master\n",
      "\n",
      "Cluster 99\n",
      "will able,old location,another path,default mysql,access databases,directory possible,path will,databases old,mysql data,data directory\n",
      "\n",
      "Cluster 100\n",
      "record firstname,optional create,if title,different search,table four,create store,title null,lastname title,store procedure,firstname lastname\n",
      "\n",
      "Cluster 101\n",
      "version currently,anything if,figure version,currently instal,tell version,instal wonder,pip using,package currently,using pip,version package\n",
      "\n",
      "Cluster 102\n",
      "library configuration,today wiser,buildgradle sample,keep example,dependent test,library nice,depend pure,android studio,project library,source truth\n",
      "\n",
      "Cluster 103\n",
      "possible transform,ask with,hackery sure,tag point,head seem,commit shas,transform shacommit,shacommit message,list tag,tag commit\n",
      "\n",
      "Cluster 104\n",
      "commit maybe,change diffs,anything commit,whitespace change,log merge,step hard,trail whitespace,remove trail,automatically remove,git automatically\n",
      "\n",
      "Cluster 105\n",
      "table example,sql update,query join,join condition,value join,join update,condition ms,return join,field value,update field\n",
      "\n",
      "Cluster 106\n",
      "see nonstandard,recursive copy,do things,various flaw,nonstandard support,function various,efficient clone,see recursive,canonical solution,firefox do\n",
      "\n",
      "Cluster 107\n",
      "accomplish pandas,groupby output,print appear,eventually another,yield object,documentation any,grouping simple,print yield,enough print,but eventually\n",
      "\n",
      "Cluster 108\n",
      "rate lot,continuations though,arm automatic,riteofpassage write,appropriate versions,management web,management alternatives,overflow vote,resource management,automatic resource\n",
      "\n",
      "Cluster 109\n",
      "image solve,layout request,nexus image,fill imageview,height scale,ratio data,adapter image,application nexus,width keep,image fill\n",
      "\n",
      "Cluster 110\n",
      "stash conflict,scy empty,workarounds solution,fix initial,heads fix,pop without,reproduce 20160627,git stash,without conflict,conflict without\n",
      "\n",
      "Cluster 111\n",
      "local statementresultset,we pool,go oracle,sql exception,will weaksoft,single connection,understand solution,maximum open,open cursors,statementresultset object\n",
      "\n",
      "Cluster 112\n",
      "require readonly,attribute form,since readonly,completely example,explain parse,omit attribute,component certain,false omit,add attribute,attribute react\n",
      "\n",
      "Cluster 113\n",
      "administrator follow,restore application,database windows,mysql administrator,dump mysqldump,restore dump,cannot restore,generate mysqldump,give mysql,mysqldump cannot\n",
      "\n",
      "Cluster 114\n",
      "clone onto,basically project,act submodules,cv article,snippets script,could git,repositories various,big repository,could checkout,git repositories\n",
      "\n",
      "Cluster 115\n"
     ]
    },
    {
     "name": "stdout",
     "output_type": "stream",
     "text": [
      "android time,watermark library,library web,objectivec quick,zxing 3rd,make qr,qr generator,android application,create qrcode,qr android\n",
      "\n",
      "Cluster 116\n",
      "control layout,option docs,uitableview uitableviewstyleplain,disable background,layout ideally,cells full,avoid group,disable float,static style,float headers\n",
      "\n",
      "Cluster 117\n",
      "80000 items,data after,actually meta,they suggest,xml attribute,industry standard,xml pass,structure xml,attribute meta,meta data\n",
      "\n",
      "Cluster 118\n",
      "html tag,html string,within html,html within,tag string,entire document,string js,js entire,entire html,document html\n",
      "\n",
      "Cluster 119\n",
      "event firefox,scrollbars onoff,explorer and,webkit internet,method tap,crossbrowser window,modern method,correct modern,window resize,resize event\n",
      "\n",
      "Cluster 120\n",
      "field preferably,thus jackson,annotation but,serialization config,basis annotation,properties individual,properties getters,seem properties,preferably globally,specify jackson\n",
      "\n",
      "Cluster 121\n",
      "simple bind,update simple,exception expression,app0 update,app0 change,why component,simple plunk,check why,change check,message app0\n",
      "\n",
      "Cluster 122\n",
      "forward convert,forward in,reference unnamed,purpose affect,name rvalue,unnamed rvalue,advantage forward,reference purpose,affect call,rvalue reference\n",
      "\n",
      "Cluster 123\n",
      "refer buildaction,part take,options difficult,property select,various build,build action,action settings,whatever visual,default refer,visual studio\n",
      "\n",
      "Cluster 124\n",
      "level good,image quality,good photoshop,library scale,available thing,quality image,photoshop image,quality level,scale library,process library\n",
      "\n",
      "Cluster 125\n",
      "pattern achieve,task via,implement abstractfactory,abstractfactory pattern,most definition,achieve task,create object,object concrete,abstract factory,concrete class\n",
      "\n",
      "Cluster 126\n",
      "methods hide,controller viewcontrollers,viewcontroller particular,swift hide,particular viewcontroller,navigation bar,viewcontroller swift,bar first,first viewcontroller,hide navigation\n",
      "\n",
      "Cluster 127\n",
      "translate asyncawait,reject asyncawait,properly reject,originally translate,asyncawait so,asyncawait syntax,promise return,eg originally,return asyncawait,reject promise\n",
      "\n",
      "Cluster 128\n",
      "virtualenv fine,switch virtualenv,virtualenv virtualenv,virtualenvwrapper switch,real machine,annoy command,kind annoy,new that,exit virtual,leaveexitdeactivate python\n",
      "\n",
      "Cluster 129\n",
      "zero recommend,note by,recommend zerofill,typecast value,pad value,zero typecast,number 000005,6digit zerofilled,representation number,database sense\n",
      "\n",
      "Cluster 130\n",
      "far yet,far xml,farm make,fast bitmap,js require,folder node,folder require,js something,node js,require folder\n",
      "\n",
      "Cluster 131\n",
      "take javascript,you modern,available ie,via function,string foo,research think,convert json,parse json,javascript object,json string\n",
      "\n",
      "Cluster 132\n",
      "roles access,members access,action allow,right decorate,role for,allow role,show allow,controller action,access controller,allow members\n",
      "\n",
      "Cluster 133\n",
      "completion can,offer tab,completion python,give interactive,completion etc,interpreter offer,interactiveconsole shell,when start,interactive console,tab completion\n",
      "\n",
      "Cluster 134\n",
      "resistance level,calculate support,technical analysis,level anyone,intraday chart,algorithm technical,chart figure,analysis intraday,anyone algorithm,support resistance\n",
      "\n",
      "Cluster 135\n",
      "change phpmyadmin,reset change,phpmyadmin update,username ubuntu,ubuntu server,phpmyadmin setup,well phpmyadmin,mysql root,root password,change mysql\n",
      "\n",
      "Cluster 136\n",
      "integrate library,volley project,volley standalone,jar put,spin jar,can library,standalone library,project spin,library project,branch start\n",
      "\n",
      "Cluster 137\n",
      "call do,null object,console class,java input,return call,input systemconsole,systemconsole console,class input,anything systemconsole,user null\n",
      "\n",
      "Cluster 138\n",
      "center horizontally,css div,div horizontally,absolute div,div center,although give,horizontally css,horizontally although,center absolute,give center\n",
      "\n",
      "Cluster 139\n",
      "android exclude,bottom populate,click master,review listview,tiny part,listview able,linearlayour id,scrollable achieve,scroll view,list view\n",
      "\n",
      "Cluster 140\n",
      "far wrap,farfetched meaningless,far unsuccesful,array string,contact name,put array,android contact,contact android,name contact,android put\n",
      "\n",
      "Cluster 141\n",
      "activepdf puke,activepdf render,nonutf8 character,around attribute,db tokens,legacy app,companyname customername,iso88591 show,attribute value,html template\n",
      "\n",
      "Cluster 142\n",
      "update totally,line middle,totally forget,grep area,middle trying,console update,even why,forget grep,line 347340107,quick unix\n",
      "\n",
      "Cluster 143\n",
      "realise two,things reason,differences purely,advantagesdifferences really,show incase,value function,table value,multi statement,table valued,inline table\n",
      "\n",
      "Cluster 144\n",
      "cookies option,reiterate everything,question if,cookie post,javascript access,access cookies,xmlhttprequest object,httponly cookies,ajax site,cookies ajax\n",
      "\n",
      "Cluster 145\n",
      "reveal new,us ability,method everything,dir object,method next,method name,private method,public method,next call,private methods\n",
      "\n",
      "Cluster 146\n",
      "suggest upgrade,decisions developer,etc those,remove php,two php,project compatible,old project,php 70,php versions,versions xampp\n",
      "\n",
      "Cluster 147\n",
      "ipython goodies,debug ipython,matlab engineshell,shell extremely,statement access,matlab an,keyboard shortcuts,ipython debug,debug matlab,ipython shell\n",
      "\n",
      "Cluster 148\n",
      "100 inclusive,empty slot,inclusive size,array 100,quickest miss,array quickest,slot array,slot well,array number,number array\n",
      "\n",
      "Cluster 149\n",
      "поколение основанное,read lot,recently read,sometimes execute,async methods,getawaitergetresult recently,taskresult getawaitergetresult,execute synchronously,lot async,methods sometimes\n",
      "\n",
      "Cluster 150\n",
      "far unsuccesful,psql command,command short,command line,short key,key exit,utility psql,line utility,postgresql command,exit postgresql\n",
      "\n",
      "Cluster 151\n",
      "clone current,appear proper,name drop,move clone,problem content,folder executing,executing command,drop content,git repository,content git\n",
      "\n",
      "Cluster 152\n",
      "validation so,validation perhaps,perhaps via,force html5,able force,via jquery,form validation,without submit,submit via,validation without\n",
      "\n",
      "Cluster 153\n",
      "fare competitors,fart originally,call function,make call,string php,able make,function string,call possible,php able,possible net\n",
      "\n",
      "Cluster 154\n",
      "implement apps,able resort,drop sort,tutorial it,apps tutorial,listview user,record listview,resort drag,drop method,drag drop\n",
      "\n",
      "Cluster 155\n",
      "do set,set header,script return,result do,script do,do echo,echo result,php script,return json,json php\n",
      "\n",
      "Cluster 156\n",
      "ie connectlog,karmic box,fatal ident,pgadminiii ubuntu,ident authentication,usernamepwd command,postgresql pgadminiii,line psql,successfully ie,able pgadminiii\n",
      "\n",
      "Cluster 157\n",
      "namely default,private java,protect packageprivate,packageprivate private,private make,modifiers namely,make deal,clear rule,rule access,deal inheritance\n",
      "\n",
      "Cluster 158\n",
      "faraway point,far yet,far xml,far wrong,поколение основанное,generic list,list currently,currently bettermagic,datatable generic,convert datatable\n",
      "\n",
      "Cluster 159\n",
      "class class,another class,within another,class define,define within,class ever,ever nest,class understand,understand nest,nest class\n",
      "\n",
      "Cluster 160\n",
      "three int,colon refer,arrow double,blocks give,kwadrat three,int field,when dot,dot arrow,arrow difference,refer members\n",
      "\n",
      "Cluster 161\n",
      "etc maybe,conflict anything,handy however,replace loop,pros write,conflict etc,simpler guess,maybe replace,git plain,list conflict\n",
      "\n",
      "Cluster 163\n",
      "textarea field,execute alter,however perform,perform newly,textarea however,issue execute,newly set,jquery attempt,value textarea,set value\n",
      "\n",
      "Cluster 164\n",
      "although guess,scroll mean,choppy although,areas cause,jquery ipad,scroller finish,guess ipad,light ipad,element appear,ipad safari\n",
      "\n",
      "Cluster 165\n",
      "difference are,kind prefer,difference loop,vs do,iterate and,think big,loop kind,so iterate,prefer let,big difference\n",
      "\n",
      "Cluster 166\n",
      "control block,run help,exactly app,even mean,case block,dispatch main,main thread,central dispatch,grand central,block execute\n",
      "\n",
      "Cluster 167\n",
      "fare well,specific location,color specific,possible query,canvas object,object color,canvas possible,getpixel html,query html,html canvas\n",
      "\n",
      "Cluster 168\n",
      "upload run,respective folder,controller match,ftpfoldera2foocom ftpfoldera2barcom,publish project,name home,multiple type,match controller,type match,controller name\n",
      "\n",
      "Cluster 169\n",
      "remove view,modal presentation,ios remove,issue ios7,firstviewcontrollerm notice,transition delegate,view subviewmodal,view controller,present view,black background\n",
      "\n",
      "Cluster 170\n"
     ]
    },
    {
     "name": "stdout",
     "output_type": "stream",
     "text": [
      "see list,line see,function mysql,store function,procedures store,command line,proceduresfunctions mysql,store proceduresfunctions,mysql command,list store\n",
      "\n",
      "Cluster 171\n",
      "show pkfk,relationships verify,fruitless also,database constrain,search fruitless,verify show,pk fk,pkfk restraints,fk relationships,set pk\n",
      "\n",
      "Cluster 172\n",
      "component vue,render child,vfor directive,directive simplification,variation inside,variation it,variation parent,simplification implementation,call put,properly watch\n",
      "\n",
      "Cluster 173\n",
      "authentication username,info store,idea info,table sit,project authentication,connect 2008,data ps,passwords text,username password,best store\n",
      "\n",
      "Cluster 174\n",
      "eg now,line that,data line,remain anyone,nsfilehandle line,data nsfilehandle,next remain,give eg,line line,read data\n",
      "\n",
      "Cluster 175\n",
      "requirements ask,libraries it,dictionary well,position equal,position even,listtuple return,item list,binary search,return position,intend usage\n",
      "\n",
      "Cluster 176\n",
      "farfetched meaningless,поколение основанное,pass id,value text,id look,look value,jquery pass,jquery options,select jquery,options select\n",
      "\n",
      "Cluster 177\n",
      "go put,version can,statement string,string functionality,technical java,put later,explain technical,later java,java statement,functionality go\n",
      "\n",
      "Cluster 178\n",
      "3g base,go segment,screen home,set uisegmentedcontroller,uiwebview link,scenario website,they website,now segment,3g wifi,wifi 3g\n",
      "\n",
      "Cluster 179\n",
      "kind procedure,create new,new branch,tell us,create tree,create commit,tree object,us sha1sum,sha1sum create,parent commit\n",
      "\n",
      "Cluster 180\n",
      "diagram db,entityrelationship er,new oracle,developer oracle,generate entityrelationship,create er,generate er,oracle sql,sql developer,er diagram\n",
      "\n",
      "Cluster 181\n",
      "machine info,tcpclient generally,info this,connect socket,in tcpclient,check tcp,available in,socket first,generally connect,port available\n",
      "\n",
      "Cluster 182\n",
      "menu image,create drop,shadow overlap,bottom similar,drop bottom,element drop,right shadow,overlap right,shadow side,drop shadow\n",
      "\n",
      "Cluster 183\n",
      "well consider,implement application,which proper,applicationwillenterforeground vs,go sleep,vs applicationdidbecomeactive,vs applicationdidenterbackground,proper delegate,applicationwillresignactive vs,delegate implement\n",
      "\n",
      "Cluster 184\n",
      "allow datatables,datatables straightforward,bizarrely perform,straightforward for,query datatables,object bizarrely,query allow,datatable object,query datatable,linq query\n",
      "\n",
      "Cluster 185\n",
      "annotate but,lombok intellij,readers hear,see autogenerated,spit could,project compiler,something readers,workarounds update2,hear end,intellij idea\n"
     ]
    }
   ],
   "source": [
    "get_top_keywords(tf_idf_matrix_bi, clusters, tf_idf_vectorizer_bi.get_feature_names(), 10)"
   ]
  },
  {
   "cell_type": "markdown",
   "metadata": {},
   "source": [
    "Pour notre problème (la recherche de mot clé) l'utilisation d'une matrice monogramme est plus pertinente."
   ]
  },
  {
   "cell_type": "markdown",
   "metadata": {},
   "source": [
    "### 3.4. LDA"
   ]
  },
  {
   "cell_type": "code",
   "execution_count": 20,
   "metadata": {
    "ExecuteTime": {
     "end_time": "2020-04-08T09:23:36.051339Z",
     "start_time": "2020-04-08T09:22:00.968160Z"
    }
   },
   "outputs": [],
   "source": [
    "lda = LatentDirichletAllocation(n_components=136, max_iter=5, learning_method='online', learning_offset=50, random_state=20).fit(tf_idf_matrix_mono)"
   ]
  },
  {
   "cell_type": "code",
   "execution_count": 21,
   "metadata": {
    "ExecuteTime": {
     "end_time": "2020-04-08T09:31:38.882015Z",
     "start_time": "2020-04-08T09:31:38.872095Z"
    }
   },
   "outputs": [],
   "source": [
    "def show_topics(model, features_names, n_words=20):\n",
    "    keywords = np.array(features_names)\n",
    "    topic_keywords = []\n",
    "    for topic_weights in model.components_:\n",
    "        top_keyword_locs = (-topic_weights).argsort()[:n_words]\n",
    "        topic_keywords.append(keywords.take(top_keyword_locs))\n",
    "    df_topic_keywords = pd.DataFrame(topic_keywords)\n",
    "    df_topic_keywords.columns = ['Word ' + str(i) for i in range(df_topic_keywords.shape[1])]\n",
    "    df_topic_keywords.index = ['Topic ' + str(i) for i in range(df_topic_keywords.shape[0])]\n",
    "    return df_topic_keywords"
   ]
  },
  {
   "cell_type": "markdown",
   "metadata": {},
   "source": [
    "#### 3.4.1 - Affichage des topics"
   ]
  },
  {
   "cell_type": "code",
   "execution_count": 22,
   "metadata": {
    "ExecuteTime": {
     "end_time": "2020-04-08T09:31:40.957180Z",
     "start_time": "2020-04-08T09:31:40.669598Z"
    }
   },
   "outputs": [
    {
     "data": {
      "text/html": [
       "<div>\n",
       "<style scoped>\n",
       "    .dataframe tbody tr th:only-of-type {\n",
       "        vertical-align: middle;\n",
       "    }\n",
       "\n",
       "    .dataframe tbody tr th {\n",
       "        vertical-align: top;\n",
       "    }\n",
       "\n",
       "    .dataframe thead th {\n",
       "        text-align: right;\n",
       "    }\n",
       "</style>\n",
       "<table border=\"1\" class=\"dataframe\">\n",
       "  <thead>\n",
       "    <tr style=\"text-align: right;\">\n",
       "      <th></th>\n",
       "      <th>Word 0</th>\n",
       "      <th>Word 1</th>\n",
       "      <th>Word 2</th>\n",
       "      <th>Word 3</th>\n",
       "      <th>Word 4</th>\n",
       "    </tr>\n",
       "  </thead>\n",
       "  <tbody>\n",
       "    <tr>\n",
       "      <td>Topic 0</td>\n",
       "      <td>orientations</td>\n",
       "      <td>1242</td>\n",
       "      <td>db2</td>\n",
       "      <td>uiinterfaceorientationportrait</td>\n",
       "      <td>uiinterfaceorientationportraitupsidedown</td>\n",
       "    </tr>\n",
       "    <tr>\n",
       "      <td>Topic 1</td>\n",
       "      <td>lemme</td>\n",
       "      <td>macro2</td>\n",
       "      <td>makeuseof</td>\n",
       "      <td>861231278</td>\n",
       "      <td>makeunique</td>\n",
       "    </tr>\n",
       "    <tr>\n",
       "      <td>Topic 2</td>\n",
       "      <td>resulting</td>\n",
       "      <td>logits</td>\n",
       "      <td>method1</td>\n",
       "      <td>method2</td>\n",
       "      <td>pimpl</td>\n",
       "    </tr>\n",
       "    <tr>\n",
       "      <td>Topic 3</td>\n",
       "      <td>string</td>\n",
       "      <td>function</td>\n",
       "      <td>python</td>\n",
       "      <td>javascript</td>\n",
       "      <td>object</td>\n",
       "    </tr>\n",
       "    <tr>\n",
       "      <td>Topic 4</td>\n",
       "      <td>preferrably</td>\n",
       "      <td>simpson</td>\n",
       "      <td>oloo</td>\n",
       "      <td>stocksfinancial</td>\n",
       "      <td>quickndirty</td>\n",
       "    </tr>\n",
       "    <tr>\n",
       "      <td>...</td>\n",
       "      <td>...</td>\n",
       "      <td>...</td>\n",
       "      <td>...</td>\n",
       "      <td>...</td>\n",
       "      <td>...</td>\n",
       "    </tr>\n",
       "    <tr>\n",
       "      <td>Topic 131</td>\n",
       "      <td>control</td>\n",
       "      <td>flicker</td>\n",
       "      <td>sec</td>\n",
       "      <td>thanks</td>\n",
       "      <td>user</td>\n",
       "    </tr>\n",
       "    <tr>\n",
       "      <td>Topic 132</td>\n",
       "      <td>occupy</td>\n",
       "      <td>authenticator</td>\n",
       "      <td>heading3</td>\n",
       "      <td>value42</td>\n",
       "      <td>value31</td>\n",
       "    </tr>\n",
       "    <tr>\n",
       "      <td>Topic 133</td>\n",
       "      <td>turbo</td>\n",
       "      <td>quirksmode</td>\n",
       "      <td>borland</td>\n",
       "      <td>page</td>\n",
       "      <td>internet</td>\n",
       "    </tr>\n",
       "    <tr>\n",
       "      <td>Topic 134</td>\n",
       "      <td>node</td>\n",
       "      <td>restart</td>\n",
       "      <td>progress</td>\n",
       "      <td>connect</td>\n",
       "      <td>varmysqlmysqlsock</td>\n",
       "    </tr>\n",
       "    <tr>\n",
       "      <td>Topic 135</td>\n",
       "      <td>utils</td>\n",
       "      <td>tick</td>\n",
       "      <td>json</td>\n",
       "      <td>label</td>\n",
       "      <td>warn</td>\n",
       "    </tr>\n",
       "  </tbody>\n",
       "</table>\n",
       "<p>136 rows × 5 columns</p>\n",
       "</div>"
      ],
      "text/plain": [
       "                 Word 0         Word 1     Word 2  \\\n",
       "Topic 0    orientations           1242        db2   \n",
       "Topic 1           lemme         macro2  makeuseof   \n",
       "Topic 2       resulting         logits    method1   \n",
       "Topic 3          string       function     python   \n",
       "Topic 4     preferrably        simpson       oloo   \n",
       "...                 ...            ...        ...   \n",
       "Topic 131       control        flicker        sec   \n",
       "Topic 132        occupy  authenticator   heading3   \n",
       "Topic 133         turbo     quirksmode    borland   \n",
       "Topic 134          node        restart   progress   \n",
       "Topic 135         utils           tick       json   \n",
       "\n",
       "                                   Word 3  \\\n",
       "Topic 0    uiinterfaceorientationportrait   \n",
       "Topic 1                         861231278   \n",
       "Topic 2                           method2   \n",
       "Topic 3                        javascript   \n",
       "Topic 4                   stocksfinancial   \n",
       "...                                   ...   \n",
       "Topic 131                          thanks   \n",
       "Topic 132                         value42   \n",
       "Topic 133                            page   \n",
       "Topic 134                         connect   \n",
       "Topic 135                           label   \n",
       "\n",
       "                                             Word 4  \n",
       "Topic 0    uiinterfaceorientationportraitupsidedown  \n",
       "Topic 1                                  makeunique  \n",
       "Topic 2                                       pimpl  \n",
       "Topic 3                                      object  \n",
       "Topic 4                                 quickndirty  \n",
       "...                                             ...  \n",
       "Topic 131                                      user  \n",
       "Topic 132                                   value31  \n",
       "Topic 133                                  internet  \n",
       "Topic 134                         varmysqlmysqlsock  \n",
       "Topic 135                                      warn  \n",
       "\n",
       "[136 rows x 5 columns]"
      ]
     },
     "execution_count": 22,
     "metadata": {},
     "output_type": "execute_result"
    }
   ],
   "source": [
    "lda_topic_keywords = show_topics(lda, tf_idf_vectorizer_mono.get_feature_names(), 5)\n",
    "lda_topic_keywords"
   ]
  },
  {
   "cell_type": "markdown",
   "metadata": {},
   "source": [
    "#### 3.4.2 - Prédiction sur 5 questions"
   ]
  },
  {
   "cell_type": "markdown",
   "metadata": {},
   "source": [
    "Les 5 questions de tests seront :"
   ]
  },
  {
   "cell_type": "code",
   "execution_count": 23,
   "metadata": {
    "ExecuteTime": {
     "end_time": "2020-04-08T09:31:42.516410Z",
     "start_time": "2020-04-08T09:31:42.507475Z"
    }
   },
   "outputs": [
    {
     "data": {
      "text/html": [
       "<div>\n",
       "<style scoped>\n",
       "    .dataframe tbody tr th:only-of-type {\n",
       "        vertical-align: middle;\n",
       "    }\n",
       "\n",
       "    .dataframe tbody tr th {\n",
       "        vertical-align: top;\n",
       "    }\n",
       "\n",
       "    .dataframe thead th {\n",
       "        text-align: right;\n",
       "    }\n",
       "</style>\n",
       "<table border=\"1\" class=\"dataframe\">\n",
       "  <thead>\n",
       "    <tr style=\"text-align: right;\">\n",
       "      <th></th>\n",
       "      <th>tags</th>\n",
       "      <th>document</th>\n",
       "    </tr>\n",
       "  </thead>\n",
       "  <tbody>\n",
       "    <tr>\n",
       "      <td>2</td>\n",
       "      <td>[node.js]</td>\n",
       "      <td>restart node upon change for someone come php ...</td>\n",
       "    </tr>\n",
       "    <tr>\n",
       "      <td>3</td>\n",
       "      <td>[html, css]</td>\n",
       "      <td>100 min height css layout best make element 10...</td>\n",
       "    </tr>\n",
       "    <tr>\n",
       "      <td>4</td>\n",
       "      <td>[regex, language-agnostic]</td>\n",
       "      <td>stack overflow generate seofriendly urls good ...</td>\n",
       "    </tr>\n",
       "    <tr>\n",
       "      <td>5</td>\n",
       "      <td>[java, memory]</td>\n",
       "      <td>oslevel system information currently build jav...</td>\n",
       "    </tr>\n",
       "    <tr>\n",
       "      <td>6</td>\n",
       "      <td>[security, browser, passwords]</td>\n",
       "      <td>disable browser ave password functionality joy...</td>\n",
       "    </tr>\n",
       "  </tbody>\n",
       "</table>\n",
       "</div>"
      ],
      "text/plain": [
       "                             tags  \\\n",
       "2                       [node.js]   \n",
       "3                     [html, css]   \n",
       "4      [regex, language-agnostic]   \n",
       "5                  [java, memory]   \n",
       "6  [security, browser, passwords]   \n",
       "\n",
       "                                            document  \n",
       "2  restart node upon change for someone come php ...  \n",
       "3  100 min height css layout best make element 10...  \n",
       "4  stack overflow generate seofriendly urls good ...  \n",
       "5  oslevel system information currently build jav...  \n",
       "6  disable browser ave password functionality joy...  "
      ]
     },
     "execution_count": 23,
     "metadata": {},
     "output_type": "execute_result"
    }
   ],
   "source": [
    "df.loc[[2, 3, 4, 5, 6]]"
   ]
  },
  {
   "cell_type": "code",
   "execution_count": 24,
   "metadata": {
    "ExecuteTime": {
     "end_time": "2020-04-08T09:31:43.172600Z",
     "start_time": "2020-04-08T09:31:43.168632Z"
    }
   },
   "outputs": [],
   "source": [
    "def predict_topic(text, vectorizer, model, df_topic_keywords):\n",
    "    text = vectorizer.transform(text)\n",
    "    topic_probabitity_scores = model.transform(text)\n",
    "    topic = df_topic_keywords.iloc[np.argmax(topic_probabitity_scores), :].values.tolist()\n",
    "    return topic, topic_probabitity_scores"
   ]
  },
  {
   "cell_type": "code",
   "execution_count": 25,
   "metadata": {
    "ExecuteTime": {
     "end_time": "2020-04-08T09:31:43.727868Z",
     "start_time": "2020-04-08T09:31:43.714971Z"
    }
   },
   "outputs": [
    {
     "data": {
      "text/plain": [
       "(['string', 'function', 'python', 'javascript', 'object'],\n",
       " array([[0.00155794, 0.00155794, 0.00155794, 0.78967764, 0.00155794,\n",
       "         0.00155794, 0.00155794, 0.00155794, 0.00155794, 0.00155794,\n",
       "         0.00155794, 0.00155794, 0.00155794, 0.00155794, 0.00155794,\n",
       "         0.00155794, 0.00155794, 0.00155794, 0.00155794, 0.00155794,\n",
       "         0.00155794, 0.00155794, 0.00155794, 0.00155794, 0.00155794,\n",
       "         0.00155794, 0.00155794, 0.00155794, 0.00155794, 0.00155794,\n",
       "         0.00155794, 0.00155794, 0.00155794, 0.00155794, 0.00155794,\n",
       "         0.00155794, 0.00155794, 0.00155794, 0.00155794, 0.00155794,\n",
       "         0.00155794, 0.00155794, 0.00155794, 0.00155794, 0.00155794,\n",
       "         0.00155794, 0.00155794, 0.00155794, 0.00155794, 0.00155794,\n",
       "         0.00155794, 0.00155794, 0.00155794, 0.00155794, 0.00155794,\n",
       "         0.00155794, 0.00155794, 0.00155794, 0.00155794, 0.00155794,\n",
       "         0.00155794, 0.00155794, 0.00155794, 0.00155794, 0.00155794,\n",
       "         0.00155794, 0.00155794, 0.00155794, 0.00155794, 0.00155794,\n",
       "         0.00155794, 0.00155794, 0.00155794, 0.00155794, 0.00155794,\n",
       "         0.00155794, 0.00155794, 0.00155794, 0.00155794, 0.00155794,\n",
       "         0.00155794, 0.00155794, 0.00155794, 0.00155794, 0.00155794,\n",
       "         0.00155794, 0.00155794, 0.00155794, 0.00155794, 0.00155794,\n",
       "         0.00155794, 0.00155794, 0.00155794, 0.00155794, 0.00155794,\n",
       "         0.00155794, 0.00155794, 0.00155794, 0.00155794, 0.00155794,\n",
       "         0.00155794, 0.00155794, 0.00155794, 0.00155794, 0.00155794,\n",
       "         0.00155794, 0.00155794, 0.00155794, 0.00155794, 0.00155794,\n",
       "         0.00155794, 0.00155794, 0.00155794, 0.00155794, 0.00155794,\n",
       "         0.00155794, 0.00155794, 0.00155794, 0.00155794, 0.00155794,\n",
       "         0.00155794, 0.00155794, 0.00155794, 0.00155794, 0.00155794,\n",
       "         0.00155794, 0.00155794, 0.00155794, 0.00155794, 0.00155794,\n",
       "         0.00155794, 0.00155794, 0.00155794, 0.00155794, 0.00155794,\n",
       "         0.00155794]]))"
      ]
     },
     "execution_count": 25,
     "metadata": {},
     "output_type": "execute_result"
    }
   ],
   "source": [
    "predict_topic([df.loc[2, \"document\"]], tf_idf_vectorizer_mono, lda, lda_topic_keywords)"
   ]
  },
  {
   "cell_type": "code",
   "execution_count": 26,
   "metadata": {
    "ExecuteTime": {
     "end_time": "2020-04-08T09:31:44.568444Z",
     "start_time": "2020-04-08T09:31:44.561998Z"
    }
   },
   "outputs": [
    {
     "data": {
      "text/plain": [
       "(['string', 'function', 'python', 'javascript', 'object'],\n",
       " array([[0.00135636, 0.00135636, 0.00135636, 0.81689146, 0.00135636,\n",
       "         0.00135636, 0.00135636, 0.00135636, 0.00135636, 0.00135636,\n",
       "         0.00135636, 0.00135636, 0.00135636, 0.00135636, 0.00135636,\n",
       "         0.00135636, 0.00135636, 0.00135636, 0.00135636, 0.00135636,\n",
       "         0.00135636, 0.00135636, 0.00135636, 0.00135636, 0.00135636,\n",
       "         0.00135636, 0.00135636, 0.00135636, 0.00135636, 0.00135636,\n",
       "         0.00135636, 0.00135636, 0.00135636, 0.00135636, 0.00135636,\n",
       "         0.00135636, 0.00135636, 0.00135636, 0.00135636, 0.00135636,\n",
       "         0.00135636, 0.00135636, 0.00135636, 0.00135636, 0.00135636,\n",
       "         0.00135636, 0.00135636, 0.00135636, 0.00135636, 0.00135636,\n",
       "         0.00135636, 0.00135636, 0.00135636, 0.00135636, 0.00135636,\n",
       "         0.00135636, 0.00135636, 0.00135636, 0.00135636, 0.00135636,\n",
       "         0.00135636, 0.00135636, 0.00135636, 0.00135636, 0.00135636,\n",
       "         0.00135636, 0.00135636, 0.00135636, 0.00135636, 0.00135636,\n",
       "         0.00135636, 0.00135636, 0.00135636, 0.00135636, 0.00135636,\n",
       "         0.00135636, 0.00135636, 0.00135636, 0.00135636, 0.00135636,\n",
       "         0.00135636, 0.00135636, 0.00135636, 0.00135636, 0.00135636,\n",
       "         0.00135636, 0.00135636, 0.00135636, 0.00135636, 0.00135636,\n",
       "         0.00135636, 0.00135636, 0.00135636, 0.00135636, 0.00135636,\n",
       "         0.00135636, 0.00135636, 0.00135636, 0.00135636, 0.00135636,\n",
       "         0.00135636, 0.00135636, 0.00135636, 0.00135636, 0.00135636,\n",
       "         0.00135636, 0.00135636, 0.00135636, 0.00135636, 0.00135636,\n",
       "         0.00135636, 0.00135636, 0.00135636, 0.00135636, 0.00135636,\n",
       "         0.00135636, 0.00135636, 0.00135636, 0.00135636, 0.00135636,\n",
       "         0.00135636, 0.00135636, 0.00135636, 0.00135636, 0.00135636,\n",
       "         0.00135636, 0.00135636, 0.00135636, 0.00135636, 0.00135636,\n",
       "         0.00135636, 0.00135636, 0.00135636, 0.00135636, 0.00135636,\n",
       "         0.00135636]]))"
      ]
     },
     "execution_count": 26,
     "metadata": {},
     "output_type": "execute_result"
    }
   ],
   "source": [
    "predict_topic([df.loc[3, \"document\"]], tf_idf_vectorizer_mono, lda, lda_topic_keywords)"
   ]
  },
  {
   "cell_type": "code",
   "execution_count": 27,
   "metadata": {
    "ExecuteTime": {
     "end_time": "2020-04-08T09:32:03.972219Z",
     "start_time": "2020-04-08T09:32:03.965772Z"
    }
   },
   "outputs": [
    {
     "data": {
      "text/plain": [
       "(['string', 'function', 'python', 'javascript', 'object'],\n",
       " array([[0.0011207 , 0.0011207 , 0.0011207 , 0.84870484, 0.0011207 ,\n",
       "         0.0011207 , 0.0011207 , 0.0011207 , 0.0011207 , 0.0011207 ,\n",
       "         0.0011207 , 0.0011207 , 0.0011207 , 0.0011207 , 0.0011207 ,\n",
       "         0.0011207 , 0.0011207 , 0.0011207 , 0.0011207 , 0.0011207 ,\n",
       "         0.0011207 , 0.0011207 , 0.0011207 , 0.0011207 , 0.0011207 ,\n",
       "         0.0011207 , 0.0011207 , 0.0011207 , 0.0011207 , 0.0011207 ,\n",
       "         0.0011207 , 0.0011207 , 0.0011207 , 0.0011207 , 0.0011207 ,\n",
       "         0.0011207 , 0.0011207 , 0.0011207 , 0.0011207 , 0.0011207 ,\n",
       "         0.0011207 , 0.0011207 , 0.0011207 , 0.0011207 , 0.0011207 ,\n",
       "         0.0011207 , 0.0011207 , 0.0011207 , 0.0011207 , 0.0011207 ,\n",
       "         0.0011207 , 0.0011207 , 0.0011207 , 0.0011207 , 0.0011207 ,\n",
       "         0.0011207 , 0.0011207 , 0.0011207 , 0.0011207 , 0.0011207 ,\n",
       "         0.0011207 , 0.0011207 , 0.0011207 , 0.0011207 , 0.0011207 ,\n",
       "         0.0011207 , 0.0011207 , 0.0011207 , 0.0011207 , 0.0011207 ,\n",
       "         0.0011207 , 0.0011207 , 0.0011207 , 0.0011207 , 0.0011207 ,\n",
       "         0.0011207 , 0.0011207 , 0.0011207 , 0.0011207 , 0.0011207 ,\n",
       "         0.0011207 , 0.0011207 , 0.0011207 , 0.0011207 , 0.0011207 ,\n",
       "         0.0011207 , 0.0011207 , 0.0011207 , 0.0011207 , 0.0011207 ,\n",
       "         0.0011207 , 0.0011207 , 0.0011207 , 0.0011207 , 0.0011207 ,\n",
       "         0.0011207 , 0.0011207 , 0.0011207 , 0.0011207 , 0.0011207 ,\n",
       "         0.0011207 , 0.0011207 , 0.0011207 , 0.0011207 , 0.0011207 ,\n",
       "         0.0011207 , 0.0011207 , 0.0011207 , 0.0011207 , 0.0011207 ,\n",
       "         0.0011207 , 0.0011207 , 0.0011207 , 0.0011207 , 0.0011207 ,\n",
       "         0.0011207 , 0.0011207 , 0.0011207 , 0.0011207 , 0.0011207 ,\n",
       "         0.0011207 , 0.0011207 , 0.0011207 , 0.0011207 , 0.0011207 ,\n",
       "         0.0011207 , 0.0011207 , 0.0011207 , 0.0011207 , 0.0011207 ,\n",
       "         0.0011207 , 0.0011207 , 0.0011207 , 0.0011207 , 0.0011207 ,\n",
       "         0.0011207 ]]))"
      ]
     },
     "execution_count": 27,
     "metadata": {},
     "output_type": "execute_result"
    }
   ],
   "source": [
    "predict_topic([df.loc[4, \"document\"]], tf_idf_vectorizer_mono, lda, lda_topic_keywords)"
   ]
  },
  {
   "cell_type": "code",
   "execution_count": 28,
   "metadata": {
    "ExecuteTime": {
     "end_time": "2020-04-08T09:32:05.022465Z",
     "start_time": "2020-04-08T09:32:05.016517Z"
    }
   },
   "outputs": [
    {
     "data": {
      "text/plain": [
       "(['string', 'function', 'python', 'javascript', 'object'],\n",
       " array([[0.00116891, 0.00116891, 0.00116891, 0.80343759, 0.03992827,\n",
       "         0.00116891, 0.00116891, 0.00116891, 0.00116891, 0.00116891,\n",
       "         0.00116891, 0.00116891, 0.00116891, 0.00116891, 0.00116891,\n",
       "         0.00116891, 0.00116891, 0.00116891, 0.00116891, 0.00116891,\n",
       "         0.00116891, 0.00116891, 0.00116891, 0.00116891, 0.00116891,\n",
       "         0.00116891, 0.00116891, 0.00116891, 0.00116891, 0.00116891,\n",
       "         0.00116891, 0.00116891, 0.00116891, 0.00116891, 0.00116891,\n",
       "         0.00116891, 0.00116891, 0.00116891, 0.00116891, 0.00116891,\n",
       "         0.00116891, 0.00116891, 0.00116891, 0.00116891, 0.00116891,\n",
       "         0.00116891, 0.00116891, 0.00116891, 0.00116891, 0.00116891,\n",
       "         0.00116891, 0.00116891, 0.00116891, 0.00116891, 0.00116891,\n",
       "         0.00116891, 0.00116891, 0.00116891, 0.00116891, 0.00116891,\n",
       "         0.00116891, 0.00116891, 0.00116891, 0.00116891, 0.00116891,\n",
       "         0.00116891, 0.00116891, 0.00116891, 0.00116891, 0.00116891,\n",
       "         0.00116891, 0.00116891, 0.00116891, 0.00116891, 0.00116891,\n",
       "         0.00116891, 0.00116891, 0.00116891, 0.00116891, 0.00116891,\n",
       "         0.00116891, 0.00116891, 0.00116891, 0.00116891, 0.00116891,\n",
       "         0.00116891, 0.00116891, 0.00116891, 0.00116891, 0.00116891,\n",
       "         0.00116891, 0.00116891, 0.00116891, 0.00116891, 0.00116891,\n",
       "         0.00116891, 0.00116891, 0.00116891, 0.00116891, 0.00116891,\n",
       "         0.00116891, 0.00116891, 0.00116891, 0.00116891, 0.00116891,\n",
       "         0.00116891, 0.00116891, 0.00116891, 0.00116891, 0.00116891,\n",
       "         0.00116891, 0.00116891, 0.00116891, 0.00116891, 0.00116891,\n",
       "         0.00116891, 0.00116891, 0.00116891, 0.00116891, 0.00116891,\n",
       "         0.00116891, 0.00116891, 0.00116891, 0.00116891, 0.00116891,\n",
       "         0.00116891, 0.00116891, 0.00116891, 0.00116891, 0.00116891,\n",
       "         0.00116891, 0.00116891, 0.00116891, 0.00116891, 0.00116891,\n",
       "         0.00116891]]))"
      ]
     },
     "execution_count": 28,
     "metadata": {},
     "output_type": "execute_result"
    }
   ],
   "source": [
    "predict_topic([df.loc[5, \"document\"]], tf_idf_vectorizer_mono, lda, lda_topic_keywords)"
   ]
  },
  {
   "cell_type": "code",
   "execution_count": 29,
   "metadata": {
    "ExecuteTime": {
     "end_time": "2020-04-08T09:32:05.965424Z",
     "start_time": "2020-04-08T09:32:05.958945Z"
    }
   },
   "outputs": [
    {
     "data": {
      "text/plain": [
       "(['string', 'function', 'python', 'javascript', 'object'],\n",
       " array([[0.00092409, 0.00092409, 0.00092409, 0.81628509, 0.00092409,\n",
       "         0.00092409, 0.00092409, 0.00092409, 0.00092409, 0.00092409,\n",
       "         0.00092409, 0.00092409, 0.00092409, 0.00092409, 0.00092409,\n",
       "         0.00092409, 0.00092409, 0.00092409, 0.00092409, 0.00092409,\n",
       "         0.00092409, 0.00092409, 0.00092409, 0.00092409, 0.00092409,\n",
       "         0.00092409, 0.00092409, 0.00092409, 0.00092409, 0.00092409,\n",
       "         0.00092409, 0.00092409, 0.00092409, 0.00092409, 0.00092409,\n",
       "         0.00092409, 0.00092409, 0.00092409, 0.00092409, 0.00092409,\n",
       "         0.00092409, 0.00092409, 0.00092409, 0.00092409, 0.00092409,\n",
       "         0.00092409, 0.00092409, 0.00092409, 0.00092409, 0.00092409,\n",
       "         0.00092409, 0.00092409, 0.00092409, 0.00092409, 0.00092409,\n",
       "         0.00092409, 0.00092409, 0.00092409, 0.00092409, 0.00092409,\n",
       "         0.00092409, 0.00092409, 0.00092409, 0.00092409, 0.00092409,\n",
       "         0.00092409, 0.00092409, 0.0598873 , 0.00092409, 0.00092409,\n",
       "         0.00092409, 0.00092409, 0.00092409, 0.00092409, 0.00092409,\n",
       "         0.00092409, 0.00092409, 0.00092409, 0.00092409, 0.00092409,\n",
       "         0.00092409, 0.00092409, 0.00092409, 0.00092409, 0.00092409,\n",
       "         0.00092409, 0.00092409, 0.00092409, 0.00092409, 0.00092409,\n",
       "         0.00092409, 0.00092409, 0.00092409, 0.00092409, 0.00092409,\n",
       "         0.00092409, 0.00092409, 0.00092409, 0.00092409, 0.00092409,\n",
       "         0.00092409, 0.00092409, 0.00092409, 0.00092409, 0.00092409,\n",
       "         0.00092409, 0.00092409, 0.00092409, 0.00092409, 0.00092409,\n",
       "         0.00092409, 0.00092409, 0.00092409, 0.00092409, 0.00092409,\n",
       "         0.00092409, 0.00092409, 0.00092409, 0.00092409, 0.00092409,\n",
       "         0.00092409, 0.00092409, 0.00092409, 0.00092409, 0.00092409,\n",
       "         0.00092409, 0.00092409, 0.00092409, 0.00092409, 0.00092409,\n",
       "         0.00092409, 0.00092409, 0.00092409, 0.00092409, 0.00092409,\n",
       "         0.00092409]]))"
      ]
     },
     "execution_count": 29,
     "metadata": {},
     "output_type": "execute_result"
    }
   ],
   "source": [
    "predict_topic([df.loc[6, \"document\"]], tf_idf_vectorizer_mono, lda, lda_topic_keywords)"
   ]
  },
  {
   "cell_type": "markdown",
   "metadata": {},
   "source": [
    "### 3.5. NMF"
   ]
  },
  {
   "cell_type": "code",
   "execution_count": 30,
   "metadata": {
    "ExecuteTime": {
     "end_time": "2020-04-08T09:32:15.325163Z",
     "start_time": "2020-04-08T09:32:07.965454Z"
    }
   },
   "outputs": [],
   "source": [
    "nmf = NMF(n_components=136, max_iter=5, random_state=20).fit(tf_idf_matrix_mono)"
   ]
  },
  {
   "cell_type": "markdown",
   "metadata": {},
   "source": [
    "#### 3.5.1 - Affichage des topics"
   ]
  },
  {
   "cell_type": "code",
   "execution_count": 31,
   "metadata": {
    "ExecuteTime": {
     "end_time": "2020-04-08T09:33:54.403421Z",
     "start_time": "2020-04-08T09:33:54.293308Z"
    }
   },
   "outputs": [
    {
     "data": {
      "text/html": [
       "<div>\n",
       "<style scoped>\n",
       "    .dataframe tbody tr th:only-of-type {\n",
       "        vertical-align: middle;\n",
       "    }\n",
       "\n",
       "    .dataframe tbody tr th {\n",
       "        vertical-align: top;\n",
       "    }\n",
       "\n",
       "    .dataframe thead th {\n",
       "        text-align: right;\n",
       "    }\n",
       "</style>\n",
       "<table border=\"1\" class=\"dataframe\">\n",
       "  <thead>\n",
       "    <tr style=\"text-align: right;\">\n",
       "      <th></th>\n",
       "      <th>Word 0</th>\n",
       "      <th>Word 1</th>\n",
       "      <th>Word 2</th>\n",
       "      <th>Word 3</th>\n",
       "      <th>Word 4</th>\n",
       "    </tr>\n",
       "  </thead>\n",
       "  <tbody>\n",
       "    <tr>\n",
       "      <td>Topic 0</td>\n",
       "      <td>pass</td>\n",
       "      <td>follow</td>\n",
       "      <td>parameter</td>\n",
       "      <td>parameters</td>\n",
       "      <td>arguments</td>\n",
       "    </tr>\n",
       "    <tr>\n",
       "      <td>Topic 1</td>\n",
       "      <td>git</td>\n",
       "      <td>repository</td>\n",
       "      <td>ignore</td>\n",
       "      <td>clone</td>\n",
       "      <td>repo</td>\n",
       "    </tr>\n",
       "    <tr>\n",
       "      <td>Topic 2</td>\n",
       "      <td>merge</td>\n",
       "      <td>push</td>\n",
       "      <td>branch</td>\n",
       "      <td>master</td>\n",
       "      <td>git</td>\n",
       "    </tr>\n",
       "    <tr>\n",
       "      <td>Topic 3</td>\n",
       "      <td>string</td>\n",
       "      <td>convert</td>\n",
       "      <td>contain</td>\n",
       "      <td>int</td>\n",
       "      <td>integer</td>\n",
       "    </tr>\n",
       "    <tr>\n",
       "      <td>Topic 4</td>\n",
       "      <td>sql</td>\n",
       "      <td>server</td>\n",
       "      <td>database</td>\n",
       "      <td>2008</td>\n",
       "      <td>table</td>\n",
       "    </tr>\n",
       "    <tr>\n",
       "      <td>...</td>\n",
       "      <td>...</td>\n",
       "      <td>...</td>\n",
       "      <td>...</td>\n",
       "      <td>...</td>\n",
       "      <td>...</td>\n",
       "    </tr>\n",
       "    <tr>\n",
       "      <td>Topic 131</td>\n",
       "      <td>attribute</td>\n",
       "      <td>display</td>\n",
       "      <td>enum</td>\n",
       "      <td>custom</td>\n",
       "      <td>elements</td>\n",
       "    </tr>\n",
       "    <tr>\n",
       "      <td>Topic 132</td>\n",
       "      <td>exist</td>\n",
       "      <td>vs</td>\n",
       "      <td>constructor</td>\n",
       "      <td>case</td>\n",
       "      <td>already</td>\n",
       "    </tr>\n",
       "    <tr>\n",
       "      <td>Topic 133</td>\n",
       "      <td>property</td>\n",
       "      <td>properties</td>\n",
       "      <td>round</td>\n",
       "      <td>bind</td>\n",
       "      <td>event</td>\n",
       "    </tr>\n",
       "    <tr>\n",
       "      <td>Topic 134</td>\n",
       "      <td>without</td>\n",
       "      <td>download</td>\n",
       "      <td>event</td>\n",
       "      <td>build</td>\n",
       "      <td>merge</td>\n",
       "    </tr>\n",
       "    <tr>\n",
       "      <td>Topic 135</td>\n",
       "      <td>certificate</td>\n",
       "      <td>interface</td>\n",
       "      <td>library</td>\n",
       "      <td>implement</td>\n",
       "      <td>tree</td>\n",
       "    </tr>\n",
       "  </tbody>\n",
       "</table>\n",
       "<p>136 rows × 5 columns</p>\n",
       "</div>"
      ],
      "text/plain": [
       "                Word 0      Word 1       Word 2      Word 3     Word 4\n",
       "Topic 0           pass      follow    parameter  parameters  arguments\n",
       "Topic 1            git  repository       ignore       clone       repo\n",
       "Topic 2          merge        push       branch      master        git\n",
       "Topic 3         string     convert      contain         int    integer\n",
       "Topic 4            sql      server     database        2008      table\n",
       "...                ...         ...          ...         ...        ...\n",
       "Topic 131    attribute     display         enum      custom   elements\n",
       "Topic 132        exist          vs  constructor        case    already\n",
       "Topic 133     property  properties        round        bind      event\n",
       "Topic 134      without    download        event       build      merge\n",
       "Topic 135  certificate   interface      library   implement       tree\n",
       "\n",
       "[136 rows x 5 columns]"
      ]
     },
     "execution_count": 31,
     "metadata": {},
     "output_type": "execute_result"
    }
   ],
   "source": [
    "nmf_topic_keywords = show_topics(nmf, tf_idf_vectorizer_mono.get_feature_names(), 5)\n",
    "nmf_topic_keywords"
   ]
  },
  {
   "cell_type": "markdown",
   "metadata": {},
   "source": [
    "#### 3.5.2 - Prédiction sur 5 questions"
   ]
  },
  {
   "cell_type": "code",
   "execution_count": 32,
   "metadata": {
    "ExecuteTime": {
     "end_time": "2020-04-08T09:33:57.841251Z",
     "start_time": "2020-04-08T09:33:57.834773Z"
    }
   },
   "outputs": [
    {
     "data": {
      "text/html": [
       "<div>\n",
       "<style scoped>\n",
       "    .dataframe tbody tr th:only-of-type {\n",
       "        vertical-align: middle;\n",
       "    }\n",
       "\n",
       "    .dataframe tbody tr th {\n",
       "        vertical-align: top;\n",
       "    }\n",
       "\n",
       "    .dataframe thead th {\n",
       "        text-align: right;\n",
       "    }\n",
       "</style>\n",
       "<table border=\"1\" class=\"dataframe\">\n",
       "  <thead>\n",
       "    <tr style=\"text-align: right;\">\n",
       "      <th></th>\n",
       "      <th>tags</th>\n",
       "      <th>document</th>\n",
       "    </tr>\n",
       "  </thead>\n",
       "  <tbody>\n",
       "    <tr>\n",
       "      <td>2</td>\n",
       "      <td>[node.js]</td>\n",
       "      <td>restart node upon change for someone come php ...</td>\n",
       "    </tr>\n",
       "    <tr>\n",
       "      <td>3</td>\n",
       "      <td>[html, css]</td>\n",
       "      <td>100 min height css layout best make element 10...</td>\n",
       "    </tr>\n",
       "    <tr>\n",
       "      <td>4</td>\n",
       "      <td>[regex, language-agnostic]</td>\n",
       "      <td>stack overflow generate seofriendly urls good ...</td>\n",
       "    </tr>\n",
       "    <tr>\n",
       "      <td>5</td>\n",
       "      <td>[java, memory]</td>\n",
       "      <td>oslevel system information currently build jav...</td>\n",
       "    </tr>\n",
       "    <tr>\n",
       "      <td>6</td>\n",
       "      <td>[security, browser, passwords]</td>\n",
       "      <td>disable browser ave password functionality joy...</td>\n",
       "    </tr>\n",
       "  </tbody>\n",
       "</table>\n",
       "</div>"
      ],
      "text/plain": [
       "                             tags  \\\n",
       "2                       [node.js]   \n",
       "3                     [html, css]   \n",
       "4      [regex, language-agnostic]   \n",
       "5                  [java, memory]   \n",
       "6  [security, browser, passwords]   \n",
       "\n",
       "                                            document  \n",
       "2  restart node upon change for someone come php ...  \n",
       "3  100 min height css layout best make element 10...  \n",
       "4  stack overflow generate seofriendly urls good ...  \n",
       "5  oslevel system information currently build jav...  \n",
       "6  disable browser ave password functionality joy...  "
      ]
     },
     "execution_count": 32,
     "metadata": {},
     "output_type": "execute_result"
    }
   ],
   "source": [
    "df.loc[[2, 3, 4, 5, 6]]"
   ]
  },
  {
   "cell_type": "code",
   "execution_count": 33,
   "metadata": {
    "ExecuteTime": {
     "end_time": "2020-04-08T09:33:58.836206Z",
     "start_time": "2020-04-08T09:33:58.798039Z"
    }
   },
   "outputs": [
    {
     "data": {
      "text/plain": [
       "(['node', 'js', 'nodejs', 'npm', 'server'],\n",
       " array([[0.00000000e+00, 0.00000000e+00, 0.00000000e+00, 0.00000000e+00,\n",
       "         0.00000000e+00, 0.00000000e+00, 0.00000000e+00, 0.00000000e+00,\n",
       "         1.83904752e-04, 0.00000000e+00, 0.00000000e+00, 2.34081998e-03,\n",
       "         0.00000000e+00, 0.00000000e+00, 0.00000000e+00, 0.00000000e+00,\n",
       "         0.00000000e+00, 1.52983214e-02, 0.00000000e+00, 0.00000000e+00,\n",
       "         0.00000000e+00, 0.00000000e+00, 0.00000000e+00, 0.00000000e+00,\n",
       "         0.00000000e+00, 0.00000000e+00, 0.00000000e+00, 0.00000000e+00,\n",
       "         2.28602152e-04, 1.91897044e-05, 0.00000000e+00, 0.00000000e+00,\n",
       "         0.00000000e+00, 0.00000000e+00, 0.00000000e+00, 0.00000000e+00,\n",
       "         7.94384643e-05, 0.00000000e+00, 0.00000000e+00, 0.00000000e+00,\n",
       "         0.00000000e+00, 2.64112849e-04, 0.00000000e+00, 0.00000000e+00,\n",
       "         0.00000000e+00, 0.00000000e+00, 0.00000000e+00, 0.00000000e+00,\n",
       "         0.00000000e+00, 1.12969103e-02, 0.00000000e+00, 0.00000000e+00,\n",
       "         0.00000000e+00, 2.96692525e-05, 0.00000000e+00, 0.00000000e+00,\n",
       "         7.04576330e-02, 0.00000000e+00, 0.00000000e+00, 0.00000000e+00,\n",
       "         0.00000000e+00, 2.97665880e-03, 0.00000000e+00, 0.00000000e+00,\n",
       "         0.00000000e+00, 0.00000000e+00, 0.00000000e+00, 6.40156356e-03,\n",
       "         0.00000000e+00, 0.00000000e+00, 0.00000000e+00, 7.60330380e-05,\n",
       "         0.00000000e+00, 1.61916056e-03, 0.00000000e+00, 1.15767193e-02,\n",
       "         0.00000000e+00, 0.00000000e+00, 0.00000000e+00, 0.00000000e+00,\n",
       "         0.00000000e+00, 0.00000000e+00, 1.84718277e-04, 0.00000000e+00,\n",
       "         0.00000000e+00, 0.00000000e+00, 0.00000000e+00, 0.00000000e+00,\n",
       "         0.00000000e+00, 0.00000000e+00, 1.59394273e-03, 0.00000000e+00,\n",
       "         0.00000000e+00, 7.19015069e-03, 0.00000000e+00, 0.00000000e+00,\n",
       "         0.00000000e+00, 0.00000000e+00, 0.00000000e+00, 4.77960218e-04,\n",
       "         0.00000000e+00, 0.00000000e+00, 0.00000000e+00, 0.00000000e+00,\n",
       "         6.05340752e-04, 0.00000000e+00, 0.00000000e+00, 7.07517042e-03,\n",
       "         0.00000000e+00, 0.00000000e+00, 0.00000000e+00, 0.00000000e+00,\n",
       "         0.00000000e+00, 1.38503900e-03, 0.00000000e+00, 6.51108764e-04,\n",
       "         0.00000000e+00, 0.00000000e+00, 0.00000000e+00, 1.85583531e-02,\n",
       "         0.00000000e+00, 0.00000000e+00, 0.00000000e+00, 0.00000000e+00,\n",
       "         0.00000000e+00, 0.00000000e+00, 1.59719831e-03, 0.00000000e+00,\n",
       "         0.00000000e+00, 0.00000000e+00, 0.00000000e+00, 0.00000000e+00,\n",
       "         0.00000000e+00, 0.00000000e+00, 6.74330380e-03, 0.00000000e+00]]))"
      ]
     },
     "execution_count": 33,
     "metadata": {},
     "output_type": "execute_result"
    }
   ],
   "source": [
    "predict_topic([df.loc[2, \"document\"]], tf_idf_vectorizer_mono, nmf, nmf_topic_keywords)"
   ]
  },
  {
   "cell_type": "code",
   "execution_count": 34,
   "metadata": {
    "ExecuteTime": {
     "end_time": "2020-04-08T09:33:59.705645Z",
     "start_time": "2020-04-08T09:33:59.668943Z"
    }
   },
   "outputs": [
    {
     "data": {
      "text/plain": [
       "(['eclipse', 'space', 'maven', 'plugin', 'tabs'],\n",
       " array([[0.00000000e+00, 0.00000000e+00, 3.94734713e-03, 5.49977802e-04,\n",
       "         0.00000000e+00, 0.00000000e+00, 0.00000000e+00, 1.16022708e-03,\n",
       "         5.55910093e-05, 2.03216797e-04, 0.00000000e+00, 0.00000000e+00,\n",
       "         3.07538297e-05, 2.19020122e-05, 0.00000000e+00, 0.00000000e+00,\n",
       "         6.42762292e-04, 0.00000000e+00, 1.61479868e-04, 0.00000000e+00,\n",
       "         0.00000000e+00, 2.25467960e-05, 8.18523877e-05, 5.16754729e-04,\n",
       "         0.00000000e+00, 0.00000000e+00, 0.00000000e+00, 1.79664730e-03,\n",
       "         0.00000000e+00, 0.00000000e+00, 2.07542367e-04, 1.01466472e-03,\n",
       "         0.00000000e+00, 4.95356301e-04, 0.00000000e+00, 0.00000000e+00,\n",
       "         1.06208096e-04, 0.00000000e+00, 0.00000000e+00, 0.00000000e+00,\n",
       "         0.00000000e+00, 0.00000000e+00, 9.48797217e-04, 3.90339943e-05,\n",
       "         0.00000000e+00, 0.00000000e+00, 0.00000000e+00, 2.70648491e-03,\n",
       "         1.94133188e-03, 1.80860556e-05, 0.00000000e+00, 2.68990585e-04,\n",
       "         0.00000000e+00, 0.00000000e+00, 8.67169219e-04, 0.00000000e+00,\n",
       "         0.00000000e+00, 7.66050353e-04, 0.00000000e+00, 0.00000000e+00,\n",
       "         0.00000000e+00, 0.00000000e+00, 0.00000000e+00, 1.03663864e-03,\n",
       "         0.00000000e+00, 0.00000000e+00, 2.79277619e-04, 0.00000000e+00,\n",
       "         0.00000000e+00, 0.00000000e+00, 0.00000000e+00, 9.17568497e-04,\n",
       "         6.31807938e-03, 0.00000000e+00, 0.00000000e+00, 0.00000000e+00,\n",
       "         2.16268602e-02, 0.00000000e+00, 4.84076379e-04, 0.00000000e+00,\n",
       "         0.00000000e+00, 8.45474368e-03, 0.00000000e+00, 4.50675678e-04,\n",
       "         0.00000000e+00, 0.00000000e+00, 5.10918128e-04, 6.76058254e-04,\n",
       "         0.00000000e+00, 0.00000000e+00, 6.72159162e-04, 0.00000000e+00,\n",
       "         0.00000000e+00, 0.00000000e+00, 0.00000000e+00, 0.00000000e+00,\n",
       "         0.00000000e+00, 0.00000000e+00, 1.39967029e-03, 0.00000000e+00,\n",
       "         1.17050842e-03, 0.00000000e+00, 0.00000000e+00, 6.87418403e-03,\n",
       "         4.05486225e-03, 0.00000000e+00, 0.00000000e+00, 0.00000000e+00,\n",
       "         0.00000000e+00, 0.00000000e+00, 1.95285562e-03, 1.58134373e-04,\n",
       "         0.00000000e+00, 0.00000000e+00, 0.00000000e+00, 3.04168311e-02,\n",
       "         0.00000000e+00, 3.59523020e-03, 2.31420224e-02, 0.00000000e+00,\n",
       "         2.19582466e-03, 0.00000000e+00, 5.10601537e-03, 0.00000000e+00,\n",
       "         0.00000000e+00, 4.51496661e-04, 6.03169592e-03, 0.00000000e+00,\n",
       "         0.00000000e+00, 0.00000000e+00, 0.00000000e+00, 0.00000000e+00,\n",
       "         6.48357631e-04, 0.00000000e+00, 0.00000000e+00, 0.00000000e+00]]))"
      ]
     },
     "execution_count": 34,
     "metadata": {},
     "output_type": "execute_result"
    }
   ],
   "source": [
    "predict_topic([df.loc[3, \"document\"]], tf_idf_vectorizer_mono, nmf, nmf_topic_keywords)"
   ]
  },
  {
   "cell_type": "code",
   "execution_count": 35,
   "metadata": {
    "ExecuteTime": {
     "end_time": "2020-04-08T09:34:01.523615Z",
     "start_time": "2020-04-08T09:34:01.486416Z"
    }
   },
   "outputs": [
    {
     "data": {
      "text/plain": [
       "(['django', 'model', 'template', 'angularjs', 'templates'],\n",
       " array([[0.00000000e+00, 0.00000000e+00, 0.00000000e+00, 6.11023397e-03,\n",
       "         0.00000000e+00, 2.37652215e-03, 0.00000000e+00, 0.00000000e+00,\n",
       "         0.00000000e+00, 0.00000000e+00, 6.11457155e-03, 0.00000000e+00,\n",
       "         0.00000000e+00, 0.00000000e+00, 0.00000000e+00, 2.85877346e-04,\n",
       "         0.00000000e+00, 0.00000000e+00, 0.00000000e+00, 1.19983765e-04,\n",
       "         0.00000000e+00, 3.74853233e-05, 0.00000000e+00, 0.00000000e+00,\n",
       "         0.00000000e+00, 0.00000000e+00, 0.00000000e+00, 0.00000000e+00,\n",
       "         0.00000000e+00, 8.66105078e-05, 0.00000000e+00, 0.00000000e+00,\n",
       "         0.00000000e+00, 3.61950223e-07, 0.00000000e+00, 0.00000000e+00,\n",
       "         0.00000000e+00, 2.49536991e-03, 0.00000000e+00, 0.00000000e+00,\n",
       "         0.00000000e+00, 0.00000000e+00, 0.00000000e+00, 0.00000000e+00,\n",
       "         0.00000000e+00, 0.00000000e+00, 3.81758317e-03, 0.00000000e+00,\n",
       "         0.00000000e+00, 7.61487409e-03, 0.00000000e+00, 0.00000000e+00,\n",
       "         0.00000000e+00, 0.00000000e+00, 3.52475155e-04, 0.00000000e+00,\n",
       "         0.00000000e+00, 0.00000000e+00, 0.00000000e+00, 0.00000000e+00,\n",
       "         1.19261227e-02, 6.33047867e-05, 0.00000000e+00, 3.62173322e-03,\n",
       "         0.00000000e+00, 0.00000000e+00, 2.27018855e-04, 2.74598055e-03,\n",
       "         0.00000000e+00, 0.00000000e+00, 9.09730241e-04, 1.01659210e-02,\n",
       "         0.00000000e+00, 1.20993295e-04, 6.98313350e-04, 2.26385720e-03,\n",
       "         1.17129921e-04, 0.00000000e+00, 0.00000000e+00, 0.00000000e+00,\n",
       "         0.00000000e+00, 0.00000000e+00, 0.00000000e+00, 0.00000000e+00,\n",
       "         0.00000000e+00, 0.00000000e+00, 1.86635300e-04, 0.00000000e+00,\n",
       "         0.00000000e+00, 0.00000000e+00, 2.21965615e-03, 0.00000000e+00,\n",
       "         4.79176510e-04, 0.00000000e+00, 5.88213383e-04, 8.55964395e-04,\n",
       "         0.00000000e+00, 0.00000000e+00, 9.78400767e-03, 2.00055858e-04,\n",
       "         0.00000000e+00, 0.00000000e+00, 0.00000000e+00, 0.00000000e+00,\n",
       "         0.00000000e+00, 0.00000000e+00, 0.00000000e+00, 0.00000000e+00,\n",
       "         5.26214385e-04, 0.00000000e+00, 2.91749965e-02, 0.00000000e+00,\n",
       "         1.68229328e-02, 0.00000000e+00, 1.27998276e-03, 0.00000000e+00,\n",
       "         0.00000000e+00, 0.00000000e+00, 0.00000000e+00, 3.09888742e-03,\n",
       "         7.70127801e-03, 0.00000000e+00, 2.55561128e-02, 0.00000000e+00,\n",
       "         0.00000000e+00, 1.42103055e-02, 0.00000000e+00, 0.00000000e+00,\n",
       "         0.00000000e+00, 3.92792732e-02, 0.00000000e+00, 2.68772688e-03,\n",
       "         0.00000000e+00, 0.00000000e+00, 0.00000000e+00, 0.00000000e+00]]))"
      ]
     },
     "execution_count": 35,
     "metadata": {},
     "output_type": "execute_result"
    }
   ],
   "source": [
    "predict_topic([df.loc[4, \"document\"]], tf_idf_vectorizer_mono, nmf, nmf_topic_keywords)"
   ]
  },
  {
   "cell_type": "code",
   "execution_count": 36,
   "metadata": {
    "ExecuteTime": {
     "end_time": "2020-04-08T09:34:03.295058Z",
     "start_time": "2020-04-08T09:34:03.256891Z"
    }
   },
   "outputs": [
    {
     "data": {
      "text/plain": [
       "(['without', 'download', 'event', 'build', 'merge'],\n",
       " array([[0.00000000e+00, 0.00000000e+00, 0.00000000e+00, 0.00000000e+00,\n",
       "         0.00000000e+00, 0.00000000e+00, 0.00000000e+00, 0.00000000e+00,\n",
       "         2.67616170e-05, 0.00000000e+00, 0.00000000e+00, 0.00000000e+00,\n",
       "         0.00000000e+00, 0.00000000e+00, 0.00000000e+00, 0.00000000e+00,\n",
       "         0.00000000e+00, 5.78363161e-04, 2.90790446e-02, 7.55160090e-04,\n",
       "         0.00000000e+00, 0.00000000e+00, 0.00000000e+00, 3.62894691e-04,\n",
       "         0.00000000e+00, 0.00000000e+00, 0.00000000e+00, 0.00000000e+00,\n",
       "         0.00000000e+00, 0.00000000e+00, 0.00000000e+00, 0.00000000e+00,\n",
       "         4.46493059e-05, 0.00000000e+00, 1.25106439e-03, 0.00000000e+00,\n",
       "         0.00000000e+00, 3.51026140e-03, 2.18678193e-06, 1.38331691e-04,\n",
       "         0.00000000e+00, 0.00000000e+00, 0.00000000e+00, 3.45747151e-04,\n",
       "         3.40605754e-04, 0.00000000e+00, 5.97586587e-05, 0.00000000e+00,\n",
       "         0.00000000e+00, 2.33656969e-04, 0.00000000e+00, 1.01273415e-04,\n",
       "         8.71561205e-05, 0.00000000e+00, 1.19156683e-04, 0.00000000e+00,\n",
       "         0.00000000e+00, 0.00000000e+00, 1.10422355e-04, 0.00000000e+00,\n",
       "         1.26870549e-03, 0.00000000e+00, 0.00000000e+00, 0.00000000e+00,\n",
       "         0.00000000e+00, 0.00000000e+00, 0.00000000e+00, 2.84145470e-03,\n",
       "         0.00000000e+00, 3.74357502e-04, 1.59434210e-03, 3.36600269e-04,\n",
       "         3.68965769e-04, 1.64149514e-03, 2.81561206e-04, 0.00000000e+00,\n",
       "         0.00000000e+00, 0.00000000e+00, 0.00000000e+00, 1.05536101e-04,\n",
       "         0.00000000e+00, 0.00000000e+00, 9.24882859e-04, 0.00000000e+00,\n",
       "         0.00000000e+00, 1.06074897e-02, 0.00000000e+00, 1.95687961e-03,\n",
       "         0.00000000e+00, 0.00000000e+00, 0.00000000e+00, 0.00000000e+00,\n",
       "         0.00000000e+00, 0.00000000e+00, 0.00000000e+00, 5.52895810e-05,\n",
       "         0.00000000e+00, 1.42516921e-05, 5.42541897e-04, 2.14638095e-03,\n",
       "         1.11214773e-03, 1.52659724e-03, 0.00000000e+00, 0.00000000e+00,\n",
       "         1.82020420e-02, 0.00000000e+00, 0.00000000e+00, 3.34763731e-03,\n",
       "         0.00000000e+00, 0.00000000e+00, 0.00000000e+00, 0.00000000e+00,\n",
       "         0.00000000e+00, 0.00000000e+00, 2.76974898e-02, 2.29209009e-02,\n",
       "         0.00000000e+00, 0.00000000e+00, 0.00000000e+00, 0.00000000e+00,\n",
       "         0.00000000e+00, 0.00000000e+00, 0.00000000e+00, 2.90370362e-03,\n",
       "         7.54949601e-05, 0.00000000e+00, 0.00000000e+00, 0.00000000e+00,\n",
       "         0.00000000e+00, 0.00000000e+00, 0.00000000e+00, 7.49021251e-04,\n",
       "         0.00000000e+00, 0.00000000e+00, 3.05469139e-02, 0.00000000e+00]]))"
      ]
     },
     "execution_count": 36,
     "metadata": {},
     "output_type": "execute_result"
    }
   ],
   "source": [
    "predict_topic([df.loc[5, \"document\"]], tf_idf_vectorizer_mono, nmf, nmf_topic_keywords)"
   ]
  },
  {
   "cell_type": "code",
   "execution_count": 37,
   "metadata": {
    "ExecuteTime": {
     "end_time": "2020-04-08T09:34:04.599113Z",
     "start_time": "2020-04-08T09:34:04.559930Z"
    }
   },
   "outputs": [
    {
     "data": {
      "text/plain": [
       "(['password', 'username', 'user', 'hash', 'passwords'],\n",
       " array([[1.16991456e-03, 0.00000000e+00, 5.46263557e-04, 0.00000000e+00,\n",
       "         0.00000000e+00, 7.69004567e-04, 0.00000000e+00, 0.00000000e+00,\n",
       "         0.00000000e+00, 0.00000000e+00, 0.00000000e+00, 7.45347990e-04,\n",
       "         1.28106512e-04, 2.17671753e-05, 8.68946363e-05, 4.41358185e-04,\n",
       "         2.15152500e-04, 0.00000000e+00, 4.57493530e-04, 6.05402516e-04,\n",
       "         0.00000000e+00, 0.00000000e+00, 2.57245234e-04, 0.00000000e+00,\n",
       "         6.39654142e-05, 0.00000000e+00, 5.12289340e-05, 0.00000000e+00,\n",
       "         2.29318328e-04, 9.64485326e-05, 0.00000000e+00, 8.52062920e-05,\n",
       "         0.00000000e+00, 2.30913647e-04, 0.00000000e+00, 3.88524203e-04,\n",
       "         0.00000000e+00, 0.00000000e+00, 0.00000000e+00, 0.00000000e+00,\n",
       "         4.16103688e-04, 0.00000000e+00, 3.83475684e-04, 2.01468850e-05,\n",
       "         5.99525000e-05, 0.00000000e+00, 5.33330876e-06, 0.00000000e+00,\n",
       "         0.00000000e+00, 6.65460645e-04, 3.85565625e-04, 0.00000000e+00,\n",
       "         2.76470935e-04, 0.00000000e+00, 1.77222730e-03, 0.00000000e+00,\n",
       "         0.00000000e+00, 0.00000000e+00, 0.00000000e+00, 0.00000000e+00,\n",
       "         2.73249357e-04, 0.00000000e+00, 5.18184622e-06, 7.11038825e-04,\n",
       "         3.76567596e-04, 6.94852022e-05, 0.00000000e+00, 0.00000000e+00,\n",
       "         8.04152201e-04, 0.00000000e+00, 0.00000000e+00, 1.16853334e-04,\n",
       "         0.00000000e+00, 6.91519140e-03, 4.21539286e-05, 2.45836516e-05,\n",
       "         1.48866331e-03, 0.00000000e+00, 0.00000000e+00, 0.00000000e+00,\n",
       "         3.14134198e-05, 1.51737561e-06, 2.63010515e-03, 0.00000000e+00,\n",
       "         1.13004721e-03, 0.00000000e+00, 0.00000000e+00, 0.00000000e+00,\n",
       "         0.00000000e+00, 0.00000000e+00, 0.00000000e+00, 0.00000000e+00,\n",
       "         0.00000000e+00, 3.38286362e-04, 9.67934635e-05, 0.00000000e+00,\n",
       "         1.63519671e-04, 0.00000000e+00, 0.00000000e+00, 2.02360283e-03,\n",
       "         1.92013333e-03, 4.19021159e-03, 5.81398709e-05, 2.58002904e-03,\n",
       "         0.00000000e+00, 4.45138629e-03, 3.59427599e-04, 3.40281514e-03,\n",
       "         3.57415032e-03, 1.89122123e-04, 1.25708362e-03, 1.01922419e-03,\n",
       "         2.78261426e-03, 5.91328841e-02, 2.70748943e-03, 2.51202715e-03,\n",
       "         0.00000000e+00, 1.00334626e-04, 0.00000000e+00, 0.00000000e+00,\n",
       "         4.45954487e-03, 5.99562766e-04, 0.00000000e+00, 4.52993026e-03,\n",
       "         9.58378494e-04, 1.36636789e-03, 9.57989780e-04, 0.00000000e+00,\n",
       "         0.00000000e+00, 7.22983068e-03, 3.02539967e-03, 1.24959908e-03,\n",
       "         1.66990605e-03, 0.00000000e+00, 5.65747063e-03, 6.98748542e-03]]))"
      ]
     },
     "execution_count": 37,
     "metadata": {},
     "output_type": "execute_result"
    }
   ],
   "source": [
    "predict_topic([df.loc[6, \"document\"]], tf_idf_vectorizer_mono, nmf, nmf_topic_keywords)"
   ]
  },
  {
   "cell_type": "markdown",
   "metadata": {},
   "source": [
    "On se rend compte que NMF est plus pertinent pour notre cas, même s'il n'est pas parfait."
   ]
  },
  {
   "cell_type": "markdown",
   "metadata": {},
   "source": [
    "#### 3.5.3 - NMF Inverse"
   ]
  },
  {
   "cell_type": "code",
   "execution_count": 38,
   "metadata": {
    "ExecuteTime": {
     "end_time": "2020-04-08T09:34:08.049398Z",
     "start_time": "2020-04-08T09:34:08.030551Z"
    }
   },
   "outputs": [],
   "source": [
    "tfidf_mono_features_nm = tf_idf_vectorizer_mono.get_feature_names()"
   ]
  },
  {
   "cell_type": "code",
   "execution_count": 39,
   "metadata": {
    "ExecuteTime": {
     "end_time": "2020-04-08T09:34:08.753885Z",
     "start_time": "2020-04-08T09:34:08.748923Z"
    }
   },
   "outputs": [],
   "source": [
    "def top_tags_from_nmf(x, vec_model, nmf_mod, score_min=0.05):\n",
    "    \"\"\"Returns dictionnary with words maximally associated to document and their relative NMF score.\n",
    "    Score of words are calculated by multiplication between NMF transformed W matrix and NMF fitted H\n",
    "    (vocabulary) value to get importance of each words into topic definition.\n",
    "    Args:\n",
    "        x: Token to be analyzed (list of ngrams)\n",
    "        vec_model: Vectorizer model used for TFIDF calculation\n",
    "        nmf_mod: Trained NMF model\n",
    "        score_min: threshold score for keeping word\n",
    "    \"\"\"\n",
    "    tfidf_target = vec_model.transform(x)\n",
    "    target_nmf_trans = nmf_mod.transform(tfidf_target)\n",
    "    \n",
    "    tags_scores = np.dot(target_nmf_trans, nmf_mod.components_).tolist()[0]\n",
    "\n",
    "    dict_tags_score = dict(zip(tfidf_mono_features_nm, tags_scores))\n",
    "    \n",
    "    return { k: v for k, v in dict_tags_score.items() if v >= score_min }\n"
   ]
  },
  {
   "cell_type": "code",
   "execution_count": 82,
   "metadata": {
    "ExecuteTime": {
     "end_time": "2020-04-08T10:07:07.098439Z",
     "start_time": "2020-04-08T10:07:07.057244Z"
    },
    "scrolled": true
   },
   "outputs": [
    {
     "data": {
      "text/plain": [
       "{'change': 0.30736542439114284,\n",
       " 'js': 0.2565404446340551,\n",
       " 'node': 0.3490788002374343,\n",
       " 'nodejs': 0.14727057020860762}"
      ]
     },
     "execution_count": 82,
     "metadata": {},
     "output_type": "execute_result"
    }
   ],
   "source": [
    "top_tags_from_nmf([df[\"document\"][2]], tf_idf_vectorizer_mono, nmf, score_min=0.13)"
   ]
  },
  {
   "cell_type": "code",
   "execution_count": 83,
   "metadata": {
    "ExecuteTime": {
     "end_time": "2020-04-08T10:07:09.588513Z",
     "start_time": "2020-04-08T10:07:09.545858Z"
    }
   },
   "outputs": [
    {
     "data": {
      "text/plain": [
       "{'css': 0.17524574205658566, 'element': 0.13987300384635765}"
      ]
     },
     "execution_count": 83,
     "metadata": {},
     "output_type": "execute_result"
    }
   ],
   "source": [
    "top_tags_from_nmf([df[\"document\"][3]], tf_idf_vectorizer_mono, nmf, score_min=0.13)"
   ]
  },
  {
   "cell_type": "code",
   "execution_count": 90,
   "metadata": {
    "ExecuteTime": {
     "end_time": "2020-04-08T10:07:57.167569Z",
     "start_time": "2020-04-08T10:07:57.125434Z"
    }
   },
   "outputs": [
    {
     "data": {
      "text/plain": [
       "{'character': 0.09804506502924384,\n",
       " 'django': 0.09043054103041513,\n",
       " 'url': 0.10693757268477704}"
      ]
     },
     "execution_count": 90,
     "metadata": {},
     "output_type": "execute_result"
    }
   ],
   "source": [
    "top_tags_from_nmf([df[\"document\"][4]], tf_idf_vectorizer_mono, nmf, score_min=0.09)"
   ]
  },
  {
   "cell_type": "code",
   "execution_count": 91,
   "metadata": {
    "ExecuteTime": {
     "end_time": "2020-04-08T10:08:20.563481Z",
     "start_time": "2020-04-08T10:08:20.517352Z"
    }
   },
   "outputs": [
    {
     "data": {
      "text/plain": [
       "{'app': 0.17071472202713142,\n",
       " 'java': 0.1884471536746484,\n",
       " 'memory': 0.11894978497051094,\n",
       " 'windows': 0.11421878771270913}"
      ]
     },
     "execution_count": 91,
     "metadata": {},
     "output_type": "execute_result"
    }
   ],
   "source": [
    "top_tags_from_nmf([df[\"document\"][5]], tf_idf_vectorizer_mono, nmf, score_min=0.1)"
   ]
  },
  {
   "cell_type": "code",
   "execution_count": 44,
   "metadata": {
    "ExecuteTime": {
     "end_time": "2020-04-08T09:34:23.968576Z",
     "start_time": "2020-04-08T09:34:23.922946Z"
    }
   },
   "outputs": [
    {
     "data": {
      "text/plain": [
       "{'password': 0.17807815527872828,\n",
       " 'time': 0.05627632199789243,\n",
       " 'user': 0.05694569814944027}"
      ]
     },
     "execution_count": 44,
     "metadata": {},
     "output_type": "execute_result"
    }
   ],
   "source": [
    "top_tags_from_nmf([df[\"document\"][6]], tf_idf_vectorizer_mono, nmf, score_min=0.05)"
   ]
  },
  {
   "cell_type": "code",
   "execution_count": 46,
   "metadata": {
    "ExecuteTime": {
     "end_time": "2020-04-08T09:37:17.441374Z",
     "start_time": "2020-04-08T09:37:17.391766Z"
    }
   },
   "outputs": [],
   "source": [
    "import pickle\n",
    "# Enregistrement du model non-supervisé\n",
    "with open('webapp/model/model_nosup.pkl', 'wb') as file:\n",
    "    pickle.dump(nmf, file)"
   ]
  },
  {
   "cell_type": "markdown",
   "metadata": {},
   "source": [
    "## 4. Analyse supervisé"
   ]
  },
  {
   "cell_type": "markdown",
   "metadata": {},
   "source": [
    "### 4.1. Séparation en jeu d'entraînement et jeu de test"
   ]
  },
  {
   "cell_type": "code",
   "execution_count": 47,
   "metadata": {
    "ExecuteTime": {
     "end_time": "2020-04-08T09:37:18.970596Z",
     "start_time": "2020-04-08T09:37:18.967620Z"
    }
   },
   "outputs": [],
   "source": [
    "X = df[\"document\"]\n",
    "y = df[\"tags\"]"
   ]
  },
  {
   "cell_type": "code",
   "execution_count": 48,
   "metadata": {
    "ExecuteTime": {
     "end_time": "2020-04-08T09:37:19.526493Z",
     "start_time": "2020-04-08T09:37:19.484178Z"
    }
   },
   "outputs": [],
   "source": [
    "mlb = MultiLabelBinarizer()\n",
    "y_bin = mlb.fit_transform(y)"
   ]
  },
  {
   "cell_type": "code",
   "execution_count": 49,
   "metadata": {
    "ExecuteTime": {
     "end_time": "2020-04-08T09:37:20.105037Z",
     "start_time": "2020-04-08T09:37:20.101563Z"
    }
   },
   "outputs": [
    {
     "data": {
      "text/plain": [
       "array(['.net', 'ajax', 'algorithm', 'android', 'android-activity',\n",
       "       'android-fragments', 'android-intent', 'android-layout',\n",
       "       'android-studio', 'angular', 'angularjs', 'apache', 'api',\n",
       "       'architecture', 'arrays', 'asp.net', 'asp.net-mvc', 'asynchronous',\n",
       "       'authentication', 'bash', 'batch-file', 'branch', 'browser', 'c',\n",
       "       'c#', 'c++', 'c++-faq', 'c++11', 'caching', 'class', 'cmd',\n",
       "       'cocoa', 'cocoa-touch', 'coding-style', 'collections', 'colors',\n",
       "       'command-line', 'concurrency', 'configuration', 'constructor',\n",
       "       'css', 'csv', 'curl', 'data-structures', 'database',\n",
       "       'database-design', 'dataframe', 'date', 'datetime', 'debugging',\n",
       "       'design-patterns', 'dictionary', 'directory', 'django', 'docker',\n",
       "       'dom', 'eclipse', 'editor', 'email', 'entity-framework', 'enums',\n",
       "       'error-handling', 'events', 'exception', 'exception-handling',\n",
       "       'express', 'facebook', 'file', 'file-io', 'floating-point',\n",
       "       'forms', 'function', 'functional-programming', 'gcc', 'generics',\n",
       "       'git', 'git-branch', 'github', 'google-chrome', 'google-maps',\n",
       "       'gradle', 'grep', 'haskell', 'hibernate', 'html', 'http', 'https',\n",
       "       'ide', 'image', 'inheritance', 'integer', 'intellij-idea',\n",
       "       'interface', 'ios', 'ios7', 'ipad', 'iphone', 'java', 'java-8',\n",
       "       'javascript', 'jquery', 'json', 'keyboard-shortcuts', 'lambda',\n",
       "       'language-agnostic', 'linq', 'linux', 'list', 'logging', 'loops',\n",
       "       'machine-learning', 'macos', 'math', 'matplotlib', 'maven',\n",
       "       'memory', 'memory-management', 'merge', 'mongodb',\n",
       "       'multithreading', 'mysql', 'networking', 'node.js', 'npm', 'numpy',\n",
       "       'object', 'objective-c', 'oop', 'operators', 'optimization',\n",
       "       'oracle', 'pandas', 'parsing', 'passwords', 'path', 'performance',\n",
       "       'php', 'pip', 'pointers', 'post', 'postgresql',\n",
       "       'programming-languages', 'python', 'python-3.x', 'r', 'r-faq',\n",
       "       'random', 'reactjs', 'reflection', 'regex', 'rest', 'ruby',\n",
       "       'ruby-on-rails', 'scala', 'scripting', 'search', 'security',\n",
       "       'shell', 'sorting', 'split', 'spring', 'sql', 'sql-server',\n",
       "       'sql-server-2005', 'sql-server-2008', 'sqlite', 'ssh', 'ssl',\n",
       "       'static', 'stl', 'string', 'svn', 'swift', 'syntax', 'templates',\n",
       "       'terminal', 'terminology', 'testing', 'time', 'tsql',\n",
       "       'twitter-bootstrap', 'types', 'typescript', 'ubuntu',\n",
       "       'uitableview', 'unicode', 'unit-testing', 'unix', 'url',\n",
       "       'user-interface', 'validation', 'variables', 'version-control',\n",
       "       'vim', 'visual-studio', 'web-services', 'windows', 'wpf', 'xcode',\n",
       "       'xml'], dtype=object)"
      ]
     },
     "execution_count": 49,
     "metadata": {},
     "output_type": "execute_result"
    }
   ],
   "source": [
    "mlb.classes_"
   ]
  },
  {
   "cell_type": "code",
   "execution_count": 50,
   "metadata": {
    "ExecuteTime": {
     "end_time": "2020-04-08T09:37:22.481897Z",
     "start_time": "2020-04-08T09:37:22.478426Z"
    }
   },
   "outputs": [],
   "source": [
    "vectorizer_X = TfidfVectorizer(min_df=0.0, max_features=200000, ngram_range=(1,1))"
   ]
  },
  {
   "cell_type": "code",
   "execution_count": 51,
   "metadata": {
    "ExecuteTime": {
     "end_time": "2020-04-08T09:37:23.526908Z",
     "start_time": "2020-04-08T09:37:23.089628Z"
    }
   },
   "outputs": [],
   "source": [
    "X_tfidf = vectorizer_X.fit_transform(X)"
   ]
  },
  {
   "cell_type": "code",
   "execution_count": 52,
   "metadata": {
    "ExecuteTime": {
     "end_time": "2020-04-08T09:37:24.114025Z",
     "start_time": "2020-04-08T09:37:24.101102Z"
    }
   },
   "outputs": [],
   "source": [
    "X_train, X_test, y_train, y_test = train_test_split(X_tfidf, y_bin, test_size=0.2)"
   ]
  },
  {
   "cell_type": "code",
   "execution_count": 53,
   "metadata": {
    "ExecuteTime": {
     "end_time": "2020-04-08T09:37:24.640004Z",
     "start_time": "2020-04-08T09:37:24.636532Z"
    }
   },
   "outputs": [
    {
     "name": "stdout",
     "output_type": "stream",
     "text": [
      "Nombre de données dans le training set :  12185\n",
      "Nombre de données dans le test set :  3047\n"
     ]
    }
   ],
   "source": [
    "print(\"Nombre de données dans le training set : \", X_train.shape[0])\n",
    "print(\"Nombre de données dans le test set : \", X_test.shape[0])"
   ]
  },
  {
   "cell_type": "markdown",
   "metadata": {},
   "source": [
    "### 4.2. Modélisations"
   ]
  },
  {
   "cell_type": "code",
   "execution_count": 54,
   "metadata": {
    "ExecuteTime": {
     "end_time": "2020-04-08T09:37:25.624707Z",
     "start_time": "2020-04-08T09:37:25.619225Z"
    }
   },
   "outputs": [],
   "source": [
    "def avg_jaccard(y_test, y_pred):\n",
    "    '''\n",
    "    see https://en.wikipedia.org/wiki/Multi-label_classification#Statistics_and_evaluation_metrics\n",
    "    '''\n",
    "    jacard = np.minimum(y_test, y_pred).sum(axis=1) / \\\n",
    "        np.maximum(y_test, y_pred).sum(axis=1)\n",
    "    return jacard.mean()*100\n",
    "\n",
    "\n",
    "def get_score(y_pred, model, submodel=\"\"):\n",
    "    classifier_name = model.__class__.__name__\n",
    "    macro_f1_score = metrics.f1_score(y_test, y_pred, average=\"macro\")\n",
    "    micro_f1_score = metrics.f1_score(y_test, y_pred, average=\"micro\")\n",
    "    jaccard_score = avg_jaccard(y_test, y_pred)\n",
    "    hamming_loss = metrics.hamming_loss(y_test, y_pred)\n",
    "    data = {\"Macro F1 Score\": macro_f1_score, \"Micro F1 Score\": micro_f1_score,\n",
    "            \"Jaccard Score\": jaccard_score, \"Hamming_loss\": hamming_loss}\n",
    "    if(submodel):\n",
    "        return pd.DataFrame(data=data, index=[submodel])\n",
    "    else:\n",
    "        return pd.DataFrame(data=data, index=[classifier_name])"
   ]
  },
  {
   "cell_type": "markdown",
   "metadata": {},
   "source": [
    "#### 4.2.1. DummyClassifier"
   ]
  },
  {
   "cell_type": "code",
   "execution_count": 55,
   "metadata": {
    "ExecuteTime": {
     "end_time": "2020-04-08T09:37:26.937350Z",
     "start_time": "2020-04-08T09:37:26.616439Z"
    }
   },
   "outputs": [
    {
     "data": {
      "text/html": [
       "<div>\n",
       "<style scoped>\n",
       "    .dataframe tbody tr th:only-of-type {\n",
       "        vertical-align: middle;\n",
       "    }\n",
       "\n",
       "    .dataframe tbody tr th {\n",
       "        vertical-align: top;\n",
       "    }\n",
       "\n",
       "    .dataframe thead th {\n",
       "        text-align: right;\n",
       "    }\n",
       "</style>\n",
       "<table border=\"1\" class=\"dataframe\">\n",
       "  <thead>\n",
       "    <tr style=\"text-align: right;\">\n",
       "      <th></th>\n",
       "      <th>Macro F1 Score</th>\n",
       "      <th>Micro F1 Score</th>\n",
       "      <th>Jaccard Score</th>\n",
       "      <th>Hamming_loss</th>\n",
       "    </tr>\n",
       "  </thead>\n",
       "  <tbody>\n",
       "    <tr>\n",
       "      <td>DummyClassifier</td>\n",
       "      <td>0.010422</td>\n",
       "      <td>0.037954</td>\n",
       "      <td>2.292471</td>\n",
       "      <td>0.018551</td>\n",
       "    </tr>\n",
       "  </tbody>\n",
       "</table>\n",
       "</div>"
      ],
      "text/plain": [
       "                 Macro F1 Score  Micro F1 Score  Jaccard Score  Hamming_loss\n",
       "DummyClassifier        0.010422        0.037954       2.292471      0.018551"
      ]
     },
     "execution_count": 55,
     "metadata": {},
     "output_type": "execute_result"
    }
   ],
   "source": [
    "dummy_clf = OneVsRestClassifier(DummyClassifier())\n",
    "dummy_clf.fit(X_train, y_train)\n",
    "y_pred = dummy_clf.predict(X_test)\n",
    "dummy_score = get_score(y_pred, dummy_clf, \"DummyClassifier\")\n",
    "dummy_score"
   ]
  },
  {
   "cell_type": "markdown",
   "metadata": {},
   "source": [
    "#### 4.2.2. RandomForestClassifier"
   ]
  },
  {
   "cell_type": "code",
   "execution_count": 56,
   "metadata": {
    "ExecuteTime": {
     "end_time": "2020-04-08T09:37:38.675731Z",
     "start_time": "2020-04-08T09:37:27.794510Z"
    }
   },
   "outputs": [
    {
     "data": {
      "text/html": [
       "<div>\n",
       "<style scoped>\n",
       "    .dataframe tbody tr th:only-of-type {\n",
       "        vertical-align: middle;\n",
       "    }\n",
       "\n",
       "    .dataframe tbody tr th {\n",
       "        vertical-align: top;\n",
       "    }\n",
       "\n",
       "    .dataframe thead th {\n",
       "        text-align: right;\n",
       "    }\n",
       "</style>\n",
       "<table border=\"1\" class=\"dataframe\">\n",
       "  <thead>\n",
       "    <tr style=\"text-align: right;\">\n",
       "      <th></th>\n",
       "      <th>Macro F1 Score</th>\n",
       "      <th>Micro F1 Score</th>\n",
       "      <th>Jaccard Score</th>\n",
       "      <th>Hamming_loss</th>\n",
       "    </tr>\n",
       "  </thead>\n",
       "  <tbody>\n",
       "    <tr>\n",
       "      <td>RandomForestClassifier</td>\n",
       "      <td>0.118726</td>\n",
       "      <td>0.340646</td>\n",
       "      <td>25.252708</td>\n",
       "      <td>0.007744</td>\n",
       "    </tr>\n",
       "  </tbody>\n",
       "</table>\n",
       "</div>"
      ],
      "text/plain": [
       "                        Macro F1 Score  Micro F1 Score  Jaccard Score  \\\n",
       "RandomForestClassifier        0.118726        0.340646      25.252708   \n",
       "\n",
       "                        Hamming_loss  \n",
       "RandomForestClassifier      0.007744  "
      ]
     },
     "execution_count": 56,
     "metadata": {},
     "output_type": "execute_result"
    }
   ],
   "source": [
    "rf_clf = RandomForestClassifier()\n",
    "rf_clf.fit(X_train, y_train)\n",
    "y_pred = rf_clf.predict(X_test)\n",
    "rfc_score = get_score(y_pred, rf_clf)\n",
    "rfc_score"
   ]
  },
  {
   "cell_type": "markdown",
   "metadata": {},
   "source": [
    "#### 4.2.3. LogisticRegression"
   ]
  },
  {
   "cell_type": "code",
   "execution_count": 57,
   "metadata": {
    "ExecuteTime": {
     "end_time": "2020-04-08T09:37:50.934566Z",
     "start_time": "2020-04-08T09:37:42.146442Z"
    }
   },
   "outputs": [
    {
     "data": {
      "text/html": [
       "<div>\n",
       "<style scoped>\n",
       "    .dataframe tbody tr th:only-of-type {\n",
       "        vertical-align: middle;\n",
       "    }\n",
       "\n",
       "    .dataframe tbody tr th {\n",
       "        vertical-align: top;\n",
       "    }\n",
       "\n",
       "    .dataframe thead th {\n",
       "        text-align: right;\n",
       "    }\n",
       "</style>\n",
       "<table border=\"1\" class=\"dataframe\">\n",
       "  <thead>\n",
       "    <tr style=\"text-align: right;\">\n",
       "      <th></th>\n",
       "      <th>Macro F1 Score</th>\n",
       "      <th>Micro F1 Score</th>\n",
       "      <th>Jaccard Score</th>\n",
       "      <th>Hamming_loss</th>\n",
       "    </tr>\n",
       "  </thead>\n",
       "  <tbody>\n",
       "    <tr>\n",
       "      <td>LogisticRegression</td>\n",
       "      <td>0.148066</td>\n",
       "      <td>0.391883</td>\n",
       "      <td>27.702111</td>\n",
       "      <td>0.007425</td>\n",
       "    </tr>\n",
       "  </tbody>\n",
       "</table>\n",
       "</div>"
      ],
      "text/plain": [
       "                    Macro F1 Score  Micro F1 Score  Jaccard Score  \\\n",
       "LogisticRegression        0.148066        0.391883      27.702111   \n",
       "\n",
       "                    Hamming_loss  \n",
       "LogisticRegression      0.007425  "
      ]
     },
     "execution_count": 57,
     "metadata": {},
     "output_type": "execute_result"
    }
   ],
   "source": [
    "lg_clf = OneVsRestClassifier(LogisticRegression())\n",
    "lg_clf.fit(X_train, y_train)\n",
    "y_pred = lg_clf.predict(X_test)\n",
    "lr_score = get_score(y_pred, lg_clf, \"LogisticRegression\")\n",
    "lr_score"
   ]
  },
  {
   "cell_type": "markdown",
   "metadata": {},
   "source": [
    "#### 4.2.4. SGDClassifier "
   ]
  },
  {
   "cell_type": "code",
   "execution_count": 58,
   "metadata": {
    "ExecuteTime": {
     "end_time": "2020-04-08T09:37:55.327540Z",
     "start_time": "2020-04-08T09:37:53.145664Z"
    }
   },
   "outputs": [
    {
     "data": {
      "text/html": [
       "<div>\n",
       "<style scoped>\n",
       "    .dataframe tbody tr th:only-of-type {\n",
       "        vertical-align: middle;\n",
       "    }\n",
       "\n",
       "    .dataframe tbody tr th {\n",
       "        vertical-align: top;\n",
       "    }\n",
       "\n",
       "    .dataframe thead th {\n",
       "        text-align: right;\n",
       "    }\n",
       "</style>\n",
       "<table border=\"1\" class=\"dataframe\">\n",
       "  <thead>\n",
       "    <tr style=\"text-align: right;\">\n",
       "      <th></th>\n",
       "      <th>Macro F1 Score</th>\n",
       "      <th>Micro F1 Score</th>\n",
       "      <th>Jaccard Score</th>\n",
       "      <th>Hamming_loss</th>\n",
       "    </tr>\n",
       "  </thead>\n",
       "  <tbody>\n",
       "    <tr>\n",
       "      <td>SGDClassifier</td>\n",
       "      <td>0.341273</td>\n",
       "      <td>0.562041</td>\n",
       "      <td>44.014956</td>\n",
       "      <td>0.006168</td>\n",
       "    </tr>\n",
       "  </tbody>\n",
       "</table>\n",
       "</div>"
      ],
      "text/plain": [
       "               Macro F1 Score  Micro F1 Score  Jaccard Score  Hamming_loss\n",
       "SGDClassifier        0.341273        0.562041      44.014956      0.006168"
      ]
     },
     "execution_count": 58,
     "metadata": {},
     "output_type": "execute_result"
    }
   ],
   "source": [
    "sgd_clf = OneVsRestClassifier(SGDClassifier())\n",
    "sgd_clf.fit(X_train, y_train)\n",
    "y_pred = sgd_clf.predict(X_test)\n",
    "sgdc_score = get_score(y_pred, sgd_clf, \"SGDClassifier\")\n",
    "sgdc_score"
   ]
  },
  {
   "cell_type": "markdown",
   "metadata": {},
   "source": [
    "#### 4.2.5. MultinomialNB"
   ]
  },
  {
   "cell_type": "code",
   "execution_count": 59,
   "metadata": {
    "ExecuteTime": {
     "end_time": "2020-04-08T09:37:56.274900Z",
     "start_time": "2020-04-08T09:37:55.380115Z"
    }
   },
   "outputs": [
    {
     "data": {
      "text/html": [
       "<div>\n",
       "<style scoped>\n",
       "    .dataframe tbody tr th:only-of-type {\n",
       "        vertical-align: middle;\n",
       "    }\n",
       "\n",
       "    .dataframe tbody tr th {\n",
       "        vertical-align: top;\n",
       "    }\n",
       "\n",
       "    .dataframe thead th {\n",
       "        text-align: right;\n",
       "    }\n",
       "</style>\n",
       "<table border=\"1\" class=\"dataframe\">\n",
       "  <thead>\n",
       "    <tr style=\"text-align: right;\">\n",
       "      <th></th>\n",
       "      <th>Macro F1 Score</th>\n",
       "      <th>Micro F1 Score</th>\n",
       "      <th>Jaccard Score</th>\n",
       "      <th>Hamming_loss</th>\n",
       "    </tr>\n",
       "  </thead>\n",
       "  <tbody>\n",
       "    <tr>\n",
       "      <td>MultinomialNB</td>\n",
       "      <td>0.000791</td>\n",
       "      <td>0.004317</td>\n",
       "      <td>0.339295</td>\n",
       "      <td>0.009841</td>\n",
       "    </tr>\n",
       "  </tbody>\n",
       "</table>\n",
       "</div>"
      ],
      "text/plain": [
       "               Macro F1 Score  Micro F1 Score  Jaccard Score  Hamming_loss\n",
       "MultinomialNB        0.000791        0.004317       0.339295      0.009841"
      ]
     },
     "execution_count": 59,
     "metadata": {},
     "output_type": "execute_result"
    }
   ],
   "source": [
    "mnb_clf = OneVsRestClassifier(MultinomialNB())\n",
    "mnb_clf.fit(X_train, y_train)\n",
    "y_pred = mnb_clf.predict(X_test)\n",
    "mnb_score = get_score(y_pred, mnb_clf, \"MultinomialNB\")\n",
    "mnb_score"
   ]
  },
  {
   "cell_type": "markdown",
   "metadata": {},
   "source": [
    "#### 4.2.6. LinearSVC"
   ]
  },
  {
   "cell_type": "code",
   "execution_count": 60,
   "metadata": {
    "ExecuteTime": {
     "end_time": "2020-04-08T09:38:01.046687Z",
     "start_time": "2020-04-08T09:37:57.855422Z"
    }
   },
   "outputs": [
    {
     "data": {
      "text/html": [
       "<div>\n",
       "<style scoped>\n",
       "    .dataframe tbody tr th:only-of-type {\n",
       "        vertical-align: middle;\n",
       "    }\n",
       "\n",
       "    .dataframe tbody tr th {\n",
       "        vertical-align: top;\n",
       "    }\n",
       "\n",
       "    .dataframe thead th {\n",
       "        text-align: right;\n",
       "    }\n",
       "</style>\n",
       "<table border=\"1\" class=\"dataframe\">\n",
       "  <thead>\n",
       "    <tr style=\"text-align: right;\">\n",
       "      <th></th>\n",
       "      <th>Macro F1 Score</th>\n",
       "      <th>Micro F1 Score</th>\n",
       "      <th>Jaccard Score</th>\n",
       "      <th>Hamming_loss</th>\n",
       "    </tr>\n",
       "  </thead>\n",
       "  <tbody>\n",
       "    <tr>\n",
       "      <td>LinearSVC</td>\n",
       "      <td>0.403894</td>\n",
       "      <td>0.586867</td>\n",
       "      <td>46.276744</td>\n",
       "      <td>0.006122</td>\n",
       "    </tr>\n",
       "  </tbody>\n",
       "</table>\n",
       "</div>"
      ],
      "text/plain": [
       "           Macro F1 Score  Micro F1 Score  Jaccard Score  Hamming_loss\n",
       "LinearSVC        0.403894        0.586867      46.276744      0.006122"
      ]
     },
     "execution_count": 60,
     "metadata": {},
     "output_type": "execute_result"
    }
   ],
   "source": [
    "svc_clf = OneVsRestClassifier(LinearSVC())\n",
    "svc_clf.fit(X_train, y_train)\n",
    "y_pred = svc_clf.predict(X_test)\n",
    "svc_score = get_score(y_pred, svc_clf, \"LinearSVC\")\n",
    "svc_score"
   ]
  },
  {
   "cell_type": "markdown",
   "metadata": {},
   "source": [
    "#### 4.2.7. Perceptron"
   ]
  },
  {
   "cell_type": "code",
   "execution_count": 61,
   "metadata": {
    "ExecuteTime": {
     "end_time": "2020-04-08T09:38:03.592845Z",
     "start_time": "2020-04-08T09:38:01.774040Z"
    }
   },
   "outputs": [
    {
     "data": {
      "text/html": [
       "<div>\n",
       "<style scoped>\n",
       "    .dataframe tbody tr th:only-of-type {\n",
       "        vertical-align: middle;\n",
       "    }\n",
       "\n",
       "    .dataframe tbody tr th {\n",
       "        vertical-align: top;\n",
       "    }\n",
       "\n",
       "    .dataframe thead th {\n",
       "        text-align: right;\n",
       "    }\n",
       "</style>\n",
       "<table border=\"1\" class=\"dataframe\">\n",
       "  <thead>\n",
       "    <tr style=\"text-align: right;\">\n",
       "      <th></th>\n",
       "      <th>Macro F1 Score</th>\n",
       "      <th>Micro F1 Score</th>\n",
       "      <th>Jaccard Score</th>\n",
       "      <th>Hamming_loss</th>\n",
       "    </tr>\n",
       "  </thead>\n",
       "  <tbody>\n",
       "    <tr>\n",
       "      <td>Perceptron</td>\n",
       "      <td>0.441076</td>\n",
       "      <td>0.562049</td>\n",
       "      <td>45.402713</td>\n",
       "      <td>0.007575</td>\n",
       "    </tr>\n",
       "  </tbody>\n",
       "</table>\n",
       "</div>"
      ],
      "text/plain": [
       "            Macro F1 Score  Micro F1 Score  Jaccard Score  Hamming_loss\n",
       "Perceptron        0.441076        0.562049      45.402713      0.007575"
      ]
     },
     "execution_count": 61,
     "metadata": {},
     "output_type": "execute_result"
    }
   ],
   "source": [
    "perc_clf = OneVsRestClassifier(Perceptron())\n",
    "perc_clf.fit(X_train, y_train)\n",
    "y_pred = perc_clf.predict(X_test)\n",
    "perceptron_score = get_score(y_pred, perc_clf, \"Perceptron\")\n",
    "perceptron_score"
   ]
  },
  {
   "cell_type": "markdown",
   "metadata": {},
   "source": [
    "#### 4.2.8. PassiveAggressiveClassifier"
   ]
  },
  {
   "cell_type": "code",
   "execution_count": 62,
   "metadata": {
    "ExecuteTime": {
     "end_time": "2020-04-08T09:38:07.486608Z",
     "start_time": "2020-04-08T09:38:04.592975Z"
    }
   },
   "outputs": [
    {
     "data": {
      "text/html": [
       "<div>\n",
       "<style scoped>\n",
       "    .dataframe tbody tr th:only-of-type {\n",
       "        vertical-align: middle;\n",
       "    }\n",
       "\n",
       "    .dataframe tbody tr th {\n",
       "        vertical-align: top;\n",
       "    }\n",
       "\n",
       "    .dataframe thead th {\n",
       "        text-align: right;\n",
       "    }\n",
       "</style>\n",
       "<table border=\"1\" class=\"dataframe\">\n",
       "  <thead>\n",
       "    <tr style=\"text-align: right;\">\n",
       "      <th></th>\n",
       "      <th>Macro F1 Score</th>\n",
       "      <th>Micro F1 Score</th>\n",
       "      <th>Jaccard Score</th>\n",
       "      <th>Hamming_loss</th>\n",
       "    </tr>\n",
       "  </thead>\n",
       "  <tbody>\n",
       "    <tr>\n",
       "      <td>PassiveAggressiveClassifier</td>\n",
       "      <td>0.465428</td>\n",
       "      <td>0.58637</td>\n",
       "      <td>47.302265</td>\n",
       "      <td>0.006762</td>\n",
       "    </tr>\n",
       "  </tbody>\n",
       "</table>\n",
       "</div>"
      ],
      "text/plain": [
       "                             Macro F1 Score  Micro F1 Score  Jaccard Score  \\\n",
       "PassiveAggressiveClassifier        0.465428         0.58637      47.302265   \n",
       "\n",
       "                             Hamming_loss  \n",
       "PassiveAggressiveClassifier      0.006762  "
      ]
     },
     "execution_count": 62,
     "metadata": {},
     "output_type": "execute_result"
    }
   ],
   "source": [
    "pa_clf = OneVsRestClassifier(PassiveAggressiveClassifier())\n",
    "pa_clf.fit(X_train, y_train)\n",
    "y_pred = pa_clf.predict(X_test)\n",
    "pac_score = get_score(y_pred, pa_clf, \"PassiveAggressiveClassifier\")\n",
    "pac_score"
   ]
  },
  {
   "cell_type": "markdown",
   "metadata": {},
   "source": [
    "#### 4.2.9. MultiLayerPerceptron Classifier"
   ]
  },
  {
   "cell_type": "code",
   "execution_count": 63,
   "metadata": {
    "ExecuteTime": {
     "end_time": "2020-04-08T09:47:00.349031Z",
     "start_time": "2020-04-08T09:38:08.944658Z"
    },
    "scrolled": true
   },
   "outputs": [
    {
     "name": "stdout",
     "output_type": "stream",
     "text": [
      "Iteration 1, loss = 107.39084400\n",
      "Iteration 2, loss = 25.52067911\n",
      "Iteration 3, loss = 11.92553563\n",
      "Iteration 4, loss = 10.54241310\n",
      "Iteration 5, loss = 10.19008509\n",
      "Iteration 6, loss = 9.96582088\n",
      "Iteration 7, loss = 9.68854179\n",
      "Iteration 8, loss = 9.35444945\n",
      "Iteration 9, loss = 8.99182315\n",
      "Iteration 10, loss = 8.58000483\n",
      "Iteration 11, loss = 8.10496293\n",
      "Iteration 12, loss = 7.60056802\n",
      "Iteration 13, loss = 7.09446169\n",
      "Iteration 14, loss = 6.62662788\n",
      "Iteration 15, loss = 6.21516615\n",
      "Iteration 16, loss = 5.85548273\n",
      "Iteration 17, loss = 5.53819738\n",
      "Iteration 18, loss = 5.25271709\n",
      "Iteration 19, loss = 4.99218367\n",
      "Iteration 20, loss = 4.75647368\n",
      "Iteration 21, loss = 4.54488020\n",
      "Iteration 22, loss = 4.35386592\n",
      "Iteration 23, loss = 4.17976928\n",
      "Iteration 24, loss = 4.01866758\n",
      "Iteration 25, loss = 3.86979832\n",
      "Iteration 26, loss = 3.72955819\n",
      "Iteration 27, loss = 3.59862569\n",
      "Iteration 28, loss = 3.47444994\n",
      "Iteration 29, loss = 3.35609157\n",
      "Iteration 30, loss = 3.24333963\n",
      "Iteration 31, loss = 3.13580808\n",
      "Iteration 32, loss = 3.03239791\n",
      "Iteration 33, loss = 2.93228510\n",
      "Iteration 34, loss = 2.83677761\n",
      "Iteration 35, loss = 2.74305471\n",
      "Iteration 36, loss = 2.65278713\n",
      "Iteration 37, loss = 2.56572055\n",
      "Iteration 38, loss = 2.48135748\n",
      "Iteration 39, loss = 2.39912979\n",
      "Iteration 40, loss = 2.31955692\n",
      "Iteration 41, loss = 2.24170557\n",
      "Iteration 42, loss = 2.16659530\n",
      "Iteration 43, loss = 2.09367448\n",
      "Iteration 44, loss = 2.02280885\n",
      "Iteration 45, loss = 1.95385383\n",
      "Iteration 46, loss = 1.88716788\n",
      "Iteration 47, loss = 1.82199299\n",
      "Iteration 48, loss = 1.75847655\n",
      "Iteration 49, loss = 1.69681327\n",
      "Iteration 50, loss = 1.63744283\n",
      "Iteration 51, loss = 1.57953950\n",
      "Iteration 52, loss = 1.52359883\n",
      "Iteration 53, loss = 1.46930772\n",
      "Iteration 54, loss = 1.41633369\n",
      "Iteration 55, loss = 1.36477897\n",
      "Iteration 56, loss = 1.31549263\n",
      "Iteration 57, loss = 1.26719933\n",
      "Iteration 58, loss = 1.22049128\n",
      "Iteration 59, loss = 1.17545687\n",
      "Iteration 60, loss = 1.13217613\n",
      "Iteration 61, loss = 1.08972982\n",
      "Iteration 62, loss = 1.04872397\n",
      "Iteration 63, loss = 1.00914164\n",
      "Iteration 64, loss = 0.97088196\n",
      "Iteration 65, loss = 0.93381912\n",
      "Iteration 66, loss = 0.89802979\n",
      "Iteration 67, loss = 0.86375580\n",
      "Iteration 68, loss = 0.83011309\n",
      "Iteration 69, loss = 0.79839559\n",
      "Iteration 70, loss = 0.76759487\n",
      "Iteration 71, loss = 0.73731281\n",
      "Iteration 72, loss = 0.70875760\n",
      "Iteration 73, loss = 0.68123908\n",
      "Iteration 74, loss = 0.65490297\n",
      "Iteration 75, loss = 0.62923468\n",
      "Iteration 76, loss = 0.60429465\n",
      "Iteration 77, loss = 0.58070136\n",
      "Iteration 78, loss = 0.55810506\n",
      "Iteration 79, loss = 0.53621329\n",
      "Iteration 80, loss = 0.51536933\n",
      "Iteration 81, loss = 0.49519775\n",
      "Iteration 82, loss = 0.47599689\n",
      "Iteration 83, loss = 0.45753623\n",
      "Iteration 84, loss = 0.44007311\n",
      "Iteration 85, loss = 0.42300644\n",
      "Iteration 86, loss = 0.40675860\n",
      "Iteration 87, loss = 0.39132147\n",
      "Iteration 88, loss = 0.37626255\n",
      "Iteration 89, loss = 0.36209243\n",
      "Iteration 90, loss = 0.34857412\n",
      "Iteration 91, loss = 0.33550743\n",
      "Iteration 92, loss = 0.32284981\n",
      "Iteration 93, loss = 0.31088907\n",
      "Iteration 94, loss = 0.29943564\n",
      "Iteration 95, loss = 0.28851947\n",
      "Iteration 96, loss = 0.27796472\n",
      "Iteration 97, loss = 0.26788059\n",
      "Iteration 98, loss = 0.25829532\n",
      "Iteration 99, loss = 0.24904430\n",
      "Iteration 100, loss = 0.24019429\n"
     ]
    },
    {
     "data": {
      "text/html": [
       "<div>\n",
       "<style scoped>\n",
       "    .dataframe tbody tr th:only-of-type {\n",
       "        vertical-align: middle;\n",
       "    }\n",
       "\n",
       "    .dataframe tbody tr th {\n",
       "        vertical-align: top;\n",
       "    }\n",
       "\n",
       "    .dataframe thead th {\n",
       "        text-align: right;\n",
       "    }\n",
       "</style>\n",
       "<table border=\"1\" class=\"dataframe\">\n",
       "  <thead>\n",
       "    <tr style=\"text-align: right;\">\n",
       "      <th></th>\n",
       "      <th>Macro F1 Score</th>\n",
       "      <th>Micro F1 Score</th>\n",
       "      <th>Jaccard Score</th>\n",
       "      <th>Hamming_loss</th>\n",
       "    </tr>\n",
       "  </thead>\n",
       "  <tbody>\n",
       "    <tr>\n",
       "      <td>MLPClassifier</td>\n",
       "      <td>0.343309</td>\n",
       "      <td>0.519701</td>\n",
       "      <td>39.023786</td>\n",
       "      <td>0.006961</td>\n",
       "    </tr>\n",
       "  </tbody>\n",
       "</table>\n",
       "</div>"
      ],
      "text/plain": [
       "               Macro F1 Score  Micro F1 Score  Jaccard Score  Hamming_loss\n",
       "MLPClassifier        0.343309        0.519701      39.023786      0.006961"
      ]
     },
     "execution_count": 63,
     "metadata": {},
     "output_type": "execute_result"
    }
   ],
   "source": [
    "mlcp = MLPClassifier(max_iter=100, verbose=True)\n",
    "mlcp.fit(X_train, y_train)\n",
    "y_pred = mlcp.predict(X_test)\n",
    "mlpc_score = get_score(y_pred, mlcp)\n",
    "mlpc_score"
   ]
  },
  {
   "cell_type": "markdown",
   "metadata": {},
   "source": [
    "### 4.3. Analyse des résultats"
   ]
  },
  {
   "cell_type": "code",
   "execution_count": 64,
   "metadata": {
    "ExecuteTime": {
     "end_time": "2020-04-08T09:50:12.371686Z",
     "start_time": "2020-04-08T09:50:12.367715Z"
    }
   },
   "outputs": [],
   "source": [
    "def highlight(val):\n",
    "    is_max = val == val.max()\n",
    "    return ['color: green' if v else '' for v in is_max]\n",
    "\n",
    "def highlight_hamming(val):\n",
    "    is_min = val == val.min()\n",
    "    return ['color: green' if v else '' for v in is_min]"
   ]
  },
  {
   "cell_type": "code",
   "execution_count": 65,
   "metadata": {
    "ExecuteTime": {
     "end_time": "2020-04-08T09:50:13.120394Z",
     "start_time": "2020-04-08T09:50:13.054448Z"
    }
   },
   "outputs": [
    {
     "data": {
      "text/html": [
       "<style  type=\"text/css\" >\n",
       "    #T_579fe908_797e_11ea_af38_001a7dda7115row5_col1 {\n",
       "            color:  green;\n",
       "        }    #T_579fe908_797e_11ea_af38_001a7dda7115row5_col3 {\n",
       "            color:  green;\n",
       "        }    #T_579fe908_797e_11ea_af38_001a7dda7115row7_col0 {\n",
       "            color:  green;\n",
       "        }    #T_579fe908_797e_11ea_af38_001a7dda7115row7_col2 {\n",
       "            color:  green;\n",
       "        }</style><table id=\"T_579fe908_797e_11ea_af38_001a7dda7115\" ><thead>    <tr>        <th class=\"blank level0\" ></th>        <th class=\"col_heading level0 col0\" >Macro F1 Score</th>        <th class=\"col_heading level0 col1\" >Micro F1 Score</th>        <th class=\"col_heading level0 col2\" >Jaccard Score</th>        <th class=\"col_heading level0 col3\" >Hamming_loss</th>    </tr></thead><tbody>\n",
       "                <tr>\n",
       "                        <th id=\"T_579fe908_797e_11ea_af38_001a7dda7115level0_row0\" class=\"row_heading level0 row0\" >RandomForestClassifier</th>\n",
       "                        <td id=\"T_579fe908_797e_11ea_af38_001a7dda7115row0_col0\" class=\"data row0 col0\" >0.118726</td>\n",
       "                        <td id=\"T_579fe908_797e_11ea_af38_001a7dda7115row0_col1\" class=\"data row0 col1\" >0.340646</td>\n",
       "                        <td id=\"T_579fe908_797e_11ea_af38_001a7dda7115row0_col2\" class=\"data row0 col2\" >25.2527</td>\n",
       "                        <td id=\"T_579fe908_797e_11ea_af38_001a7dda7115row0_col3\" class=\"data row0 col3\" >0.00774368</td>\n",
       "            </tr>\n",
       "            <tr>\n",
       "                        <th id=\"T_579fe908_797e_11ea_af38_001a7dda7115level0_row1\" class=\"row_heading level0 row1\" >LogisticRegression</th>\n",
       "                        <td id=\"T_579fe908_797e_11ea_af38_001a7dda7115row1_col0\" class=\"data row1 col0\" >0.148066</td>\n",
       "                        <td id=\"T_579fe908_797e_11ea_af38_001a7dda7115row1_col1\" class=\"data row1 col1\" >0.391883</td>\n",
       "                        <td id=\"T_579fe908_797e_11ea_af38_001a7dda7115row1_col2\" class=\"data row1 col2\" >27.7021</td>\n",
       "                        <td id=\"T_579fe908_797e_11ea_af38_001a7dda7115row1_col3\" class=\"data row1 col3\" >0.00742534</td>\n",
       "            </tr>\n",
       "            <tr>\n",
       "                        <th id=\"T_579fe908_797e_11ea_af38_001a7dda7115level0_row2\" class=\"row_heading level0 row2\" >DummyClassifier</th>\n",
       "                        <td id=\"T_579fe908_797e_11ea_af38_001a7dda7115row2_col0\" class=\"data row2 col0\" >0.0104219</td>\n",
       "                        <td id=\"T_579fe908_797e_11ea_af38_001a7dda7115row2_col1\" class=\"data row2 col1\" >0.0379542</td>\n",
       "                        <td id=\"T_579fe908_797e_11ea_af38_001a7dda7115row2_col2\" class=\"data row2 col2\" >2.29247</td>\n",
       "                        <td id=\"T_579fe908_797e_11ea_af38_001a7dda7115row2_col3\" class=\"data row2 col3\" >0.018551</td>\n",
       "            </tr>\n",
       "            <tr>\n",
       "                        <th id=\"T_579fe908_797e_11ea_af38_001a7dda7115level0_row3\" class=\"row_heading level0 row3\" >SGDClassifier</th>\n",
       "                        <td id=\"T_579fe908_797e_11ea_af38_001a7dda7115row3_col0\" class=\"data row3 col0\" >0.341273</td>\n",
       "                        <td id=\"T_579fe908_797e_11ea_af38_001a7dda7115row3_col1\" class=\"data row3 col1\" >0.562041</td>\n",
       "                        <td id=\"T_579fe908_797e_11ea_af38_001a7dda7115row3_col2\" class=\"data row3 col2\" >44.015</td>\n",
       "                        <td id=\"T_579fe908_797e_11ea_af38_001a7dda7115row3_col3\" class=\"data row3 col3\" >0.00616836</td>\n",
       "            </tr>\n",
       "            <tr>\n",
       "                        <th id=\"T_579fe908_797e_11ea_af38_001a7dda7115level0_row4\" class=\"row_heading level0 row4\" >MultinomialNB</th>\n",
       "                        <td id=\"T_579fe908_797e_11ea_af38_001a7dda7115row4_col0\" class=\"data row4 col0\" >0.000791472</td>\n",
       "                        <td id=\"T_579fe908_797e_11ea_af38_001a7dda7115row4_col1\" class=\"data row4 col1\" >0.00431679</td>\n",
       "                        <td id=\"T_579fe908_797e_11ea_af38_001a7dda7115row4_col2\" class=\"data row4 col2\" >0.339295</td>\n",
       "                        <td id=\"T_579fe908_797e_11ea_af38_001a7dda7115row4_col3\" class=\"data row4 col3\" >0.00984083</td>\n",
       "            </tr>\n",
       "            <tr>\n",
       "                        <th id=\"T_579fe908_797e_11ea_af38_001a7dda7115level0_row5\" class=\"row_heading level0 row5\" >LinearSVC</th>\n",
       "                        <td id=\"T_579fe908_797e_11ea_af38_001a7dda7115row5_col0\" class=\"data row5 col0\" >0.403894</td>\n",
       "                        <td id=\"T_579fe908_797e_11ea_af38_001a7dda7115row5_col1\" class=\"data row5 col1\" >0.586867</td>\n",
       "                        <td id=\"T_579fe908_797e_11ea_af38_001a7dda7115row5_col2\" class=\"data row5 col2\" >46.2767</td>\n",
       "                        <td id=\"T_579fe908_797e_11ea_af38_001a7dda7115row5_col3\" class=\"data row5 col3\" >0.00612242</td>\n",
       "            </tr>\n",
       "            <tr>\n",
       "                        <th id=\"T_579fe908_797e_11ea_af38_001a7dda7115level0_row6\" class=\"row_heading level0 row6\" >Perceptron</th>\n",
       "                        <td id=\"T_579fe908_797e_11ea_af38_001a7dda7115row6_col0\" class=\"data row6 col0\" >0.441076</td>\n",
       "                        <td id=\"T_579fe908_797e_11ea_af38_001a7dda7115row6_col1\" class=\"data row6 col1\" >0.562049</td>\n",
       "                        <td id=\"T_579fe908_797e_11ea_af38_001a7dda7115row6_col2\" class=\"data row6 col2\" >45.4027</td>\n",
       "                        <td id=\"T_579fe908_797e_11ea_af38_001a7dda7115row6_col3\" class=\"data row6 col3\" >0.00757466</td>\n",
       "            </tr>\n",
       "            <tr>\n",
       "                        <th id=\"T_579fe908_797e_11ea_af38_001a7dda7115level0_row7\" class=\"row_heading level0 row7\" >PassiveAggressiveClassifier</th>\n",
       "                        <td id=\"T_579fe908_797e_11ea_af38_001a7dda7115row7_col0\" class=\"data row7 col0\" >0.465428</td>\n",
       "                        <td id=\"T_579fe908_797e_11ea_af38_001a7dda7115row7_col1\" class=\"data row7 col1\" >0.58637</td>\n",
       "                        <td id=\"T_579fe908_797e_11ea_af38_001a7dda7115row7_col2\" class=\"data row7 col2\" >47.3023</td>\n",
       "                        <td id=\"T_579fe908_797e_11ea_af38_001a7dda7115row7_col3\" class=\"data row7 col3\" >0.00676239</td>\n",
       "            </tr>\n",
       "            <tr>\n",
       "                        <th id=\"T_579fe908_797e_11ea_af38_001a7dda7115level0_row8\" class=\"row_heading level0 row8\" >MLPClassifier</th>\n",
       "                        <td id=\"T_579fe908_797e_11ea_af38_001a7dda7115row8_col0\" class=\"data row8 col0\" >0.343309</td>\n",
       "                        <td id=\"T_579fe908_797e_11ea_af38_001a7dda7115row8_col1\" class=\"data row8 col1\" >0.519701</td>\n",
       "                        <td id=\"T_579fe908_797e_11ea_af38_001a7dda7115row8_col2\" class=\"data row8 col2\" >39.0238</td>\n",
       "                        <td id=\"T_579fe908_797e_11ea_af38_001a7dda7115row8_col3\" class=\"data row8 col3\" >0.00696095</td>\n",
       "            </tr>\n",
       "    </tbody></table>"
      ],
      "text/plain": [
       "<pandas.io.formats.style.Styler at 0x21e1f247808>"
      ]
     },
     "execution_count": 65,
     "metadata": {},
     "output_type": "execute_result"
    }
   ],
   "source": [
    "score = pd.concat([rfc_score, lr_score, dummy_score, sgdc_score, mnb_score, svc_score, perceptron_score, pac_score, mlpc_score])\n",
    "score = score.style.apply(highlight, subset=[\"Macro F1 Score\", \"Micro F1 Score\", \"Jaccard Score\"])\n",
    "score = score.apply(highlight_hamming, subset=[\"Hamming_loss\"])\n",
    "score"
   ]
  },
  {
   "cell_type": "markdown",
   "metadata": {},
   "source": [
    "### 4.4. Amélioration des hyperparamètres du meilleur model"
   ]
  },
  {
   "cell_type": "code",
   "execution_count": 66,
   "metadata": {
    "ExecuteTime": {
     "end_time": "2020-04-08T09:50:27.398188Z",
     "start_time": "2020-04-08T09:50:27.395211Z"
    }
   },
   "outputs": [],
   "source": [
    "best_model = pa_clf"
   ]
  },
  {
   "cell_type": "code",
   "execution_count": 67,
   "metadata": {
    "ExecuteTime": {
     "end_time": "2020-04-08T09:52:56.760790Z",
     "start_time": "2020-04-08T09:50:27.953381Z"
    }
   },
   "outputs": [
    {
     "data": {
      "text/plain": [
       "GridSearchCV(cv='warn', error_score='raise-deprecating',\n",
       "             estimator=OneVsRestClassifier(estimator=PassiveAggressiveClassifier(C=1.0,\n",
       "                                                                                 average=False,\n",
       "                                                                                 class_weight=None,\n",
       "                                                                                 early_stopping=False,\n",
       "                                                                                 fit_intercept=True,\n",
       "                                                                                 loss='hinge',\n",
       "                                                                                 max_iter=1000,\n",
       "                                                                                 n_iter_no_change=5,\n",
       "                                                                                 n_jobs=None,\n",
       "                                                                                 random_state=None,\n",
       "                                                                                 shuffle=True,\n",
       "                                                                                 tol=0.001,\n",
       "                                                                                 validation_fraction=0.1,\n",
       "                                                                                 verbose=0,\n",
       "                                                                                 warm_start=False),\n",
       "                                           n_jobs=None),\n",
       "             iid='warn', n_jobs=None,\n",
       "             param_grid={'estimator__C': [1, 2, 3, 4, 5],\n",
       "                         'estimator__max_iter': [1000, 2000, 3000, 4000, 5000]},\n",
       "             pre_dispatch='2*n_jobs', refit=True, return_train_score=False,\n",
       "             scoring=None, verbose=0)"
      ]
     },
     "execution_count": 67,
     "metadata": {},
     "output_type": "execute_result"
    }
   ],
   "source": [
    "parameters = {'estimator__C':[1, 2, 3, 4, 5], 'estimator__max_iter': [1000, 2000, 3000, 4000, 5000]}\n",
    "grid_cv = GridSearchCV(best_model, parameters)\n",
    "grid_cv.fit(X_train, y_train)"
   ]
  },
  {
   "cell_type": "code",
   "execution_count": 68,
   "metadata": {
    "ExecuteTime": {
     "end_time": "2020-04-08T09:53:51.233094Z",
     "start_time": "2020-04-08T09:53:51.214220Z"
    }
   },
   "outputs": [
    {
     "data": {
      "text/html": [
       "<div>\n",
       "<style scoped>\n",
       "    .dataframe tbody tr th:only-of-type {\n",
       "        vertical-align: middle;\n",
       "    }\n",
       "\n",
       "    .dataframe tbody tr th {\n",
       "        vertical-align: top;\n",
       "    }\n",
       "\n",
       "    .dataframe thead th {\n",
       "        text-align: right;\n",
       "    }\n",
       "</style>\n",
       "<table border=\"1\" class=\"dataframe\">\n",
       "  <thead>\n",
       "    <tr style=\"text-align: right;\">\n",
       "      <th></th>\n",
       "      <th>mean_fit_time</th>\n",
       "      <th>std_fit_time</th>\n",
       "      <th>mean_score_time</th>\n",
       "      <th>std_score_time</th>\n",
       "      <th>param_estimator__C</th>\n",
       "      <th>param_estimator__max_iter</th>\n",
       "      <th>params</th>\n",
       "      <th>split0_test_score</th>\n",
       "      <th>split1_test_score</th>\n",
       "      <th>split2_test_score</th>\n",
       "      <th>mean_test_score</th>\n",
       "      <th>std_test_score</th>\n",
       "      <th>rank_test_score</th>\n",
       "    </tr>\n",
       "  </thead>\n",
       "  <tbody>\n",
       "    <tr>\n",
       "      <td>0</td>\n",
       "      <td>1.904310</td>\n",
       "      <td>0.057261</td>\n",
       "      <td>0.072416</td>\n",
       "      <td>0.001071</td>\n",
       "      <td>1</td>\n",
       "      <td>1000</td>\n",
       "      <td>{'estimator__C': 1, 'estimator__max_iter': 1000}</td>\n",
       "      <td>0.257755</td>\n",
       "      <td>0.269079</td>\n",
       "      <td>0.267668</td>\n",
       "      <td>0.264834</td>\n",
       "      <td>0.005039</td>\n",
       "      <td>10</td>\n",
       "    </tr>\n",
       "    <tr>\n",
       "      <td>1</td>\n",
       "      <td>1.775515</td>\n",
       "      <td>0.019207</td>\n",
       "      <td>0.077541</td>\n",
       "      <td>0.009023</td>\n",
       "      <td>1</td>\n",
       "      <td>2000</td>\n",
       "      <td>{'estimator__C': 1, 'estimator__max_iter': 2000}</td>\n",
       "      <td>0.260217</td>\n",
       "      <td>0.267602</td>\n",
       "      <td>0.261266</td>\n",
       "      <td>0.263028</td>\n",
       "      <td>0.003263</td>\n",
       "      <td>25</td>\n",
       "    </tr>\n",
       "    <tr>\n",
       "      <td>2</td>\n",
       "      <td>1.927125</td>\n",
       "      <td>0.057790</td>\n",
       "      <td>0.086800</td>\n",
       "      <td>0.014449</td>\n",
       "      <td>1</td>\n",
       "      <td>3000</td>\n",
       "      <td>{'estimator__C': 1, 'estimator__max_iter': 3000}</td>\n",
       "      <td>0.260217</td>\n",
       "      <td>0.268095</td>\n",
       "      <td>0.268899</td>\n",
       "      <td>0.265737</td>\n",
       "      <td>0.003917</td>\n",
       "      <td>4</td>\n",
       "    </tr>\n",
       "    <tr>\n",
       "      <td>3</td>\n",
       "      <td>1.996235</td>\n",
       "      <td>0.080238</td>\n",
       "      <td>0.073077</td>\n",
       "      <td>0.002696</td>\n",
       "      <td>1</td>\n",
       "      <td>4000</td>\n",
       "      <td>{'estimator__C': 1, 'estimator__max_iter': 4000}</td>\n",
       "      <td>0.260217</td>\n",
       "      <td>0.270310</td>\n",
       "      <td>0.267176</td>\n",
       "      <td>0.265901</td>\n",
       "      <td>0.004218</td>\n",
       "      <td>3</td>\n",
       "    </tr>\n",
       "    <tr>\n",
       "      <td>4</td>\n",
       "      <td>2.084853</td>\n",
       "      <td>0.052142</td>\n",
       "      <td>0.080848</td>\n",
       "      <td>0.010530</td>\n",
       "      <td>1</td>\n",
       "      <td>5000</td>\n",
       "      <td>{'estimator__C': 1, 'estimator__max_iter': 5000}</td>\n",
       "      <td>0.261694</td>\n",
       "      <td>0.269818</td>\n",
       "      <td>0.265452</td>\n",
       "      <td>0.265654</td>\n",
       "      <td>0.003320</td>\n",
       "      <td>5</td>\n",
       "    </tr>\n",
       "    <tr>\n",
       "      <td>5</td>\n",
       "      <td>2.014255</td>\n",
       "      <td>0.043852</td>\n",
       "      <td>0.076880</td>\n",
       "      <td>0.005567</td>\n",
       "      <td>2</td>\n",
       "      <td>1000</td>\n",
       "      <td>{'estimator__C': 2, 'estimator__max_iter': 1000}</td>\n",
       "      <td>0.259970</td>\n",
       "      <td>0.267356</td>\n",
       "      <td>0.263974</td>\n",
       "      <td>0.263767</td>\n",
       "      <td>0.003019</td>\n",
       "      <td>22</td>\n",
       "    </tr>\n",
       "    <tr>\n",
       "      <td>6</td>\n",
       "      <td>1.806763</td>\n",
       "      <td>0.070436</td>\n",
       "      <td>0.079194</td>\n",
       "      <td>0.009663</td>\n",
       "      <td>2</td>\n",
       "      <td>2000</td>\n",
       "      <td>{'estimator__C': 2, 'estimator__max_iter': 2000}</td>\n",
       "      <td>0.259970</td>\n",
       "      <td>0.268095</td>\n",
       "      <td>0.263974</td>\n",
       "      <td>0.264013</td>\n",
       "      <td>0.003317</td>\n",
       "      <td>19</td>\n",
       "    </tr>\n",
       "    <tr>\n",
       "      <td>7</td>\n",
       "      <td>1.925472</td>\n",
       "      <td>0.044477</td>\n",
       "      <td>0.087792</td>\n",
       "      <td>0.016912</td>\n",
       "      <td>2</td>\n",
       "      <td>3000</td>\n",
       "      <td>{'estimator__C': 2, 'estimator__max_iter': 3000}</td>\n",
       "      <td>0.258740</td>\n",
       "      <td>0.269572</td>\n",
       "      <td>0.261758</td>\n",
       "      <td>0.263357</td>\n",
       "      <td>0.004564</td>\n",
       "      <td>23</td>\n",
       "    </tr>\n",
       "    <tr>\n",
       "      <td>8</td>\n",
       "      <td>1.889595</td>\n",
       "      <td>0.059045</td>\n",
       "      <td>0.086800</td>\n",
       "      <td>0.005568</td>\n",
       "      <td>2</td>\n",
       "      <td>4000</td>\n",
       "      <td>{'estimator__C': 2, 'estimator__max_iter': 4000}</td>\n",
       "      <td>0.259970</td>\n",
       "      <td>0.268341</td>\n",
       "      <td>0.266437</td>\n",
       "      <td>0.264916</td>\n",
       "      <td>0.003582</td>\n",
       "      <td>9</td>\n",
       "    </tr>\n",
       "    <tr>\n",
       "      <td>9</td>\n",
       "      <td>1.839177</td>\n",
       "      <td>0.050215</td>\n",
       "      <td>0.078028</td>\n",
       "      <td>0.006507</td>\n",
       "      <td>2</td>\n",
       "      <td>5000</td>\n",
       "      <td>{'estimator__C': 2, 'estimator__max_iter': 5000}</td>\n",
       "      <td>0.258986</td>\n",
       "      <td>0.264894</td>\n",
       "      <td>0.265452</td>\n",
       "      <td>0.263110</td>\n",
       "      <td>0.002926</td>\n",
       "      <td>24</td>\n",
       "    </tr>\n",
       "    <tr>\n",
       "      <td>10</td>\n",
       "      <td>1.879344</td>\n",
       "      <td>0.078412</td>\n",
       "      <td>0.078699</td>\n",
       "      <td>0.005818</td>\n",
       "      <td>3</td>\n",
       "      <td>1000</td>\n",
       "      <td>{'estimator__C': 3, 'estimator__max_iter': 1000}</td>\n",
       "      <td>0.259724</td>\n",
       "      <td>0.266617</td>\n",
       "      <td>0.265944</td>\n",
       "      <td>0.264095</td>\n",
       "      <td>0.003103</td>\n",
       "      <td>18</td>\n",
       "    </tr>\n",
       "    <tr>\n",
       "      <td>11</td>\n",
       "      <td>1.836844</td>\n",
       "      <td>0.037223</td>\n",
       "      <td>0.075227</td>\n",
       "      <td>0.004460</td>\n",
       "      <td>3</td>\n",
       "      <td>2000</td>\n",
       "      <td>{'estimator__C': 3, 'estimator__max_iter': 2000}</td>\n",
       "      <td>0.258493</td>\n",
       "      <td>0.268587</td>\n",
       "      <td>0.266191</td>\n",
       "      <td>0.264423</td>\n",
       "      <td>0.004306</td>\n",
       "      <td>14</td>\n",
       "    </tr>\n",
       "    <tr>\n",
       "      <td>12</td>\n",
       "      <td>1.814543</td>\n",
       "      <td>0.055496</td>\n",
       "      <td>0.080342</td>\n",
       "      <td>0.008575</td>\n",
       "      <td>3</td>\n",
       "      <td>3000</td>\n",
       "      <td>{'estimator__C': 3, 'estimator__max_iter': 3000}</td>\n",
       "      <td>0.261448</td>\n",
       "      <td>0.267848</td>\n",
       "      <td>0.263728</td>\n",
       "      <td>0.264341</td>\n",
       "      <td>0.002649</td>\n",
       "      <td>15</td>\n",
       "    </tr>\n",
       "    <tr>\n",
       "      <td>13</td>\n",
       "      <td>1.801472</td>\n",
       "      <td>0.025610</td>\n",
       "      <td>0.078707</td>\n",
       "      <td>0.006451</td>\n",
       "      <td>3</td>\n",
       "      <td>4000</td>\n",
       "      <td>{'estimator__C': 3, 'estimator__max_iter': 4000}</td>\n",
       "      <td>0.260217</td>\n",
       "      <td>0.268587</td>\n",
       "      <td>0.263974</td>\n",
       "      <td>0.264259</td>\n",
       "      <td>0.003423</td>\n",
       "      <td>16</td>\n",
       "    </tr>\n",
       "    <tr>\n",
       "      <td>14</td>\n",
       "      <td>1.835530</td>\n",
       "      <td>0.051879</td>\n",
       "      <td>0.078038</td>\n",
       "      <td>0.007730</td>\n",
       "      <td>3</td>\n",
       "      <td>5000</td>\n",
       "      <td>{'estimator__C': 3, 'estimator__max_iter': 5000}</td>\n",
       "      <td>0.260709</td>\n",
       "      <td>0.267356</td>\n",
       "      <td>0.264713</td>\n",
       "      <td>0.264259</td>\n",
       "      <td>0.002733</td>\n",
       "      <td>16</td>\n",
       "    </tr>\n",
       "    <tr>\n",
       "      <td>15</td>\n",
       "      <td>1.829744</td>\n",
       "      <td>0.035117</td>\n",
       "      <td>0.078202</td>\n",
       "      <td>0.008273</td>\n",
       "      <td>4</td>\n",
       "      <td>1000</td>\n",
       "      <td>{'estimator__C': 4, 'estimator__max_iter': 1000}</td>\n",
       "      <td>0.262678</td>\n",
       "      <td>0.270310</td>\n",
       "      <td>0.266437</td>\n",
       "      <td>0.266475</td>\n",
       "      <td>0.003116</td>\n",
       "      <td>1</td>\n",
       "    </tr>\n",
       "    <tr>\n",
       "      <td>16</td>\n",
       "      <td>1.779151</td>\n",
       "      <td>0.029960</td>\n",
       "      <td>0.072912</td>\n",
       "      <td>0.001856</td>\n",
       "      <td>4</td>\n",
       "      <td>2000</td>\n",
       "      <td>{'estimator__C': 4, 'estimator__max_iter': 2000}</td>\n",
       "      <td>0.262186</td>\n",
       "      <td>0.268833</td>\n",
       "      <td>0.267668</td>\n",
       "      <td>0.266229</td>\n",
       "      <td>0.002898</td>\n",
       "      <td>2</td>\n",
       "    </tr>\n",
       "    <tr>\n",
       "      <td>17</td>\n",
       "      <td>1.904475</td>\n",
       "      <td>0.062689</td>\n",
       "      <td>0.082170</td>\n",
       "      <td>0.017654</td>\n",
       "      <td>4</td>\n",
       "      <td>3000</td>\n",
       "      <td>{'estimator__C': 4, 'estimator__max_iter': 3000}</td>\n",
       "      <td>0.259478</td>\n",
       "      <td>0.267110</td>\n",
       "      <td>0.267668</td>\n",
       "      <td>0.264752</td>\n",
       "      <td>0.003736</td>\n",
       "      <td>12</td>\n",
       "    </tr>\n",
       "    <tr>\n",
       "      <td>18</td>\n",
       "      <td>1.782789</td>\n",
       "      <td>0.102860</td>\n",
       "      <td>0.076384</td>\n",
       "      <td>0.007062</td>\n",
       "      <td>4</td>\n",
       "      <td>4000</td>\n",
       "      <td>{'estimator__C': 4, 'estimator__max_iter': 4000}</td>\n",
       "      <td>0.261201</td>\n",
       "      <td>0.268833</td>\n",
       "      <td>0.264221</td>\n",
       "      <td>0.264752</td>\n",
       "      <td>0.003138</td>\n",
       "      <td>12</td>\n",
       "    </tr>\n",
       "    <tr>\n",
       "      <td>19</td>\n",
       "      <td>1.799000</td>\n",
       "      <td>0.054508</td>\n",
       "      <td>0.077037</td>\n",
       "      <td>0.005959</td>\n",
       "      <td>4</td>\n",
       "      <td>5000</td>\n",
       "      <td>{'estimator__C': 4, 'estimator__max_iter': 5000}</td>\n",
       "      <td>0.257016</td>\n",
       "      <td>0.266864</td>\n",
       "      <td>0.268161</td>\n",
       "      <td>0.264013</td>\n",
       "      <td>0.004976</td>\n",
       "      <td>19</td>\n",
       "    </tr>\n",
       "    <tr>\n",
       "      <td>20</td>\n",
       "      <td>1.804447</td>\n",
       "      <td>0.065701</td>\n",
       "      <td>0.083494</td>\n",
       "      <td>0.006279</td>\n",
       "      <td>5</td>\n",
       "      <td>1000</td>\n",
       "      <td>{'estimator__C': 5, 'estimator__max_iter': 1000}</td>\n",
       "      <td>0.258247</td>\n",
       "      <td>0.267848</td>\n",
       "      <td>0.268407</td>\n",
       "      <td>0.264834</td>\n",
       "      <td>0.004663</td>\n",
       "      <td>10</td>\n",
       "    </tr>\n",
       "    <tr>\n",
       "      <td>21</td>\n",
       "      <td>1.743770</td>\n",
       "      <td>0.067007</td>\n",
       "      <td>0.071259</td>\n",
       "      <td>0.000843</td>\n",
       "      <td>5</td>\n",
       "      <td>2000</td>\n",
       "      <td>{'estimator__C': 5, 'estimator__max_iter': 2000}</td>\n",
       "      <td>0.259232</td>\n",
       "      <td>0.271295</td>\n",
       "      <td>0.264959</td>\n",
       "      <td>0.265162</td>\n",
       "      <td>0.004927</td>\n",
       "      <td>8</td>\n",
       "    </tr>\n",
       "    <tr>\n",
       "      <td>22</td>\n",
       "      <td>1.817840</td>\n",
       "      <td>0.039782</td>\n",
       "      <td>0.076384</td>\n",
       "      <td>0.007727</td>\n",
       "      <td>5</td>\n",
       "      <td>3000</td>\n",
       "      <td>{'estimator__C': 5, 'estimator__max_iter': 3000}</td>\n",
       "      <td>0.260463</td>\n",
       "      <td>0.269572</td>\n",
       "      <td>0.265944</td>\n",
       "      <td>0.265326</td>\n",
       "      <td>0.003744</td>\n",
       "      <td>7</td>\n",
       "    </tr>\n",
       "    <tr>\n",
       "      <td>23</td>\n",
       "      <td>1.791882</td>\n",
       "      <td>0.003066</td>\n",
       "      <td>0.077872</td>\n",
       "      <td>0.008882</td>\n",
       "      <td>5</td>\n",
       "      <td>4000</td>\n",
       "      <td>{'estimator__C': 5, 'estimator__max_iter': 4000}</td>\n",
       "      <td>0.260463</td>\n",
       "      <td>0.267602</td>\n",
       "      <td>0.263974</td>\n",
       "      <td>0.264013</td>\n",
       "      <td>0.002915</td>\n",
       "      <td>19</td>\n",
       "    </tr>\n",
       "    <tr>\n",
       "      <td>24</td>\n",
       "      <td>1.870090</td>\n",
       "      <td>0.110712</td>\n",
       "      <td>0.081834</td>\n",
       "      <td>0.005568</td>\n",
       "      <td>5</td>\n",
       "      <td>5000</td>\n",
       "      <td>{'estimator__C': 5, 'estimator__max_iter': 5000}</td>\n",
       "      <td>0.262186</td>\n",
       "      <td>0.268341</td>\n",
       "      <td>0.265698</td>\n",
       "      <td>0.265408</td>\n",
       "      <td>0.002521</td>\n",
       "      <td>6</td>\n",
       "    </tr>\n",
       "  </tbody>\n",
       "</table>\n",
       "</div>"
      ],
      "text/plain": [
       "    mean_fit_time  std_fit_time  mean_score_time  std_score_time  \\\n",
       "0        1.904310      0.057261         0.072416        0.001071   \n",
       "1        1.775515      0.019207         0.077541        0.009023   \n",
       "2        1.927125      0.057790         0.086800        0.014449   \n",
       "3        1.996235      0.080238         0.073077        0.002696   \n",
       "4        2.084853      0.052142         0.080848        0.010530   \n",
       "5        2.014255      0.043852         0.076880        0.005567   \n",
       "6        1.806763      0.070436         0.079194        0.009663   \n",
       "7        1.925472      0.044477         0.087792        0.016912   \n",
       "8        1.889595      0.059045         0.086800        0.005568   \n",
       "9        1.839177      0.050215         0.078028        0.006507   \n",
       "10       1.879344      0.078412         0.078699        0.005818   \n",
       "11       1.836844      0.037223         0.075227        0.004460   \n",
       "12       1.814543      0.055496         0.080342        0.008575   \n",
       "13       1.801472      0.025610         0.078707        0.006451   \n",
       "14       1.835530      0.051879         0.078038        0.007730   \n",
       "15       1.829744      0.035117         0.078202        0.008273   \n",
       "16       1.779151      0.029960         0.072912        0.001856   \n",
       "17       1.904475      0.062689         0.082170        0.017654   \n",
       "18       1.782789      0.102860         0.076384        0.007062   \n",
       "19       1.799000      0.054508         0.077037        0.005959   \n",
       "20       1.804447      0.065701         0.083494        0.006279   \n",
       "21       1.743770      0.067007         0.071259        0.000843   \n",
       "22       1.817840      0.039782         0.076384        0.007727   \n",
       "23       1.791882      0.003066         0.077872        0.008882   \n",
       "24       1.870090      0.110712         0.081834        0.005568   \n",
       "\n",
       "   param_estimator__C param_estimator__max_iter  \\\n",
       "0                   1                      1000   \n",
       "1                   1                      2000   \n",
       "2                   1                      3000   \n",
       "3                   1                      4000   \n",
       "4                   1                      5000   \n",
       "5                   2                      1000   \n",
       "6                   2                      2000   \n",
       "7                   2                      3000   \n",
       "8                   2                      4000   \n",
       "9                   2                      5000   \n",
       "10                  3                      1000   \n",
       "11                  3                      2000   \n",
       "12                  3                      3000   \n",
       "13                  3                      4000   \n",
       "14                  3                      5000   \n",
       "15                  4                      1000   \n",
       "16                  4                      2000   \n",
       "17                  4                      3000   \n",
       "18                  4                      4000   \n",
       "19                  4                      5000   \n",
       "20                  5                      1000   \n",
       "21                  5                      2000   \n",
       "22                  5                      3000   \n",
       "23                  5                      4000   \n",
       "24                  5                      5000   \n",
       "\n",
       "                                              params  split0_test_score  \\\n",
       "0   {'estimator__C': 1, 'estimator__max_iter': 1000}           0.257755   \n",
       "1   {'estimator__C': 1, 'estimator__max_iter': 2000}           0.260217   \n",
       "2   {'estimator__C': 1, 'estimator__max_iter': 3000}           0.260217   \n",
       "3   {'estimator__C': 1, 'estimator__max_iter': 4000}           0.260217   \n",
       "4   {'estimator__C': 1, 'estimator__max_iter': 5000}           0.261694   \n",
       "5   {'estimator__C': 2, 'estimator__max_iter': 1000}           0.259970   \n",
       "6   {'estimator__C': 2, 'estimator__max_iter': 2000}           0.259970   \n",
       "7   {'estimator__C': 2, 'estimator__max_iter': 3000}           0.258740   \n",
       "8   {'estimator__C': 2, 'estimator__max_iter': 4000}           0.259970   \n",
       "9   {'estimator__C': 2, 'estimator__max_iter': 5000}           0.258986   \n",
       "10  {'estimator__C': 3, 'estimator__max_iter': 1000}           0.259724   \n",
       "11  {'estimator__C': 3, 'estimator__max_iter': 2000}           0.258493   \n",
       "12  {'estimator__C': 3, 'estimator__max_iter': 3000}           0.261448   \n",
       "13  {'estimator__C': 3, 'estimator__max_iter': 4000}           0.260217   \n",
       "14  {'estimator__C': 3, 'estimator__max_iter': 5000}           0.260709   \n",
       "15  {'estimator__C': 4, 'estimator__max_iter': 1000}           0.262678   \n",
       "16  {'estimator__C': 4, 'estimator__max_iter': 2000}           0.262186   \n",
       "17  {'estimator__C': 4, 'estimator__max_iter': 3000}           0.259478   \n",
       "18  {'estimator__C': 4, 'estimator__max_iter': 4000}           0.261201   \n",
       "19  {'estimator__C': 4, 'estimator__max_iter': 5000}           0.257016   \n",
       "20  {'estimator__C': 5, 'estimator__max_iter': 1000}           0.258247   \n",
       "21  {'estimator__C': 5, 'estimator__max_iter': 2000}           0.259232   \n",
       "22  {'estimator__C': 5, 'estimator__max_iter': 3000}           0.260463   \n",
       "23  {'estimator__C': 5, 'estimator__max_iter': 4000}           0.260463   \n",
       "24  {'estimator__C': 5, 'estimator__max_iter': 5000}           0.262186   \n",
       "\n",
       "    split1_test_score  split2_test_score  mean_test_score  std_test_score  \\\n",
       "0            0.269079           0.267668         0.264834        0.005039   \n",
       "1            0.267602           0.261266         0.263028        0.003263   \n",
       "2            0.268095           0.268899         0.265737        0.003917   \n",
       "3            0.270310           0.267176         0.265901        0.004218   \n",
       "4            0.269818           0.265452         0.265654        0.003320   \n",
       "5            0.267356           0.263974         0.263767        0.003019   \n",
       "6            0.268095           0.263974         0.264013        0.003317   \n",
       "7            0.269572           0.261758         0.263357        0.004564   \n",
       "8            0.268341           0.266437         0.264916        0.003582   \n",
       "9            0.264894           0.265452         0.263110        0.002926   \n",
       "10           0.266617           0.265944         0.264095        0.003103   \n",
       "11           0.268587           0.266191         0.264423        0.004306   \n",
       "12           0.267848           0.263728         0.264341        0.002649   \n",
       "13           0.268587           0.263974         0.264259        0.003423   \n",
       "14           0.267356           0.264713         0.264259        0.002733   \n",
       "15           0.270310           0.266437         0.266475        0.003116   \n",
       "16           0.268833           0.267668         0.266229        0.002898   \n",
       "17           0.267110           0.267668         0.264752        0.003736   \n",
       "18           0.268833           0.264221         0.264752        0.003138   \n",
       "19           0.266864           0.268161         0.264013        0.004976   \n",
       "20           0.267848           0.268407         0.264834        0.004663   \n",
       "21           0.271295           0.264959         0.265162        0.004927   \n",
       "22           0.269572           0.265944         0.265326        0.003744   \n",
       "23           0.267602           0.263974         0.264013        0.002915   \n",
       "24           0.268341           0.265698         0.265408        0.002521   \n",
       "\n",
       "    rank_test_score  \n",
       "0                10  \n",
       "1                25  \n",
       "2                 4  \n",
       "3                 3  \n",
       "4                 5  \n",
       "5                22  \n",
       "6                19  \n",
       "7                23  \n",
       "8                 9  \n",
       "9                24  \n",
       "10               18  \n",
       "11               14  \n",
       "12               15  \n",
       "13               16  \n",
       "14               16  \n",
       "15                1  \n",
       "16                2  \n",
       "17               12  \n",
       "18               12  \n",
       "19               19  \n",
       "20               10  \n",
       "21                8  \n",
       "22                7  \n",
       "23               19  \n",
       "24                6  "
      ]
     },
     "execution_count": 68,
     "metadata": {},
     "output_type": "execute_result"
    }
   ],
   "source": [
    "pd.DataFrame(grid_cv.cv_results_)"
   ]
  },
  {
   "cell_type": "code",
   "execution_count": 69,
   "metadata": {
    "ExecuteTime": {
     "end_time": "2020-04-08T09:53:55.846587Z",
     "start_time": "2020-04-08T09:53:55.843114Z"
    }
   },
   "outputs": [
    {
     "data": {
      "text/plain": [
       "{'estimator__C': 4, 'estimator__max_iter': 1000}"
      ]
     },
     "execution_count": 69,
     "metadata": {},
     "output_type": "execute_result"
    }
   ],
   "source": [
    "grid_cv.best_params_"
   ]
  },
  {
   "cell_type": "markdown",
   "metadata": {},
   "source": [
    "## 5. Enregistrement du meilleur model"
   ]
  },
  {
   "cell_type": "code",
   "execution_count": 70,
   "metadata": {
    "ExecuteTime": {
     "end_time": "2020-04-08T09:54:06.669917Z",
     "start_time": "2020-04-08T09:54:03.928053Z"
    }
   },
   "outputs": [
    {
     "data": {
      "text/plain": [
       "OneVsRestClassifier(estimator=PassiveAggressiveClassifier(C=4, average=False,\n",
       "                                                          class_weight=None,\n",
       "                                                          early_stopping=False,\n",
       "                                                          fit_intercept=True,\n",
       "                                                          loss='hinge',\n",
       "                                                          max_iter=1000,\n",
       "                                                          n_iter_no_change=5,\n",
       "                                                          n_jobs=None,\n",
       "                                                          random_state=None,\n",
       "                                                          shuffle=True,\n",
       "                                                          tol=0.001,\n",
       "                                                          validation_fraction=0.1,\n",
       "                                                          verbose=0,\n",
       "                                                          warm_start=False),\n",
       "                    n_jobs=None)"
      ]
     },
     "execution_count": 70,
     "metadata": {},
     "output_type": "execute_result"
    }
   ],
   "source": [
    "clf = OneVsRestClassifier(PassiveAggressiveClassifier(C=4, max_iter=1000))\n",
    "clf.fit(X_train, y_train)"
   ]
  },
  {
   "cell_type": "code",
   "execution_count": 71,
   "metadata": {
    "ExecuteTime": {
     "end_time": "2020-04-08T09:54:09.434798Z",
     "start_time": "2020-04-08T09:54:09.325099Z"
    }
   },
   "outputs": [],
   "source": [
    "import pickle\n",
    "\n",
    "# Enregistrement du model\n",
    "with open('webapp/model/model_super.pkl', 'wb') as file:\n",
    "    pickle.dump(clf, file)\n",
    "    \n",
    "# Enregistrement de TFIDFVectorizer\n",
    "with open('webapp/model/vectorizer_super.pkl', 'wb') as file:\n",
    "    pickle.dump(vectorizer_X, file)\n",
    "    \n",
    "# Enregistrement de MultiLabelBinarizer\n",
    "with open('webapp/model/mlb.pkl', 'wb') as file:\n",
    "    pickle.dump(mlb, file)"
   ]
  },
  {
   "cell_type": "code",
   "execution_count": 8,
   "metadata": {
    "ExecuteTime": {
     "end_time": "2020-04-08T11:19:01.180673Z",
     "start_time": "2020-04-08T11:19:01.172737Z"
    }
   },
   "outputs": [],
   "source": [
    "# Enregistrement de TFIDFVectorizer\n",
    "with open('webapp/model/vectorizer_nosuper.pkl', 'wb') as file:\n",
    "    pickle.dump(tf_idf_matrix_mono, file)"
   ]
  },
  {
   "cell_type": "code",
   "execution_count": null,
   "metadata": {},
   "outputs": [],
   "source": []
  }
 ],
 "metadata": {
  "hide_input": false,
  "kernelspec": {
   "display_name": "Python 3",
   "language": "python",
   "name": "python3"
  },
  "language_info": {
   "codemirror_mode": {
    "name": "ipython",
    "version": 3
   },
   "file_extension": ".py",
   "mimetype": "text/x-python",
   "name": "python",
   "nbconvert_exporter": "python",
   "pygments_lexer": "ipython3",
   "version": "3.7.4"
  },
  "toc": {
   "base_numbering": 1,
   "nav_menu": {},
   "number_sections": false,
   "sideBar": true,
   "skip_h1_title": false,
   "title_cell": "Table of Contents",
   "title_sidebar": "Contents",
   "toc_cell": false,
   "toc_position": {},
   "toc_section_display": true,
   "toc_window_display": false
  },
  "varInspector": {
   "cols": {
    "lenName": 16,
    "lenType": 16,
    "lenVar": 40
   },
   "kernels_config": {
    "python": {
     "delete_cmd_postfix": "",
     "delete_cmd_prefix": "del ",
     "library": "var_list.py",
     "varRefreshCmd": "print(var_dic_list())"
    },
    "r": {
     "delete_cmd_postfix": ") ",
     "delete_cmd_prefix": "rm(",
     "library": "var_list.r",
     "varRefreshCmd": "cat(var_dic_list()) "
    }
   },
   "position": {
    "height": "310px",
    "left": "1536px",
    "right": "20px",
    "top": "240px",
    "width": "360px"
   },
   "types_to_exclude": [
    "module",
    "function",
    "builtin_function_or_method",
    "instance",
    "_Feature"
   ],
   "window_display": false
  }
 },
 "nbformat": 4,
 "nbformat_minor": 4
}

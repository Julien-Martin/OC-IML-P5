{
 "cells": [
  {
   "cell_type": "markdown",
   "metadata": {},
   "source": [
    "## 1. Import des librairies"
   ]
  },
  {
   "cell_type": "code",
   "execution_count": 1,
   "metadata": {
    "ExecuteTime": {
     "end_time": "2020-03-27T12:33:24.405152Z",
     "start_time": "2020-03-27T12:33:22.793650Z"
    }
   },
   "outputs": [],
   "source": [
    "from matplotlib import pyplot as plt\n",
    "import matplotlib.cm as cm\n",
    "import seaborn as sns\n",
    "import pandas as pd\n",
    "import numpy as np\n",
    "import nltk\n",
    "\n",
    "from sklearn.feature_extraction.text import TfidfVectorizer\n",
    "from sklearn.feature_extraction.text import CountVectorizer\n",
    "from sklearn.preprocessing import StandardScaler\n",
    "from sklearn.manifold import TSNE\n",
    "from sklearn.decomposition import PCA\n",
    "from sklearn.cluster import MiniBatchKMeans\n",
    "from sklearn.decomposition import LatentDirichletAllocation\n",
    "from sklearn.decomposition import NMF\n",
    "from sklearn.model_selection import train_test_split\n",
    "from sklearn.ensemble import RandomForestClassifier\n",
    "from sklearn.multiclass import OneVsRestClassifier\n",
    "from sklearn.linear_model import LogisticRegression\n",
    "from sklearn.preprocessing import MultiLabelBinarizer\n",
    "from sklearn.dummy import DummyClassifier\n",
    "from sklearn.linear_model import SGDClassifier\n",
    "from sklearn.naive_bayes import MultinomialNB\n",
    "from sklearn.svm import LinearSVC\n",
    "from sklearn.linear_model import Perceptron\n",
    "from sklearn.linear_model import PassiveAggressiveClassifier\n",
    "from sklearn.neural_network import MLPClassifier\n",
    "from sklearn import metrics\n",
    "\n",
    "sns.set_style(\"whitegrid\")\n",
    "%matplotlib inline\n",
    "\n",
    "import warnings\n",
    "warnings.filterwarnings(\"ignore\")"
   ]
  },
  {
   "cell_type": "markdown",
   "metadata": {},
   "source": [
    "## 2. Chargement des données"
   ]
  },
  {
   "cell_type": "code",
   "execution_count": 2,
   "metadata": {
    "ExecuteTime": {
     "end_time": "2020-03-27T12:33:24.480650Z",
     "start_time": "2020-03-27T12:33:24.406650Z"
    }
   },
   "outputs": [],
   "source": [
    "df = pd.read_csv(\"data/clean.csv\", index_col=[\"Unnamed: 0\"])"
   ]
  },
  {
   "cell_type": "code",
   "execution_count": 3,
   "metadata": {
    "ExecuteTime": {
     "end_time": "2020-03-27T12:33:24.493650Z",
     "start_time": "2020-03-27T12:33:24.482151Z"
    }
   },
   "outputs": [
    {
     "data": {
      "text/html": [
       "<div>\n",
       "<style scoped>\n",
       "    .dataframe tbody tr th:only-of-type {\n",
       "        vertical-align: middle;\n",
       "    }\n",
       "\n",
       "    .dataframe tbody tr th {\n",
       "        vertical-align: top;\n",
       "    }\n",
       "\n",
       "    .dataframe thead th {\n",
       "        text-align: right;\n",
       "    }\n",
       "</style>\n",
       "<table border=\"1\" class=\"dataframe\">\n",
       "  <thead>\n",
       "    <tr style=\"text-align: right;\">\n",
       "      <th></th>\n",
       "      <th>tags</th>\n",
       "      <th>document</th>\n",
       "    </tr>\n",
       "  </thead>\n",
       "  <tbody>\n",
       "    <tr>\n",
       "      <td>2</td>\n",
       "      <td>node.js</td>\n",
       "      <td>restart node upon change file For someone come...</td>\n",
       "    </tr>\n",
       "    <tr>\n",
       "      <td>3</td>\n",
       "      <td>html css</td>\n",
       "      <td>100 min height css layout What best way make e...</td>\n",
       "    </tr>\n",
       "    <tr>\n",
       "      <td>4</td>\n",
       "      <td>regex language-agnostic</td>\n",
       "      <td>stack overflow generate seofriendly urls What ...</td>\n",
       "    </tr>\n",
       "    <tr>\n",
       "      <td>5</td>\n",
       "      <td>java</td>\n",
       "      <td>get oslevel system information I currently bui...</td>\n",
       "    </tr>\n",
       "    <tr>\n",
       "      <td>6</td>\n",
       "      <td>security</td>\n",
       "      <td>disable browser ave password functionality One...</td>\n",
       "    </tr>\n",
       "    <tr>\n",
       "      <td>...</td>\n",
       "      <td>...</td>\n",
       "      <td>...</td>\n",
       "    </tr>\n",
       "    <tr>\n",
       "      <td>16368</td>\n",
       "      <td>oop</td>\n",
       "      <td>difference interface abstract class What exact...</td>\n",
       "    </tr>\n",
       "    <tr>\n",
       "      <td>16370</td>\n",
       "      <td>ios xcode</td>\n",
       "      <td>symbolicate crash log xcode Xcode 5 organizer ...</td>\n",
       "    </tr>\n",
       "    <tr>\n",
       "      <td>16371</td>\n",
       "      <td>java spring</td>\n",
       "      <td>spring boot multiple external configuration fi...</td>\n",
       "    </tr>\n",
       "    <tr>\n",
       "      <td>16372</td>\n",
       "      <td>java c++</td>\n",
       "      <td>java final vs c++ const The Java C programmers...</td>\n",
       "    </tr>\n",
       "    <tr>\n",
       "      <td>16373</td>\n",
       "      <td>android</td>\n",
       "      <td>contextstartforegroundservice call servicestar...</td>\n",
       "    </tr>\n",
       "  </tbody>\n",
       "</table>\n",
       "<p>14987 rows × 2 columns</p>\n",
       "</div>"
      ],
      "text/plain": [
       "                          tags  \\\n",
       "2                      node.js   \n",
       "3                     html css   \n",
       "4      regex language-agnostic   \n",
       "5                         java   \n",
       "6                     security   \n",
       "...                        ...   \n",
       "16368                      oop   \n",
       "16370                ios xcode   \n",
       "16371              java spring   \n",
       "16372                 java c++   \n",
       "16373                  android   \n",
       "\n",
       "                                                document  \n",
       "2      restart node upon change file For someone come...  \n",
       "3      100 min height css layout What best way make e...  \n",
       "4      stack overflow generate seofriendly urls What ...  \n",
       "5      get oslevel system information I currently bui...  \n",
       "6      disable browser ave password functionality One...  \n",
       "...                                                  ...  \n",
       "16368  difference interface abstract class What exact...  \n",
       "16370  symbolicate crash log xcode Xcode 5 organizer ...  \n",
       "16371  spring boot multiple external configuration fi...  \n",
       "16372  java final vs c++ const The Java C programmers...  \n",
       "16373  contextstartforegroundservice call servicestar...  \n",
       "\n",
       "[14987 rows x 2 columns]"
      ]
     },
     "execution_count": 3,
     "metadata": {},
     "output_type": "execute_result"
    }
   ],
   "source": [
    "df"
   ]
  },
  {
   "cell_type": "code",
   "execution_count": 4,
   "metadata": {
    "ExecuteTime": {
     "end_time": "2020-03-27T12:33:24.503650Z",
     "start_time": "2020-03-27T12:33:24.495150Z"
    }
   },
   "outputs": [],
   "source": [
    "df[\"tags\"] = df[\"tags\"].apply(lambda x: x.split())"
   ]
  },
  {
   "cell_type": "markdown",
   "metadata": {
    "ExecuteTime": {
     "end_time": "2020-03-26T11:07:49.156212Z",
     "start_time": "2020-03-26T11:07:49.153713Z"
    }
   },
   "source": [
    "## 3. Analyse non-supervisé"
   ]
  },
  {
   "cell_type": "markdown",
   "metadata": {},
   "source": [
    "### 3.1. Transformation texte en matrice TF-IDF"
   ]
  },
  {
   "cell_type": "code",
   "execution_count": 5,
   "metadata": {
    "ExecuteTime": {
     "end_time": "2020-03-27T12:33:24.515650Z",
     "start_time": "2020-03-27T12:33:24.505149Z"
    }
   },
   "outputs": [],
   "source": [
    "def find_optimal_cluster(data, max_k):\n",
    "    iters = range(1, max_k+1, 5)\n",
    "    sse = []\n",
    "    \n",
    "    for k in iters:\n",
    "        sse.append(MiniBatchKMeans(n_clusters=k, init_size=1024, batch_size=2048, random_state=20).fit(data).inertia_)\n",
    "        print('Fit {} clusters'.format(k))\n",
    "    fig, ax = plt.subplots(1,1, figsize=(15, 5))\n",
    "    ax.plot(iters, sse, marker='o')\n",
    "    ax.set_xlabel('Nombre de Clusters')\n",
    "    ax.set_xticks(iters)\n",
    "    ax.set_xticklabels(iters)\n",
    "    ax.set_ylabel('SSE')\n",
    "    ax.set_title(\"SSE par nombre de clusters\")\n",
    "    plt.tight_layout()\n",
    "    plt.show()\n",
    "    \n",
    "    \n",
    "def plot_tsne_pca(data, labels):\n",
    "    max_label = max(labels)\n",
    "    max_items = np.random.choice(range(data.shape[0]), size=3000, replace=False)\n",
    "    \n",
    "    pca = PCA(n_components=2).fit_transform(data[max_items,:].todense())\n",
    "    tsne = TSNE().fit_transform(PCA(n_components=50).fit_transform(data[max_items,:].todense()))\n",
    "    \n",
    "    \n",
    "    idx = np.random.choice(range(pca.shape[0]), size=300, replace=False)\n",
    "    label_subset = labels[max_items]\n",
    "    label_subset = [cm.hsv(i/max_label) for i in label_subset[idx]]\n",
    "    \n",
    "    fig, ax = plt.subplots(1, 2, figsize=(15, 5))\n",
    "    \n",
    "    ax[0].scatter(pca[idx, 0], pca[idx, 1], c=label_subset)\n",
    "    ax[0].set_title('PCA Cluster Plot')\n",
    "    \n",
    "    ax[1].scatter(tsne[idx, 0], tsne[idx, 1], c=label_subset)\n",
    "    ax[1].set_title('TSNE Cluster Plot')\n",
    "    \n",
    "def get_top_keywords(data, clusters, labels, n_terms):\n",
    "    temp_df = pd.DataFrame(data.todense()).groupby(clusters).mean()\n",
    "    \n",
    "    for i, r in temp_df.iterrows():\n",
    "        print('\\nCluster {}'.format(i))\n",
    "        print(','.join([labels[t] for t in np.argsort(r)[-n_terms:]]))"
   ]
  },
  {
   "cell_type": "markdown",
   "metadata": {},
   "source": [
    "### 3.2. Matrice monogramme"
   ]
  },
  {
   "cell_type": "code",
   "execution_count": 6,
   "metadata": {
    "ExecuteTime": {
     "end_time": "2020-03-27T12:33:24.521150Z",
     "start_time": "2020-03-27T12:33:24.516649Z"
    }
   },
   "outputs": [],
   "source": [
    "tf_idf_vectorizer_mono = TfidfVectorizer(ngram_range=(1,1))"
   ]
  },
  {
   "cell_type": "code",
   "execution_count": 7,
   "metadata": {
    "ExecuteTime": {
     "end_time": "2020-03-27T12:33:25.358649Z",
     "start_time": "2020-03-27T12:33:24.523152Z"
    }
   },
   "outputs": [],
   "source": [
    "tf_idf_matrix_mono = tf_idf_vectorizer_mono.fit_transform(df[\"document\"].values)"
   ]
  },
  {
   "cell_type": "code",
   "execution_count": 8,
   "metadata": {
    "ExecuteTime": {
     "end_time": "2020-03-27T12:33:25.365152Z",
     "start_time": "2020-03-27T12:33:25.360649Z"
    }
   },
   "outputs": [
    {
     "data": {
      "text/plain": [
       "(14987, 71421)"
      ]
     },
     "execution_count": 8,
     "metadata": {},
     "output_type": "execute_result"
    }
   ],
   "source": [
    "tf_idf_matrix_mono.shape"
   ]
  },
  {
   "cell_type": "code",
   "execution_count": 9,
   "metadata": {
    "ExecuteTime": {
     "end_time": "2020-03-27T12:33:47.871650Z",
     "start_time": "2020-03-27T12:33:25.366650Z"
    }
   },
   "outputs": [
    {
     "name": "stdout",
     "output_type": "stream",
     "text": [
      "Fit 1 clusters\n",
      "Fit 6 clusters\n",
      "Fit 11 clusters\n",
      "Fit 16 clusters\n",
      "Fit 21 clusters\n",
      "Fit 26 clusters\n",
      "Fit 31 clusters\n",
      "Fit 36 clusters\n",
      "Fit 41 clusters\n",
      "Fit 46 clusters\n",
      "Fit 51 clusters\n",
      "Fit 56 clusters\n"
     ]
    },
    {
     "ename": "KeyboardInterrupt",
     "evalue": "",
     "output_type": "error",
     "traceback": [
      "\u001b[1;31m---------------------------------------------------------------------------\u001b[0m",
      "\u001b[1;31mKeyboardInterrupt\u001b[0m                         Traceback (most recent call last)",
      "\u001b[1;32m<ipython-input-9-1c8a69801008>\u001b[0m in \u001b[0;36m<module>\u001b[1;34m\u001b[0m\n\u001b[1;32m----> 1\u001b[1;33m \u001b[0mfind_optimal_cluster\u001b[0m\u001b[1;33m(\u001b[0m\u001b[0mtf_idf_matrix_mono\u001b[0m\u001b[1;33m,\u001b[0m \u001b[1;36m200\u001b[0m\u001b[1;33m)\u001b[0m\u001b[1;33m\u001b[0m\u001b[1;33m\u001b[0m\u001b[0m\n\u001b[0m",
      "\u001b[1;32m<ipython-input-5-9bd10ede9217>\u001b[0m in \u001b[0;36mfind_optimal_cluster\u001b[1;34m(data, max_k)\u001b[0m\n\u001b[0;32m      4\u001b[0m \u001b[1;33m\u001b[0m\u001b[0m\n\u001b[0;32m      5\u001b[0m     \u001b[1;32mfor\u001b[0m \u001b[0mk\u001b[0m \u001b[1;32min\u001b[0m \u001b[0miters\u001b[0m\u001b[1;33m:\u001b[0m\u001b[1;33m\u001b[0m\u001b[1;33m\u001b[0m\u001b[0m\n\u001b[1;32m----> 6\u001b[1;33m         \u001b[0msse\u001b[0m\u001b[1;33m.\u001b[0m\u001b[0mappend\u001b[0m\u001b[1;33m(\u001b[0m\u001b[0mMiniBatchKMeans\u001b[0m\u001b[1;33m(\u001b[0m\u001b[0mn_clusters\u001b[0m\u001b[1;33m=\u001b[0m\u001b[0mk\u001b[0m\u001b[1;33m,\u001b[0m \u001b[0minit_size\u001b[0m\u001b[1;33m=\u001b[0m\u001b[1;36m1024\u001b[0m\u001b[1;33m,\u001b[0m \u001b[0mbatch_size\u001b[0m\u001b[1;33m=\u001b[0m\u001b[1;36m2048\u001b[0m\u001b[1;33m,\u001b[0m \u001b[0mrandom_state\u001b[0m\u001b[1;33m=\u001b[0m\u001b[1;36m20\u001b[0m\u001b[1;33m)\u001b[0m\u001b[1;33m.\u001b[0m\u001b[0mfit\u001b[0m\u001b[1;33m(\u001b[0m\u001b[0mdata\u001b[0m\u001b[1;33m)\u001b[0m\u001b[1;33m.\u001b[0m\u001b[0minertia_\u001b[0m\u001b[1;33m)\u001b[0m\u001b[1;33m\u001b[0m\u001b[1;33m\u001b[0m\u001b[0m\n\u001b[0m\u001b[0;32m      7\u001b[0m         \u001b[0mprint\u001b[0m\u001b[1;33m(\u001b[0m\u001b[1;34m'Fit {} clusters'\u001b[0m\u001b[1;33m.\u001b[0m\u001b[0mformat\u001b[0m\u001b[1;33m(\u001b[0m\u001b[0mk\u001b[0m\u001b[1;33m)\u001b[0m\u001b[1;33m)\u001b[0m\u001b[1;33m\u001b[0m\u001b[1;33m\u001b[0m\u001b[0m\n\u001b[0;32m      8\u001b[0m     \u001b[0mfig\u001b[0m\u001b[1;33m,\u001b[0m \u001b[0max\u001b[0m \u001b[1;33m=\u001b[0m \u001b[0mplt\u001b[0m\u001b[1;33m.\u001b[0m\u001b[0msubplots\u001b[0m\u001b[1;33m(\u001b[0m\u001b[1;36m1\u001b[0m\u001b[1;33m,\u001b[0m\u001b[1;36m1\u001b[0m\u001b[1;33m,\u001b[0m \u001b[0mfigsize\u001b[0m\u001b[1;33m=\u001b[0m\u001b[1;33m(\u001b[0m\u001b[1;36m15\u001b[0m\u001b[1;33m,\u001b[0m \u001b[1;36m5\u001b[0m\u001b[1;33m)\u001b[0m\u001b[1;33m)\u001b[0m\u001b[1;33m\u001b[0m\u001b[1;33m\u001b[0m\u001b[0m\n",
      "\u001b[1;32m~\\Anaconda3\\lib\\site-packages\\sklearn\\cluster\\k_means_.py\u001b[0m in \u001b[0;36mfit\u001b[1;34m(self, X, y, sample_weight)\u001b[0m\n\u001b[0;32m   1606\u001b[0m                 \u001b[0mrandom_state\u001b[0m\u001b[1;33m=\u001b[0m\u001b[0mrandom_state\u001b[0m\u001b[1;33m,\u001b[0m\u001b[1;33m\u001b[0m\u001b[1;33m\u001b[0m\u001b[0m\n\u001b[0;32m   1607\u001b[0m                 \u001b[0mreassignment_ratio\u001b[0m\u001b[1;33m=\u001b[0m\u001b[0mself\u001b[0m\u001b[1;33m.\u001b[0m\u001b[0mreassignment_ratio\u001b[0m\u001b[1;33m,\u001b[0m\u001b[1;33m\u001b[0m\u001b[1;33m\u001b[0m\u001b[0m\n\u001b[1;32m-> 1608\u001b[1;33m                 verbose=self.verbose)\n\u001b[0m\u001b[0;32m   1609\u001b[0m \u001b[1;33m\u001b[0m\u001b[0m\n\u001b[0;32m   1610\u001b[0m             \u001b[1;31m# Monitor convergence and do early stopping if necessary\u001b[0m\u001b[1;33m\u001b[0m\u001b[1;33m\u001b[0m\u001b[1;33m\u001b[0m\u001b[0m\n",
      "\u001b[1;32m~\\Anaconda3\\lib\\site-packages\\sklearn\\cluster\\k_means_.py\u001b[0m in \u001b[0;36m_mini_batch_step\u001b[1;34m(X, sample_weight, x_squared_norms, centers, weight_sums, old_center_buffer, compute_squared_diff, distances, random_reassign, random_state, reassignment_ratio, verbose)\u001b[0m\n\u001b[0;32m   1177\u001b[0m     nearest_center, inertia = _labels_inertia(X, sample_weight,\n\u001b[0;32m   1178\u001b[0m                                               \u001b[0mx_squared_norms\u001b[0m\u001b[1;33m,\u001b[0m \u001b[0mcenters\u001b[0m\u001b[1;33m,\u001b[0m\u001b[1;33m\u001b[0m\u001b[1;33m\u001b[0m\u001b[0m\n\u001b[1;32m-> 1179\u001b[1;33m                                               distances=distances)\n\u001b[0m\u001b[0;32m   1180\u001b[0m \u001b[1;33m\u001b[0m\u001b[0m\n\u001b[0;32m   1181\u001b[0m     \u001b[1;32mif\u001b[0m \u001b[0mrandom_reassign\u001b[0m \u001b[1;32mand\u001b[0m \u001b[0mreassignment_ratio\u001b[0m \u001b[1;33m>\u001b[0m \u001b[1;36m0\u001b[0m\u001b[1;33m:\u001b[0m\u001b[1;33m\u001b[0m\u001b[1;33m\u001b[0m\u001b[0m\n",
      "\u001b[1;32m~\\Anaconda3\\lib\\site-packages\\sklearn\\cluster\\k_means_.py\u001b[0m in \u001b[0;36m_labels_inertia\u001b[1;34m(X, sample_weight, x_squared_norms, centers, precompute_distances, distances)\u001b[0m\n\u001b[0;32m    687\u001b[0m             \u001b[0mX\u001b[0m\u001b[1;33m,\u001b[0m \u001b[0msample_weight\u001b[0m\u001b[1;33m,\u001b[0m \u001b[0mx_squared_norms\u001b[0m\u001b[1;33m,\u001b[0m \u001b[0mcenters\u001b[0m\u001b[1;33m,\u001b[0m \u001b[0mlabels\u001b[0m\u001b[1;33m,\u001b[0m\u001b[1;33m\u001b[0m\u001b[1;33m\u001b[0m\u001b[0m\n\u001b[0;32m    688\u001b[0m             distances=distances)\n\u001b[1;32m--> 689\u001b[1;33m     \u001b[1;32mreturn\u001b[0m \u001b[0mlabels\u001b[0m\u001b[1;33m,\u001b[0m \u001b[0minertia\u001b[0m\u001b[1;33m\u001b[0m\u001b[1;33m\u001b[0m\u001b[0m\n\u001b[0m\u001b[0;32m    690\u001b[0m \u001b[1;33m\u001b[0m\u001b[0m\n\u001b[0;32m    691\u001b[0m \u001b[1;33m\u001b[0m\u001b[0m\n",
      "\u001b[1;31mKeyboardInterrupt\u001b[0m: "
     ]
    }
   ],
   "source": [
    "find_optimal_cluster(tf_idf_matrix_mono, 200)"
   ]
  },
  {
   "cell_type": "code",
   "execution_count": null,
   "metadata": {
    "ExecuteTime": {
     "end_time": "2020-03-27T12:33:47.883650Z",
     "start_time": "2020-03-27T12:33:22.804Z"
    }
   },
   "outputs": [],
   "source": [
    "clusters = MiniBatchKMeans(n_clusters=136, init_size=1024, batch_size=2048, random_state=20).fit_predict(tf_idf_matrix_mono)"
   ]
  },
  {
   "cell_type": "code",
   "execution_count": null,
   "metadata": {
    "ExecuteTime": {
     "end_time": "2020-03-27T12:33:47.884150Z",
     "start_time": "2020-03-27T12:33:22.807Z"
    }
   },
   "outputs": [],
   "source": [
    "plot_tsne_pca(tf_idf_matrix_mono, clusters)"
   ]
  },
  {
   "cell_type": "code",
   "execution_count": null,
   "metadata": {
    "ExecuteTime": {
     "end_time": "2020-03-27T12:33:47.885151Z",
     "start_time": "2020-03-27T12:33:22.813Z"
    }
   },
   "outputs": [],
   "source": [
    "get_top_keywords(tf_idf_matrix_mono, clusters, tf_idf_vectorizer_mono.get_feature_names(), 10)"
   ]
  },
  {
   "cell_type": "markdown",
   "metadata": {},
   "source": [
    "### 3.3. Matrice bigramme"
   ]
  },
  {
   "cell_type": "code",
   "execution_count": null,
   "metadata": {
    "ExecuteTime": {
     "end_time": "2020-03-27T12:33:47.886150Z",
     "start_time": "2020-03-27T12:33:22.817Z"
    }
   },
   "outputs": [],
   "source": [
    "tf_idf_vectorizer_bi = TfidfVectorizer(ngram_range=(2,2))"
   ]
  },
  {
   "cell_type": "code",
   "execution_count": null,
   "metadata": {
    "ExecuteTime": {
     "end_time": "2020-03-27T12:33:47.886651Z",
     "start_time": "2020-03-27T12:33:22.819Z"
    }
   },
   "outputs": [],
   "source": [
    "tf_idf_matrix_bi = tf_idf_vectorizer_bi.fit_transform(df[\"document\"].values)"
   ]
  },
  {
   "cell_type": "code",
   "execution_count": null,
   "metadata": {
    "ExecuteTime": {
     "end_time": "2020-03-27T12:33:47.887650Z",
     "start_time": "2020-03-27T12:33:22.822Z"
    }
   },
   "outputs": [],
   "source": [
    "tf_idf_matrix_bi.shape"
   ]
  },
  {
   "cell_type": "code",
   "execution_count": null,
   "metadata": {
    "ExecuteTime": {
     "end_time": "2020-03-27T12:33:47.888651Z",
     "start_time": "2020-03-27T12:33:22.824Z"
    }
   },
   "outputs": [],
   "source": [
    "find_optimal_cluster(tf_idf_matrix_bi, 200)"
   ]
  },
  {
   "cell_type": "code",
   "execution_count": null,
   "metadata": {
    "ExecuteTime": {
     "end_time": "2020-03-27T12:33:47.890151Z",
     "start_time": "2020-03-27T12:33:22.826Z"
    }
   },
   "outputs": [],
   "source": [
    "clusters = MiniBatchKMeans(n_clusters=186, init_size=1024, batch_size=2048, random_state=20).fit_predict(tf_idf_matrix_bi)"
   ]
  },
  {
   "cell_type": "code",
   "execution_count": null,
   "metadata": {
    "ExecuteTime": {
     "end_time": "2020-03-27T12:33:47.891151Z",
     "start_time": "2020-03-27T12:33:22.828Z"
    }
   },
   "outputs": [],
   "source": [
    "plot_tsne_pca(tf_idf_matrix_bi, clusters)"
   ]
  },
  {
   "cell_type": "code",
   "execution_count": null,
   "metadata": {
    "ExecuteTime": {
     "end_time": "2020-03-27T12:33:47.891651Z",
     "start_time": "2020-03-27T12:33:22.831Z"
    }
   },
   "outputs": [],
   "source": [
    "get_top_keywords(tf_idf_matrix_bi, clusters, tf_idf_vectorizer_bi.get_feature_names(), 10)"
   ]
  },
  {
   "cell_type": "markdown",
   "metadata": {},
   "source": [
    "Pour notre problème (la recherche de mot clé) l'utilisation d'une matrice monogramme est plus pertinente."
   ]
  },
  {
   "cell_type": "markdown",
   "metadata": {},
   "source": [
    "### 3.4. LDA"
   ]
  },
  {
   "cell_type": "code",
   "execution_count": null,
   "metadata": {
    "ExecuteTime": {
     "end_time": "2020-03-27T12:33:47.892651Z",
     "start_time": "2020-03-27T12:33:22.833Z"
    }
   },
   "outputs": [],
   "source": [
    "lda = LatentDirichletAllocation(n_components=20, max_iter=5, learning_method='online', learning_offset=50, random_state=20).fit(tf_idf_matrix_mono)"
   ]
  },
  {
   "cell_type": "code",
   "execution_count": null,
   "metadata": {
    "ExecuteTime": {
     "end_time": "2020-03-27T12:33:47.893650Z",
     "start_time": "2020-03-27T12:33:22.835Z"
    }
   },
   "outputs": [],
   "source": [
    "def display_topics(model, feature_names, no_top_words):\n",
    "    for topic_idx, topic in enumerate(model.components_):\n",
    "        print(\"\\nTopic {}\".format(topic_idx))\n",
    "        print(\" \".join([feature_names[i] for i in topic.argsort()[:-no_top_words -1: -1]]))"
   ]
  },
  {
   "cell_type": "code",
   "execution_count": null,
   "metadata": {
    "ExecuteTime": {
     "end_time": "2020-03-27T12:33:47.894150Z",
     "start_time": "2020-03-27T12:33:22.837Z"
    }
   },
   "outputs": [],
   "source": [
    "display_topics(lda, tf_idf_vectorizer_mono.get_feature_names(), 5)"
   ]
  },
  {
   "cell_type": "markdown",
   "metadata": {},
   "source": [
    "### 3.5. NMF"
   ]
  },
  {
   "cell_type": "code",
   "execution_count": null,
   "metadata": {
    "ExecuteTime": {
     "end_time": "2020-03-27T12:33:47.895152Z",
     "start_time": "2020-03-27T12:33:22.839Z"
    }
   },
   "outputs": [],
   "source": [
    "nmf = NMF(n_components=20, max_iter=5, random_state=20).fit(tf_idf_matrix_mono)"
   ]
  },
  {
   "cell_type": "code",
   "execution_count": null,
   "metadata": {
    "ExecuteTime": {
     "end_time": "2020-03-27T12:33:47.895651Z",
     "start_time": "2020-03-27T12:33:22.841Z"
    }
   },
   "outputs": [],
   "source": [
    "display_topics(nmf, tf_idf_vectorizer_mono.get_feature_names(), 5)"
   ]
  },
  {
   "cell_type": "code",
   "execution_count": null,
   "metadata": {
    "ExecuteTime": {
     "end_time": "2020-03-27T12:33:47.896649Z",
     "start_time": "2020-03-27T12:33:22.843Z"
    }
   },
   "outputs": [],
   "source": [
    "tfidf_mono_features_nm = tf_idf_vectorizer_mono.get_feature_names()"
   ]
  },
  {
   "cell_type": "code",
   "execution_count": null,
   "metadata": {
    "ExecuteTime": {
     "end_time": "2020-03-27T12:33:47.897149Z",
     "start_time": "2020-03-27T12:33:22.845Z"
    }
   },
   "outputs": [],
   "source": [
    "def top_tags_from_nmf(x, vec_model, nmf_mod, score_min=0.05):\n",
    "    \"\"\"Returns dictionnary with words maximally associated to document and their relative NMF score.\n",
    "    Score of words are calculated by multiplication between NMF transformed W matrix and NMF fitted H\n",
    "    (vocabulary) value to get importance of each words into topic definition.\n",
    "    Args:\n",
    "        x: Token to be analyzed (list of ngrams)\n",
    "        vec_model: Vectorizer model used for TFIDF calculation\n",
    "        nmf_mod: Trained NMF model\n",
    "        score_min: threshold score for keeping word\n",
    "    \"\"\"\n",
    "    tfidf_target = vec_model.transform(x)\n",
    "    target_nmf_trans = nmf_mod.transform(tfidf_target)\n",
    "    \n",
    "    tags_scores = np.dot(target_nmf_trans, nmf_mod.components_).tolist()[0]\n",
    "\n",
    "    dict_tags_score = dict(zip(tfidf_mono_features_nm, tags_scores))\n",
    "    \n",
    "    return { k: v for k, v in dict_tags_score.items() if v >= score_min }\n"
   ]
  },
  {
   "cell_type": "code",
   "execution_count": null,
   "metadata": {
    "ExecuteTime": {
     "end_time": "2020-03-27T12:33:47.898153Z",
     "start_time": "2020-03-27T12:33:22.848Z"
    }
   },
   "outputs": [],
   "source": [
    "top_tags_from_nmf(df[\"document\"].values, tf_idf_vectorizer_mono, nmf, score_min=0.05)"
   ]
  },
  {
   "cell_type": "markdown",
   "metadata": {},
   "source": [
    "## 4. Analyse supervisé"
   ]
  },
  {
   "cell_type": "markdown",
   "metadata": {},
   "source": [
    "### 4.1. Sépération dans jeu d'entrainement et jeu de test"
   ]
  },
  {
   "cell_type": "code",
   "execution_count": null,
   "metadata": {
    "ExecuteTime": {
     "end_time": "2020-03-27T12:33:47.899151Z",
     "start_time": "2020-03-27T12:33:22.852Z"
    }
   },
   "outputs": [],
   "source": [
    "X = df[\"document\"]\n",
    "y = df[\"tags\"]"
   ]
  },
  {
   "cell_type": "code",
   "execution_count": null,
   "metadata": {
    "ExecuteTime": {
     "end_time": "2020-03-27T12:33:47.900651Z",
     "start_time": "2020-03-27T12:33:22.856Z"
    }
   },
   "outputs": [],
   "source": [
    "mlb = MultiLabelBinarizer()\n",
    "y_bin = mlb.fit_transform(y)"
   ]
  },
  {
   "cell_type": "code",
   "execution_count": null,
   "metadata": {
    "ExecuteTime": {
     "end_time": "2020-03-27T12:33:47.901152Z",
     "start_time": "2020-03-27T12:33:22.858Z"
    }
   },
   "outputs": [],
   "source": [
    "mlb.classes_"
   ]
  },
  {
   "cell_type": "code",
   "execution_count": null,
   "metadata": {
    "ExecuteTime": {
     "end_time": "2020-03-27T12:33:47.902152Z",
     "start_time": "2020-03-27T12:33:22.861Z"
    }
   },
   "outputs": [],
   "source": [
    "vectorizer_X = TfidfVectorizer(min_df=0.0, max_features=200000, ngram_range=(1,1))"
   ]
  },
  {
   "cell_type": "code",
   "execution_count": null,
   "metadata": {
    "ExecuteTime": {
     "end_time": "2020-03-27T12:33:47.902649Z",
     "start_time": "2020-03-27T12:33:22.864Z"
    }
   },
   "outputs": [],
   "source": [
    "X_tfidf = vectorizer_X.fit_transform(X)"
   ]
  },
  {
   "cell_type": "code",
   "execution_count": null,
   "metadata": {
    "ExecuteTime": {
     "end_time": "2020-03-27T12:33:47.903652Z",
     "start_time": "2020-03-27T12:33:22.867Z"
    }
   },
   "outputs": [],
   "source": [
    "X_train, X_test, y_train, y_test = train_test_split(X_tfidf, y_bin, test_size=0.2, random_state=20)"
   ]
  },
  {
   "cell_type": "code",
   "execution_count": null,
   "metadata": {
    "ExecuteTime": {
     "end_time": "2020-03-27T12:33:47.904650Z",
     "start_time": "2020-03-27T12:33:22.870Z"
    }
   },
   "outputs": [],
   "source": [
    "print(\"Nombre de données dans le training set : \", X_train.shape[0])\n",
    "print(\"Nombre de données dans le test set : \", X_test.shape[0])"
   ]
  },
  {
   "cell_type": "markdown",
   "metadata": {},
   "source": [
    "### 4.2. Modélisations"
   ]
  },
  {
   "cell_type": "code",
   "execution_count": null,
   "metadata": {
    "ExecuteTime": {
     "end_time": "2020-03-27T12:33:47.905151Z",
     "start_time": "2020-03-27T12:33:22.872Z"
    }
   },
   "outputs": [],
   "source": [
    "def avg_jaccard(y_test, y_pred):\n",
    "    '''\n",
    "    see https://en.wikipedia.org/wiki/Multi-label_classification#Statistics_and_evaluation_metrics\n",
    "    '''\n",
    "    jacard = np.minimum(y_test, y_pred).sum(axis=1) / \\\n",
    "        np.maximum(y_test, y_pred).sum(axis=1)\n",
    "    return jacard.mean()*100\n",
    "\n",
    "\n",
    "def get_score(y_pred, model, submodel=\"\"):\n",
    "    classifier_name = model.__class__.__name__\n",
    "    macro_f1_score = metrics.f1_score(y_test, y_pred, average=\"macro\")\n",
    "    micro_f1_score = metrics.f1_score(y_test, y_pred, average=\"micro\")\n",
    "    jaccard_score = avg_jaccard(y_test, y_pred)\n",
    "    hamming_loss = metrics.hamming_loss(y_test, y_pred)\n",
    "    data = {\"Macro F1 Score\": macro_f1_score, \"Micro F1 Score\": micro_f1_score,\n",
    "            \"Jaccard Score\": jaccard_score, \"Hamming_loss\": hamming_loss}\n",
    "    if(submodel):\n",
    "        return pd.DataFrame(data=data, index=[submodel])\n",
    "    else:\n",
    "        return pd.DataFrame(data=data, index=[classifier_name])"
   ]
  },
  {
   "cell_type": "markdown",
   "metadata": {},
   "source": [
    "#### 4.2.1. DummyClassifier"
   ]
  },
  {
   "cell_type": "code",
   "execution_count": null,
   "metadata": {
    "ExecuteTime": {
     "end_time": "2020-03-27T12:33:47.905650Z",
     "start_time": "2020-03-27T12:33:22.874Z"
    }
   },
   "outputs": [],
   "source": [
    "clf = OneVsRestClassifier(DummyClassifier())\n",
    "clf.fit(X_train, y_train)\n",
    "y_pred = clf.predict(X_test)\n",
    "dummy_score = get_score(y_pred, clf, \"DummyClassifier\")\n",
    "dummy_score"
   ]
  },
  {
   "cell_type": "markdown",
   "metadata": {},
   "source": [
    "#### 4.2.2. RandomForestClassifier"
   ]
  },
  {
   "cell_type": "code",
   "execution_count": null,
   "metadata": {
    "ExecuteTime": {
     "end_time": "2020-03-27T12:33:47.906650Z",
     "start_time": "2020-03-27T12:33:22.877Z"
    }
   },
   "outputs": [],
   "source": [
    "clf = RandomForestClassifier(random_state=20)\n",
    "clf.fit(X_train, y_train)\n",
    "y_pred = clf.predict(X_test)\n",
    "rfc_score = get_score(y_pred, clf)\n",
    "rfc_score"
   ]
  },
  {
   "cell_type": "markdown",
   "metadata": {},
   "source": [
    "#### 4.2.3. LogisticRegression"
   ]
  },
  {
   "cell_type": "code",
   "execution_count": null,
   "metadata": {
    "ExecuteTime": {
     "end_time": "2020-03-27T12:33:47.907151Z",
     "start_time": "2020-03-27T12:33:22.880Z"
    }
   },
   "outputs": [],
   "source": [
    "clf = OneVsRestClassifier(LogisticRegression())\n",
    "clf.fit(X_train, y_train)\n",
    "y_pred = clf.predict(X_test)\n",
    "lr_score = get_score(y_pred, clf, \"LogisticRegression\")\n",
    "lr_score"
   ]
  },
  {
   "cell_type": "markdown",
   "metadata": {},
   "source": [
    "#### 4.2.4. SGDClassifier "
   ]
  },
  {
   "cell_type": "code",
   "execution_count": null,
   "metadata": {
    "ExecuteTime": {
     "end_time": "2020-03-27T12:33:47.907650Z",
     "start_time": "2020-03-27T12:33:22.882Z"
    }
   },
   "outputs": [],
   "source": [
    "clf = OneVsRestClassifier(SGDClassifier())\n",
    "clf.fit(X_train, y_train)\n",
    "y_pred = clf.predict(X_test)\n",
    "sgdc_score = get_score(y_pred, clf, \"SGDClassifier\")\n",
    "sgdc_score"
   ]
  },
  {
   "cell_type": "markdown",
   "metadata": {},
   "source": [
    "#### 4.2.5. MultinomialNB"
   ]
  },
  {
   "cell_type": "code",
   "execution_count": null,
   "metadata": {
    "ExecuteTime": {
     "end_time": "2020-03-27T12:33:47.908650Z",
     "start_time": "2020-03-27T12:33:22.885Z"
    }
   },
   "outputs": [],
   "source": [
    "clf = OneVsRestClassifier(MultinomialNB())\n",
    "clf.fit(X_train, y_train)\n",
    "y_pred = clf.predict(X_test)\n",
    "mnb_score = get_score(y_pred, clf, \"MultinomialNB\")\n",
    "mnb_score"
   ]
  },
  {
   "cell_type": "markdown",
   "metadata": {},
   "source": [
    "#### 4.2.6. LinearSVC"
   ]
  },
  {
   "cell_type": "code",
   "execution_count": null,
   "metadata": {
    "ExecuteTime": {
     "end_time": "2020-03-27T12:33:47.909650Z",
     "start_time": "2020-03-27T12:33:22.891Z"
    }
   },
   "outputs": [],
   "source": [
    "clf = OneVsRestClassifier(LinearSVC())\n",
    "clf.fit(X_train, y_train)\n",
    "y_pred = clf.predict(X_test)\n",
    "svc_score = get_score(y_pred, clf, \"LinearSVC\")\n",
    "svc_score"
   ]
  },
  {
   "cell_type": "markdown",
   "metadata": {},
   "source": [
    "#### 4.2.7. Perceptron"
   ]
  },
  {
   "cell_type": "code",
   "execution_count": null,
   "metadata": {
    "ExecuteTime": {
     "end_time": "2020-03-27T12:33:47.910651Z",
     "start_time": "2020-03-27T12:33:22.893Z"
    }
   },
   "outputs": [],
   "source": [
    "clf = OneVsRestClassifier(Perceptron())\n",
    "clf.fit(X_train, y_train)\n",
    "y_pred = clf.predict(X_test)\n",
    "perceptron_score = get_score(y_pred, clf, \"Perceptron\")\n",
    "perceptron_score"
   ]
  },
  {
   "cell_type": "markdown",
   "metadata": {},
   "source": [
    "#### 4.2.8. PassiveAggressiveClassifier"
   ]
  },
  {
   "cell_type": "code",
   "execution_count": null,
   "metadata": {
    "ExecuteTime": {
     "end_time": "2020-03-27T12:33:47.911150Z",
     "start_time": "2020-03-27T12:33:22.896Z"
    }
   },
   "outputs": [],
   "source": [
    "clf = OneVsRestClassifier(PassiveAggressiveClassifier())\n",
    "clf.fit(X_train, y_train)\n",
    "y_pred = clf.predict(X_test)\n",
    "pac_score = get_score(y_pred, clf, \"PassiveAggressiveClassifier\")\n",
    "pac_score"
   ]
  },
  {
   "cell_type": "markdown",
   "metadata": {},
   "source": [
    "#### 4.2.9. MultiLayerPerceptron Classifier"
   ]
  },
  {
   "cell_type": "code",
   "execution_count": null,
   "metadata": {
    "ExecuteTime": {
     "end_time": "2020-03-27T12:33:47.912150Z",
     "start_time": "2020-03-27T12:33:22.899Z"
    },
    "scrolled": true
   },
   "outputs": [],
   "source": [
    "mlcp = MLPClassifier(max_iter=100, verbose=True)\n",
    "mlcp.fit(X_train, y_train)\n",
    "y_pred = mlcp.predict(X_test)\n",
    "mlpc_score = get_score(y_pred, mlcp)\n",
    "mlpc_score"
   ]
  },
  {
   "cell_type": "code",
   "execution_count": null,
   "metadata": {
    "ExecuteTime": {
     "end_time": "2020-03-27T12:33:47.912649Z",
     "start_time": "2020-03-27T12:33:22.901Z"
    }
   },
   "outputs": [],
   "source": [
    "def highlight(val):\n",
    "    is_max = val == val.max()\n",
    "    return ['color: green' if v else '' for v in is_max]\n",
    "\n",
    "def highlight_hamming(val):\n",
    "    is_min = val == val.min()\n",
    "    return ['color: green' if v else '' for v in is_min]"
   ]
  },
  {
   "cell_type": "code",
   "execution_count": null,
   "metadata": {
    "ExecuteTime": {
     "end_time": "2020-03-27T12:33:47.913650Z",
     "start_time": "2020-03-27T12:33:22.903Z"
    }
   },
   "outputs": [],
   "source": [
    "score = pd.concat([rfc_score, lr_score, dummy_score, sgdc_score, mnb_score, svc_score, perceptron_score, pac_score, mlpc_score])\n",
    "score = score.style.apply(highlight, subset=[\"Macro F1 Score\", \"Micro F1 Score\", \"Jaccard Score\"])\n",
    "score = score.apply(highlight_hamming, subset=[\"Hamming_loss\"])\n",
    "score"
   ]
  },
  {
   "cell_type": "markdown",
   "metadata": {},
   "source": [
    "### 4.3. Amélioration des hyperparamètres"
   ]
  },
  {
   "cell_type": "code",
   "execution_count": null,
   "metadata": {
    "ExecuteTime": {
     "end_time": "2020-03-27T12:33:47.914150Z",
     "start_time": "2020-03-27T12:33:22.905Z"
    }
   },
   "outputs": [],
   "source": [
    "param_grid = {'estimator__C':[1, 10, 100, 1000]}"
   ]
  },
  {
   "cell_type": "markdown",
   "metadata": {},
   "source": [
    "## 5. Enregistrement du meilleur model"
   ]
  },
  {
   "cell_type": "code",
   "execution_count": null,
   "metadata": {
    "ExecuteTime": {
     "end_time": "2020-03-27T12:33:47.915151Z",
     "start_time": "2020-03-27T12:33:22.907Z"
    }
   },
   "outputs": [],
   "source": [
    "clf = OneVsRestClassifier(SGDClassifier())\n",
    "clf.fit(X_train, y_train)"
   ]
  },
  {
   "cell_type": "code",
   "execution_count": null,
   "metadata": {
    "ExecuteTime": {
     "end_time": "2020-03-27T12:33:47.915650Z",
     "start_time": "2020-03-27T12:33:22.909Z"
    }
   },
   "outputs": [],
   "source": [
    "import pickle\n",
    "\n",
    "# Enregistrement du model\n",
    "with open('webapp/model/model.pkl', 'wb') as file:\n",
    "    pickle.dump(clf, file)\n",
    "    \n",
    "# Enregistrement de TFIDFVectorizer\n",
    "with open('webapp/model/vectorizer.pkl', 'wb') as file:\n",
    "    pickle.dump(vectorizer_X, file)\n",
    "    \n",
    "# Enregistrement de MultiLabelBinarizer\n",
    "with open('webapp/model/mlb.pkl', 'wb') as file:\n",
    "    pickle.dump(mlb, file)"
   ]
  },
  {
   "cell_type": "code",
   "execution_count": null,
   "metadata": {},
   "outputs": [],
   "source": []
  }
 ],
 "metadata": {
  "hide_input": false,
  "kernelspec": {
   "display_name": "Python 3",
   "language": "python",
   "name": "python3"
  },
  "language_info": {
   "codemirror_mode": {
    "name": "ipython",
    "version": 3
   },
   "file_extension": ".py",
   "mimetype": "text/x-python",
   "name": "python",
   "nbconvert_exporter": "python",
   "pygments_lexer": "ipython3",
   "version": "3.7.4"
  },
  "toc": {
   "base_numbering": 1,
   "nav_menu": {},
   "number_sections": false,
   "sideBar": true,
   "skip_h1_title": false,
   "title_cell": "Table of Contents",
   "title_sidebar": "Contents",
   "toc_cell": false,
   "toc_position": {},
   "toc_section_display": true,
   "toc_window_display": false
  },
  "varInspector": {
   "cols": {
    "lenName": 16,
    "lenType": 16,
    "lenVar": 40
   },
   "kernels_config": {
    "python": {
     "delete_cmd_postfix": "",
     "delete_cmd_prefix": "del ",
     "library": "var_list.py",
     "varRefreshCmd": "print(var_dic_list())"
    },
    "r": {
     "delete_cmd_postfix": ") ",
     "delete_cmd_prefix": "rm(",
     "library": "var_list.r",
     "varRefreshCmd": "cat(var_dic_list()) "
    }
   },
   "position": {
    "height": "283px",
    "left": "1536px",
    "right": "20px",
    "top": "240px",
    "width": "317px"
   },
   "types_to_exclude": [
    "module",
    "function",
    "builtin_function_or_method",
    "instance",
    "_Feature"
   ],
   "window_display": false
  }
 },
 "nbformat": 4,
 "nbformat_minor": 2
}
